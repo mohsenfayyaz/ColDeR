{
 "cells": [
  {
   "cell_type": "code",
   "execution_count": 3,
   "metadata": {},
   "outputs": [
    {
     "name": "stdout",
     "output_type": "stream",
     "text": [
      "['COCO-DR Base MSMARCO' 'Contriever ' 'RetroMAE MSMARCO FT'\n",
      " 'Contriever MSMARCO' 'Dragon RoBERTa ' 'Dragon+ ']\n",
      "n\n",
      "250    30\n",
      "Name: count, dtype: int64\n"
     ]
    },
    {
     "data": {
      "text/html": [
       "<div>\n",
       "<style scoped>\n",
       "    .dataframe tbody tr th:only-of-type {\n",
       "        vertical-align: middle;\n",
       "    }\n",
       "\n",
       "    .dataframe tbody tr th {\n",
       "        vertical-align: top;\n",
       "    }\n",
       "\n",
       "    .dataframe thead th {\n",
       "        text-align: right;\n",
       "    }\n",
       "</style>\n",
       "<table border=\"1\" class=\"dataframe\">\n",
       "  <thead>\n",
       "    <tr style=\"text-align: right;\">\n",
       "      <th></th>\n",
       "      <th>Model</th>\n",
       "      <th>col1</th>\n",
       "      <th>col2</th>\n",
       "      <th>Paired t-Test Statistic</th>\n",
       "      <th>ttest_pvalue</th>\n",
       "      <th>ttest_ci_low</th>\n",
       "      <th>ttest_ci_high</th>\n",
       "      <th>mean_diff</th>\n",
       "      <th>std_diff</th>\n",
       "      <th>n</th>\n",
       "      <th>test</th>\n",
       "      <th>ttest_ci_low_stats</th>\n",
       "      <th>ttest_ci_high_stats</th>\n",
       "      <th>standard_ttest_ppf</th>\n",
       "      <th>acc</th>\n",
       "    </tr>\n",
       "  </thead>\n",
       "  <tbody>\n",
       "    <tr>\n",
       "      <th>0</th>\n",
       "      <td>COCO-DR Base MSMARCO</td>\n",
       "      <td>OpenMatch/cocodr-base-msmarco_query_short_name...</td>\n",
       "      <td>OpenMatch/cocodr-base-msmarco_query_short_name...</td>\n",
       "      <td>13.518174</td>\n",
       "      <td>1.346745e-31</td>\n",
       "      <td>1.650996</td>\n",
       "      <td>1.650996</td>\n",
       "      <td>2.260753</td>\n",
       "      <td>2.644266</td>\n",
       "      <td>250</td>\n",
       "      <td>Literal Bias ⬇&lt;br&gt;(Exact Matching)</td>\n",
       "      <td>NaN</td>\n",
       "      <td>NaN</td>\n",
       "      <td>NaN</td>\n",
       "      <td>NaN</td>\n",
       "    </tr>\n",
       "  </tbody>\n",
       "</table>\n",
       "</div>"
      ],
      "text/plain": [
       "                  Model                                               col1  \\\n",
       "0  COCO-DR Base MSMARCO  OpenMatch/cocodr-base-msmarco_query_short_name...   \n",
       "\n",
       "                                                col2  Paired t-Test Statistic  \\\n",
       "0  OpenMatch/cocodr-base-msmarco_query_short_name...                13.518174   \n",
       "\n",
       "   ttest_pvalue  ttest_ci_low  ttest_ci_high  mean_diff  std_diff    n  \\\n",
       "0  1.346745e-31      1.650996       1.650996   2.260753  2.644266  250   \n",
       "\n",
       "                                 test  ttest_ci_low_stats  \\\n",
       "0  Literal Bias ⬇<br>(Exact Matching)                 NaN   \n",
       "\n",
       "   ttest_ci_high_stats  standard_ttest_ppf  acc  \n",
       "0                  NaN                 NaN  NaN  "
      ]
     },
     "execution_count": 3,
     "metadata": {},
     "output_type": "execute_result"
    }
   ],
   "source": [
    "import pandas as pd\n",
    "import numpy as np\n",
    "df = pd.DataFrame()\n",
    "\n",
    "\n",
    "df2 = pd.read_json(\"results/literal_df.json\")\n",
    "df2[\"test\"] = \"Literal Bias ⬇<br>(Exact Matching)\"\n",
    "df = pd.concat([df, df2])\n",
    "\n",
    "df2 = pd.read_json(\"results/tail_df.json\")\n",
    "df2[\"test\"] = \"Tail Importance ⬆<br>(Answer's Existence)\"\n",
    "df = pd.concat([df, df2])\n",
    "\n",
    "df2 = pd.read_json(\"results/repetition_df.json\")\n",
    "df2[\"test\"] = \"Repetition Bias ⬇<br>(Head Repetition Adv.)\"\n",
    "df = pd.concat([df, df2])\n",
    "\n",
    "df2 = pd.read_json(\"results/position_df.json\")\n",
    "df2[\"test\"] = \"Position Bias ⬇<br>(Early Focus)\"\n",
    "df = pd.concat([df, df2])\n",
    "\n",
    "df2 = pd.read_json(\"results/brevity_df.json\")\n",
    "df2[\"test\"] = \"Brevity Bias ⬇<br>(Shorter Doc Adv.)\"\n",
    "df = pd.concat([df, df2])\n",
    "\n",
    "\n",
    "\n",
    "print(df[\"Model\"].unique())\n",
    "# df = df[df[\"Model\"] != 'Contriever ']\n",
    "print(df[\"n\"].value_counts())\n",
    "# df[\"Paired t-Test Statistic\"] = df[\"Paired t-Test Statistic\"].apply(lambda x: np.clip(x, 0, None))\n",
    "df.head(1)"
   ]
  },
  {
   "cell_type": "code",
   "execution_count": 17,
   "metadata": {},
   "outputs": [
    {
     "data": {
      "application/vnd.plotly.v1+json": {
       "config": {
        "plotlyServerURL": "https://plot.ly"
       },
       "data": [
        {
         "hovertemplate": "Model=Dragon RoBERTa <br>Paired t-Test Statistic=%{r}<br>test=%{theta}<extra></extra>",
         "legendgroup": "Dragon RoBERTa ",
         "line": {
          "color": "#636efa",
          "dash": "solid",
          "width": 3
         },
         "marker": {
          "size": 10,
          "symbol": "circle"
         },
         "mode": "lines+markers",
         "name": "Dragon RoBERTa ",
         "r": [
          17.0777370441,
          12.8272233801,
          10.039033224,
          17.2409257548,
          14.7112644957,
          17.0777370441
         ],
         "showlegend": true,
         "subplot": "polar",
         "theta": [
          "Literal Bias ⬇<br>(Exact Matching)",
          "Tail Importance ⬆<br>(Answer's Existence)",
          "Repetition Bias ⬇<br>(Head Repetition Adv.)",
          "Position Bias ⬇<br>(Early Focus)",
          "Brevity Bias ⬇<br>(Shorter Doc Adv.)",
          "Literal Bias ⬇<br>(Exact Matching)"
         ],
         "type": "scatterpolar"
        },
        {
         "hovertemplate": "Model=Dragon+ <br>Paired t-Test Statistic=%{r}<br>test=%{theta}<extra></extra>",
         "legendgroup": "Dragon+ ",
         "line": {
          "color": "#EF553B",
          "dash": "solid",
          "width": 3
         },
         "marker": {
          "size": 10,
          "symbol": "circle"
         },
         "mode": "lines+markers",
         "name": "Dragon+ ",
         "r": [
          17.2705238581,
          13.2770242607,
          9.011764578,
          8.5793293342,
          17.5744145387,
          17.2705238581
         ],
         "showlegend": true,
         "subplot": "polar",
         "theta": [
          "Literal Bias ⬇<br>(Exact Matching)",
          "Tail Importance ⬆<br>(Answer's Existence)",
          "Repetition Bias ⬇<br>(Head Repetition Adv.)",
          "Position Bias ⬇<br>(Early Focus)",
          "Brevity Bias ⬇<br>(Shorter Doc Adv.)",
          "Literal Bias ⬇<br>(Exact Matching)"
         ],
         "type": "scatterpolar"
        },
        {
         "hovertemplate": "Model=Contriever <br>Paired t-Test Statistic=%{r}<br>test=%{theta}<extra></extra>",
         "legendgroup": "Contriever ",
         "line": {
          "color": "#00cc96",
          "dash": "solid",
          "width": 3
         },
         "marker": {
          "size": 10,
          "symbol": "circle"
         },
         "mode": "lines+markers",
         "name": "Contriever ",
         "r": [
          14.3607863326,
          -6.0533937994,
          7.9929208364,
          3.8783892037000003,
          7.0152835478,
          14.3607863326
         ],
         "showlegend": true,
         "subplot": "polar",
         "theta": [
          "Literal Bias ⬇<br>(Exact Matching)",
          "Tail Importance ⬆<br>(Answer's Existence)",
          "Repetition Bias ⬇<br>(Head Repetition Adv.)",
          "Position Bias ⬇<br>(Early Focus)",
          "Brevity Bias ⬇<br>(Shorter Doc Adv.)",
          "Literal Bias ⬇<br>(Exact Matching)"
         ],
         "type": "scatterpolar"
        },
        {
         "hovertemplate": "Model=Contriever MSMARCO<br>Paired t-Test Statistic=%{r}<br>test=%{theta}<extra></extra>",
         "legendgroup": "Contriever MSMARCO",
         "line": {
          "color": "#ab63fa",
          "dash": "solid",
          "width": 3
         },
         "marker": {
          "size": 10,
          "symbol": "circle"
         },
         "mode": "lines+markers",
         "name": "Contriever MSMARCO",
         "r": [
          14.6348266927,
          10.704123128300001,
          8.0367696365,
          12.3681435889,
          15.1702127798,
          14.6348266927
         ],
         "showlegend": true,
         "subplot": "polar",
         "theta": [
          "Literal Bias ⬇<br>(Exact Matching)",
          "Tail Importance ⬆<br>(Answer's Existence)",
          "Repetition Bias ⬇<br>(Head Repetition Adv.)",
          "Position Bias ⬇<br>(Early Focus)",
          "Brevity Bias ⬇<br>(Shorter Doc Adv.)",
          "Literal Bias ⬇<br>(Exact Matching)"
         ],
         "type": "scatterpolar"
        },
        {
         "hovertemplate": "Model=RetroMAE MSMARCO FT<br>Paired t-Test Statistic=%{r}<br>test=%{theta}<extra></extra>",
         "legendgroup": "RetroMAE MSMARCO FT",
         "line": {
          "color": "#FFA15A",
          "dash": "solid",
          "width": 3
         },
         "marker": {
          "size": 10,
          "symbol": "circle"
         },
         "mode": "lines+markers",
         "name": "RetroMAE MSMARCO FT",
         "r": [
          14.514246221,
          11.27125809,
          9.5701962922,
          5.3537452173,
          16.6555759259,
          14.514246221
         ],
         "showlegend": true,
         "subplot": "polar",
         "theta": [
          "Literal Bias ⬇<br>(Exact Matching)",
          "Tail Importance ⬆<br>(Answer's Existence)",
          "Repetition Bias ⬇<br>(Head Repetition Adv.)",
          "Position Bias ⬇<br>(Early Focus)",
          "Brevity Bias ⬇<br>(Shorter Doc Adv.)",
          "Literal Bias ⬇<br>(Exact Matching)"
         ],
         "type": "scatterpolar"
        },
        {
         "hovertemplate": "Model=COCO-DR Base MSMARCO<br>Paired t-Test Statistic=%{r}<br>test=%{theta}<extra></extra>",
         "legendgroup": "COCO-DR Base MSMARCO",
         "line": {
          "color": "#19d3f3",
          "dash": "solid",
          "width": 3
         },
         "marker": {
          "size": 10,
          "symbol": "circle"
         },
         "mode": "lines+markers",
         "name": "COCO-DR Base MSMARCO",
         "r": [
          13.5181743168,
          10.2018286107,
          8.8625458008,
          10.4684158335,
          11.7672939341,
          13.5181743168
         ],
         "showlegend": true,
         "subplot": "polar",
         "theta": [
          "Literal Bias ⬇<br>(Exact Matching)",
          "Tail Importance ⬆<br>(Answer's Existence)",
          "Repetition Bias ⬇<br>(Head Repetition Adv.)",
          "Position Bias ⬇<br>(Early Focus)",
          "Brevity Bias ⬇<br>(Shorter Doc Adv.)",
          "Literal Bias ⬇<br>(Exact Matching)"
         ],
         "type": "scatterpolar"
        }
       ],
       "layout": {
        "height": 400,
        "legend": {
         "orientation": "h",
         "title": {
          "text": "Model"
         },
         "tracegroupgap": 0
        },
        "margin": {
         "t": 60
        },
        "polar": {
         "angularaxis": {
          "direction": "clockwise",
          "rotation": 90,
          "tickfont": {
           "weight": "bold"
          }
         },
         "domain": {
          "x": [
           0,
           1
          ],
          "y": [
           0,
           1
          ]
         }
        },
        "shapes": [
         {
          "layer": "above",
          "line": {
           "color": "gray",
           "width": 1
          },
          "type": "circle",
          "x0": 0,
          "x1": 0,
          "xref": "paper",
          "y0": 0,
          "y1": 0,
          "yref": "paper"
         }
        ],
        "template": {
         "data": {
          "bar": [
           {
            "error_x": {
             "color": "#2a3f5f"
            },
            "error_y": {
             "color": "#2a3f5f"
            },
            "marker": {
             "line": {
              "color": "#E5ECF6",
              "width": 0.5
             },
             "pattern": {
              "fillmode": "overlay",
              "size": 10,
              "solidity": 0.2
             }
            },
            "type": "bar"
           }
          ],
          "barpolar": [
           {
            "marker": {
             "line": {
              "color": "#E5ECF6",
              "width": 0.5
             },
             "pattern": {
              "fillmode": "overlay",
              "size": 10,
              "solidity": 0.2
             }
            },
            "type": "barpolar"
           }
          ],
          "carpet": [
           {
            "aaxis": {
             "endlinecolor": "#2a3f5f",
             "gridcolor": "white",
             "linecolor": "white",
             "minorgridcolor": "white",
             "startlinecolor": "#2a3f5f"
            },
            "baxis": {
             "endlinecolor": "#2a3f5f",
             "gridcolor": "white",
             "linecolor": "white",
             "minorgridcolor": "white",
             "startlinecolor": "#2a3f5f"
            },
            "type": "carpet"
           }
          ],
          "choropleth": [
           {
            "colorbar": {
             "outlinewidth": 0,
             "ticks": ""
            },
            "type": "choropleth"
           }
          ],
          "contour": [
           {
            "colorbar": {
             "outlinewidth": 0,
             "ticks": ""
            },
            "colorscale": [
             [
              0,
              "#0d0887"
             ],
             [
              0.1111111111111111,
              "#46039f"
             ],
             [
              0.2222222222222222,
              "#7201a8"
             ],
             [
              0.3333333333333333,
              "#9c179e"
             ],
             [
              0.4444444444444444,
              "#bd3786"
             ],
             [
              0.5555555555555556,
              "#d8576b"
             ],
             [
              0.6666666666666666,
              "#ed7953"
             ],
             [
              0.7777777777777778,
              "#fb9f3a"
             ],
             [
              0.8888888888888888,
              "#fdca26"
             ],
             [
              1,
              "#f0f921"
             ]
            ],
            "type": "contour"
           }
          ],
          "contourcarpet": [
           {
            "colorbar": {
             "outlinewidth": 0,
             "ticks": ""
            },
            "type": "contourcarpet"
           }
          ],
          "heatmap": [
           {
            "colorbar": {
             "outlinewidth": 0,
             "ticks": ""
            },
            "colorscale": [
             [
              0,
              "#0d0887"
             ],
             [
              0.1111111111111111,
              "#46039f"
             ],
             [
              0.2222222222222222,
              "#7201a8"
             ],
             [
              0.3333333333333333,
              "#9c179e"
             ],
             [
              0.4444444444444444,
              "#bd3786"
             ],
             [
              0.5555555555555556,
              "#d8576b"
             ],
             [
              0.6666666666666666,
              "#ed7953"
             ],
             [
              0.7777777777777778,
              "#fb9f3a"
             ],
             [
              0.8888888888888888,
              "#fdca26"
             ],
             [
              1,
              "#f0f921"
             ]
            ],
            "type": "heatmap"
           }
          ],
          "heatmapgl": [
           {
            "colorbar": {
             "outlinewidth": 0,
             "ticks": ""
            },
            "colorscale": [
             [
              0,
              "#0d0887"
             ],
             [
              0.1111111111111111,
              "#46039f"
             ],
             [
              0.2222222222222222,
              "#7201a8"
             ],
             [
              0.3333333333333333,
              "#9c179e"
             ],
             [
              0.4444444444444444,
              "#bd3786"
             ],
             [
              0.5555555555555556,
              "#d8576b"
             ],
             [
              0.6666666666666666,
              "#ed7953"
             ],
             [
              0.7777777777777778,
              "#fb9f3a"
             ],
             [
              0.8888888888888888,
              "#fdca26"
             ],
             [
              1,
              "#f0f921"
             ]
            ],
            "type": "heatmapgl"
           }
          ],
          "histogram": [
           {
            "marker": {
             "pattern": {
              "fillmode": "overlay",
              "size": 10,
              "solidity": 0.2
             }
            },
            "type": "histogram"
           }
          ],
          "histogram2d": [
           {
            "colorbar": {
             "outlinewidth": 0,
             "ticks": ""
            },
            "colorscale": [
             [
              0,
              "#0d0887"
             ],
             [
              0.1111111111111111,
              "#46039f"
             ],
             [
              0.2222222222222222,
              "#7201a8"
             ],
             [
              0.3333333333333333,
              "#9c179e"
             ],
             [
              0.4444444444444444,
              "#bd3786"
             ],
             [
              0.5555555555555556,
              "#d8576b"
             ],
             [
              0.6666666666666666,
              "#ed7953"
             ],
             [
              0.7777777777777778,
              "#fb9f3a"
             ],
             [
              0.8888888888888888,
              "#fdca26"
             ],
             [
              1,
              "#f0f921"
             ]
            ],
            "type": "histogram2d"
           }
          ],
          "histogram2dcontour": [
           {
            "colorbar": {
             "outlinewidth": 0,
             "ticks": ""
            },
            "colorscale": [
             [
              0,
              "#0d0887"
             ],
             [
              0.1111111111111111,
              "#46039f"
             ],
             [
              0.2222222222222222,
              "#7201a8"
             ],
             [
              0.3333333333333333,
              "#9c179e"
             ],
             [
              0.4444444444444444,
              "#bd3786"
             ],
             [
              0.5555555555555556,
              "#d8576b"
             ],
             [
              0.6666666666666666,
              "#ed7953"
             ],
             [
              0.7777777777777778,
              "#fb9f3a"
             ],
             [
              0.8888888888888888,
              "#fdca26"
             ],
             [
              1,
              "#f0f921"
             ]
            ],
            "type": "histogram2dcontour"
           }
          ],
          "mesh3d": [
           {
            "colorbar": {
             "outlinewidth": 0,
             "ticks": ""
            },
            "type": "mesh3d"
           }
          ],
          "parcoords": [
           {
            "line": {
             "colorbar": {
              "outlinewidth": 0,
              "ticks": ""
             }
            },
            "type": "parcoords"
           }
          ],
          "pie": [
           {
            "automargin": true,
            "type": "pie"
           }
          ],
          "scatter": [
           {
            "fillpattern": {
             "fillmode": "overlay",
             "size": 10,
             "solidity": 0.2
            },
            "type": "scatter"
           }
          ],
          "scatter3d": [
           {
            "line": {
             "colorbar": {
              "outlinewidth": 0,
              "ticks": ""
             }
            },
            "marker": {
             "colorbar": {
              "outlinewidth": 0,
              "ticks": ""
             }
            },
            "type": "scatter3d"
           }
          ],
          "scattercarpet": [
           {
            "marker": {
             "colorbar": {
              "outlinewidth": 0,
              "ticks": ""
             }
            },
            "type": "scattercarpet"
           }
          ],
          "scattergeo": [
           {
            "marker": {
             "colorbar": {
              "outlinewidth": 0,
              "ticks": ""
             }
            },
            "type": "scattergeo"
           }
          ],
          "scattergl": [
           {
            "marker": {
             "colorbar": {
              "outlinewidth": 0,
              "ticks": ""
             }
            },
            "type": "scattergl"
           }
          ],
          "scattermapbox": [
           {
            "marker": {
             "colorbar": {
              "outlinewidth": 0,
              "ticks": ""
             }
            },
            "type": "scattermapbox"
           }
          ],
          "scatterpolar": [
           {
            "marker": {
             "colorbar": {
              "outlinewidth": 0,
              "ticks": ""
             }
            },
            "type": "scatterpolar"
           }
          ],
          "scatterpolargl": [
           {
            "marker": {
             "colorbar": {
              "outlinewidth": 0,
              "ticks": ""
             }
            },
            "type": "scatterpolargl"
           }
          ],
          "scatterternary": [
           {
            "marker": {
             "colorbar": {
              "outlinewidth": 0,
              "ticks": ""
             }
            },
            "type": "scatterternary"
           }
          ],
          "surface": [
           {
            "colorbar": {
             "outlinewidth": 0,
             "ticks": ""
            },
            "colorscale": [
             [
              0,
              "#0d0887"
             ],
             [
              0.1111111111111111,
              "#46039f"
             ],
             [
              0.2222222222222222,
              "#7201a8"
             ],
             [
              0.3333333333333333,
              "#9c179e"
             ],
             [
              0.4444444444444444,
              "#bd3786"
             ],
             [
              0.5555555555555556,
              "#d8576b"
             ],
             [
              0.6666666666666666,
              "#ed7953"
             ],
             [
              0.7777777777777778,
              "#fb9f3a"
             ],
             [
              0.8888888888888888,
              "#fdca26"
             ],
             [
              1,
              "#f0f921"
             ]
            ],
            "type": "surface"
           }
          ],
          "table": [
           {
            "cells": {
             "fill": {
              "color": "#EBF0F8"
             },
             "line": {
              "color": "white"
             }
            },
            "header": {
             "fill": {
              "color": "#C8D4E3"
             },
             "line": {
              "color": "white"
             }
            },
            "type": "table"
           }
          ]
         },
         "layout": {
          "annotationdefaults": {
           "arrowcolor": "#2a3f5f",
           "arrowhead": 0,
           "arrowwidth": 1
          },
          "autotypenumbers": "strict",
          "coloraxis": {
           "colorbar": {
            "outlinewidth": 0,
            "ticks": ""
           }
          },
          "colorscale": {
           "diverging": [
            [
             0,
             "#8e0152"
            ],
            [
             0.1,
             "#c51b7d"
            ],
            [
             0.2,
             "#de77ae"
            ],
            [
             0.3,
             "#f1b6da"
            ],
            [
             0.4,
             "#fde0ef"
            ],
            [
             0.5,
             "#f7f7f7"
            ],
            [
             0.6,
             "#e6f5d0"
            ],
            [
             0.7,
             "#b8e186"
            ],
            [
             0.8,
             "#7fbc41"
            ],
            [
             0.9,
             "#4d9221"
            ],
            [
             1,
             "#276419"
            ]
           ],
           "sequential": [
            [
             0,
             "#0d0887"
            ],
            [
             0.1111111111111111,
             "#46039f"
            ],
            [
             0.2222222222222222,
             "#7201a8"
            ],
            [
             0.3333333333333333,
             "#9c179e"
            ],
            [
             0.4444444444444444,
             "#bd3786"
            ],
            [
             0.5555555555555556,
             "#d8576b"
            ],
            [
             0.6666666666666666,
             "#ed7953"
            ],
            [
             0.7777777777777778,
             "#fb9f3a"
            ],
            [
             0.8888888888888888,
             "#fdca26"
            ],
            [
             1,
             "#f0f921"
            ]
           ],
           "sequentialminus": [
            [
             0,
             "#0d0887"
            ],
            [
             0.1111111111111111,
             "#46039f"
            ],
            [
             0.2222222222222222,
             "#7201a8"
            ],
            [
             0.3333333333333333,
             "#9c179e"
            ],
            [
             0.4444444444444444,
             "#bd3786"
            ],
            [
             0.5555555555555556,
             "#d8576b"
            ],
            [
             0.6666666666666666,
             "#ed7953"
            ],
            [
             0.7777777777777778,
             "#fb9f3a"
            ],
            [
             0.8888888888888888,
             "#fdca26"
            ],
            [
             1,
             "#f0f921"
            ]
           ]
          },
          "colorway": [
           "#636efa",
           "#EF553B",
           "#00cc96",
           "#ab63fa",
           "#FFA15A",
           "#19d3f3",
           "#FF6692",
           "#B6E880",
           "#FF97FF",
           "#FECB52"
          ],
          "font": {
           "color": "#2a3f5f"
          },
          "geo": {
           "bgcolor": "white",
           "lakecolor": "white",
           "landcolor": "#E5ECF6",
           "showlakes": true,
           "showland": true,
           "subunitcolor": "white"
          },
          "hoverlabel": {
           "align": "left"
          },
          "hovermode": "closest",
          "mapbox": {
           "style": "light"
          },
          "paper_bgcolor": "white",
          "plot_bgcolor": "#E5ECF6",
          "polar": {
           "angularaxis": {
            "gridcolor": "white",
            "linecolor": "white",
            "ticks": ""
           },
           "bgcolor": "#E5ECF6",
           "radialaxis": {
            "gridcolor": "white",
            "linecolor": "white",
            "ticks": ""
           }
          },
          "scene": {
           "xaxis": {
            "backgroundcolor": "#E5ECF6",
            "gridcolor": "white",
            "gridwidth": 2,
            "linecolor": "white",
            "showbackground": true,
            "ticks": "",
            "zerolinecolor": "white"
           },
           "yaxis": {
            "backgroundcolor": "#E5ECF6",
            "gridcolor": "white",
            "gridwidth": 2,
            "linecolor": "white",
            "showbackground": true,
            "ticks": "",
            "zerolinecolor": "white"
           },
           "zaxis": {
            "backgroundcolor": "#E5ECF6",
            "gridcolor": "white",
            "gridwidth": 2,
            "linecolor": "white",
            "showbackground": true,
            "ticks": "",
            "zerolinecolor": "white"
           }
          },
          "shapedefaults": {
           "line": {
            "color": "#2a3f5f"
           }
          },
          "ternary": {
           "aaxis": {
            "gridcolor": "white",
            "linecolor": "white",
            "ticks": ""
           },
           "baxis": {
            "gridcolor": "white",
            "linecolor": "white",
            "ticks": ""
           },
           "bgcolor": "#E5ECF6",
           "caxis": {
            "gridcolor": "white",
            "linecolor": "white",
            "ticks": ""
           }
          },
          "title": {
           "x": 0.05
          },
          "xaxis": {
           "automargin": true,
           "gridcolor": "white",
           "linecolor": "white",
           "ticks": "",
           "title": {
            "standoff": 15
           },
           "zerolinecolor": "white",
           "zerolinewidth": 2
          },
          "yaxis": {
           "automargin": true,
           "gridcolor": "white",
           "linecolor": "white",
           "ticks": "",
           "title": {
            "standoff": 15
           },
           "zerolinecolor": "white",
           "zerolinewidth": 2
          }
         }
        },
        "width": 500
       }
      },
      "text/html": [
       "<div>                            <div id=\"9d9c2dbd-c7b1-40d7-9b5c-8acc1523651f\" class=\"plotly-graph-div\" style=\"height:400px; width:500px;\"></div>            <script type=\"text/javascript\">                require([\"plotly\"], function(Plotly) {                    window.PLOTLYENV=window.PLOTLYENV || {};                                    if (document.getElementById(\"9d9c2dbd-c7b1-40d7-9b5c-8acc1523651f\")) {                    Plotly.newPlot(                        \"9d9c2dbd-c7b1-40d7-9b5c-8acc1523651f\",                        [{\"hovertemplate\":\"Model=Dragon RoBERTa \\u003cbr\\u003ePaired t-Test Statistic=%{r}\\u003cbr\\u003etest=%{theta}\\u003cextra\\u003e\\u003c\\u002fextra\\u003e\",\"legendgroup\":\"Dragon RoBERTa \",\"line\":{\"color\":\"#636efa\",\"dash\":\"solid\",\"width\":3},\"marker\":{\"symbol\":\"circle\",\"size\":10},\"mode\":\"lines+markers\",\"name\":\"Dragon RoBERTa \",\"r\":[17.0777370441,12.8272233801,10.039033224,17.2409257548,14.7112644957,17.0777370441],\"showlegend\":true,\"subplot\":\"polar\",\"theta\":[\"Literal Bias \\u2b07\\u003cbr\\u003e(Exact Matching)\",\"Tail Importance \\u2b06\\u003cbr\\u003e(Answer's Existence)\",\"Repetition Bias \\u2b07\\u003cbr\\u003e(Head Repetition Adv.)\",\"Position Bias \\u2b07\\u003cbr\\u003e(Early Focus)\",\"Brevity Bias \\u2b07\\u003cbr\\u003e(Shorter Doc Adv.)\",\"Literal Bias \\u2b07\\u003cbr\\u003e(Exact Matching)\"],\"type\":\"scatterpolar\"},{\"hovertemplate\":\"Model=Dragon+ \\u003cbr\\u003ePaired t-Test Statistic=%{r}\\u003cbr\\u003etest=%{theta}\\u003cextra\\u003e\\u003c\\u002fextra\\u003e\",\"legendgroup\":\"Dragon+ \",\"line\":{\"color\":\"#EF553B\",\"dash\":\"solid\",\"width\":3},\"marker\":{\"symbol\":\"circle\",\"size\":10},\"mode\":\"lines+markers\",\"name\":\"Dragon+ \",\"r\":[17.2705238581,13.2770242607,9.011764578,8.5793293342,17.5744145387,17.2705238581],\"showlegend\":true,\"subplot\":\"polar\",\"theta\":[\"Literal Bias \\u2b07\\u003cbr\\u003e(Exact Matching)\",\"Tail Importance \\u2b06\\u003cbr\\u003e(Answer's Existence)\",\"Repetition Bias \\u2b07\\u003cbr\\u003e(Head Repetition Adv.)\",\"Position Bias \\u2b07\\u003cbr\\u003e(Early Focus)\",\"Brevity Bias \\u2b07\\u003cbr\\u003e(Shorter Doc Adv.)\",\"Literal Bias \\u2b07\\u003cbr\\u003e(Exact Matching)\"],\"type\":\"scatterpolar\"},{\"hovertemplate\":\"Model=Contriever \\u003cbr\\u003ePaired t-Test Statistic=%{r}\\u003cbr\\u003etest=%{theta}\\u003cextra\\u003e\\u003c\\u002fextra\\u003e\",\"legendgroup\":\"Contriever \",\"line\":{\"color\":\"#00cc96\",\"dash\":\"solid\",\"width\":3},\"marker\":{\"symbol\":\"circle\",\"size\":10},\"mode\":\"lines+markers\",\"name\":\"Contriever \",\"r\":[14.3607863326,-6.0533937994,7.9929208364,3.8783892037000003,7.0152835478,14.3607863326],\"showlegend\":true,\"subplot\":\"polar\",\"theta\":[\"Literal Bias \\u2b07\\u003cbr\\u003e(Exact Matching)\",\"Tail Importance \\u2b06\\u003cbr\\u003e(Answer's Existence)\",\"Repetition Bias \\u2b07\\u003cbr\\u003e(Head Repetition Adv.)\",\"Position Bias \\u2b07\\u003cbr\\u003e(Early Focus)\",\"Brevity Bias \\u2b07\\u003cbr\\u003e(Shorter Doc Adv.)\",\"Literal Bias \\u2b07\\u003cbr\\u003e(Exact Matching)\"],\"type\":\"scatterpolar\"},{\"hovertemplate\":\"Model=Contriever MSMARCO\\u003cbr\\u003ePaired t-Test Statistic=%{r}\\u003cbr\\u003etest=%{theta}\\u003cextra\\u003e\\u003c\\u002fextra\\u003e\",\"legendgroup\":\"Contriever MSMARCO\",\"line\":{\"color\":\"#ab63fa\",\"dash\":\"solid\",\"width\":3},\"marker\":{\"symbol\":\"circle\",\"size\":10},\"mode\":\"lines+markers\",\"name\":\"Contriever MSMARCO\",\"r\":[14.6348266927,10.704123128300001,8.0367696365,12.3681435889,15.1702127798,14.6348266927],\"showlegend\":true,\"subplot\":\"polar\",\"theta\":[\"Literal Bias \\u2b07\\u003cbr\\u003e(Exact Matching)\",\"Tail Importance \\u2b06\\u003cbr\\u003e(Answer's Existence)\",\"Repetition Bias \\u2b07\\u003cbr\\u003e(Head Repetition Adv.)\",\"Position Bias \\u2b07\\u003cbr\\u003e(Early Focus)\",\"Brevity Bias \\u2b07\\u003cbr\\u003e(Shorter Doc Adv.)\",\"Literal Bias \\u2b07\\u003cbr\\u003e(Exact Matching)\"],\"type\":\"scatterpolar\"},{\"hovertemplate\":\"Model=RetroMAE MSMARCO FT\\u003cbr\\u003ePaired t-Test Statistic=%{r}\\u003cbr\\u003etest=%{theta}\\u003cextra\\u003e\\u003c\\u002fextra\\u003e\",\"legendgroup\":\"RetroMAE MSMARCO FT\",\"line\":{\"color\":\"#FFA15A\",\"dash\":\"solid\",\"width\":3},\"marker\":{\"symbol\":\"circle\",\"size\":10},\"mode\":\"lines+markers\",\"name\":\"RetroMAE MSMARCO FT\",\"r\":[14.514246221,11.27125809,9.5701962922,5.3537452173,16.6555759259,14.514246221],\"showlegend\":true,\"subplot\":\"polar\",\"theta\":[\"Literal Bias \\u2b07\\u003cbr\\u003e(Exact Matching)\",\"Tail Importance \\u2b06\\u003cbr\\u003e(Answer's Existence)\",\"Repetition Bias \\u2b07\\u003cbr\\u003e(Head Repetition Adv.)\",\"Position Bias \\u2b07\\u003cbr\\u003e(Early Focus)\",\"Brevity Bias \\u2b07\\u003cbr\\u003e(Shorter Doc Adv.)\",\"Literal Bias \\u2b07\\u003cbr\\u003e(Exact Matching)\"],\"type\":\"scatterpolar\"},{\"hovertemplate\":\"Model=COCO-DR Base MSMARCO\\u003cbr\\u003ePaired t-Test Statistic=%{r}\\u003cbr\\u003etest=%{theta}\\u003cextra\\u003e\\u003c\\u002fextra\\u003e\",\"legendgroup\":\"COCO-DR Base MSMARCO\",\"line\":{\"color\":\"#19d3f3\",\"dash\":\"solid\",\"width\":3},\"marker\":{\"symbol\":\"circle\",\"size\":10},\"mode\":\"lines+markers\",\"name\":\"COCO-DR Base MSMARCO\",\"r\":[13.5181743168,10.2018286107,8.8625458008,10.4684158335,11.7672939341,13.5181743168],\"showlegend\":true,\"subplot\":\"polar\",\"theta\":[\"Literal Bias \\u2b07\\u003cbr\\u003e(Exact Matching)\",\"Tail Importance \\u2b06\\u003cbr\\u003e(Answer's Existence)\",\"Repetition Bias \\u2b07\\u003cbr\\u003e(Head Repetition Adv.)\",\"Position Bias \\u2b07\\u003cbr\\u003e(Early Focus)\",\"Brevity Bias \\u2b07\\u003cbr\\u003e(Shorter Doc Adv.)\",\"Literal Bias \\u2b07\\u003cbr\\u003e(Exact Matching)\"],\"type\":\"scatterpolar\"}],                        {\"template\":{\"data\":{\"histogram2dcontour\":[{\"type\":\"histogram2dcontour\",\"colorbar\":{\"outlinewidth\":0,\"ticks\":\"\"},\"colorscale\":[[0.0,\"#0d0887\"],[0.1111111111111111,\"#46039f\"],[0.2222222222222222,\"#7201a8\"],[0.3333333333333333,\"#9c179e\"],[0.4444444444444444,\"#bd3786\"],[0.5555555555555556,\"#d8576b\"],[0.6666666666666666,\"#ed7953\"],[0.7777777777777778,\"#fb9f3a\"],[0.8888888888888888,\"#fdca26\"],[1.0,\"#f0f921\"]]}],\"choropleth\":[{\"type\":\"choropleth\",\"colorbar\":{\"outlinewidth\":0,\"ticks\":\"\"}}],\"histogram2d\":[{\"type\":\"histogram2d\",\"colorbar\":{\"outlinewidth\":0,\"ticks\":\"\"},\"colorscale\":[[0.0,\"#0d0887\"],[0.1111111111111111,\"#46039f\"],[0.2222222222222222,\"#7201a8\"],[0.3333333333333333,\"#9c179e\"],[0.4444444444444444,\"#bd3786\"],[0.5555555555555556,\"#d8576b\"],[0.6666666666666666,\"#ed7953\"],[0.7777777777777778,\"#fb9f3a\"],[0.8888888888888888,\"#fdca26\"],[1.0,\"#f0f921\"]]}],\"heatmap\":[{\"type\":\"heatmap\",\"colorbar\":{\"outlinewidth\":0,\"ticks\":\"\"},\"colorscale\":[[0.0,\"#0d0887\"],[0.1111111111111111,\"#46039f\"],[0.2222222222222222,\"#7201a8\"],[0.3333333333333333,\"#9c179e\"],[0.4444444444444444,\"#bd3786\"],[0.5555555555555556,\"#d8576b\"],[0.6666666666666666,\"#ed7953\"],[0.7777777777777778,\"#fb9f3a\"],[0.8888888888888888,\"#fdca26\"],[1.0,\"#f0f921\"]]}],\"heatmapgl\":[{\"type\":\"heatmapgl\",\"colorbar\":{\"outlinewidth\":0,\"ticks\":\"\"},\"colorscale\":[[0.0,\"#0d0887\"],[0.1111111111111111,\"#46039f\"],[0.2222222222222222,\"#7201a8\"],[0.3333333333333333,\"#9c179e\"],[0.4444444444444444,\"#bd3786\"],[0.5555555555555556,\"#d8576b\"],[0.6666666666666666,\"#ed7953\"],[0.7777777777777778,\"#fb9f3a\"],[0.8888888888888888,\"#fdca26\"],[1.0,\"#f0f921\"]]}],\"contourcarpet\":[{\"type\":\"contourcarpet\",\"colorbar\":{\"outlinewidth\":0,\"ticks\":\"\"}}],\"contour\":[{\"type\":\"contour\",\"colorbar\":{\"outlinewidth\":0,\"ticks\":\"\"},\"colorscale\":[[0.0,\"#0d0887\"],[0.1111111111111111,\"#46039f\"],[0.2222222222222222,\"#7201a8\"],[0.3333333333333333,\"#9c179e\"],[0.4444444444444444,\"#bd3786\"],[0.5555555555555556,\"#d8576b\"],[0.6666666666666666,\"#ed7953\"],[0.7777777777777778,\"#fb9f3a\"],[0.8888888888888888,\"#fdca26\"],[1.0,\"#f0f921\"]]}],\"surface\":[{\"type\":\"surface\",\"colorbar\":{\"outlinewidth\":0,\"ticks\":\"\"},\"colorscale\":[[0.0,\"#0d0887\"],[0.1111111111111111,\"#46039f\"],[0.2222222222222222,\"#7201a8\"],[0.3333333333333333,\"#9c179e\"],[0.4444444444444444,\"#bd3786\"],[0.5555555555555556,\"#d8576b\"],[0.6666666666666666,\"#ed7953\"],[0.7777777777777778,\"#fb9f3a\"],[0.8888888888888888,\"#fdca26\"],[1.0,\"#f0f921\"]]}],\"mesh3d\":[{\"type\":\"mesh3d\",\"colorbar\":{\"outlinewidth\":0,\"ticks\":\"\"}}],\"scatter\":[{\"fillpattern\":{\"fillmode\":\"overlay\",\"size\":10,\"solidity\":0.2},\"type\":\"scatter\"}],\"parcoords\":[{\"type\":\"parcoords\",\"line\":{\"colorbar\":{\"outlinewidth\":0,\"ticks\":\"\"}}}],\"scatterpolargl\":[{\"type\":\"scatterpolargl\",\"marker\":{\"colorbar\":{\"outlinewidth\":0,\"ticks\":\"\"}}}],\"bar\":[{\"error_x\":{\"color\":\"#2a3f5f\"},\"error_y\":{\"color\":\"#2a3f5f\"},\"marker\":{\"line\":{\"color\":\"#E5ECF6\",\"width\":0.5},\"pattern\":{\"fillmode\":\"overlay\",\"size\":10,\"solidity\":0.2}},\"type\":\"bar\"}],\"scattergeo\":[{\"type\":\"scattergeo\",\"marker\":{\"colorbar\":{\"outlinewidth\":0,\"ticks\":\"\"}}}],\"scatterpolar\":[{\"type\":\"scatterpolar\",\"marker\":{\"colorbar\":{\"outlinewidth\":0,\"ticks\":\"\"}}}],\"histogram\":[{\"marker\":{\"pattern\":{\"fillmode\":\"overlay\",\"size\":10,\"solidity\":0.2}},\"type\":\"histogram\"}],\"scattergl\":[{\"type\":\"scattergl\",\"marker\":{\"colorbar\":{\"outlinewidth\":0,\"ticks\":\"\"}}}],\"scatter3d\":[{\"type\":\"scatter3d\",\"line\":{\"colorbar\":{\"outlinewidth\":0,\"ticks\":\"\"}},\"marker\":{\"colorbar\":{\"outlinewidth\":0,\"ticks\":\"\"}}}],\"scattermapbox\":[{\"type\":\"scattermapbox\",\"marker\":{\"colorbar\":{\"outlinewidth\":0,\"ticks\":\"\"}}}],\"scatterternary\":[{\"type\":\"scatterternary\",\"marker\":{\"colorbar\":{\"outlinewidth\":0,\"ticks\":\"\"}}}],\"scattercarpet\":[{\"type\":\"scattercarpet\",\"marker\":{\"colorbar\":{\"outlinewidth\":0,\"ticks\":\"\"}}}],\"carpet\":[{\"aaxis\":{\"endlinecolor\":\"#2a3f5f\",\"gridcolor\":\"white\",\"linecolor\":\"white\",\"minorgridcolor\":\"white\",\"startlinecolor\":\"#2a3f5f\"},\"baxis\":{\"endlinecolor\":\"#2a3f5f\",\"gridcolor\":\"white\",\"linecolor\":\"white\",\"minorgridcolor\":\"white\",\"startlinecolor\":\"#2a3f5f\"},\"type\":\"carpet\"}],\"table\":[{\"cells\":{\"fill\":{\"color\":\"#EBF0F8\"},\"line\":{\"color\":\"white\"}},\"header\":{\"fill\":{\"color\":\"#C8D4E3\"},\"line\":{\"color\":\"white\"}},\"type\":\"table\"}],\"barpolar\":[{\"marker\":{\"line\":{\"color\":\"#E5ECF6\",\"width\":0.5},\"pattern\":{\"fillmode\":\"overlay\",\"size\":10,\"solidity\":0.2}},\"type\":\"barpolar\"}],\"pie\":[{\"automargin\":true,\"type\":\"pie\"}]},\"layout\":{\"autotypenumbers\":\"strict\",\"colorway\":[\"#636efa\",\"#EF553B\",\"#00cc96\",\"#ab63fa\",\"#FFA15A\",\"#19d3f3\",\"#FF6692\",\"#B6E880\",\"#FF97FF\",\"#FECB52\"],\"font\":{\"color\":\"#2a3f5f\"},\"hovermode\":\"closest\",\"hoverlabel\":{\"align\":\"left\"},\"paper_bgcolor\":\"white\",\"plot_bgcolor\":\"#E5ECF6\",\"polar\":{\"bgcolor\":\"#E5ECF6\",\"angularaxis\":{\"gridcolor\":\"white\",\"linecolor\":\"white\",\"ticks\":\"\"},\"radialaxis\":{\"gridcolor\":\"white\",\"linecolor\":\"white\",\"ticks\":\"\"}},\"ternary\":{\"bgcolor\":\"#E5ECF6\",\"aaxis\":{\"gridcolor\":\"white\",\"linecolor\":\"white\",\"ticks\":\"\"},\"baxis\":{\"gridcolor\":\"white\",\"linecolor\":\"white\",\"ticks\":\"\"},\"caxis\":{\"gridcolor\":\"white\",\"linecolor\":\"white\",\"ticks\":\"\"}},\"coloraxis\":{\"colorbar\":{\"outlinewidth\":0,\"ticks\":\"\"}},\"colorscale\":{\"sequential\":[[0.0,\"#0d0887\"],[0.1111111111111111,\"#46039f\"],[0.2222222222222222,\"#7201a8\"],[0.3333333333333333,\"#9c179e\"],[0.4444444444444444,\"#bd3786\"],[0.5555555555555556,\"#d8576b\"],[0.6666666666666666,\"#ed7953\"],[0.7777777777777778,\"#fb9f3a\"],[0.8888888888888888,\"#fdca26\"],[1.0,\"#f0f921\"]],\"sequentialminus\":[[0.0,\"#0d0887\"],[0.1111111111111111,\"#46039f\"],[0.2222222222222222,\"#7201a8\"],[0.3333333333333333,\"#9c179e\"],[0.4444444444444444,\"#bd3786\"],[0.5555555555555556,\"#d8576b\"],[0.6666666666666666,\"#ed7953\"],[0.7777777777777778,\"#fb9f3a\"],[0.8888888888888888,\"#fdca26\"],[1.0,\"#f0f921\"]],\"diverging\":[[0,\"#8e0152\"],[0.1,\"#c51b7d\"],[0.2,\"#de77ae\"],[0.3,\"#f1b6da\"],[0.4,\"#fde0ef\"],[0.5,\"#f7f7f7\"],[0.6,\"#e6f5d0\"],[0.7,\"#b8e186\"],[0.8,\"#7fbc41\"],[0.9,\"#4d9221\"],[1,\"#276419\"]]},\"xaxis\":{\"gridcolor\":\"white\",\"linecolor\":\"white\",\"ticks\":\"\",\"title\":{\"standoff\":15},\"zerolinecolor\":\"white\",\"automargin\":true,\"zerolinewidth\":2},\"yaxis\":{\"gridcolor\":\"white\",\"linecolor\":\"white\",\"ticks\":\"\",\"title\":{\"standoff\":15},\"zerolinecolor\":\"white\",\"automargin\":true,\"zerolinewidth\":2},\"scene\":{\"xaxis\":{\"backgroundcolor\":\"#E5ECF6\",\"gridcolor\":\"white\",\"linecolor\":\"white\",\"showbackground\":true,\"ticks\":\"\",\"zerolinecolor\":\"white\",\"gridwidth\":2},\"yaxis\":{\"backgroundcolor\":\"#E5ECF6\",\"gridcolor\":\"white\",\"linecolor\":\"white\",\"showbackground\":true,\"ticks\":\"\",\"zerolinecolor\":\"white\",\"gridwidth\":2},\"zaxis\":{\"backgroundcolor\":\"#E5ECF6\",\"gridcolor\":\"white\",\"linecolor\":\"white\",\"showbackground\":true,\"ticks\":\"\",\"zerolinecolor\":\"white\",\"gridwidth\":2}},\"shapedefaults\":{\"line\":{\"color\":\"#2a3f5f\"}},\"annotationdefaults\":{\"arrowcolor\":\"#2a3f5f\",\"arrowhead\":0,\"arrowwidth\":1},\"geo\":{\"bgcolor\":\"white\",\"landcolor\":\"#E5ECF6\",\"subunitcolor\":\"white\",\"showland\":true,\"showlakes\":true,\"lakecolor\":\"white\"},\"title\":{\"x\":0.05},\"mapbox\":{\"style\":\"light\"}}},\"polar\":{\"domain\":{\"x\":[0.0,1.0],\"y\":[0.0,1.0]},\"angularaxis\":{\"direction\":\"clockwise\",\"rotation\":90,\"tickfont\":{\"weight\":\"bold\"}}},\"legend\":{\"title\":{\"text\":\"Model\"},\"tracegroupgap\":0,\"orientation\":\"h\"},\"margin\":{\"t\":60},\"height\":400,\"width\":500,\"shapes\":[{\"layer\":\"above\",\"line\":{\"color\":\"gray\",\"width\":1},\"type\":\"circle\",\"x0\":0,\"x1\":0,\"xref\":\"paper\",\"y0\":0,\"y1\":0,\"yref\":\"paper\"}]},                        {\"responsive\": true}                    ).then(function(){\n",
       "                            \n",
       "var gd = document.getElementById('9d9c2dbd-c7b1-40d7-9b5c-8acc1523651f');\n",
       "var x = new MutationObserver(function (mutations, observer) {{\n",
       "        var display = window.getComputedStyle(gd).display;\n",
       "        if (!display || display === 'none') {{\n",
       "            console.log([gd, 'removed!']);\n",
       "            Plotly.purge(gd);\n",
       "            observer.disconnect();\n",
       "        }}\n",
       "}});\n",
       "\n",
       "// Listen for the removal of the full notebook cells\n",
       "var notebookContainer = gd.closest('#notebook-container');\n",
       "if (notebookContainer) {{\n",
       "    x.observe(notebookContainer, {childList: true});\n",
       "}}\n",
       "\n",
       "// Listen for the clearing of the current output cell\n",
       "var outputEl = gd.closest('.output');\n",
       "if (outputEl) {{\n",
       "    x.observe(outputEl, {childList: true});\n",
       "}}\n",
       "\n",
       "                        })                };                });            </script>        </div>"
      ]
     },
     "metadata": {},
     "output_type": "display_data"
    }
   ],
   "source": [
    "import plotly.express as px\n",
    "\n",
    "fig = px.line_polar(\n",
    "    df, r=\"Paired t-Test Statistic\", theta=\"test\", color=\"Model\", line_close=True,\n",
    "    # width=550, height=350, # for 4\n",
    "    width=500, height=400,\n",
    "    # color_discrete_sequence=px.colors.sequential.Plasma_r,\n",
    "    # color_discrete_sequence=px.colors.qualitative.Set1,  # Harmonious color scheme\n",
    "    # template=\"plotly_dark\",\n",
    "    # template=\"seaborn\",\n",
    "    category_orders={\"Model\": ['Dragon RoBERTa ', 'Dragon+ ', 'Contriever ', 'Contriever MSMARCO', 'RetroMAE MSMARCO FT', 'COCO-DR Base MSMARCO',]},\n",
    "    \n",
    ")\n",
    "fig.update_traces(\n",
    "    mode=\"lines+markers\",\n",
    "    marker=dict(size=10, symbol='circle'),  # Larger markers with borders\n",
    "    line=dict(width=3)  # Thicker lines\n",
    ")\n",
    "\n",
    "fig.update_layout(\n",
    "    polar=dict(\n",
    "        angularaxis=dict(\n",
    "            tickfont=dict(weight=\"bold\"),  # Bold theta labels\n",
    "        ),\n",
    "    ),\n",
    ")\n",
    "\n",
    "fig.update_layout(legend=dict(\n",
    "    # yanchor=\"bottom\",\n",
    "    # y=0.1,  # y=0.6,\n",
    "    # xanchor=\"left\",\n",
    "    # x=0.93  # x=0.82\n",
    "    orientation=\"h\",\n",
    "))\n",
    "\n",
    "# Color the 0 axis line circle red\n",
    "# fig.update_layout(\n",
    "#     polar=dict(\n",
    "#         radialaxis=dict(\n",
    "#             gridcolor=\"gray\",\n",
    "#             gridwidth=1,\n",
    "#         )\n",
    "#     )\n",
    "# )\n",
    "\n",
    "fig.add_shape(\n",
    "    type=\"circle\",\n",
    "    x0=0, y0=0, x1=0, y1=0,\n",
    "    xref=\"paper\", yref=\"paper\",\n",
    "    line=dict(color=\"gray\", width=1),\n",
    "    layer=\"above\"\n",
    ")\n",
    "\n",
    "# fig.update_layout(polar=dict(radialaxis=dict(type=\"log\")))\n",
    "# fig.update_layout(legend_traceorder=\"reversed\")\n",
    "\n",
    "# fig.update_traces(fill='toself')\n",
    "fig.write_image(\"figs/radar_plot.pdf\", engine=\"kaleido\")\n",
    "fig.show()"
   ]
  },
  {
   "cell_type": "code",
   "execution_count": 7,
   "metadata": {},
   "outputs": [
    {
     "data": {
      "text/html": [
       "<div>\n",
       "<style scoped>\n",
       "    .dataframe tbody tr th:only-of-type {\n",
       "        vertical-align: middle;\n",
       "    }\n",
       "\n",
       "    .dataframe tbody tr th {\n",
       "        vertical-align: top;\n",
       "    }\n",
       "\n",
       "    .dataframe thead th {\n",
       "        text-align: right;\n",
       "    }\n",
       "</style>\n",
       "<table border=\"1\" class=\"dataframe\">\n",
       "  <thead>\n",
       "    <tr style=\"text-align: right;\">\n",
       "      <th></th>\n",
       "      <th>Model</th>\n",
       "      <th>col1</th>\n",
       "      <th>col2</th>\n",
       "      <th>Paired t-Test Statistic</th>\n",
       "      <th>ttest_pvalue</th>\n",
       "      <th>ttest_ci_low</th>\n",
       "      <th>ttest_ci_high</th>\n",
       "      <th>mean_diff</th>\n",
       "      <th>std_diff</th>\n",
       "      <th>n</th>\n",
       "      <th>test</th>\n",
       "      <th>ttest_ci_low_stats</th>\n",
       "      <th>ttest_ci_high_stats</th>\n",
       "      <th>standard_ttest_ppf</th>\n",
       "      <th>acc</th>\n",
       "    </tr>\n",
       "  </thead>\n",
       "  <tbody>\n",
       "    <tr>\n",
       "      <th>0</th>\n",
       "      <td>COCO-DR Base MSMARCO</td>\n",
       "      <td>OpenMatch/cocodr-base-msmarco_query_short_name...</td>\n",
       "      <td>OpenMatch/cocodr-base-msmarco_query_short_name...</td>\n",
       "      <td>13.518174</td>\n",
       "      <td>1.346745e-31</td>\n",
       "      <td>1.650996</td>\n",
       "      <td>1.650996</td>\n",
       "      <td>2.260753</td>\n",
       "      <td>2.644266</td>\n",
       "      <td>250</td>\n",
       "      <td>Literal Bias ⬇&lt;br&gt;(Exact Matching)</td>\n",
       "      <td>NaN</td>\n",
       "      <td>NaN</td>\n",
       "      <td>NaN</td>\n",
       "      <td>NaN</td>\n",
       "    </tr>\n",
       "    <tr>\n",
       "      <th>2</th>\n",
       "      <td>RetroMAE MSMARCO FT</td>\n",
       "      <td>Shitao/RetroMAE_MSMARCO_finetune_query_short_n...</td>\n",
       "      <td>Shitao/RetroMAE_MSMARCO_finetune_query_short_n...</td>\n",
       "      <td>14.514246</td>\n",
       "      <td>5.294960e-35</td>\n",
       "      <td>1.650996</td>\n",
       "      <td>1.650996</td>\n",
       "      <td>3.822672</td>\n",
       "      <td>4.164306</td>\n",
       "      <td>250</td>\n",
       "      <td>Literal Bias ⬇&lt;br&gt;(Exact Matching)</td>\n",
       "      <td>NaN</td>\n",
       "      <td>NaN</td>\n",
       "      <td>NaN</td>\n",
       "      <td>NaN</td>\n",
       "    </tr>\n",
       "    <tr>\n",
       "      <th>3</th>\n",
       "      <td>Contriever MSMARCO</td>\n",
       "      <td>facebook/contriever-msmarco_query_short_namego...</td>\n",
       "      <td>facebook/contriever-msmarco_query_short_namego...</td>\n",
       "      <td>14.634827</td>\n",
       "      <td>2.042144e-35</td>\n",
       "      <td>1.650996</td>\n",
       "      <td>1.650996</td>\n",
       "      <td>0.211905</td>\n",
       "      <td>0.228941</td>\n",
       "      <td>250</td>\n",
       "      <td>Literal Bias ⬇&lt;br&gt;(Exact Matching)</td>\n",
       "      <td>NaN</td>\n",
       "      <td>NaN</td>\n",
       "      <td>NaN</td>\n",
       "      <td>NaN</td>\n",
       "    </tr>\n",
       "    <tr>\n",
       "      <th>4</th>\n",
       "      <td>Dragon RoBERTa</td>\n",
       "      <td>facebook/dragon-roberta-query-encoder_query_sh...</td>\n",
       "      <td>facebook/dragon-roberta-query-encoder_query_sh...</td>\n",
       "      <td>17.077737</td>\n",
       "      <td>8.218781e-44</td>\n",
       "      <td>1.650996</td>\n",
       "      <td>1.650996</td>\n",
       "      <td>4.368895</td>\n",
       "      <td>4.044932</td>\n",
       "      <td>250</td>\n",
       "      <td>Literal Bias ⬇&lt;br&gt;(Exact Matching)</td>\n",
       "      <td>NaN</td>\n",
       "      <td>NaN</td>\n",
       "      <td>NaN</td>\n",
       "      <td>NaN</td>\n",
       "    </tr>\n",
       "    <tr>\n",
       "      <th>5</th>\n",
       "      <td>Dragon+</td>\n",
       "      <td>facebook/dragon-plus-query-encoder_query_short...</td>\n",
       "      <td>facebook/dragon-plus-query-encoder_query_short...</td>\n",
       "      <td>17.270524</td>\n",
       "      <td>1.796319e-44</td>\n",
       "      <td>1.650996</td>\n",
       "      <td>1.650996</td>\n",
       "      <td>4.643155</td>\n",
       "      <td>4.250868</td>\n",
       "      <td>250</td>\n",
       "      <td>Literal Bias ⬇&lt;br&gt;(Exact Matching)</td>\n",
       "      <td>NaN</td>\n",
       "      <td>NaN</td>\n",
       "      <td>NaN</td>\n",
       "      <td>NaN</td>\n",
       "    </tr>\n",
       "    <tr>\n",
       "      <th>1</th>\n",
       "      <td>Contriever MSMARCO</td>\n",
       "      <td>facebook/contriever-msmarco_sents_w__dot</td>\n",
       "      <td>facebook/contriever-msmarco_sents_wo__dot</td>\n",
       "      <td>7.283307</td>\n",
       "      <td>0.000000e+00</td>\n",
       "      <td>1.650996</td>\n",
       "      <td>1.650996</td>\n",
       "      <td>0.084384</td>\n",
       "      <td>0.183190</td>\n",
       "      <td>250</td>\n",
       "      <td>Tail Importance ⬆&lt;br&gt;(Answer's Existence)</td>\n",
       "      <td>0.061565</td>\n",
       "      <td>0.107203</td>\n",
       "      <td>-1.650996</td>\n",
       "      <td>NaN</td>\n",
       "    </tr>\n",
       "    <tr>\n",
       "      <th>2</th>\n",
       "      <td>COCO-DR Base MSMARCO</td>\n",
       "      <td>OpenMatch/cocodr-base-msmarco_sents_w__dot</td>\n",
       "      <td>OpenMatch/cocodr-base-msmarco_sents_wo__dot</td>\n",
       "      <td>8.941154</td>\n",
       "      <td>8.921397e-17</td>\n",
       "      <td>1.650996</td>\n",
       "      <td>1.650996</td>\n",
       "      <td>1.338612</td>\n",
       "      <td>2.367179</td>\n",
       "      <td>250</td>\n",
       "      <td>Tail Importance ⬆&lt;br&gt;(Answer's Existence)</td>\n",
       "      <td>1.043746</td>\n",
       "      <td>1.633478</td>\n",
       "      <td>-1.650996</td>\n",
       "      <td>NaN</td>\n",
       "    </tr>\n",
       "    <tr>\n",
       "      <th>3</th>\n",
       "      <td>Dragon RoBERTa</td>\n",
       "      <td>facebook/dragon-roberta-query-encoder_sents_w_...</td>\n",
       "      <td>facebook/dragon-roberta-query-encoder_sents_wo...</td>\n",
       "      <td>12.558248</td>\n",
       "      <td>2.384158e-28</td>\n",
       "      <td>1.650996</td>\n",
       "      <td>1.650996</td>\n",
       "      <td>3.108999</td>\n",
       "      <td>3.914367</td>\n",
       "      <td>250</td>\n",
       "      <td>Tail Importance ⬆&lt;br&gt;(Answer's Existence)</td>\n",
       "      <td>2.621408</td>\n",
       "      <td>3.596590</td>\n",
       "      <td>-1.650996</td>\n",
       "      <td>NaN</td>\n",
       "    </tr>\n",
       "    <tr>\n",
       "      <th>4</th>\n",
       "      <td>RetroMAE MSMARCO FT</td>\n",
       "      <td>Shitao/RetroMAE_MSMARCO_finetune_sents_w__dot</td>\n",
       "      <td>Shitao/RetroMAE_MSMARCO_finetune_sents_wo__dot</td>\n",
       "      <td>12.843604</td>\n",
       "      <td>2.608333e-29</td>\n",
       "      <td>1.650996</td>\n",
       "      <td>1.650996</td>\n",
       "      <td>3.296993</td>\n",
       "      <td>4.058833</td>\n",
       "      <td>250</td>\n",
       "      <td>Tail Importance ⬆&lt;br&gt;(Answer's Existence)</td>\n",
       "      <td>2.791407</td>\n",
       "      <td>3.802580</td>\n",
       "      <td>-1.650996</td>\n",
       "      <td>NaN</td>\n",
       "    </tr>\n",
       "    <tr>\n",
       "      <th>5</th>\n",
       "      <td>Dragon+</td>\n",
       "      <td>facebook/dragon-plus-query-encoder_sents_w__dot</td>\n",
       "      <td>facebook/dragon-plus-query-encoder_sents_wo__dot</td>\n",
       "      <td>13.535417</td>\n",
       "      <td>1.176481e-31</td>\n",
       "      <td>1.650996</td>\n",
       "      <td>1.650996</td>\n",
       "      <td>3.406869</td>\n",
       "      <td>3.979732</td>\n",
       "      <td>250</td>\n",
       "      <td>Tail Importance ⬆&lt;br&gt;(Answer's Existence)</td>\n",
       "      <td>2.911136</td>\n",
       "      <td>3.902602</td>\n",
       "      <td>-1.650996</td>\n",
       "      <td>NaN</td>\n",
       "    </tr>\n",
       "    <tr>\n",
       "      <th>1</th>\n",
       "      <td>Contriever MSMARCO</td>\n",
       "      <td>facebook/contriever-msmarco_sents_more_heads_dot</td>\n",
       "      <td>facebook/contriever-msmarco_sents_less_heads_dot</td>\n",
       "      <td>8.036770</td>\n",
       "      <td>0.000000e+00</td>\n",
       "      <td>1.650996</td>\n",
       "      <td>1.650996</td>\n",
       "      <td>0.125591</td>\n",
       "      <td>0.247085</td>\n",
       "      <td>250</td>\n",
       "      <td>Repetition Bias ⬇&lt;br&gt;(Head Repetition Adv.)</td>\n",
       "      <td>NaN</td>\n",
       "      <td>NaN</td>\n",
       "      <td>NaN</td>\n",
       "      <td>NaN</td>\n",
       "    </tr>\n",
       "    <tr>\n",
       "      <th>2</th>\n",
       "      <td>COCO-DR Base MSMARCO</td>\n",
       "      <td>OpenMatch/cocodr-base-msmarco_sents_more_heads...</td>\n",
       "      <td>OpenMatch/cocodr-base-msmarco_sents_less_heads...</td>\n",
       "      <td>8.862546</td>\n",
       "      <td>1.526816e-16</td>\n",
       "      <td>1.650996</td>\n",
       "      <td>1.650996</td>\n",
       "      <td>1.721507</td>\n",
       "      <td>3.071286</td>\n",
       "      <td>250</td>\n",
       "      <td>Repetition Bias ⬇&lt;br&gt;(Head Repetition Adv.)</td>\n",
       "      <td>NaN</td>\n",
       "      <td>NaN</td>\n",
       "      <td>NaN</td>\n",
       "      <td>NaN</td>\n",
       "    </tr>\n",
       "    <tr>\n",
       "      <th>3</th>\n",
       "      <td>Dragon+</td>\n",
       "      <td>facebook/dragon-plus-query-encoder_sents_more_...</td>\n",
       "      <td>facebook/dragon-plus-query-encoder_sents_less_...</td>\n",
       "      <td>9.011765</td>\n",
       "      <td>5.494934e-17</td>\n",
       "      <td>1.650996</td>\n",
       "      <td>1.650996</td>\n",
       "      <td>3.313456</td>\n",
       "      <td>5.813549</td>\n",
       "      <td>250</td>\n",
       "      <td>Repetition Bias ⬇&lt;br&gt;(Head Repetition Adv.)</td>\n",
       "      <td>NaN</td>\n",
       "      <td>NaN</td>\n",
       "      <td>NaN</td>\n",
       "      <td>NaN</td>\n",
       "    </tr>\n",
       "    <tr>\n",
       "      <th>4</th>\n",
       "      <td>RetroMAE MSMARCO FT</td>\n",
       "      <td>Shitao/RetroMAE_MSMARCO_finetune_sents_more_he...</td>\n",
       "      <td>Shitao/RetroMAE_MSMARCO_finetune_sents_less_he...</td>\n",
       "      <td>9.570196</td>\n",
       "      <td>1.117316e-18</td>\n",
       "      <td>1.650996</td>\n",
       "      <td>1.650996</td>\n",
       "      <td>3.305761</td>\n",
       "      <td>5.461609</td>\n",
       "      <td>250</td>\n",
       "      <td>Repetition Bias ⬇&lt;br&gt;(Head Repetition Adv.)</td>\n",
       "      <td>NaN</td>\n",
       "      <td>NaN</td>\n",
       "      <td>NaN</td>\n",
       "      <td>NaN</td>\n",
       "    </tr>\n",
       "    <tr>\n",
       "      <th>5</th>\n",
       "      <td>Dragon RoBERTa</td>\n",
       "      <td>facebook/dragon-roberta-query-encoder_sents_mo...</td>\n",
       "      <td>facebook/dragon-roberta-query-encoder_sents_le...</td>\n",
       "      <td>10.039033</td>\n",
       "      <td>3.921410e-20</td>\n",
       "      <td>1.650996</td>\n",
       "      <td>1.650996</td>\n",
       "      <td>3.373334</td>\n",
       "      <td>5.312972</td>\n",
       "      <td>250</td>\n",
       "      <td>Repetition Bias ⬇&lt;br&gt;(Head Repetition Adv.)</td>\n",
       "      <td>NaN</td>\n",
       "      <td>NaN</td>\n",
       "      <td>NaN</td>\n",
       "      <td>NaN</td>\n",
       "    </tr>\n",
       "    <tr>\n",
       "      <th>1</th>\n",
       "      <td>RetroMAE MSMARCO FT</td>\n",
       "      <td>Shitao/RetroMAE_MSMARCO_finetune_sents_complet...</td>\n",
       "      <td>Shitao/RetroMAE_MSMARCO_finetune_sents_complet...</td>\n",
       "      <td>5.353745</td>\n",
       "      <td>1.957000e-07</td>\n",
       "      <td>1.650996</td>\n",
       "      <td>1.650996</td>\n",
       "      <td>0.671721</td>\n",
       "      <td>1.983816</td>\n",
       "      <td>250</td>\n",
       "      <td>Position Bias ⬇&lt;br&gt;(Early Focus)</td>\n",
       "      <td>NaN</td>\n",
       "      <td>NaN</td>\n",
       "      <td>NaN</td>\n",
       "      <td>NaN</td>\n",
       "    </tr>\n",
       "    <tr>\n",
       "      <th>2</th>\n",
       "      <td>Dragon+</td>\n",
       "      <td>facebook/dragon-plus-query-encoder_sents_compl...</td>\n",
       "      <td>facebook/dragon-plus-query-encoder_sents_compl...</td>\n",
       "      <td>8.579329</td>\n",
       "      <td>0.000000e+00</td>\n",
       "      <td>1.650996</td>\n",
       "      <td>1.650996</td>\n",
       "      <td>0.760481</td>\n",
       "      <td>1.401539</td>\n",
       "      <td>250</td>\n",
       "      <td>Position Bias ⬇&lt;br&gt;(Early Focus)</td>\n",
       "      <td>NaN</td>\n",
       "      <td>NaN</td>\n",
       "      <td>NaN</td>\n",
       "      <td>NaN</td>\n",
       "    </tr>\n",
       "    <tr>\n",
       "      <th>3</th>\n",
       "      <td>COCO-DR Base MSMARCO</td>\n",
       "      <td>OpenMatch/cocodr-base-msmarco_sents_complete_w...</td>\n",
       "      <td>OpenMatch/cocodr-base-msmarco_sents_complete_w...</td>\n",
       "      <td>10.468416</td>\n",
       "      <td>1.724497e-21</td>\n",
       "      <td>1.650996</td>\n",
       "      <td>1.650996</td>\n",
       "      <td>1.223269</td>\n",
       "      <td>1.847613</td>\n",
       "      <td>250</td>\n",
       "      <td>Position Bias ⬇&lt;br&gt;(Early Focus)</td>\n",
       "      <td>NaN</td>\n",
       "      <td>NaN</td>\n",
       "      <td>NaN</td>\n",
       "      <td>NaN</td>\n",
       "    </tr>\n",
       "    <tr>\n",
       "      <th>4</th>\n",
       "      <td>Contriever MSMARCO</td>\n",
       "      <td>facebook/contriever-msmarco_sents_complete_w_e...</td>\n",
       "      <td>facebook/contriever-msmarco_sents_complete_w_e...</td>\n",
       "      <td>12.368144</td>\n",
       "      <td>1.035151e-27</td>\n",
       "      <td>1.650996</td>\n",
       "      <td>1.650996</td>\n",
       "      <td>0.084006</td>\n",
       "      <td>0.107393</td>\n",
       "      <td>250</td>\n",
       "      <td>Position Bias ⬇&lt;br&gt;(Early Focus)</td>\n",
       "      <td>NaN</td>\n",
       "      <td>NaN</td>\n",
       "      <td>NaN</td>\n",
       "      <td>NaN</td>\n",
       "    </tr>\n",
       "    <tr>\n",
       "      <th>5</th>\n",
       "      <td>Dragon RoBERTa</td>\n",
       "      <td>facebook/dragon-roberta-query-encoder_sents_co...</td>\n",
       "      <td>facebook/dragon-roberta-query-encoder_sents_co...</td>\n",
       "      <td>17.240926</td>\n",
       "      <td>2.268466e-44</td>\n",
       "      <td>1.650996</td>\n",
       "      <td>1.650996</td>\n",
       "      <td>1.509220</td>\n",
       "      <td>1.384083</td>\n",
       "      <td>250</td>\n",
       "      <td>Position Bias ⬇&lt;br&gt;(Early Focus)</td>\n",
       "      <td>NaN</td>\n",
       "      <td>NaN</td>\n",
       "      <td>NaN</td>\n",
       "      <td>NaN</td>\n",
       "    </tr>\n",
       "    <tr>\n",
       "      <th>1</th>\n",
       "      <td>COCO-DR Base MSMARCO</td>\n",
       "      <td>OpenMatch/cocodr-base-msmarco_sents_evidence_s...</td>\n",
       "      <td>OpenMatch/cocodr-base-msmarco_sents_evidence_d...</td>\n",
       "      <td>11.767294</td>\n",
       "      <td>1.035324e-25</td>\n",
       "      <td>1.650996</td>\n",
       "      <td>1.650996</td>\n",
       "      <td>1.594926</td>\n",
       "      <td>2.143058</td>\n",
       "      <td>250</td>\n",
       "      <td>Brevity Bias ⬇&lt;br&gt;(Shorter Doc Adv.)</td>\n",
       "      <td>1.327977</td>\n",
       "      <td>1.861874</td>\n",
       "      <td>-1.650996</td>\n",
       "      <td>0.804</td>\n",
       "    </tr>\n",
       "    <tr>\n",
       "      <th>2</th>\n",
       "      <td>Dragon RoBERTa</td>\n",
       "      <td>facebook/dragon-roberta-query-encoder_sents_ev...</td>\n",
       "      <td>facebook/dragon-roberta-query-encoder_sents_ev...</td>\n",
       "      <td>14.711264</td>\n",
       "      <td>1.116011e-35</td>\n",
       "      <td>1.650996</td>\n",
       "      <td>1.650996</td>\n",
       "      <td>3.206692</td>\n",
       "      <td>3.446491</td>\n",
       "      <td>250</td>\n",
       "      <td>Brevity Bias ⬇&lt;br&gt;(Shorter Doc Adv.)</td>\n",
       "      <td>2.777381</td>\n",
       "      <td>3.636002</td>\n",
       "      <td>-1.650996</td>\n",
       "      <td>0.836</td>\n",
       "    </tr>\n",
       "    <tr>\n",
       "      <th>3</th>\n",
       "      <td>Contriever MSMARCO</td>\n",
       "      <td>facebook/contriever-msmarco_sents_evidence_sin...</td>\n",
       "      <td>facebook/contriever-msmarco_sents_evidence_doc...</td>\n",
       "      <td>15.170213</td>\n",
       "      <td>2.955015e-37</td>\n",
       "      <td>1.650996</td>\n",
       "      <td>1.650996</td>\n",
       "      <td>0.153456</td>\n",
       "      <td>0.159942</td>\n",
       "      <td>250</td>\n",
       "      <td>Brevity Bias ⬇&lt;br&gt;(Shorter Doc Adv.)</td>\n",
       "      <td>0.133533</td>\n",
       "      <td>0.173379</td>\n",
       "      <td>-1.650996</td>\n",
       "      <td>0.860</td>\n",
       "    </tr>\n",
       "    <tr>\n",
       "      <th>4</th>\n",
       "      <td>RetroMAE MSMARCO FT</td>\n",
       "      <td>Shitao/RetroMAE_MSMARCO_finetune_sents_evidenc...</td>\n",
       "      <td>Shitao/RetroMAE_MSMARCO_finetune_sents_evidenc...</td>\n",
       "      <td>16.655576</td>\n",
       "      <td>2.307357e-42</td>\n",
       "      <td>1.650996</td>\n",
       "      <td>1.650996</td>\n",
       "      <td>4.103336</td>\n",
       "      <td>3.895359</td>\n",
       "      <td>250</td>\n",
       "      <td>Brevity Bias ⬇&lt;br&gt;(Shorter Doc Adv.)</td>\n",
       "      <td>3.618113</td>\n",
       "      <td>4.588560</td>\n",
       "      <td>-1.650996</td>\n",
       "      <td>0.904</td>\n",
       "    </tr>\n",
       "    <tr>\n",
       "      <th>5</th>\n",
       "      <td>Dragon+</td>\n",
       "      <td>facebook/dragon-plus-query-encoder_sents_evide...</td>\n",
       "      <td>facebook/dragon-plus-query-encoder_sents_evide...</td>\n",
       "      <td>17.574415</td>\n",
       "      <td>1.639933e-45</td>\n",
       "      <td>1.650996</td>\n",
       "      <td>1.650996</td>\n",
       "      <td>3.979974</td>\n",
       "      <td>3.580711</td>\n",
       "      <td>250</td>\n",
       "      <td>Brevity Bias ⬇&lt;br&gt;(Shorter Doc Adv.)</td>\n",
       "      <td>3.533944</td>\n",
       "      <td>4.426003</td>\n",
       "      <td>-1.650996</td>\n",
       "      <td>0.916</td>\n",
       "    </tr>\n",
       "  </tbody>\n",
       "</table>\n",
       "</div>"
      ],
      "text/plain": [
       "                  Model                                               col1  \\\n",
       "0  COCO-DR Base MSMARCO  OpenMatch/cocodr-base-msmarco_query_short_name...   \n",
       "2   RetroMAE MSMARCO FT  Shitao/RetroMAE_MSMARCO_finetune_query_short_n...   \n",
       "3    Contriever MSMARCO  facebook/contriever-msmarco_query_short_namego...   \n",
       "4       Dragon RoBERTa   facebook/dragon-roberta-query-encoder_query_sh...   \n",
       "5              Dragon+   facebook/dragon-plus-query-encoder_query_short...   \n",
       "1    Contriever MSMARCO           facebook/contriever-msmarco_sents_w__dot   \n",
       "2  COCO-DR Base MSMARCO         OpenMatch/cocodr-base-msmarco_sents_w__dot   \n",
       "3       Dragon RoBERTa   facebook/dragon-roberta-query-encoder_sents_w_...   \n",
       "4   RetroMAE MSMARCO FT      Shitao/RetroMAE_MSMARCO_finetune_sents_w__dot   \n",
       "5              Dragon+     facebook/dragon-plus-query-encoder_sents_w__dot   \n",
       "1    Contriever MSMARCO   facebook/contriever-msmarco_sents_more_heads_dot   \n",
       "2  COCO-DR Base MSMARCO  OpenMatch/cocodr-base-msmarco_sents_more_heads...   \n",
       "3              Dragon+   facebook/dragon-plus-query-encoder_sents_more_...   \n",
       "4   RetroMAE MSMARCO FT  Shitao/RetroMAE_MSMARCO_finetune_sents_more_he...   \n",
       "5       Dragon RoBERTa   facebook/dragon-roberta-query-encoder_sents_mo...   \n",
       "1   RetroMAE MSMARCO FT  Shitao/RetroMAE_MSMARCO_finetune_sents_complet...   \n",
       "2              Dragon+   facebook/dragon-plus-query-encoder_sents_compl...   \n",
       "3  COCO-DR Base MSMARCO  OpenMatch/cocodr-base-msmarco_sents_complete_w...   \n",
       "4    Contriever MSMARCO  facebook/contriever-msmarco_sents_complete_w_e...   \n",
       "5       Dragon RoBERTa   facebook/dragon-roberta-query-encoder_sents_co...   \n",
       "1  COCO-DR Base MSMARCO  OpenMatch/cocodr-base-msmarco_sents_evidence_s...   \n",
       "2       Dragon RoBERTa   facebook/dragon-roberta-query-encoder_sents_ev...   \n",
       "3    Contriever MSMARCO  facebook/contriever-msmarco_sents_evidence_sin...   \n",
       "4   RetroMAE MSMARCO FT  Shitao/RetroMAE_MSMARCO_finetune_sents_evidenc...   \n",
       "5              Dragon+   facebook/dragon-plus-query-encoder_sents_evide...   \n",
       "\n",
       "                                                col2  Paired t-Test Statistic  \\\n",
       "0  OpenMatch/cocodr-base-msmarco_query_short_name...                13.518174   \n",
       "2  Shitao/RetroMAE_MSMARCO_finetune_query_short_n...                14.514246   \n",
       "3  facebook/contriever-msmarco_query_short_namego...                14.634827   \n",
       "4  facebook/dragon-roberta-query-encoder_query_sh...                17.077737   \n",
       "5  facebook/dragon-plus-query-encoder_query_short...                17.270524   \n",
       "1          facebook/contriever-msmarco_sents_wo__dot                 7.283307   \n",
       "2        OpenMatch/cocodr-base-msmarco_sents_wo__dot                 8.941154   \n",
       "3  facebook/dragon-roberta-query-encoder_sents_wo...                12.558248   \n",
       "4     Shitao/RetroMAE_MSMARCO_finetune_sents_wo__dot                12.843604   \n",
       "5   facebook/dragon-plus-query-encoder_sents_wo__dot                13.535417   \n",
       "1   facebook/contriever-msmarco_sents_less_heads_dot                 8.036770   \n",
       "2  OpenMatch/cocodr-base-msmarco_sents_less_heads...                 8.862546   \n",
       "3  facebook/dragon-plus-query-encoder_sents_less_...                 9.011765   \n",
       "4  Shitao/RetroMAE_MSMARCO_finetune_sents_less_he...                 9.570196   \n",
       "5  facebook/dragon-roberta-query-encoder_sents_le...                10.039033   \n",
       "1  Shitao/RetroMAE_MSMARCO_finetune_sents_complet...                 5.353745   \n",
       "2  facebook/dragon-plus-query-encoder_sents_compl...                 8.579329   \n",
       "3  OpenMatch/cocodr-base-msmarco_sents_complete_w...                10.468416   \n",
       "4  facebook/contriever-msmarco_sents_complete_w_e...                12.368144   \n",
       "5  facebook/dragon-roberta-query-encoder_sents_co...                17.240926   \n",
       "1  OpenMatch/cocodr-base-msmarco_sents_evidence_d...                11.767294   \n",
       "2  facebook/dragon-roberta-query-encoder_sents_ev...                14.711264   \n",
       "3  facebook/contriever-msmarco_sents_evidence_doc...                15.170213   \n",
       "4  Shitao/RetroMAE_MSMARCO_finetune_sents_evidenc...                16.655576   \n",
       "5  facebook/dragon-plus-query-encoder_sents_evide...                17.574415   \n",
       "\n",
       "   ttest_pvalue  ttest_ci_low  ttest_ci_high  mean_diff  std_diff    n  \\\n",
       "0  1.346745e-31      1.650996       1.650996   2.260753  2.644266  250   \n",
       "2  5.294960e-35      1.650996       1.650996   3.822672  4.164306  250   \n",
       "3  2.042144e-35      1.650996       1.650996   0.211905  0.228941  250   \n",
       "4  8.218781e-44      1.650996       1.650996   4.368895  4.044932  250   \n",
       "5  1.796319e-44      1.650996       1.650996   4.643155  4.250868  250   \n",
       "1  0.000000e+00      1.650996       1.650996   0.084384  0.183190  250   \n",
       "2  8.921397e-17      1.650996       1.650996   1.338612  2.367179  250   \n",
       "3  2.384158e-28      1.650996       1.650996   3.108999  3.914367  250   \n",
       "4  2.608333e-29      1.650996       1.650996   3.296993  4.058833  250   \n",
       "5  1.176481e-31      1.650996       1.650996   3.406869  3.979732  250   \n",
       "1  0.000000e+00      1.650996       1.650996   0.125591  0.247085  250   \n",
       "2  1.526816e-16      1.650996       1.650996   1.721507  3.071286  250   \n",
       "3  5.494934e-17      1.650996       1.650996   3.313456  5.813549  250   \n",
       "4  1.117316e-18      1.650996       1.650996   3.305761  5.461609  250   \n",
       "5  3.921410e-20      1.650996       1.650996   3.373334  5.312972  250   \n",
       "1  1.957000e-07      1.650996       1.650996   0.671721  1.983816  250   \n",
       "2  0.000000e+00      1.650996       1.650996   0.760481  1.401539  250   \n",
       "3  1.724497e-21      1.650996       1.650996   1.223269  1.847613  250   \n",
       "4  1.035151e-27      1.650996       1.650996   0.084006  0.107393  250   \n",
       "5  2.268466e-44      1.650996       1.650996   1.509220  1.384083  250   \n",
       "1  1.035324e-25      1.650996       1.650996   1.594926  2.143058  250   \n",
       "2  1.116011e-35      1.650996       1.650996   3.206692  3.446491  250   \n",
       "3  2.955015e-37      1.650996       1.650996   0.153456  0.159942  250   \n",
       "4  2.307357e-42      1.650996       1.650996   4.103336  3.895359  250   \n",
       "5  1.639933e-45      1.650996       1.650996   3.979974  3.580711  250   \n",
       "\n",
       "                                          test  ttest_ci_low_stats  \\\n",
       "0           Literal Bias ⬇<br>(Exact Matching)                 NaN   \n",
       "2           Literal Bias ⬇<br>(Exact Matching)                 NaN   \n",
       "3           Literal Bias ⬇<br>(Exact Matching)                 NaN   \n",
       "4           Literal Bias ⬇<br>(Exact Matching)                 NaN   \n",
       "5           Literal Bias ⬇<br>(Exact Matching)                 NaN   \n",
       "1    Tail Importance ⬆<br>(Answer's Existence)            0.061565   \n",
       "2    Tail Importance ⬆<br>(Answer's Existence)            1.043746   \n",
       "3    Tail Importance ⬆<br>(Answer's Existence)            2.621408   \n",
       "4    Tail Importance ⬆<br>(Answer's Existence)            2.791407   \n",
       "5    Tail Importance ⬆<br>(Answer's Existence)            2.911136   \n",
       "1  Repetition Bias ⬇<br>(Head Repetition Adv.)                 NaN   \n",
       "2  Repetition Bias ⬇<br>(Head Repetition Adv.)                 NaN   \n",
       "3  Repetition Bias ⬇<br>(Head Repetition Adv.)                 NaN   \n",
       "4  Repetition Bias ⬇<br>(Head Repetition Adv.)                 NaN   \n",
       "5  Repetition Bias ⬇<br>(Head Repetition Adv.)                 NaN   \n",
       "1             Position Bias ⬇<br>(Early Focus)                 NaN   \n",
       "2             Position Bias ⬇<br>(Early Focus)                 NaN   \n",
       "3             Position Bias ⬇<br>(Early Focus)                 NaN   \n",
       "4             Position Bias ⬇<br>(Early Focus)                 NaN   \n",
       "5             Position Bias ⬇<br>(Early Focus)                 NaN   \n",
       "1         Brevity Bias ⬇<br>(Shorter Doc Adv.)            1.327977   \n",
       "2         Brevity Bias ⬇<br>(Shorter Doc Adv.)            2.777381   \n",
       "3         Brevity Bias ⬇<br>(Shorter Doc Adv.)            0.133533   \n",
       "4         Brevity Bias ⬇<br>(Shorter Doc Adv.)            3.618113   \n",
       "5         Brevity Bias ⬇<br>(Shorter Doc Adv.)            3.533944   \n",
       "\n",
       "   ttest_ci_high_stats  standard_ttest_ppf    acc  \n",
       "0                  NaN                 NaN    NaN  \n",
       "2                  NaN                 NaN    NaN  \n",
       "3                  NaN                 NaN    NaN  \n",
       "4                  NaN                 NaN    NaN  \n",
       "5                  NaN                 NaN    NaN  \n",
       "1             0.107203           -1.650996    NaN  \n",
       "2             1.633478           -1.650996    NaN  \n",
       "3             3.596590           -1.650996    NaN  \n",
       "4             3.802580           -1.650996    NaN  \n",
       "5             3.902602           -1.650996    NaN  \n",
       "1                  NaN                 NaN    NaN  \n",
       "2                  NaN                 NaN    NaN  \n",
       "3                  NaN                 NaN    NaN  \n",
       "4                  NaN                 NaN    NaN  \n",
       "5                  NaN                 NaN    NaN  \n",
       "1                  NaN                 NaN    NaN  \n",
       "2                  NaN                 NaN    NaN  \n",
       "3                  NaN                 NaN    NaN  \n",
       "4                  NaN                 NaN    NaN  \n",
       "5                  NaN                 NaN    NaN  \n",
       "1             1.861874           -1.650996  0.804  \n",
       "2             3.636002           -1.650996  0.836  \n",
       "3             0.173379           -1.650996  0.860  \n",
       "4             4.588560           -1.650996  0.904  \n",
       "5             4.426003           -1.650996  0.916  "
      ]
     },
     "execution_count": 7,
     "metadata": {},
     "output_type": "execute_result"
    }
   ],
   "source": [
    "df"
   ]
  },
  {
   "cell_type": "code",
   "execution_count": 6,
   "metadata": {},
   "outputs": [
    {
     "data": {
      "text/html": [
       "<div>\n",
       "<style scoped>\n",
       "    .dataframe tbody tr th:only-of-type {\n",
       "        vertical-align: middle;\n",
       "    }\n",
       "\n",
       "    .dataframe tbody tr th {\n",
       "        vertical-align: top;\n",
       "    }\n",
       "\n",
       "    .dataframe thead th {\n",
       "        text-align: right;\n",
       "    }\n",
       "</style>\n",
       "<table border=\"1\" class=\"dataframe\">\n",
       "  <thead>\n",
       "    <tr style=\"text-align: right;\">\n",
       "      <th></th>\n",
       "      <th>Model</th>\n",
       "      <th>col1</th>\n",
       "      <th>col2</th>\n",
       "      <th>Paired t-Test Statistic</th>\n",
       "      <th>ttest_pvalue</th>\n",
       "      <th>ttest_ci_low_stats</th>\n",
       "      <th>ttest_ci_high_stats</th>\n",
       "      <th>ttest_ci_low</th>\n",
       "      <th>ttest_ci_high</th>\n",
       "      <th>standard_ttest_ppf</th>\n",
       "    </tr>\n",
       "  </thead>\n",
       "  <tbody>\n",
       "    <tr>\n",
       "      <th>0</th>\n",
       "      <td>Contriever</td>\n",
       "      <td>facebook/contriever_sents_complete_w_beginning...</td>\n",
       "      <td>facebook/contriever_sents_complete_wo_beginnin...</td>\n",
       "      <td>-1.857636</td>\n",
       "      <td>6.436886e-02</td>\n",
       "      <td>-0.020429</td>\n",
       "      <td>0.000596</td>\n",
       "      <td>1.650828</td>\n",
       "      <td>1.650828</td>\n",
       "      <td>-1.650828</td>\n",
       "    </tr>\n",
       "    <tr>\n",
       "      <th>1</th>\n",
       "      <td>Contriever MSMARCO</td>\n",
       "      <td>facebook/contriever-msmarco_sents_complete_w_b...</td>\n",
       "      <td>facebook/contriever-msmarco_sents_complete_wo_...</td>\n",
       "      <td>6.700251</td>\n",
       "      <td>1.000000e-10</td>\n",
       "      <td>0.039747</td>\n",
       "      <td>0.072837</td>\n",
       "      <td>1.650828</td>\n",
       "      <td>1.650828</td>\n",
       "      <td>-1.650828</td>\n",
       "    </tr>\n",
       "    <tr>\n",
       "      <th>2</th>\n",
       "      <td>RetroMAE MSMARCO FT</td>\n",
       "      <td>Shitao/RetroMAE_MSMARCO_finetune_sents_complet...</td>\n",
       "      <td>Shitao/RetroMAE_MSMARCO_finetune_sents_complet...</td>\n",
       "      <td>6.882774</td>\n",
       "      <td>0.000000e+00</td>\n",
       "      <td>0.745264</td>\n",
       "      <td>1.342650</td>\n",
       "      <td>1.650828</td>\n",
       "      <td>1.650828</td>\n",
       "      <td>-1.650828</td>\n",
       "    </tr>\n",
       "    <tr>\n",
       "      <th>3</th>\n",
       "      <td>Dragon+</td>\n",
       "      <td>facebook/dragon-plus-query-encoder_sents_compl...</td>\n",
       "      <td>facebook/dragon-plus-query-encoder_sents_compl...</td>\n",
       "      <td>7.569573</td>\n",
       "      <td>0.000000e+00</td>\n",
       "      <td>0.933248</td>\n",
       "      <td>1.589577</td>\n",
       "      <td>1.650828</td>\n",
       "      <td>1.650828</td>\n",
       "      <td>-1.650828</td>\n",
       "    </tr>\n",
       "    <tr>\n",
       "      <th>4</th>\n",
       "      <td>Dragon RoBERTa</td>\n",
       "      <td>facebook/dragon-roberta-query-encoder_sents_co...</td>\n",
       "      <td>facebook/dragon-roberta-query-encoder_sents_co...</td>\n",
       "      <td>7.586317</td>\n",
       "      <td>0.000000e+00</td>\n",
       "      <td>0.914534</td>\n",
       "      <td>1.555786</td>\n",
       "      <td>1.650828</td>\n",
       "      <td>1.650828</td>\n",
       "      <td>-1.650828</td>\n",
       "    </tr>\n",
       "    <tr>\n",
       "      <th>5</th>\n",
       "      <td>COCO-DR Base MSMARCO</td>\n",
       "      <td>OpenMatch/cocodr-base-msmarco_sents_complete_w...</td>\n",
       "      <td>OpenMatch/cocodr-base-msmarco_sents_complete_w...</td>\n",
       "      <td>7.593350</td>\n",
       "      <td>0.000000e+00</td>\n",
       "      <td>0.629336</td>\n",
       "      <td>1.070061</td>\n",
       "      <td>1.650828</td>\n",
       "      <td>1.650828</td>\n",
       "      <td>-1.650828</td>\n",
       "    </tr>\n",
       "  </tbody>\n",
       "</table>\n",
       "</div>"
      ],
      "text/plain": [
       "                  Model                                               col1  \\\n",
       "0           Contriever   facebook/contriever_sents_complete_w_beginning...   \n",
       "1    Contriever MSMARCO  facebook/contriever-msmarco_sents_complete_w_b...   \n",
       "2   RetroMAE MSMARCO FT  Shitao/RetroMAE_MSMARCO_finetune_sents_complet...   \n",
       "3              Dragon+   facebook/dragon-plus-query-encoder_sents_compl...   \n",
       "4       Dragon RoBERTa   facebook/dragon-roberta-query-encoder_sents_co...   \n",
       "5  COCO-DR Base MSMARCO  OpenMatch/cocodr-base-msmarco_sents_complete_w...   \n",
       "\n",
       "                                                col2  Paired t-Test Statistic  \\\n",
       "0  facebook/contriever_sents_complete_wo_beginnin...                -1.857636   \n",
       "1  facebook/contriever-msmarco_sents_complete_wo_...                 6.700251   \n",
       "2  Shitao/RetroMAE_MSMARCO_finetune_sents_complet...                 6.882774   \n",
       "3  facebook/dragon-plus-query-encoder_sents_compl...                 7.569573   \n",
       "4  facebook/dragon-roberta-query-encoder_sents_co...                 7.586317   \n",
       "5  OpenMatch/cocodr-base-msmarco_sents_complete_w...                 7.593350   \n",
       "\n",
       "   ttest_pvalue  ttest_ci_low_stats  ttest_ci_high_stats  ttest_ci_low  \\\n",
       "0  6.436886e-02           -0.020429             0.000596      1.650828   \n",
       "1  1.000000e-10            0.039747             0.072837      1.650828   \n",
       "2  0.000000e+00            0.745264             1.342650      1.650828   \n",
       "3  0.000000e+00            0.933248             1.589577      1.650828   \n",
       "4  0.000000e+00            0.914534             1.555786      1.650828   \n",
       "5  0.000000e+00            0.629336             1.070061      1.650828   \n",
       "\n",
       "   ttest_ci_high  standard_ttest_ppf  \n",
       "0       1.650828           -1.650828  \n",
       "1       1.650828           -1.650828  \n",
       "2       1.650828           -1.650828  \n",
       "3       1.650828           -1.650828  \n",
       "4       1.650828           -1.650828  \n",
       "5       1.650828           -1.650828  "
      ]
     },
     "execution_count": 6,
     "metadata": {},
     "output_type": "execute_result"
    }
   ],
   "source": []
  },
  {
   "cell_type": "code",
   "execution_count": null,
   "metadata": {},
   "outputs": [],
   "source": []
  }
 ],
 "metadata": {
  "kernelspec": {
   "display_name": "mohsen-env",
   "language": "python",
   "name": "python3"
  },
  "language_info": {
   "codemirror_mode": {
    "name": "ipython",
    "version": 3
   },
   "file_extension": ".py",
   "mimetype": "text/x-python",
   "name": "python",
   "nbconvert_exporter": "python",
   "pygments_lexer": "ipython3",
   "version": "3.12.7"
  }
 },
 "nbformat": 4,
 "nbformat_minor": 2
}
