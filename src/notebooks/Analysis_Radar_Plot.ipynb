{
 "cells": [
  {
   "cell_type": "code",
   "execution_count": 1,
   "metadata": {},
   "outputs": [
    {
     "name": "stdout",
     "output_type": "stream",
     "text": [
      "['Contriever ' 'RetroMAE MSMARCO FT' 'Dragon+ ' 'COCO-DR Base MSMARCO'\n",
      " 'Contriever MSMARCO' 'Dragon RoBERTa ']\n"
     ]
    },
    {
     "data": {
      "text/html": [
       "<div>\n",
       "<style scoped>\n",
       "    .dataframe tbody tr th:only-of-type {\n",
       "        vertical-align: middle;\n",
       "    }\n",
       "\n",
       "    .dataframe tbody tr th {\n",
       "        vertical-align: top;\n",
       "    }\n",
       "\n",
       "    .dataframe thead th {\n",
       "        text-align: right;\n",
       "    }\n",
       "</style>\n",
       "<table border=\"1\" class=\"dataframe\">\n",
       "  <thead>\n",
       "    <tr style=\"text-align: right;\">\n",
       "      <th></th>\n",
       "      <th>Model</th>\n",
       "      <th>col1</th>\n",
       "      <th>col2</th>\n",
       "      <th>Paired t-Test Statistic</th>\n",
       "      <th>ttest_pvalue</th>\n",
       "      <th>ttest_ci_low</th>\n",
       "      <th>ttest_ci_high</th>\n",
       "      <th>test</th>\n",
       "      <th>ttest_ci_low_stats</th>\n",
       "      <th>ttest_ci_high_stats</th>\n",
       "      <th>standard_ttest_ppf</th>\n",
       "    </tr>\n",
       "  </thead>\n",
       "  <tbody>\n",
       "    <tr>\n",
       "      <th>0</th>\n",
       "      <td>Contriever</td>\n",
       "      <td>facebook/contriever_sents_complete_w_evidence_...</td>\n",
       "      <td>facebook/contriever_sents_complete_w_evidence_...</td>\n",
       "      <td>7.146336</td>\n",
       "      <td>0.0</td>\n",
       "      <td>1.645476</td>\n",
       "      <td>1.645476</td>\n",
       "      <td>Position Bias ⬇&lt;br&gt;(Early Focus)</td>\n",
       "      <td>NaN</td>\n",
       "      <td>NaN</td>\n",
       "      <td>NaN</td>\n",
       "    </tr>\n",
       "  </tbody>\n",
       "</table>\n",
       "</div>"
      ],
      "text/plain": [
       "         Model                                               col1  \\\n",
       "0  Contriever   facebook/contriever_sents_complete_w_evidence_...   \n",
       "\n",
       "                                                col2  Paired t-Test Statistic  \\\n",
       "0  facebook/contriever_sents_complete_w_evidence_...                 7.146336   \n",
       "\n",
       "   ttest_pvalue  ttest_ci_low  ttest_ci_high  \\\n",
       "0           0.0      1.645476       1.645476   \n",
       "\n",
       "                               test  ttest_ci_low_stats  ttest_ci_high_stats  \\\n",
       "0  Position Bias ⬇<br>(Early Focus)                 NaN                  NaN   \n",
       "\n",
       "   standard_ttest_ppf  \n",
       "0                 NaN  "
      ]
     },
     "execution_count": 1,
     "metadata": {},
     "output_type": "execute_result"
    }
   ],
   "source": [
    "import pandas as pd\n",
    "df = pd.DataFrame()\n",
    "\n",
    "df2 = pd.read_json(\"results/position_df.json\")\n",
    "df2[\"test\"] = \"Position Bias ⬇<br>(Early Focus)\"\n",
    "df = pd.concat([df, df2])\n",
    "\n",
    "df2 = pd.read_json(\"results/tail_df.json\")\n",
    "df2[\"test\"] = \"Tail Importance ⬆<br>(Answer's Existence)\"\n",
    "df = pd.concat([df, df2])\n",
    "\n",
    "df2 = pd.read_json(\"results/repetition_df.json\")\n",
    "df2[\"test\"] = \"Repetition Bias ⬇<br>(Head Repetition Advantage)\"\n",
    "df = pd.concat([df, df2])\n",
    "\n",
    "df2 = pd.read_json(\"results/literal_df.json\")\n",
    "df2[\"test\"] = \"Literal Bias ⬇<br>(Exact Match)\"\n",
    "df = pd.concat([df, df2])\n",
    "\n",
    "print(df[\"Model\"].unique())\n",
    "df.head(1)"
   ]
  },
  {
   "cell_type": "code",
   "execution_count": 4,
   "metadata": {},
   "outputs": [
    {
     "data": {
      "application/vnd.plotly.v1+json": {
       "config": {
        "plotlyServerURL": "https://plot.ly"
       },
       "data": [
        {
         "hovertemplate": "Model=Dragon RoBERTa <br>Paired t-Test Statistic=%{r}<br>test=%{theta}<extra></extra>",
         "legendgroup": "Dragon RoBERTa ",
         "line": {
          "color": "#636efa",
          "dash": "solid",
          "width": 3
         },
         "marker": {
          "size": 10,
          "symbol": "circle"
         },
         "mode": "lines+markers",
         "name": "Dragon RoBERTa ",
         "r": [
          44.5601125662,
          7.5863167269,
          16.4895309078,
          45.8449717794,
          44.5601125662
         ],
         "showlegend": true,
         "subplot": "polar",
         "theta": [
          "Position Bias ⬇<br>(Early Focus)",
          "Tail Importance ⬆<br>(Answer's Existence)",
          "Repetition Bias ⬇<br>(Head Repetition Advantage)",
          "Literal Bias ⬇<br>(Exact Match)",
          "Position Bias ⬇<br>(Early Focus)"
         ],
         "type": "scatterpolar"
        },
        {
         "hovertemplate": "Model=Dragon+ <br>Paired t-Test Statistic=%{r}<br>test=%{theta}<extra></extra>",
         "legendgroup": "Dragon+ ",
         "line": {
          "color": "#EF553B",
          "dash": "solid",
          "width": 3
         },
         "marker": {
          "size": 10,
          "symbol": "circle"
         },
         "mode": "lines+markers",
         "name": "Dragon+ ",
         "r": [
          23.1985640552,
          7.5695732427,
          15.220562046,
          46.3546823483,
          23.1985640552
         ],
         "showlegend": true,
         "subplot": "polar",
         "theta": [
          "Position Bias ⬇<br>(Early Focus)",
          "Tail Importance ⬆<br>(Answer's Existence)",
          "Repetition Bias ⬇<br>(Head Repetition Advantage)",
          "Literal Bias ⬇<br>(Exact Match)",
          "Position Bias ⬇<br>(Early Focus)"
         ],
         "type": "scatterpolar"
        },
        {
         "hovertemplate": "Model=Contriever <br>Paired t-Test Statistic=%{r}<br>test=%{theta}<extra></extra>",
         "legendgroup": "Contriever ",
         "line": {
          "color": "#00cc96",
          "dash": "solid",
          "width": 3
         },
         "marker": {
          "size": 10,
          "symbol": "circle"
         },
         "mode": "lines+markers",
         "name": "Contriever ",
         "r": [
          7.1463359292,
          -1.8576363309000001,
          14.3116917827,
          39.141546498,
          7.1463359292
         ],
         "showlegend": true,
         "subplot": "polar",
         "theta": [
          "Position Bias ⬇<br>(Early Focus)",
          "Tail Importance ⬆<br>(Answer's Existence)",
          "Repetition Bias ⬇<br>(Head Repetition Advantage)",
          "Literal Bias ⬇<br>(Exact Match)",
          "Position Bias ⬇<br>(Early Focus)"
         ],
         "type": "scatterpolar"
        },
        {
         "hovertemplate": "Model=Contriever MSMARCO<br>Paired t-Test Statistic=%{r}<br>test=%{theta}<extra></extra>",
         "legendgroup": "Contriever MSMARCO",
         "line": {
          "color": "#ab63fa",
          "dash": "solid",
          "width": 3
         },
         "marker": {
          "size": 10,
          "symbol": "circle"
         },
         "mode": "lines+markers",
         "name": "Contriever MSMARCO",
         "r": [
          30.7344451699,
          6.7002512567,
          13.4681850376,
          40.3270749106,
          30.7344451699
         ],
         "showlegend": true,
         "subplot": "polar",
         "theta": [
          "Position Bias ⬇<br>(Early Focus)",
          "Tail Importance ⬆<br>(Answer's Existence)",
          "Repetition Bias ⬇<br>(Head Repetition Advantage)",
          "Literal Bias ⬇<br>(Exact Match)",
          "Position Bias ⬇<br>(Early Focus)"
         ],
         "type": "scatterpolar"
        },
        {
         "hovertemplate": "Model=RetroMAE MSMARCO FT<br>Paired t-Test Statistic=%{r}<br>test=%{theta}<extra></extra>",
         "legendgroup": "RetroMAE MSMARCO FT",
         "line": {
          "color": "#FFA15A",
          "dash": "solid",
          "width": 3
         },
         "marker": {
          "size": 10,
          "symbol": "circle"
         },
         "mode": "lines+markers",
         "name": "RetroMAE MSMARCO FT",
         "r": [
          17.2078699269,
          6.8827744498,
          16.669558939,
          39.1376730105,
          17.2078699269
         ],
         "showlegend": true,
         "subplot": "polar",
         "theta": [
          "Position Bias ⬇<br>(Early Focus)",
          "Tail Importance ⬆<br>(Answer's Existence)",
          "Repetition Bias ⬇<br>(Head Repetition Advantage)",
          "Literal Bias ⬇<br>(Exact Match)",
          "Position Bias ⬇<br>(Early Focus)"
         ],
         "type": "scatterpolar"
        },
        {
         "hovertemplate": "Model=COCO-DR Base MSMARCO<br>Paired t-Test Statistic=%{r}<br>test=%{theta}<extra></extra>",
         "legendgroup": "COCO-DR Base MSMARCO",
         "line": {
          "color": "#19d3f3",
          "dash": "solid",
          "width": 3
         },
         "marker": {
          "size": 10,
          "symbol": "circle"
         },
         "mode": "lines+markers",
         "name": "COCO-DR Base MSMARCO",
         "r": [
          28.1693444537,
          7.5933501944,
          14.2570714079,
          37.4146846772,
          28.1693444537
         ],
         "showlegend": true,
         "subplot": "polar",
         "theta": [
          "Position Bias ⬇<br>(Early Focus)",
          "Tail Importance ⬆<br>(Answer's Existence)",
          "Repetition Bias ⬇<br>(Head Repetition Advantage)",
          "Literal Bias ⬇<br>(Exact Match)",
          "Position Bias ⬇<br>(Early Focus)"
         ],
         "type": "scatterpolar"
        }
       ],
       "layout": {
        "height": 350,
        "legend": {
         "title": {
          "text": "Model"
         },
         "tracegroupgap": 0,
         "x": 0.82,
         "xanchor": "left",
         "y": 0.6,
         "yanchor": "bottom"
        },
        "margin": {
         "t": 60
        },
        "polar": {
         "angularaxis": {
          "direction": "clockwise",
          "rotation": 90,
          "tickfont": {
           "weight": "bold"
          }
         },
         "domain": {
          "x": [
           0,
           1
          ],
          "y": [
           0,
           1
          ]
         }
        },
        "template": {
         "data": {
          "bar": [
           {
            "error_x": {
             "color": "#2a3f5f"
            },
            "error_y": {
             "color": "#2a3f5f"
            },
            "marker": {
             "line": {
              "color": "#E5ECF6",
              "width": 0.5
             },
             "pattern": {
              "fillmode": "overlay",
              "size": 10,
              "solidity": 0.2
             }
            },
            "type": "bar"
           }
          ],
          "barpolar": [
           {
            "marker": {
             "line": {
              "color": "#E5ECF6",
              "width": 0.5
             },
             "pattern": {
              "fillmode": "overlay",
              "size": 10,
              "solidity": 0.2
             }
            },
            "type": "barpolar"
           }
          ],
          "carpet": [
           {
            "aaxis": {
             "endlinecolor": "#2a3f5f",
             "gridcolor": "white",
             "linecolor": "white",
             "minorgridcolor": "white",
             "startlinecolor": "#2a3f5f"
            },
            "baxis": {
             "endlinecolor": "#2a3f5f",
             "gridcolor": "white",
             "linecolor": "white",
             "minorgridcolor": "white",
             "startlinecolor": "#2a3f5f"
            },
            "type": "carpet"
           }
          ],
          "choropleth": [
           {
            "colorbar": {
             "outlinewidth": 0,
             "ticks": ""
            },
            "type": "choropleth"
           }
          ],
          "contour": [
           {
            "colorbar": {
             "outlinewidth": 0,
             "ticks": ""
            },
            "colorscale": [
             [
              0,
              "#0d0887"
             ],
             [
              0.1111111111111111,
              "#46039f"
             ],
             [
              0.2222222222222222,
              "#7201a8"
             ],
             [
              0.3333333333333333,
              "#9c179e"
             ],
             [
              0.4444444444444444,
              "#bd3786"
             ],
             [
              0.5555555555555556,
              "#d8576b"
             ],
             [
              0.6666666666666666,
              "#ed7953"
             ],
             [
              0.7777777777777778,
              "#fb9f3a"
             ],
             [
              0.8888888888888888,
              "#fdca26"
             ],
             [
              1,
              "#f0f921"
             ]
            ],
            "type": "contour"
           }
          ],
          "contourcarpet": [
           {
            "colorbar": {
             "outlinewidth": 0,
             "ticks": ""
            },
            "type": "contourcarpet"
           }
          ],
          "heatmap": [
           {
            "colorbar": {
             "outlinewidth": 0,
             "ticks": ""
            },
            "colorscale": [
             [
              0,
              "#0d0887"
             ],
             [
              0.1111111111111111,
              "#46039f"
             ],
             [
              0.2222222222222222,
              "#7201a8"
             ],
             [
              0.3333333333333333,
              "#9c179e"
             ],
             [
              0.4444444444444444,
              "#bd3786"
             ],
             [
              0.5555555555555556,
              "#d8576b"
             ],
             [
              0.6666666666666666,
              "#ed7953"
             ],
             [
              0.7777777777777778,
              "#fb9f3a"
             ],
             [
              0.8888888888888888,
              "#fdca26"
             ],
             [
              1,
              "#f0f921"
             ]
            ],
            "type": "heatmap"
           }
          ],
          "heatmapgl": [
           {
            "colorbar": {
             "outlinewidth": 0,
             "ticks": ""
            },
            "colorscale": [
             [
              0,
              "#0d0887"
             ],
             [
              0.1111111111111111,
              "#46039f"
             ],
             [
              0.2222222222222222,
              "#7201a8"
             ],
             [
              0.3333333333333333,
              "#9c179e"
             ],
             [
              0.4444444444444444,
              "#bd3786"
             ],
             [
              0.5555555555555556,
              "#d8576b"
             ],
             [
              0.6666666666666666,
              "#ed7953"
             ],
             [
              0.7777777777777778,
              "#fb9f3a"
             ],
             [
              0.8888888888888888,
              "#fdca26"
             ],
             [
              1,
              "#f0f921"
             ]
            ],
            "type": "heatmapgl"
           }
          ],
          "histogram": [
           {
            "marker": {
             "pattern": {
              "fillmode": "overlay",
              "size": 10,
              "solidity": 0.2
             }
            },
            "type": "histogram"
           }
          ],
          "histogram2d": [
           {
            "colorbar": {
             "outlinewidth": 0,
             "ticks": ""
            },
            "colorscale": [
             [
              0,
              "#0d0887"
             ],
             [
              0.1111111111111111,
              "#46039f"
             ],
             [
              0.2222222222222222,
              "#7201a8"
             ],
             [
              0.3333333333333333,
              "#9c179e"
             ],
             [
              0.4444444444444444,
              "#bd3786"
             ],
             [
              0.5555555555555556,
              "#d8576b"
             ],
             [
              0.6666666666666666,
              "#ed7953"
             ],
             [
              0.7777777777777778,
              "#fb9f3a"
             ],
             [
              0.8888888888888888,
              "#fdca26"
             ],
             [
              1,
              "#f0f921"
             ]
            ],
            "type": "histogram2d"
           }
          ],
          "histogram2dcontour": [
           {
            "colorbar": {
             "outlinewidth": 0,
             "ticks": ""
            },
            "colorscale": [
             [
              0,
              "#0d0887"
             ],
             [
              0.1111111111111111,
              "#46039f"
             ],
             [
              0.2222222222222222,
              "#7201a8"
             ],
             [
              0.3333333333333333,
              "#9c179e"
             ],
             [
              0.4444444444444444,
              "#bd3786"
             ],
             [
              0.5555555555555556,
              "#d8576b"
             ],
             [
              0.6666666666666666,
              "#ed7953"
             ],
             [
              0.7777777777777778,
              "#fb9f3a"
             ],
             [
              0.8888888888888888,
              "#fdca26"
             ],
             [
              1,
              "#f0f921"
             ]
            ],
            "type": "histogram2dcontour"
           }
          ],
          "mesh3d": [
           {
            "colorbar": {
             "outlinewidth": 0,
             "ticks": ""
            },
            "type": "mesh3d"
           }
          ],
          "parcoords": [
           {
            "line": {
             "colorbar": {
              "outlinewidth": 0,
              "ticks": ""
             }
            },
            "type": "parcoords"
           }
          ],
          "pie": [
           {
            "automargin": true,
            "type": "pie"
           }
          ],
          "scatter": [
           {
            "fillpattern": {
             "fillmode": "overlay",
             "size": 10,
             "solidity": 0.2
            },
            "type": "scatter"
           }
          ],
          "scatter3d": [
           {
            "line": {
             "colorbar": {
              "outlinewidth": 0,
              "ticks": ""
             }
            },
            "marker": {
             "colorbar": {
              "outlinewidth": 0,
              "ticks": ""
             }
            },
            "type": "scatter3d"
           }
          ],
          "scattercarpet": [
           {
            "marker": {
             "colorbar": {
              "outlinewidth": 0,
              "ticks": ""
             }
            },
            "type": "scattercarpet"
           }
          ],
          "scattergeo": [
           {
            "marker": {
             "colorbar": {
              "outlinewidth": 0,
              "ticks": ""
             }
            },
            "type": "scattergeo"
           }
          ],
          "scattergl": [
           {
            "marker": {
             "colorbar": {
              "outlinewidth": 0,
              "ticks": ""
             }
            },
            "type": "scattergl"
           }
          ],
          "scattermapbox": [
           {
            "marker": {
             "colorbar": {
              "outlinewidth": 0,
              "ticks": ""
             }
            },
            "type": "scattermapbox"
           }
          ],
          "scatterpolar": [
           {
            "marker": {
             "colorbar": {
              "outlinewidth": 0,
              "ticks": ""
             }
            },
            "type": "scatterpolar"
           }
          ],
          "scatterpolargl": [
           {
            "marker": {
             "colorbar": {
              "outlinewidth": 0,
              "ticks": ""
             }
            },
            "type": "scatterpolargl"
           }
          ],
          "scatterternary": [
           {
            "marker": {
             "colorbar": {
              "outlinewidth": 0,
              "ticks": ""
             }
            },
            "type": "scatterternary"
           }
          ],
          "surface": [
           {
            "colorbar": {
             "outlinewidth": 0,
             "ticks": ""
            },
            "colorscale": [
             [
              0,
              "#0d0887"
             ],
             [
              0.1111111111111111,
              "#46039f"
             ],
             [
              0.2222222222222222,
              "#7201a8"
             ],
             [
              0.3333333333333333,
              "#9c179e"
             ],
             [
              0.4444444444444444,
              "#bd3786"
             ],
             [
              0.5555555555555556,
              "#d8576b"
             ],
             [
              0.6666666666666666,
              "#ed7953"
             ],
             [
              0.7777777777777778,
              "#fb9f3a"
             ],
             [
              0.8888888888888888,
              "#fdca26"
             ],
             [
              1,
              "#f0f921"
             ]
            ],
            "type": "surface"
           }
          ],
          "table": [
           {
            "cells": {
             "fill": {
              "color": "#EBF0F8"
             },
             "line": {
              "color": "white"
             }
            },
            "header": {
             "fill": {
              "color": "#C8D4E3"
             },
             "line": {
              "color": "white"
             }
            },
            "type": "table"
           }
          ]
         },
         "layout": {
          "annotationdefaults": {
           "arrowcolor": "#2a3f5f",
           "arrowhead": 0,
           "arrowwidth": 1
          },
          "autotypenumbers": "strict",
          "coloraxis": {
           "colorbar": {
            "outlinewidth": 0,
            "ticks": ""
           }
          },
          "colorscale": {
           "diverging": [
            [
             0,
             "#8e0152"
            ],
            [
             0.1,
             "#c51b7d"
            ],
            [
             0.2,
             "#de77ae"
            ],
            [
             0.3,
             "#f1b6da"
            ],
            [
             0.4,
             "#fde0ef"
            ],
            [
             0.5,
             "#f7f7f7"
            ],
            [
             0.6,
             "#e6f5d0"
            ],
            [
             0.7,
             "#b8e186"
            ],
            [
             0.8,
             "#7fbc41"
            ],
            [
             0.9,
             "#4d9221"
            ],
            [
             1,
             "#276419"
            ]
           ],
           "sequential": [
            [
             0,
             "#0d0887"
            ],
            [
             0.1111111111111111,
             "#46039f"
            ],
            [
             0.2222222222222222,
             "#7201a8"
            ],
            [
             0.3333333333333333,
             "#9c179e"
            ],
            [
             0.4444444444444444,
             "#bd3786"
            ],
            [
             0.5555555555555556,
             "#d8576b"
            ],
            [
             0.6666666666666666,
             "#ed7953"
            ],
            [
             0.7777777777777778,
             "#fb9f3a"
            ],
            [
             0.8888888888888888,
             "#fdca26"
            ],
            [
             1,
             "#f0f921"
            ]
           ],
           "sequentialminus": [
            [
             0,
             "#0d0887"
            ],
            [
             0.1111111111111111,
             "#46039f"
            ],
            [
             0.2222222222222222,
             "#7201a8"
            ],
            [
             0.3333333333333333,
             "#9c179e"
            ],
            [
             0.4444444444444444,
             "#bd3786"
            ],
            [
             0.5555555555555556,
             "#d8576b"
            ],
            [
             0.6666666666666666,
             "#ed7953"
            ],
            [
             0.7777777777777778,
             "#fb9f3a"
            ],
            [
             0.8888888888888888,
             "#fdca26"
            ],
            [
             1,
             "#f0f921"
            ]
           ]
          },
          "colorway": [
           "#636efa",
           "#EF553B",
           "#00cc96",
           "#ab63fa",
           "#FFA15A",
           "#19d3f3",
           "#FF6692",
           "#B6E880",
           "#FF97FF",
           "#FECB52"
          ],
          "font": {
           "color": "#2a3f5f"
          },
          "geo": {
           "bgcolor": "white",
           "lakecolor": "white",
           "landcolor": "#E5ECF6",
           "showlakes": true,
           "showland": true,
           "subunitcolor": "white"
          },
          "hoverlabel": {
           "align": "left"
          },
          "hovermode": "closest",
          "mapbox": {
           "style": "light"
          },
          "paper_bgcolor": "white",
          "plot_bgcolor": "#E5ECF6",
          "polar": {
           "angularaxis": {
            "gridcolor": "white",
            "linecolor": "white",
            "ticks": ""
           },
           "bgcolor": "#E5ECF6",
           "radialaxis": {
            "gridcolor": "white",
            "linecolor": "white",
            "ticks": ""
           }
          },
          "scene": {
           "xaxis": {
            "backgroundcolor": "#E5ECF6",
            "gridcolor": "white",
            "gridwidth": 2,
            "linecolor": "white",
            "showbackground": true,
            "ticks": "",
            "zerolinecolor": "white"
           },
           "yaxis": {
            "backgroundcolor": "#E5ECF6",
            "gridcolor": "white",
            "gridwidth": 2,
            "linecolor": "white",
            "showbackground": true,
            "ticks": "",
            "zerolinecolor": "white"
           },
           "zaxis": {
            "backgroundcolor": "#E5ECF6",
            "gridcolor": "white",
            "gridwidth": 2,
            "linecolor": "white",
            "showbackground": true,
            "ticks": "",
            "zerolinecolor": "white"
           }
          },
          "shapedefaults": {
           "line": {
            "color": "#2a3f5f"
           }
          },
          "ternary": {
           "aaxis": {
            "gridcolor": "white",
            "linecolor": "white",
            "ticks": ""
           },
           "baxis": {
            "gridcolor": "white",
            "linecolor": "white",
            "ticks": ""
           },
           "bgcolor": "#E5ECF6",
           "caxis": {
            "gridcolor": "white",
            "linecolor": "white",
            "ticks": ""
           }
          },
          "title": {
           "x": 0.05
          },
          "xaxis": {
           "automargin": true,
           "gridcolor": "white",
           "linecolor": "white",
           "ticks": "",
           "title": {
            "standoff": 15
           },
           "zerolinecolor": "white",
           "zerolinewidth": 2
          },
          "yaxis": {
           "automargin": true,
           "gridcolor": "white",
           "linecolor": "white",
           "ticks": "",
           "title": {
            "standoff": 15
           },
           "zerolinecolor": "white",
           "zerolinewidth": 2
          }
         }
        },
        "width": 550
       }
      },
      "text/html": [
       "<div>                            <div id=\"ec0f01e7-06b4-4588-89f4-82298748e118\" class=\"plotly-graph-div\" style=\"height:350px; width:550px;\"></div>            <script type=\"text/javascript\">                require([\"plotly\"], function(Plotly) {                    window.PLOTLYENV=window.PLOTLYENV || {};                                    if (document.getElementById(\"ec0f01e7-06b4-4588-89f4-82298748e118\")) {                    Plotly.newPlot(                        \"ec0f01e7-06b4-4588-89f4-82298748e118\",                        [{\"hovertemplate\":\"Model=Dragon RoBERTa \\u003cbr\\u003ePaired t-Test Statistic=%{r}\\u003cbr\\u003etest=%{theta}\\u003cextra\\u003e\\u003c\\u002fextra\\u003e\",\"legendgroup\":\"Dragon RoBERTa \",\"line\":{\"color\":\"#636efa\",\"dash\":\"solid\",\"width\":3},\"marker\":{\"symbol\":\"circle\",\"size\":10},\"mode\":\"lines+markers\",\"name\":\"Dragon RoBERTa \",\"r\":[44.5601125662,7.5863167269,16.4895309078,45.8449717794,44.5601125662],\"showlegend\":true,\"subplot\":\"polar\",\"theta\":[\"Position Bias \\u2b07\\u003cbr\\u003e(Early Focus)\",\"Tail Importance \\u2b06\\u003cbr\\u003e(Answer's Existence)\",\"Repetition Bias \\u2b07\\u003cbr\\u003e(Head Repetition Advantage)\",\"Literal Bias \\u2b07\\u003cbr\\u003e(Exact Match)\",\"Position Bias \\u2b07\\u003cbr\\u003e(Early Focus)\"],\"type\":\"scatterpolar\"},{\"hovertemplate\":\"Model=Dragon+ \\u003cbr\\u003ePaired t-Test Statistic=%{r}\\u003cbr\\u003etest=%{theta}\\u003cextra\\u003e\\u003c\\u002fextra\\u003e\",\"legendgroup\":\"Dragon+ \",\"line\":{\"color\":\"#EF553B\",\"dash\":\"solid\",\"width\":3},\"marker\":{\"symbol\":\"circle\",\"size\":10},\"mode\":\"lines+markers\",\"name\":\"Dragon+ \",\"r\":[23.1985640552,7.5695732427,15.220562046,46.3546823483,23.1985640552],\"showlegend\":true,\"subplot\":\"polar\",\"theta\":[\"Position Bias \\u2b07\\u003cbr\\u003e(Early Focus)\",\"Tail Importance \\u2b06\\u003cbr\\u003e(Answer's Existence)\",\"Repetition Bias \\u2b07\\u003cbr\\u003e(Head Repetition Advantage)\",\"Literal Bias \\u2b07\\u003cbr\\u003e(Exact Match)\",\"Position Bias \\u2b07\\u003cbr\\u003e(Early Focus)\"],\"type\":\"scatterpolar\"},{\"hovertemplate\":\"Model=Contriever \\u003cbr\\u003ePaired t-Test Statistic=%{r}\\u003cbr\\u003etest=%{theta}\\u003cextra\\u003e\\u003c\\u002fextra\\u003e\",\"legendgroup\":\"Contriever \",\"line\":{\"color\":\"#00cc96\",\"dash\":\"solid\",\"width\":3},\"marker\":{\"symbol\":\"circle\",\"size\":10},\"mode\":\"lines+markers\",\"name\":\"Contriever \",\"r\":[7.1463359292,-1.8576363309000001,14.3116917827,39.141546498,7.1463359292],\"showlegend\":true,\"subplot\":\"polar\",\"theta\":[\"Position Bias \\u2b07\\u003cbr\\u003e(Early Focus)\",\"Tail Importance \\u2b06\\u003cbr\\u003e(Answer's Existence)\",\"Repetition Bias \\u2b07\\u003cbr\\u003e(Head Repetition Advantage)\",\"Literal Bias \\u2b07\\u003cbr\\u003e(Exact Match)\",\"Position Bias \\u2b07\\u003cbr\\u003e(Early Focus)\"],\"type\":\"scatterpolar\"},{\"hovertemplate\":\"Model=Contriever MSMARCO\\u003cbr\\u003ePaired t-Test Statistic=%{r}\\u003cbr\\u003etest=%{theta}\\u003cextra\\u003e\\u003c\\u002fextra\\u003e\",\"legendgroup\":\"Contriever MSMARCO\",\"line\":{\"color\":\"#ab63fa\",\"dash\":\"solid\",\"width\":3},\"marker\":{\"symbol\":\"circle\",\"size\":10},\"mode\":\"lines+markers\",\"name\":\"Contriever MSMARCO\",\"r\":[30.7344451699,6.7002512567,13.4681850376,40.3270749106,30.7344451699],\"showlegend\":true,\"subplot\":\"polar\",\"theta\":[\"Position Bias \\u2b07\\u003cbr\\u003e(Early Focus)\",\"Tail Importance \\u2b06\\u003cbr\\u003e(Answer's Existence)\",\"Repetition Bias \\u2b07\\u003cbr\\u003e(Head Repetition Advantage)\",\"Literal Bias \\u2b07\\u003cbr\\u003e(Exact Match)\",\"Position Bias \\u2b07\\u003cbr\\u003e(Early Focus)\"],\"type\":\"scatterpolar\"},{\"hovertemplate\":\"Model=RetroMAE MSMARCO FT\\u003cbr\\u003ePaired t-Test Statistic=%{r}\\u003cbr\\u003etest=%{theta}\\u003cextra\\u003e\\u003c\\u002fextra\\u003e\",\"legendgroup\":\"RetroMAE MSMARCO FT\",\"line\":{\"color\":\"#FFA15A\",\"dash\":\"solid\",\"width\":3},\"marker\":{\"symbol\":\"circle\",\"size\":10},\"mode\":\"lines+markers\",\"name\":\"RetroMAE MSMARCO FT\",\"r\":[17.2078699269,6.8827744498,16.669558939,39.1376730105,17.2078699269],\"showlegend\":true,\"subplot\":\"polar\",\"theta\":[\"Position Bias \\u2b07\\u003cbr\\u003e(Early Focus)\",\"Tail Importance \\u2b06\\u003cbr\\u003e(Answer's Existence)\",\"Repetition Bias \\u2b07\\u003cbr\\u003e(Head Repetition Advantage)\",\"Literal Bias \\u2b07\\u003cbr\\u003e(Exact Match)\",\"Position Bias \\u2b07\\u003cbr\\u003e(Early Focus)\"],\"type\":\"scatterpolar\"},{\"hovertemplate\":\"Model=COCO-DR Base MSMARCO\\u003cbr\\u003ePaired t-Test Statistic=%{r}\\u003cbr\\u003etest=%{theta}\\u003cextra\\u003e\\u003c\\u002fextra\\u003e\",\"legendgroup\":\"COCO-DR Base MSMARCO\",\"line\":{\"color\":\"#19d3f3\",\"dash\":\"solid\",\"width\":3},\"marker\":{\"symbol\":\"circle\",\"size\":10},\"mode\":\"lines+markers\",\"name\":\"COCO-DR Base MSMARCO\",\"r\":[28.1693444537,7.5933501944,14.2570714079,37.4146846772,28.1693444537],\"showlegend\":true,\"subplot\":\"polar\",\"theta\":[\"Position Bias \\u2b07\\u003cbr\\u003e(Early Focus)\",\"Tail Importance \\u2b06\\u003cbr\\u003e(Answer's Existence)\",\"Repetition Bias \\u2b07\\u003cbr\\u003e(Head Repetition Advantage)\",\"Literal Bias \\u2b07\\u003cbr\\u003e(Exact Match)\",\"Position Bias \\u2b07\\u003cbr\\u003e(Early Focus)\"],\"type\":\"scatterpolar\"}],                        {\"template\":{\"data\":{\"histogram2dcontour\":[{\"type\":\"histogram2dcontour\",\"colorbar\":{\"outlinewidth\":0,\"ticks\":\"\"},\"colorscale\":[[0.0,\"#0d0887\"],[0.1111111111111111,\"#46039f\"],[0.2222222222222222,\"#7201a8\"],[0.3333333333333333,\"#9c179e\"],[0.4444444444444444,\"#bd3786\"],[0.5555555555555556,\"#d8576b\"],[0.6666666666666666,\"#ed7953\"],[0.7777777777777778,\"#fb9f3a\"],[0.8888888888888888,\"#fdca26\"],[1.0,\"#f0f921\"]]}],\"choropleth\":[{\"type\":\"choropleth\",\"colorbar\":{\"outlinewidth\":0,\"ticks\":\"\"}}],\"histogram2d\":[{\"type\":\"histogram2d\",\"colorbar\":{\"outlinewidth\":0,\"ticks\":\"\"},\"colorscale\":[[0.0,\"#0d0887\"],[0.1111111111111111,\"#46039f\"],[0.2222222222222222,\"#7201a8\"],[0.3333333333333333,\"#9c179e\"],[0.4444444444444444,\"#bd3786\"],[0.5555555555555556,\"#d8576b\"],[0.6666666666666666,\"#ed7953\"],[0.7777777777777778,\"#fb9f3a\"],[0.8888888888888888,\"#fdca26\"],[1.0,\"#f0f921\"]]}],\"heatmap\":[{\"type\":\"heatmap\",\"colorbar\":{\"outlinewidth\":0,\"ticks\":\"\"},\"colorscale\":[[0.0,\"#0d0887\"],[0.1111111111111111,\"#46039f\"],[0.2222222222222222,\"#7201a8\"],[0.3333333333333333,\"#9c179e\"],[0.4444444444444444,\"#bd3786\"],[0.5555555555555556,\"#d8576b\"],[0.6666666666666666,\"#ed7953\"],[0.7777777777777778,\"#fb9f3a\"],[0.8888888888888888,\"#fdca26\"],[1.0,\"#f0f921\"]]}],\"heatmapgl\":[{\"type\":\"heatmapgl\",\"colorbar\":{\"outlinewidth\":0,\"ticks\":\"\"},\"colorscale\":[[0.0,\"#0d0887\"],[0.1111111111111111,\"#46039f\"],[0.2222222222222222,\"#7201a8\"],[0.3333333333333333,\"#9c179e\"],[0.4444444444444444,\"#bd3786\"],[0.5555555555555556,\"#d8576b\"],[0.6666666666666666,\"#ed7953\"],[0.7777777777777778,\"#fb9f3a\"],[0.8888888888888888,\"#fdca26\"],[1.0,\"#f0f921\"]]}],\"contourcarpet\":[{\"type\":\"contourcarpet\",\"colorbar\":{\"outlinewidth\":0,\"ticks\":\"\"}}],\"contour\":[{\"type\":\"contour\",\"colorbar\":{\"outlinewidth\":0,\"ticks\":\"\"},\"colorscale\":[[0.0,\"#0d0887\"],[0.1111111111111111,\"#46039f\"],[0.2222222222222222,\"#7201a8\"],[0.3333333333333333,\"#9c179e\"],[0.4444444444444444,\"#bd3786\"],[0.5555555555555556,\"#d8576b\"],[0.6666666666666666,\"#ed7953\"],[0.7777777777777778,\"#fb9f3a\"],[0.8888888888888888,\"#fdca26\"],[1.0,\"#f0f921\"]]}],\"surface\":[{\"type\":\"surface\",\"colorbar\":{\"outlinewidth\":0,\"ticks\":\"\"},\"colorscale\":[[0.0,\"#0d0887\"],[0.1111111111111111,\"#46039f\"],[0.2222222222222222,\"#7201a8\"],[0.3333333333333333,\"#9c179e\"],[0.4444444444444444,\"#bd3786\"],[0.5555555555555556,\"#d8576b\"],[0.6666666666666666,\"#ed7953\"],[0.7777777777777778,\"#fb9f3a\"],[0.8888888888888888,\"#fdca26\"],[1.0,\"#f0f921\"]]}],\"mesh3d\":[{\"type\":\"mesh3d\",\"colorbar\":{\"outlinewidth\":0,\"ticks\":\"\"}}],\"scatter\":[{\"fillpattern\":{\"fillmode\":\"overlay\",\"size\":10,\"solidity\":0.2},\"type\":\"scatter\"}],\"parcoords\":[{\"type\":\"parcoords\",\"line\":{\"colorbar\":{\"outlinewidth\":0,\"ticks\":\"\"}}}],\"scatterpolargl\":[{\"type\":\"scatterpolargl\",\"marker\":{\"colorbar\":{\"outlinewidth\":0,\"ticks\":\"\"}}}],\"bar\":[{\"error_x\":{\"color\":\"#2a3f5f\"},\"error_y\":{\"color\":\"#2a3f5f\"},\"marker\":{\"line\":{\"color\":\"#E5ECF6\",\"width\":0.5},\"pattern\":{\"fillmode\":\"overlay\",\"size\":10,\"solidity\":0.2}},\"type\":\"bar\"}],\"scattergeo\":[{\"type\":\"scattergeo\",\"marker\":{\"colorbar\":{\"outlinewidth\":0,\"ticks\":\"\"}}}],\"scatterpolar\":[{\"type\":\"scatterpolar\",\"marker\":{\"colorbar\":{\"outlinewidth\":0,\"ticks\":\"\"}}}],\"histogram\":[{\"marker\":{\"pattern\":{\"fillmode\":\"overlay\",\"size\":10,\"solidity\":0.2}},\"type\":\"histogram\"}],\"scattergl\":[{\"type\":\"scattergl\",\"marker\":{\"colorbar\":{\"outlinewidth\":0,\"ticks\":\"\"}}}],\"scatter3d\":[{\"type\":\"scatter3d\",\"line\":{\"colorbar\":{\"outlinewidth\":0,\"ticks\":\"\"}},\"marker\":{\"colorbar\":{\"outlinewidth\":0,\"ticks\":\"\"}}}],\"scattermapbox\":[{\"type\":\"scattermapbox\",\"marker\":{\"colorbar\":{\"outlinewidth\":0,\"ticks\":\"\"}}}],\"scatterternary\":[{\"type\":\"scatterternary\",\"marker\":{\"colorbar\":{\"outlinewidth\":0,\"ticks\":\"\"}}}],\"scattercarpet\":[{\"type\":\"scattercarpet\",\"marker\":{\"colorbar\":{\"outlinewidth\":0,\"ticks\":\"\"}}}],\"carpet\":[{\"aaxis\":{\"endlinecolor\":\"#2a3f5f\",\"gridcolor\":\"white\",\"linecolor\":\"white\",\"minorgridcolor\":\"white\",\"startlinecolor\":\"#2a3f5f\"},\"baxis\":{\"endlinecolor\":\"#2a3f5f\",\"gridcolor\":\"white\",\"linecolor\":\"white\",\"minorgridcolor\":\"white\",\"startlinecolor\":\"#2a3f5f\"},\"type\":\"carpet\"}],\"table\":[{\"cells\":{\"fill\":{\"color\":\"#EBF0F8\"},\"line\":{\"color\":\"white\"}},\"header\":{\"fill\":{\"color\":\"#C8D4E3\"},\"line\":{\"color\":\"white\"}},\"type\":\"table\"}],\"barpolar\":[{\"marker\":{\"line\":{\"color\":\"#E5ECF6\",\"width\":0.5},\"pattern\":{\"fillmode\":\"overlay\",\"size\":10,\"solidity\":0.2}},\"type\":\"barpolar\"}],\"pie\":[{\"automargin\":true,\"type\":\"pie\"}]},\"layout\":{\"autotypenumbers\":\"strict\",\"colorway\":[\"#636efa\",\"#EF553B\",\"#00cc96\",\"#ab63fa\",\"#FFA15A\",\"#19d3f3\",\"#FF6692\",\"#B6E880\",\"#FF97FF\",\"#FECB52\"],\"font\":{\"color\":\"#2a3f5f\"},\"hovermode\":\"closest\",\"hoverlabel\":{\"align\":\"left\"},\"paper_bgcolor\":\"white\",\"plot_bgcolor\":\"#E5ECF6\",\"polar\":{\"bgcolor\":\"#E5ECF6\",\"angularaxis\":{\"gridcolor\":\"white\",\"linecolor\":\"white\",\"ticks\":\"\"},\"radialaxis\":{\"gridcolor\":\"white\",\"linecolor\":\"white\",\"ticks\":\"\"}},\"ternary\":{\"bgcolor\":\"#E5ECF6\",\"aaxis\":{\"gridcolor\":\"white\",\"linecolor\":\"white\",\"ticks\":\"\"},\"baxis\":{\"gridcolor\":\"white\",\"linecolor\":\"white\",\"ticks\":\"\"},\"caxis\":{\"gridcolor\":\"white\",\"linecolor\":\"white\",\"ticks\":\"\"}},\"coloraxis\":{\"colorbar\":{\"outlinewidth\":0,\"ticks\":\"\"}},\"colorscale\":{\"sequential\":[[0.0,\"#0d0887\"],[0.1111111111111111,\"#46039f\"],[0.2222222222222222,\"#7201a8\"],[0.3333333333333333,\"#9c179e\"],[0.4444444444444444,\"#bd3786\"],[0.5555555555555556,\"#d8576b\"],[0.6666666666666666,\"#ed7953\"],[0.7777777777777778,\"#fb9f3a\"],[0.8888888888888888,\"#fdca26\"],[1.0,\"#f0f921\"]],\"sequentialminus\":[[0.0,\"#0d0887\"],[0.1111111111111111,\"#46039f\"],[0.2222222222222222,\"#7201a8\"],[0.3333333333333333,\"#9c179e\"],[0.4444444444444444,\"#bd3786\"],[0.5555555555555556,\"#d8576b\"],[0.6666666666666666,\"#ed7953\"],[0.7777777777777778,\"#fb9f3a\"],[0.8888888888888888,\"#fdca26\"],[1.0,\"#f0f921\"]],\"diverging\":[[0,\"#8e0152\"],[0.1,\"#c51b7d\"],[0.2,\"#de77ae\"],[0.3,\"#f1b6da\"],[0.4,\"#fde0ef\"],[0.5,\"#f7f7f7\"],[0.6,\"#e6f5d0\"],[0.7,\"#b8e186\"],[0.8,\"#7fbc41\"],[0.9,\"#4d9221\"],[1,\"#276419\"]]},\"xaxis\":{\"gridcolor\":\"white\",\"linecolor\":\"white\",\"ticks\":\"\",\"title\":{\"standoff\":15},\"zerolinecolor\":\"white\",\"automargin\":true,\"zerolinewidth\":2},\"yaxis\":{\"gridcolor\":\"white\",\"linecolor\":\"white\",\"ticks\":\"\",\"title\":{\"standoff\":15},\"zerolinecolor\":\"white\",\"automargin\":true,\"zerolinewidth\":2},\"scene\":{\"xaxis\":{\"backgroundcolor\":\"#E5ECF6\",\"gridcolor\":\"white\",\"linecolor\":\"white\",\"showbackground\":true,\"ticks\":\"\",\"zerolinecolor\":\"white\",\"gridwidth\":2},\"yaxis\":{\"backgroundcolor\":\"#E5ECF6\",\"gridcolor\":\"white\",\"linecolor\":\"white\",\"showbackground\":true,\"ticks\":\"\",\"zerolinecolor\":\"white\",\"gridwidth\":2},\"zaxis\":{\"backgroundcolor\":\"#E5ECF6\",\"gridcolor\":\"white\",\"linecolor\":\"white\",\"showbackground\":true,\"ticks\":\"\",\"zerolinecolor\":\"white\",\"gridwidth\":2}},\"shapedefaults\":{\"line\":{\"color\":\"#2a3f5f\"}},\"annotationdefaults\":{\"arrowcolor\":\"#2a3f5f\",\"arrowhead\":0,\"arrowwidth\":1},\"geo\":{\"bgcolor\":\"white\",\"landcolor\":\"#E5ECF6\",\"subunitcolor\":\"white\",\"showland\":true,\"showlakes\":true,\"lakecolor\":\"white\"},\"title\":{\"x\":0.05},\"mapbox\":{\"style\":\"light\"}}},\"polar\":{\"domain\":{\"x\":[0.0,1.0],\"y\":[0.0,1.0]},\"angularaxis\":{\"direction\":\"clockwise\",\"rotation\":90,\"tickfont\":{\"weight\":\"bold\"}}},\"legend\":{\"title\":{\"text\":\"Model\"},\"tracegroupgap\":0,\"yanchor\":\"bottom\",\"y\":0.6,\"xanchor\":\"left\",\"x\":0.82},\"margin\":{\"t\":60},\"height\":350,\"width\":550},                        {\"responsive\": true}                    ).then(function(){\n",
       "                            \n",
       "var gd = document.getElementById('ec0f01e7-06b4-4588-89f4-82298748e118');\n",
       "var x = new MutationObserver(function (mutations, observer) {{\n",
       "        var display = window.getComputedStyle(gd).display;\n",
       "        if (!display || display === 'none') {{\n",
       "            console.log([gd, 'removed!']);\n",
       "            Plotly.purge(gd);\n",
       "            observer.disconnect();\n",
       "        }}\n",
       "}});\n",
       "\n",
       "// Listen for the removal of the full notebook cells\n",
       "var notebookContainer = gd.closest('#notebook-container');\n",
       "if (notebookContainer) {{\n",
       "    x.observe(notebookContainer, {childList: true});\n",
       "}}\n",
       "\n",
       "// Listen for the clearing of the current output cell\n",
       "var outputEl = gd.closest('.output');\n",
       "if (outputEl) {{\n",
       "    x.observe(outputEl, {childList: true});\n",
       "}}\n",
       "\n",
       "                        })                };                });            </script>        </div>"
      ]
     },
     "metadata": {},
     "output_type": "display_data"
    }
   ],
   "source": [
    "import plotly.express as px\n",
    "\n",
    "fig = px.line_polar(\n",
    "    df, r=\"Paired t-Test Statistic\", theta=\"test\", color=\"Model\", line_close=True,\n",
    "    width=550, height=350,\n",
    "    # color_discrete_sequence=px.colors.sequential.Plasma_r,\n",
    "    # color_discrete_sequence=px.colors.qualitative.Set1,  # Harmonious color scheme\n",
    "    # template=\"plotly_dark\",\n",
    "    # template=\"seaborn\",\n",
    "    category_orders={\"Model\": ['Dragon RoBERTa ', 'Dragon+ ', 'Contriever ', 'Contriever MSMARCO', 'RetroMAE MSMARCO FT', 'COCO-DR Base MSMARCO',]},\n",
    "    \n",
    ")\n",
    "fig.update_traces(\n",
    "    mode=\"lines+markers\",\n",
    "    marker=dict(size=10, symbol='circle'),  # Larger markers with borders\n",
    "    line=dict(width=3)  # Thicker lines\n",
    ")\n",
    "\n",
    "fig.update_layout(\n",
    "    polar=dict(\n",
    "        angularaxis=dict(\n",
    "            tickfont=dict(weight=\"bold\"),  # Bold theta labels\n",
    "        ),\n",
    "    ),\n",
    ")\n",
    "\n",
    "fig.update_layout(legend=dict(\n",
    "    yanchor=\"bottom\",\n",
    "    y=0.6,\n",
    "    xanchor=\"left\",\n",
    "    x=0.82\n",
    "))\n",
    "\n",
    "# fig.update_layout(polar=dict(radialaxis=dict(type=\"log\")))\n",
    "# fig.update_layout(legend_traceorder=\"reversed\")\n",
    "\n",
    "# fig.update_traces(fill='toself')\n",
    "fig.write_image(\"figs/radar_plot.pdf\", engine=\"kaleido\")\n",
    "fig.show()"
   ]
  },
  {
   "cell_type": "code",
   "execution_count": 175,
   "metadata": {},
   "outputs": [
    {
     "data": {
      "text/html": [
       "<div>\n",
       "<style scoped>\n",
       "    .dataframe tbody tr th:only-of-type {\n",
       "        vertical-align: middle;\n",
       "    }\n",
       "\n",
       "    .dataframe tbody tr th {\n",
       "        vertical-align: top;\n",
       "    }\n",
       "\n",
       "    .dataframe thead th {\n",
       "        text-align: right;\n",
       "    }\n",
       "</style>\n",
       "<table border=\"1\" class=\"dataframe\">\n",
       "  <thead>\n",
       "    <tr style=\"text-align: right;\">\n",
       "      <th></th>\n",
       "      <th>Model</th>\n",
       "      <th>col1</th>\n",
       "      <th>col2</th>\n",
       "      <th>Paired t-Test Statistic</th>\n",
       "      <th>ttest_pvalue</th>\n",
       "      <th>ttest_ci_low_stats</th>\n",
       "      <th>ttest_ci_high_stats</th>\n",
       "      <th>ttest_ci_low</th>\n",
       "      <th>ttest_ci_high</th>\n",
       "      <th>standard_ttest_ppf</th>\n",
       "      <th>test</th>\n",
       "    </tr>\n",
       "  </thead>\n",
       "  <tbody>\n",
       "    <tr>\n",
       "      <th>1</th>\n",
       "      <td>COCO-DR Base MSMARCO</td>\n",
       "      <td>OpenMatch/cocodr-base-msmarco_sents_more_heads...</td>\n",
       "      <td>OpenMatch/cocodr-base-msmarco_sents_less_heads...</td>\n",
       "      <td>14.257071</td>\n",
       "      <td>1.156962e-40</td>\n",
       "      <td>NaN</td>\n",
       "      <td>NaN</td>\n",
       "      <td>1.647040</td>\n",
       "      <td>1.647040</td>\n",
       "      <td>NaN</td>\n",
       "      <td>Repetition Bias ⬇&lt;br&gt;(Head Repetition Advantage)</td>\n",
       "    </tr>\n",
       "    <tr>\n",
       "      <th>5</th>\n",
       "      <td>COCO-DR Base MSMARCO</td>\n",
       "      <td>OpenMatch/cocodr-base-msmarco_sents_complete_w...</td>\n",
       "      <td>OpenMatch/cocodr-base-msmarco_sents_complete_w...</td>\n",
       "      <td>7.593350</td>\n",
       "      <td>0.000000e+00</td>\n",
       "      <td>0.629336</td>\n",
       "      <td>1.070061</td>\n",
       "      <td>1.650828</td>\n",
       "      <td>1.650828</td>\n",
       "      <td>-1.650828</td>\n",
       "      <td>Tail Importance ⬆&lt;br&gt;(Answer's Existence)</td>\n",
       "    </tr>\n",
       "    <tr>\n",
       "      <th>3</th>\n",
       "      <td>COCO-DR Base MSMARCO</td>\n",
       "      <td>OpenMatch/cocodr-base-msmarco_sents_complete_w...</td>\n",
       "      <td>OpenMatch/cocodr-base-msmarco_sents_complete_w...</td>\n",
       "      <td>28.169344</td>\n",
       "      <td>1.734360e-151</td>\n",
       "      <td>NaN</td>\n",
       "      <td>NaN</td>\n",
       "      <td>1.645476</td>\n",
       "      <td>1.645476</td>\n",
       "      <td>NaN</td>\n",
       "      <td>Position Bias ⬇&lt;br&gt;(Early Focus)</td>\n",
       "    </tr>\n",
       "    <tr>\n",
       "      <th>0</th>\n",
       "      <td>COCO-DR Base MSMARCO</td>\n",
       "      <td>OpenMatch/cocodr-base-msmarco_query_short_name...</td>\n",
       "      <td>OpenMatch/cocodr-base-msmarco_query_short_name...</td>\n",
       "      <td>37.414685</td>\n",
       "      <td>2.181176e-229</td>\n",
       "      <td>NaN</td>\n",
       "      <td>NaN</td>\n",
       "      <td>1.645666</td>\n",
       "      <td>1.645666</td>\n",
       "      <td>NaN</td>\n",
       "      <td>Literal Bias ⬇&lt;br&gt;(Exact Matching)</td>\n",
       "    </tr>\n",
       "    <tr>\n",
       "      <th>0</th>\n",
       "      <td>Contriever</td>\n",
       "      <td>facebook/contriever_sents_complete_w_beginning...</td>\n",
       "      <td>facebook/contriever_sents_complete_wo_beginnin...</td>\n",
       "      <td>-1.857636</td>\n",
       "      <td>6.436886e-02</td>\n",
       "      <td>-0.020429</td>\n",
       "      <td>0.000596</td>\n",
       "      <td>1.650828</td>\n",
       "      <td>1.650828</td>\n",
       "      <td>-1.650828</td>\n",
       "      <td>Tail Importance ⬆&lt;br&gt;(Answer's Existence)</td>\n",
       "    </tr>\n",
       "    <tr>\n",
       "      <th>2</th>\n",
       "      <td>Contriever</td>\n",
       "      <td>facebook/contriever_sents_more_heads_dot</td>\n",
       "      <td>facebook/contriever_sents_less_heads_dot</td>\n",
       "      <td>14.311692</td>\n",
       "      <td>6.307436e-41</td>\n",
       "      <td>NaN</td>\n",
       "      <td>NaN</td>\n",
       "      <td>1.647040</td>\n",
       "      <td>1.647040</td>\n",
       "      <td>NaN</td>\n",
       "      <td>Repetition Bias ⬇&lt;br&gt;(Head Repetition Advantage)</td>\n",
       "    </tr>\n",
       "    <tr>\n",
       "      <th>0</th>\n",
       "      <td>Contriever</td>\n",
       "      <td>facebook/contriever_sents_complete_w_evidence_...</td>\n",
       "      <td>facebook/contriever_sents_complete_w_evidence_...</td>\n",
       "      <td>7.146336</td>\n",
       "      <td>0.000000e+00</td>\n",
       "      <td>NaN</td>\n",
       "      <td>NaN</td>\n",
       "      <td>1.645476</td>\n",
       "      <td>1.645476</td>\n",
       "      <td>NaN</td>\n",
       "      <td>Position Bias ⬇&lt;br&gt;(Early Focus)</td>\n",
       "    </tr>\n",
       "    <tr>\n",
       "      <th>2</th>\n",
       "      <td>Contriever</td>\n",
       "      <td>facebook/contriever_query_short_namegold_doc_s...</td>\n",
       "      <td>facebook/contriever_query_short_namegold_doc_l...</td>\n",
       "      <td>39.141546</td>\n",
       "      <td>1.610917e-245</td>\n",
       "      <td>NaN</td>\n",
       "      <td>NaN</td>\n",
       "      <td>1.645666</td>\n",
       "      <td>1.645666</td>\n",
       "      <td>NaN</td>\n",
       "      <td>Literal Bias ⬇&lt;br&gt;(Exact Matching)</td>\n",
       "    </tr>\n",
       "    <tr>\n",
       "      <th>1</th>\n",
       "      <td>Contriever MSMARCO</td>\n",
       "      <td>facebook/contriever-msmarco_sents_complete_w_b...</td>\n",
       "      <td>facebook/contriever-msmarco_sents_complete_wo_...</td>\n",
       "      <td>6.700251</td>\n",
       "      <td>1.000000e-10</td>\n",
       "      <td>0.039747</td>\n",
       "      <td>0.072837</td>\n",
       "      <td>1.650828</td>\n",
       "      <td>1.650828</td>\n",
       "      <td>-1.650828</td>\n",
       "      <td>Tail Importance ⬆&lt;br&gt;(Answer's Existence)</td>\n",
       "    </tr>\n",
       "    <tr>\n",
       "      <th>0</th>\n",
       "      <td>Contriever MSMARCO</td>\n",
       "      <td>facebook/contriever-msmarco_sents_more_heads_dot</td>\n",
       "      <td>facebook/contriever-msmarco_sents_less_heads_dot</td>\n",
       "      <td>13.468185</td>\n",
       "      <td>6.399240e-37</td>\n",
       "      <td>NaN</td>\n",
       "      <td>NaN</td>\n",
       "      <td>1.647040</td>\n",
       "      <td>1.647040</td>\n",
       "      <td>NaN</td>\n",
       "      <td>Repetition Bias ⬇&lt;br&gt;(Head Repetition Advantage)</td>\n",
       "    </tr>\n",
       "    <tr>\n",
       "      <th>3</th>\n",
       "      <td>Contriever MSMARCO</td>\n",
       "      <td>facebook/contriever-msmarco_query_short_namego...</td>\n",
       "      <td>facebook/contriever-msmarco_query_short_namego...</td>\n",
       "      <td>40.327075</td>\n",
       "      <td>1.227200e-256</td>\n",
       "      <td>NaN</td>\n",
       "      <td>NaN</td>\n",
       "      <td>1.645666</td>\n",
       "      <td>1.645666</td>\n",
       "      <td>NaN</td>\n",
       "      <td>Literal Bias ⬇&lt;br&gt;(Exact Matching)</td>\n",
       "    </tr>\n",
       "    <tr>\n",
       "      <th>4</th>\n",
       "      <td>Contriever MSMARCO</td>\n",
       "      <td>facebook/contriever-msmarco_sents_complete_w_e...</td>\n",
       "      <td>facebook/contriever-msmarco_sents_complete_w_e...</td>\n",
       "      <td>30.734445</td>\n",
       "      <td>9.675349e-176</td>\n",
       "      <td>NaN</td>\n",
       "      <td>NaN</td>\n",
       "      <td>1.645476</td>\n",
       "      <td>1.645476</td>\n",
       "      <td>NaN</td>\n",
       "      <td>Position Bias ⬇&lt;br&gt;(Early Focus)</td>\n",
       "    </tr>\n",
       "    <tr>\n",
       "      <th>4</th>\n",
       "      <td>Dragon RoBERTa</td>\n",
       "      <td>facebook/dragon-roberta-query-encoder_query_sh...</td>\n",
       "      <td>facebook/dragon-roberta-query-encoder_query_sh...</td>\n",
       "      <td>45.844972</td>\n",
       "      <td>1.535825e-308</td>\n",
       "      <td>NaN</td>\n",
       "      <td>NaN</td>\n",
       "      <td>1.645666</td>\n",
       "      <td>1.645666</td>\n",
       "      <td>NaN</td>\n",
       "      <td>Literal Bias ⬇&lt;br&gt;(Exact Matching)</td>\n",
       "    </tr>\n",
       "    <tr>\n",
       "      <th>5</th>\n",
       "      <td>Dragon RoBERTa</td>\n",
       "      <td>facebook/dragon-roberta-query-encoder_sents_co...</td>\n",
       "      <td>facebook/dragon-roberta-query-encoder_sents_co...</td>\n",
       "      <td>44.560113</td>\n",
       "      <td>3.641368e-318</td>\n",
       "      <td>NaN</td>\n",
       "      <td>NaN</td>\n",
       "      <td>1.645476</td>\n",
       "      <td>1.645476</td>\n",
       "      <td>NaN</td>\n",
       "      <td>Position Bias ⬇&lt;br&gt;(Early Focus)</td>\n",
       "    </tr>\n",
       "    <tr>\n",
       "      <th>4</th>\n",
       "      <td>Dragon RoBERTa</td>\n",
       "      <td>facebook/dragon-roberta-query-encoder_sents_mo...</td>\n",
       "      <td>facebook/dragon-roberta-query-encoder_sents_le...</td>\n",
       "      <td>16.489531</td>\n",
       "      <td>7.790133e-52</td>\n",
       "      <td>NaN</td>\n",
       "      <td>NaN</td>\n",
       "      <td>1.647040</td>\n",
       "      <td>1.647040</td>\n",
       "      <td>NaN</td>\n",
       "      <td>Repetition Bias ⬇&lt;br&gt;(Head Repetition Advantage)</td>\n",
       "    </tr>\n",
       "    <tr>\n",
       "      <th>4</th>\n",
       "      <td>Dragon RoBERTa</td>\n",
       "      <td>facebook/dragon-roberta-query-encoder_sents_co...</td>\n",
       "      <td>facebook/dragon-roberta-query-encoder_sents_co...</td>\n",
       "      <td>7.586317</td>\n",
       "      <td>0.000000e+00</td>\n",
       "      <td>0.914534</td>\n",
       "      <td>1.555786</td>\n",
       "      <td>1.650828</td>\n",
       "      <td>1.650828</td>\n",
       "      <td>-1.650828</td>\n",
       "      <td>Tail Importance ⬆&lt;br&gt;(Answer's Existence)</td>\n",
       "    </tr>\n",
       "    <tr>\n",
       "      <th>2</th>\n",
       "      <td>Dragon+</td>\n",
       "      <td>facebook/dragon-plus-query-encoder_sents_compl...</td>\n",
       "      <td>facebook/dragon-plus-query-encoder_sents_compl...</td>\n",
       "      <td>23.198564</td>\n",
       "      <td>8.532661e-108</td>\n",
       "      <td>NaN</td>\n",
       "      <td>NaN</td>\n",
       "      <td>1.645476</td>\n",
       "      <td>1.645476</td>\n",
       "      <td>NaN</td>\n",
       "      <td>Position Bias ⬇&lt;br&gt;(Early Focus)</td>\n",
       "    </tr>\n",
       "    <tr>\n",
       "      <th>5</th>\n",
       "      <td>Dragon+</td>\n",
       "      <td>facebook/dragon-plus-query-encoder_query_short...</td>\n",
       "      <td>facebook/dragon-plus-query-encoder_query_short...</td>\n",
       "      <td>46.354682</td>\n",
       "      <td>2.500975e-313</td>\n",
       "      <td>NaN</td>\n",
       "      <td>NaN</td>\n",
       "      <td>1.645666</td>\n",
       "      <td>1.645666</td>\n",
       "      <td>NaN</td>\n",
       "      <td>Literal Bias ⬇&lt;br&gt;(Exact Matching)</td>\n",
       "    </tr>\n",
       "    <tr>\n",
       "      <th>3</th>\n",
       "      <td>Dragon+</td>\n",
       "      <td>facebook/dragon-plus-query-encoder_sents_compl...</td>\n",
       "      <td>facebook/dragon-plus-query-encoder_sents_compl...</td>\n",
       "      <td>7.569573</td>\n",
       "      <td>0.000000e+00</td>\n",
       "      <td>0.933248</td>\n",
       "      <td>1.589577</td>\n",
       "      <td>1.650828</td>\n",
       "      <td>1.650828</td>\n",
       "      <td>-1.650828</td>\n",
       "      <td>Tail Importance ⬆&lt;br&gt;(Answer's Existence)</td>\n",
       "    </tr>\n",
       "    <tr>\n",
       "      <th>3</th>\n",
       "      <td>Dragon+</td>\n",
       "      <td>facebook/dragon-plus-query-encoder_sents_more_...</td>\n",
       "      <td>facebook/dragon-plus-query-encoder_sents_less_...</td>\n",
       "      <td>15.220562</td>\n",
       "      <td>2.184024e-45</td>\n",
       "      <td>NaN</td>\n",
       "      <td>NaN</td>\n",
       "      <td>1.647040</td>\n",
       "      <td>1.647040</td>\n",
       "      <td>NaN</td>\n",
       "      <td>Repetition Bias ⬇&lt;br&gt;(Head Repetition Advantage)</td>\n",
       "    </tr>\n",
       "    <tr>\n",
       "      <th>1</th>\n",
       "      <td>RetroMAE MSMARCO FT</td>\n",
       "      <td>Shitao/RetroMAE_MSMARCO_finetune_sents_complet...</td>\n",
       "      <td>Shitao/RetroMAE_MSMARCO_finetune_sents_complet...</td>\n",
       "      <td>17.207870</td>\n",
       "      <td>9.704163e-63</td>\n",
       "      <td>NaN</td>\n",
       "      <td>NaN</td>\n",
       "      <td>1.645476</td>\n",
       "      <td>1.645476</td>\n",
       "      <td>NaN</td>\n",
       "      <td>Position Bias ⬇&lt;br&gt;(Early Focus)</td>\n",
       "    </tr>\n",
       "    <tr>\n",
       "      <th>2</th>\n",
       "      <td>RetroMAE MSMARCO FT</td>\n",
       "      <td>Shitao/RetroMAE_MSMARCO_finetune_sents_complet...</td>\n",
       "      <td>Shitao/RetroMAE_MSMARCO_finetune_sents_complet...</td>\n",
       "      <td>6.882774</td>\n",
       "      <td>0.000000e+00</td>\n",
       "      <td>0.745264</td>\n",
       "      <td>1.342650</td>\n",
       "      <td>1.650828</td>\n",
       "      <td>1.650828</td>\n",
       "      <td>-1.650828</td>\n",
       "      <td>Tail Importance ⬆&lt;br&gt;(Answer's Existence)</td>\n",
       "    </tr>\n",
       "    <tr>\n",
       "      <th>1</th>\n",
       "      <td>RetroMAE MSMARCO FT</td>\n",
       "      <td>Shitao/RetroMAE_MSMARCO_finetune_query_short_n...</td>\n",
       "      <td>Shitao/RetroMAE_MSMARCO_finetune_query_short_n...</td>\n",
       "      <td>39.137673</td>\n",
       "      <td>1.751259e-245</td>\n",
       "      <td>NaN</td>\n",
       "      <td>NaN</td>\n",
       "      <td>1.645666</td>\n",
       "      <td>1.645666</td>\n",
       "      <td>NaN</td>\n",
       "      <td>Literal Bias ⬇&lt;br&gt;(Exact Matching)</td>\n",
       "    </tr>\n",
       "    <tr>\n",
       "      <th>5</th>\n",
       "      <td>RetroMAE MSMARCO FT</td>\n",
       "      <td>Shitao/RetroMAE_MSMARCO_finetune_sents_more_he...</td>\n",
       "      <td>Shitao/RetroMAE_MSMARCO_finetune_sents_less_he...</td>\n",
       "      <td>16.669559</td>\n",
       "      <td>9.081952e-53</td>\n",
       "      <td>NaN</td>\n",
       "      <td>NaN</td>\n",
       "      <td>1.647040</td>\n",
       "      <td>1.647040</td>\n",
       "      <td>NaN</td>\n",
       "      <td>Repetition Bias ⬇&lt;br&gt;(Head Repetition Advantage)</td>\n",
       "    </tr>\n",
       "  </tbody>\n",
       "</table>\n",
       "</div>"
      ],
      "text/plain": [
       "                  Model                                               col1  \\\n",
       "1  COCO-DR Base MSMARCO  OpenMatch/cocodr-base-msmarco_sents_more_heads...   \n",
       "5  COCO-DR Base MSMARCO  OpenMatch/cocodr-base-msmarco_sents_complete_w...   \n",
       "3  COCO-DR Base MSMARCO  OpenMatch/cocodr-base-msmarco_sents_complete_w...   \n",
       "0  COCO-DR Base MSMARCO  OpenMatch/cocodr-base-msmarco_query_short_name...   \n",
       "0           Contriever   facebook/contriever_sents_complete_w_beginning...   \n",
       "2           Contriever            facebook/contriever_sents_more_heads_dot   \n",
       "0           Contriever   facebook/contriever_sents_complete_w_evidence_...   \n",
       "2           Contriever   facebook/contriever_query_short_namegold_doc_s...   \n",
       "1    Contriever MSMARCO  facebook/contriever-msmarco_sents_complete_w_b...   \n",
       "0    Contriever MSMARCO   facebook/contriever-msmarco_sents_more_heads_dot   \n",
       "3    Contriever MSMARCO  facebook/contriever-msmarco_query_short_namego...   \n",
       "4    Contriever MSMARCO  facebook/contriever-msmarco_sents_complete_w_e...   \n",
       "4       Dragon RoBERTa   facebook/dragon-roberta-query-encoder_query_sh...   \n",
       "5       Dragon RoBERTa   facebook/dragon-roberta-query-encoder_sents_co...   \n",
       "4       Dragon RoBERTa   facebook/dragon-roberta-query-encoder_sents_mo...   \n",
       "4       Dragon RoBERTa   facebook/dragon-roberta-query-encoder_sents_co...   \n",
       "2              Dragon+   facebook/dragon-plus-query-encoder_sents_compl...   \n",
       "5              Dragon+   facebook/dragon-plus-query-encoder_query_short...   \n",
       "3              Dragon+   facebook/dragon-plus-query-encoder_sents_compl...   \n",
       "3              Dragon+   facebook/dragon-plus-query-encoder_sents_more_...   \n",
       "1   RetroMAE MSMARCO FT  Shitao/RetroMAE_MSMARCO_finetune_sents_complet...   \n",
       "2   RetroMAE MSMARCO FT  Shitao/RetroMAE_MSMARCO_finetune_sents_complet...   \n",
       "1   RetroMAE MSMARCO FT  Shitao/RetroMAE_MSMARCO_finetune_query_short_n...   \n",
       "5   RetroMAE MSMARCO FT  Shitao/RetroMAE_MSMARCO_finetune_sents_more_he...   \n",
       "\n",
       "                                                col2  Paired t-Test Statistic  \\\n",
       "1  OpenMatch/cocodr-base-msmarco_sents_less_heads...                14.257071   \n",
       "5  OpenMatch/cocodr-base-msmarco_sents_complete_w...                 7.593350   \n",
       "3  OpenMatch/cocodr-base-msmarco_sents_complete_w...                28.169344   \n",
       "0  OpenMatch/cocodr-base-msmarco_query_short_name...                37.414685   \n",
       "0  facebook/contriever_sents_complete_wo_beginnin...                -1.857636   \n",
       "2           facebook/contriever_sents_less_heads_dot                14.311692   \n",
       "0  facebook/contriever_sents_complete_w_evidence_...                 7.146336   \n",
       "2  facebook/contriever_query_short_namegold_doc_l...                39.141546   \n",
       "1  facebook/contriever-msmarco_sents_complete_wo_...                 6.700251   \n",
       "0   facebook/contriever-msmarco_sents_less_heads_dot                13.468185   \n",
       "3  facebook/contriever-msmarco_query_short_namego...                40.327075   \n",
       "4  facebook/contriever-msmarco_sents_complete_w_e...                30.734445   \n",
       "4  facebook/dragon-roberta-query-encoder_query_sh...                45.844972   \n",
       "5  facebook/dragon-roberta-query-encoder_sents_co...                44.560113   \n",
       "4  facebook/dragon-roberta-query-encoder_sents_le...                16.489531   \n",
       "4  facebook/dragon-roberta-query-encoder_sents_co...                 7.586317   \n",
       "2  facebook/dragon-plus-query-encoder_sents_compl...                23.198564   \n",
       "5  facebook/dragon-plus-query-encoder_query_short...                46.354682   \n",
       "3  facebook/dragon-plus-query-encoder_sents_compl...                 7.569573   \n",
       "3  facebook/dragon-plus-query-encoder_sents_less_...                15.220562   \n",
       "1  Shitao/RetroMAE_MSMARCO_finetune_sents_complet...                17.207870   \n",
       "2  Shitao/RetroMAE_MSMARCO_finetune_sents_complet...                 6.882774   \n",
       "1  Shitao/RetroMAE_MSMARCO_finetune_query_short_n...                39.137673   \n",
       "5  Shitao/RetroMAE_MSMARCO_finetune_sents_less_he...                16.669559   \n",
       "\n",
       "    ttest_pvalue  ttest_ci_low_stats  ttest_ci_high_stats  ttest_ci_low  \\\n",
       "1   1.156962e-40                 NaN                  NaN      1.647040   \n",
       "5   0.000000e+00            0.629336             1.070061      1.650828   \n",
       "3  1.734360e-151                 NaN                  NaN      1.645476   \n",
       "0  2.181176e-229                 NaN                  NaN      1.645666   \n",
       "0   6.436886e-02           -0.020429             0.000596      1.650828   \n",
       "2   6.307436e-41                 NaN                  NaN      1.647040   \n",
       "0   0.000000e+00                 NaN                  NaN      1.645476   \n",
       "2  1.610917e-245                 NaN                  NaN      1.645666   \n",
       "1   1.000000e-10            0.039747             0.072837      1.650828   \n",
       "0   6.399240e-37                 NaN                  NaN      1.647040   \n",
       "3  1.227200e-256                 NaN                  NaN      1.645666   \n",
       "4  9.675349e-176                 NaN                  NaN      1.645476   \n",
       "4  1.535825e-308                 NaN                  NaN      1.645666   \n",
       "5  3.641368e-318                 NaN                  NaN      1.645476   \n",
       "4   7.790133e-52                 NaN                  NaN      1.647040   \n",
       "4   0.000000e+00            0.914534             1.555786      1.650828   \n",
       "2  8.532661e-108                 NaN                  NaN      1.645476   \n",
       "5  2.500975e-313                 NaN                  NaN      1.645666   \n",
       "3   0.000000e+00            0.933248             1.589577      1.650828   \n",
       "3   2.184024e-45                 NaN                  NaN      1.647040   \n",
       "1   9.704163e-63                 NaN                  NaN      1.645476   \n",
       "2   0.000000e+00            0.745264             1.342650      1.650828   \n",
       "1  1.751259e-245                 NaN                  NaN      1.645666   \n",
       "5   9.081952e-53                 NaN                  NaN      1.647040   \n",
       "\n",
       "   ttest_ci_high  standard_ttest_ppf  \\\n",
       "1       1.647040                 NaN   \n",
       "5       1.650828           -1.650828   \n",
       "3       1.645476                 NaN   \n",
       "0       1.645666                 NaN   \n",
       "0       1.650828           -1.650828   \n",
       "2       1.647040                 NaN   \n",
       "0       1.645476                 NaN   \n",
       "2       1.645666                 NaN   \n",
       "1       1.650828           -1.650828   \n",
       "0       1.647040                 NaN   \n",
       "3       1.645666                 NaN   \n",
       "4       1.645476                 NaN   \n",
       "4       1.645666                 NaN   \n",
       "5       1.645476                 NaN   \n",
       "4       1.647040                 NaN   \n",
       "4       1.650828           -1.650828   \n",
       "2       1.645476                 NaN   \n",
       "5       1.645666                 NaN   \n",
       "3       1.650828           -1.650828   \n",
       "3       1.647040                 NaN   \n",
       "1       1.645476                 NaN   \n",
       "2       1.650828           -1.650828   \n",
       "1       1.645666                 NaN   \n",
       "5       1.647040                 NaN   \n",
       "\n",
       "                                               test  \n",
       "1  Repetition Bias ⬇<br>(Head Repetition Advantage)  \n",
       "5         Tail Importance ⬆<br>(Answer's Existence)  \n",
       "3                  Position Bias ⬇<br>(Early Focus)  \n",
       "0                Literal Bias ⬇<br>(Exact Matching)  \n",
       "0         Tail Importance ⬆<br>(Answer's Existence)  \n",
       "2  Repetition Bias ⬇<br>(Head Repetition Advantage)  \n",
       "0                  Position Bias ⬇<br>(Early Focus)  \n",
       "2                Literal Bias ⬇<br>(Exact Matching)  \n",
       "1         Tail Importance ⬆<br>(Answer's Existence)  \n",
       "0  Repetition Bias ⬇<br>(Head Repetition Advantage)  \n",
       "3                Literal Bias ⬇<br>(Exact Matching)  \n",
       "4                  Position Bias ⬇<br>(Early Focus)  \n",
       "4                Literal Bias ⬇<br>(Exact Matching)  \n",
       "5                  Position Bias ⬇<br>(Early Focus)  \n",
       "4  Repetition Bias ⬇<br>(Head Repetition Advantage)  \n",
       "4         Tail Importance ⬆<br>(Answer's Existence)  \n",
       "2                  Position Bias ⬇<br>(Early Focus)  \n",
       "5                Literal Bias ⬇<br>(Exact Matching)  \n",
       "3         Tail Importance ⬆<br>(Answer's Existence)  \n",
       "3  Repetition Bias ⬇<br>(Head Repetition Advantage)  \n",
       "1                  Position Bias ⬇<br>(Early Focus)  \n",
       "2         Tail Importance ⬆<br>(Answer's Existence)  \n",
       "1                Literal Bias ⬇<br>(Exact Matching)  \n",
       "5  Repetition Bias ⬇<br>(Head Repetition Advantage)  "
      ]
     },
     "execution_count": 175,
     "metadata": {},
     "output_type": "execute_result"
    }
   ],
   "source": [
    "df"
   ]
  },
  {
   "cell_type": "code",
   "execution_count": 6,
   "metadata": {},
   "outputs": [
    {
     "data": {
      "text/html": [
       "<div>\n",
       "<style scoped>\n",
       "    .dataframe tbody tr th:only-of-type {\n",
       "        vertical-align: middle;\n",
       "    }\n",
       "\n",
       "    .dataframe tbody tr th {\n",
       "        vertical-align: top;\n",
       "    }\n",
       "\n",
       "    .dataframe thead th {\n",
       "        text-align: right;\n",
       "    }\n",
       "</style>\n",
       "<table border=\"1\" class=\"dataframe\">\n",
       "  <thead>\n",
       "    <tr style=\"text-align: right;\">\n",
       "      <th></th>\n",
       "      <th>Model</th>\n",
       "      <th>col1</th>\n",
       "      <th>col2</th>\n",
       "      <th>Paired t-Test Statistic</th>\n",
       "      <th>ttest_pvalue</th>\n",
       "      <th>ttest_ci_low_stats</th>\n",
       "      <th>ttest_ci_high_stats</th>\n",
       "      <th>ttest_ci_low</th>\n",
       "      <th>ttest_ci_high</th>\n",
       "      <th>standard_ttest_ppf</th>\n",
       "    </tr>\n",
       "  </thead>\n",
       "  <tbody>\n",
       "    <tr>\n",
       "      <th>0</th>\n",
       "      <td>Contriever</td>\n",
       "      <td>facebook/contriever_sents_complete_w_beginning...</td>\n",
       "      <td>facebook/contriever_sents_complete_wo_beginnin...</td>\n",
       "      <td>-1.857636</td>\n",
       "      <td>6.436886e-02</td>\n",
       "      <td>-0.020429</td>\n",
       "      <td>0.000596</td>\n",
       "      <td>1.650828</td>\n",
       "      <td>1.650828</td>\n",
       "      <td>-1.650828</td>\n",
       "    </tr>\n",
       "    <tr>\n",
       "      <th>1</th>\n",
       "      <td>Contriever MSMARCO</td>\n",
       "      <td>facebook/contriever-msmarco_sents_complete_w_b...</td>\n",
       "      <td>facebook/contriever-msmarco_sents_complete_wo_...</td>\n",
       "      <td>6.700251</td>\n",
       "      <td>1.000000e-10</td>\n",
       "      <td>0.039747</td>\n",
       "      <td>0.072837</td>\n",
       "      <td>1.650828</td>\n",
       "      <td>1.650828</td>\n",
       "      <td>-1.650828</td>\n",
       "    </tr>\n",
       "    <tr>\n",
       "      <th>2</th>\n",
       "      <td>RetroMAE MSMARCO FT</td>\n",
       "      <td>Shitao/RetroMAE_MSMARCO_finetune_sents_complet...</td>\n",
       "      <td>Shitao/RetroMAE_MSMARCO_finetune_sents_complet...</td>\n",
       "      <td>6.882774</td>\n",
       "      <td>0.000000e+00</td>\n",
       "      <td>0.745264</td>\n",
       "      <td>1.342650</td>\n",
       "      <td>1.650828</td>\n",
       "      <td>1.650828</td>\n",
       "      <td>-1.650828</td>\n",
       "    </tr>\n",
       "    <tr>\n",
       "      <th>3</th>\n",
       "      <td>Dragon+</td>\n",
       "      <td>facebook/dragon-plus-query-encoder_sents_compl...</td>\n",
       "      <td>facebook/dragon-plus-query-encoder_sents_compl...</td>\n",
       "      <td>7.569573</td>\n",
       "      <td>0.000000e+00</td>\n",
       "      <td>0.933248</td>\n",
       "      <td>1.589577</td>\n",
       "      <td>1.650828</td>\n",
       "      <td>1.650828</td>\n",
       "      <td>-1.650828</td>\n",
       "    </tr>\n",
       "    <tr>\n",
       "      <th>4</th>\n",
       "      <td>Dragon RoBERTa</td>\n",
       "      <td>facebook/dragon-roberta-query-encoder_sents_co...</td>\n",
       "      <td>facebook/dragon-roberta-query-encoder_sents_co...</td>\n",
       "      <td>7.586317</td>\n",
       "      <td>0.000000e+00</td>\n",
       "      <td>0.914534</td>\n",
       "      <td>1.555786</td>\n",
       "      <td>1.650828</td>\n",
       "      <td>1.650828</td>\n",
       "      <td>-1.650828</td>\n",
       "    </tr>\n",
       "    <tr>\n",
       "      <th>5</th>\n",
       "      <td>COCO-DR Base MSMARCO</td>\n",
       "      <td>OpenMatch/cocodr-base-msmarco_sents_complete_w...</td>\n",
       "      <td>OpenMatch/cocodr-base-msmarco_sents_complete_w...</td>\n",
       "      <td>7.593350</td>\n",
       "      <td>0.000000e+00</td>\n",
       "      <td>0.629336</td>\n",
       "      <td>1.070061</td>\n",
       "      <td>1.650828</td>\n",
       "      <td>1.650828</td>\n",
       "      <td>-1.650828</td>\n",
       "    </tr>\n",
       "  </tbody>\n",
       "</table>\n",
       "</div>"
      ],
      "text/plain": [
       "                  Model                                               col1  \\\n",
       "0           Contriever   facebook/contriever_sents_complete_w_beginning...   \n",
       "1    Contriever MSMARCO  facebook/contriever-msmarco_sents_complete_w_b...   \n",
       "2   RetroMAE MSMARCO FT  Shitao/RetroMAE_MSMARCO_finetune_sents_complet...   \n",
       "3              Dragon+   facebook/dragon-plus-query-encoder_sents_compl...   \n",
       "4       Dragon RoBERTa   facebook/dragon-roberta-query-encoder_sents_co...   \n",
       "5  COCO-DR Base MSMARCO  OpenMatch/cocodr-base-msmarco_sents_complete_w...   \n",
       "\n",
       "                                                col2  Paired t-Test Statistic  \\\n",
       "0  facebook/contriever_sents_complete_wo_beginnin...                -1.857636   \n",
       "1  facebook/contriever-msmarco_sents_complete_wo_...                 6.700251   \n",
       "2  Shitao/RetroMAE_MSMARCO_finetune_sents_complet...                 6.882774   \n",
       "3  facebook/dragon-plus-query-encoder_sents_compl...                 7.569573   \n",
       "4  facebook/dragon-roberta-query-encoder_sents_co...                 7.586317   \n",
       "5  OpenMatch/cocodr-base-msmarco_sents_complete_w...                 7.593350   \n",
       "\n",
       "   ttest_pvalue  ttest_ci_low_stats  ttest_ci_high_stats  ttest_ci_low  \\\n",
       "0  6.436886e-02           -0.020429             0.000596      1.650828   \n",
       "1  1.000000e-10            0.039747             0.072837      1.650828   \n",
       "2  0.000000e+00            0.745264             1.342650      1.650828   \n",
       "3  0.000000e+00            0.933248             1.589577      1.650828   \n",
       "4  0.000000e+00            0.914534             1.555786      1.650828   \n",
       "5  0.000000e+00            0.629336             1.070061      1.650828   \n",
       "\n",
       "   ttest_ci_high  standard_ttest_ppf  \n",
       "0       1.650828           -1.650828  \n",
       "1       1.650828           -1.650828  \n",
       "2       1.650828           -1.650828  \n",
       "3       1.650828           -1.650828  \n",
       "4       1.650828           -1.650828  \n",
       "5       1.650828           -1.650828  "
      ]
     },
     "execution_count": 6,
     "metadata": {},
     "output_type": "execute_result"
    }
   ],
   "source": []
  },
  {
   "cell_type": "code",
   "execution_count": null,
   "metadata": {},
   "outputs": [],
   "source": []
  }
 ],
 "metadata": {
  "kernelspec": {
   "display_name": "mohsen-env",
   "language": "python",
   "name": "python3"
  },
  "language_info": {
   "codemirror_mode": {
    "name": "ipython",
    "version": 3
   },
   "file_extension": ".py",
   "mimetype": "text/x-python",
   "name": "python",
   "nbconvert_exporter": "python",
   "pygments_lexer": "ipython3",
   "version": "3.12.7"
  }
 },
 "nbformat": 4,
 "nbformat_minor": 2
}
