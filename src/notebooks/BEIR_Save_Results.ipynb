{
 "cells": [
  {
   "cell_type": "markdown",
   "id": "3e6c209a-5118-4aa4-b8a4-2c11a73c3102",
   "metadata": {},
   "source": [
    "# BEIR: A Heterogenous benchmark for Zero-shot Evaluation of Information Retrieval models\n",
    "\n",
    "This notebook contains an simple and easy examples to evaluate retrieval models from our new benchmark.\n",
    "\n",
    "## Introduction\n",
    "The BEIR benchmark contains 9 diverse retrieval tasks including 17 diverse datasets. We evaluate 9 state-of-the-art retriever models all in a zero-shot evaluation setup. Today, in this colab notebook, we first will show how to download and load the 14 open-sourced datasets with just three lines of code. Afterward, we would load some state-of-the-art dense retrievers (bi-encoders) such as SBERT, ANCE, DPR models and use them for retrieval and evaluate them in a zero-shot setup.\n",
    "\n",
    "Don't hesitate to send us an e-mail or report an issue, if something is broken (and it shouldn't be) or if you have further questions.\n",
    "\n",
    "Developed by Nandan Thakur, Researcher @ UKP Lab, TU Darmstadt\n",
    "\n",
    "(https://nthakur.xyz) (nandant@gmail.com)"
   ]
  },
  {
   "cell_type": "code",
   "execution_count": 5,
   "id": "deb1c6e6-2402-4080-b3e2-45c74d3fa265",
   "metadata": {},
   "outputs": [
    {
     "name": "stdout",
     "output_type": "stream",
     "text": [
      "CUDA_VISIBLE_DEVICES: 7 HF_HOME: /local1/mohsenfayyaz/.hfcache/\n"
     ]
    }
   ],
   "source": [
    "import os\n",
    "from dotenv import load_dotenv\n",
    "load_dotenv()\n",
    "os.environ[\"CUDA_DEVICE_ORDER\"]=\"PCI_BUS_ID\"\n",
    "print(\"CUDA_VISIBLE_DEVICES:\", os.environ[\"CUDA_VISIBLE_DEVICES\"], \"HF_HOME:\", os.environ[\"HF_HOME\"])"
   ]
  },
  {
   "cell_type": "markdown",
   "id": "4ad8a3ea-7fc7-4409-b59f-0ed5861cc9d0",
   "metadata": {},
   "source": [
    "# Install BEIR"
   ]
  },
  {
   "cell_type": "code",
   "execution_count": 6,
   "id": "614fa33f-2006-45bb-99ac-ebf984eebfd5",
   "metadata": {
    "scrolled": true
   },
   "outputs": [],
   "source": [
    "# ! pip install beir"
   ]
  },
  {
   "cell_type": "code",
   "execution_count": 7,
   "id": "59a3c543-d5b9-4296-b122-f0457c38eca8",
   "metadata": {},
   "outputs": [],
   "source": [
    "from beir import util, LoggingHandler\n",
    "import logging\n",
    "import pathlib, os\n",
    "#### Just some code to print debug information to stdout\n",
    "logging.basicConfig(format='%(asctime)s - %(message)s',\n",
    "                    datefmt='%Y-%m-%d %H:%M:%S',\n",
    "                    level=logging.INFO,\n",
    "                    handlers=[LoggingHandler()])\n",
    "#### /print debug information to stdout"
   ]
  },
  {
   "cell_type": "markdown",
   "id": "1da54665-38cf-490b-8044-93daccd2fe06",
   "metadata": {},
   "source": [
    "**BEIR Datasets**\n",
    "\n",
    "BEIR contains 17 diverse datasets overall. You can view all the datasets (14 downloadable) with the link below:\n",
    "\n",
    "[``https://public.ukp.informatik.tu-darmstadt.de/thakur/BEIR/datasets/``](https://public.ukp.informatik.tu-darmstadt.de/thakur/BEIR/datasets/)\n",
    "\n",
    "Please refer GitHub page to evaluate on other datasets (3 of them).\n",
    "\n",
    "\n",
    "We include the following datasets in BEIR:\n",
    "\n",
    "| Dataset   | Website| BEIR-Name | Domain     | Relevancy| Queries  | Documents | Avg. Docs/Q | Download |\n",
    "| -------- | -----| ---------| ----------- | ---------| ---------| --------- | ------| ------------|\n",
    "| MSMARCO    | [``Homepage``](https://microsoft.github.io/msmarco/)| ``msmarco`` | Misc.       |  Binary  |  6,980   |  8.84M     |    1.1 | Yes |  \n",
    "| TREC-COVID |  [``Homepage``](https://ir.nist.gov/covidSubmit/index.html)| ``trec-covid``| Bio-Medical |  3-level|50|  171K| 493.5 | Yes |\n",
    "| NFCorpus   | [``Homepage``](https://www.cl.uni-heidelberg.de/statnlpgroup/nfcorpus/) | ``nfcorpus``  | Bio-Medical |  3-level |  323     |  3.6K     |  38.2 | Yes |\n",
    "| BioASQ     | [``Homepage``](http://bioasq.org) | ``bioasq``| Bio-Medical |  Binary  |   500    |  14.91M    |  8.05 | No |\n",
    "| NQ         | [``Homepage``](https://ai.google.com/research/NaturalQuestions) | ``nq``| Wikipedia   |  Binary  |  3,452   |  2.68M  |  1.2 | Yes |\n",
    "| HotpotQA   | [``Homepage``](https://hotpotqa.github.io) | ``hotpotqa``| Wikipedia   |  Binary  |  7,405   |  5.23M  |  2.0 | Yes |\n",
    "| FiQA-2018  | [``Homepage``](https://sites.google.com/view/fiqa/) | ``fiqa``    | Finance     |  Binary  |  648     |  57K    |  2.6 | Yes |\n",
    "| Signal-1M (RT) | [``Homepage``](https://research.signal-ai.com/datasets/signal1m-tweetir.html)| ``signal1m`` | Twitter     |  3-level  |   97   |  2.86M  |  19.6 | No |\n",
    "| TREC-NEWS  | [``Homepage``](https://trec.nist.gov/data/news2019.html) | ``trec-news``    | News     |  5-level  |   57    |  595K    |  19.6 | No |\n",
    "| ArguAna    | [``Homepage``](http://argumentation.bplaced.net/arguana/data) | ``arguana`` | Misc.       |  Binary  |  1,406     |  8.67K    |  1.0 | Yes |\n",
    "| Touche-2020| [``Homepage``](https://webis.de/events/touche-20/shared-task-1.html) | ``webis-touche2020``| Misc.       |  6-level  |  49     |  382K    |  49.2 |  Yes |\n",
    "| CQADupstack| [``Homepage``](http://nlp.cis.unimelb.edu.au/resources/cqadupstack/) | ``cqadupstack``| StackEx.      |  Binary  |  13,145 |  457K  |  1.4 |  Yes |\n",
    "| Quora| [``Homepage``](https://www.quora.com/q/quoradata/First-Quora-Dataset-Release-Question-Pairs) | ``quora``| Quora  | Binary  |  10,000     |  523K    |  1.6 |  Yes |\n",
    "| DBPedia | [``Homepage``](https://github.com/iai-group/DBpedia-Entity/) | ``dbpedia-entity``| Wikipedia |  3-level  |  400    |  4.63M    |  38.2 |  Yes |\n",
    "| SCIDOCS| [``Homepage``](https://allenai.org/data/scidocs) | ``scidocs``| Scientific |  Binary  |  1,000     |  25K    |  4.9 |  Yes |\n",
    "| FEVER| [``Homepage``](http://fever.ai) | ``fever``| Wikipedia     |  Binary  |  6,666     |  5.42M    |  1.2|  Yes |\n",
    "| Climate-FEVER| [``Homepage``](http://climatefever.ai) | ``climate-fever``| Wikipedia |  Binary  |  1,535     |  5.42M |  3.0 |  Yes |\n",
    "| SciFact| [``Homepage``](https://github.com/allenai/scifact) | ``scifact``| Scientific |  Binary  |  300     |  5K    |  1.1 |  Yes |\n"
   ]
  },
  {
   "cell_type": "markdown",
   "id": "09b8bd7a-29fe-494b-b8e7-babae2d49753",
   "metadata": {
    "editable": true,
    "slideshow": {
     "slide_type": ""
    },
    "tags": []
   },
   "source": [
    "# Download Dataset"
   ]
  },
  {
   "cell_type": "code",
   "execution_count": 13,
   "id": "6a470deb-777e-4cbd-a74f-02f0482d8f9a",
   "metadata": {},
   "outputs": [
    {
     "name": "stdout",
     "output_type": "stream",
     "text": [
      "2024-08-18 20:46:27 - Downloading nq.zip ...\n"
     ]
    },
    {
     "data": {
      "application/vnd.jupyter.widget-view+json": {
       "model_id": "ceb04158711848f68b5c43c7060f2161",
       "version_major": 2,
       "version_minor": 0
      },
      "text/plain": [
       "/local1/mohsenfayyaz/projects/Retriever-Contextualization/src/notebooks/datasets/nq.zip:   0%|          | 0.00…"
      ]
     },
     "metadata": {},
     "output_type": "display_data"
    },
    {
     "name": "stdout",
     "output_type": "stream",
     "text": [
      "2024-08-18 20:47:27 - Unzipping nq.zip ...\n",
      "Dataset downloaded here: /local1/mohsenfayyaz/projects/Retriever-Contextualization/src/notebooks/datasets/nq\n"
     ]
    }
   ],
   "source": [
    "DATASET = \"nq\"\n",
    "\n",
    "# ! git lfs install\n",
    "\n",
    "# ! git clone https://huggingface.co/datasets/BeIR/nq\n",
    "# ! mkdir --parents ./datasets/; \n",
    "# ! mv nq datasets/\n",
    "# ! gzip -d datasets/nq/corpus.jsonl.gz\n",
    "# ! gzip -d datasets/nq/queries.jsonl.gz\n",
    "\n",
    "# ! git clone https://huggingface.co/datasets/BeIR/nq-qrels\n",
    "# ! mv nq-qrels datasets/nq/qrels\n",
    "\n",
    "### SLOW\n",
    "import pathlib, os\n",
    "from beir import util\n",
    "url = \"https://public.ukp.informatik.tu-darmstadt.de/thakur/BEIR/datasets/{}.zip\".format(DATASET)\n",
    "out_dir = os.path.join(os.getcwd(), \"datasets\")\n",
    "data_path = util.download_and_unzip(url, out_dir)\n",
    "print(\"Dataset downloaded here: {}\".format(data_path))"
   ]
  },
  {
   "cell_type": "code",
   "execution_count": 15,
   "id": "37ff2d13-4df0-44a8-95bb-31b89124b6e8",
   "metadata": {},
   "outputs": [
    {
     "name": "stdout",
     "output_type": "stream",
     "text": [
      "2024-08-18 20:47:54 - Loading Corpus...\n"
     ]
    },
    {
     "data": {
      "application/vnd.jupyter.widget-view+json": {
       "model_id": "029117c6c2f84f1596272215e0786687",
       "version_major": 2,
       "version_minor": 0
      },
      "text/plain": [
       "  0%|          | 0/2681468 [00:00<?, ?it/s]"
      ]
     },
     "metadata": {},
     "output_type": "display_data"
    },
    {
     "name": "stdout",
     "output_type": "stream",
     "text": [
      "2024-08-18 20:48:06 - Loaded 2681468 TEST Documents.\n",
      "2024-08-18 20:48:06 - Doc Example: {'text': \"In accounting, minority interest (or non-controlling interest) is the portion of a subsidiary corporation's stock that is not owned by the parent corporation. The magnitude of the minority interest in the subsidiary company is generally less than 50% of outstanding shares, or the corporation would generally cease to be a subsidiary of the parent.[1]\", 'title': 'Minority interest'}\n",
      "2024-08-18 20:48:06 - Loading Queries...\n",
      "2024-08-18 20:48:06 - Loaded 3452 TEST Queries.\n",
      "2024-08-18 20:48:06 - Query Example: what is non controlling interest on balance sheet\n"
     ]
    },
    {
     "data": {
      "application/vnd.jupyter.widget-view+json": {
       "model_id": "6825da93c2094a69b1d09a53fb7a93eb",
       "version_major": 2,
       "version_minor": 0
      },
      "text/plain": [
       "  0%|          | 0/3452 [00:00<?, ?it/s]"
      ]
     },
     "metadata": {},
     "output_type": "display_data"
    },
    {
     "name": "stdout",
     "output_type": "stream",
     "text": [
      "{'#Corpus:': 2681468, '#Gold_Corpus:': 4201, '#Queries&qrels:': 3452}\n"
     ]
    }
   ],
   "source": [
    "from beir.datasets.data_loader import GenericDataLoader\n",
    "from tqdm.auto import tqdm\n",
    "\n",
    "data_path = f\"datasets/{DATASET}\"\n",
    "corpus_raw, queries, qrels = GenericDataLoader(data_path).load(split=\"test\") # or split = \"train\" or \"dev\"\n",
    "\n",
    "gold_docs = set()\n",
    "for test_k, test_v in tqdm(qrels.items()):\n",
    "    for doc_k, doc_v in test_v.items():\n",
    "        gold_docs.add(doc_k)\n",
    "print({\n",
    "    \"#Corpus:\": len(corpus_raw), \n",
    "    \"#Gold_Corpus:\": len(gold_docs),\n",
    "    \"#Queries&qrels:\": len(queries)\n",
    "})\n",
    "corpus = {d: corpus_raw[d] for d in gold_docs}  # corpus = raw_corpus  (FOR GOLD OR ALL)"
   ]
  },
  {
   "cell_type": "markdown",
   "id": "5902e4d8-c47e-431f-95a3-7bc17b6705b5",
   "metadata": {},
   "source": [
    "# **Dense Retrieval using Exact Search**"
   ]
  },
  {
   "cell_type": "code",
   "execution_count": 16,
   "id": "75161274-084d-4ddc-be82-e8acde408956",
   "metadata": {
    "scrolled": true
   },
   "outputs": [
    {
     "name": "stdout",
     "output_type": "stream",
     "text": [
      "2024-08-18 20:48:12 - Use pytorch device_name: cuda\n",
      "2024-08-18 20:48:12 - Load pretrained SentenceTransformer: facebook/contriever-msmarco\n",
      "2024-08-18 20:48:12 - No sentence-transformers model found with name facebook/contriever-msmarco. Creating a new one with mean pooling.\n",
      "2024-08-18 20:48:13 - Encoding Queries...\n"
     ]
    },
    {
     "name": "stderr",
     "output_type": "stream",
     "text": [
      "/local1/mohsenfayyaz/anaconda3/envs/beir-env/lib/python3.11/site-packages/transformers/tokenization_utils_base.py:1601: FutureWarning: `clean_up_tokenization_spaces` was not set. It will be set to `True` by default. This behavior will be depracted in transformers v4.45, and will be then set to `False` by default. For more details check this issue: https://github.com/huggingface/transformers/issues/31884\n",
      "  warnings.warn(\n"
     ]
    },
    {
     "data": {
      "application/vnd.jupyter.widget-view+json": {
       "model_id": "03dd28dfc1734ad99b9c5b6f0cf6358c",
       "version_major": 2,
       "version_minor": 0
      },
      "text/plain": [
       "Batches:   0%|          | 0/27 [00:00<?, ?it/s]"
      ]
     },
     "metadata": {},
     "output_type": "display_data"
    },
    {
     "name": "stdout",
     "output_type": "stream",
     "text": [
      "2024-08-18 20:48:14 - Sorting Corpus by document length (Longest first)...\n",
      "2024-08-18 20:48:14 - Encoding Corpus in batches... Warning: This might take a while!\n",
      "2024-08-18 20:48:14 - Scoring Function: Cosine Similarity (cos_sim)\n",
      "2024-08-18 20:48:14 - Encoding Batch 1/1...\n"
     ]
    },
    {
     "data": {
      "application/vnd.jupyter.widget-view+json": {
       "model_id": "cf69d253a9494dca820b0bf36a8196cb",
       "version_major": 2,
       "version_minor": 0
      },
      "text/plain": [
       "Batches:   0%|          | 0/33 [00:00<?, ?it/s]"
      ]
     },
     "metadata": {},
     "output_type": "display_data"
    }
   ],
   "source": [
    "from beir.retrieval.evaluation import EvaluateRetrieval\n",
    "from beir.retrieval import models\n",
    "from beir.retrieval.search.dense import DenseRetrievalExactSearch as DRES\n",
    "\n",
    "#### Dense Retrieval using SBERT (Sentence-BERT) ####\n",
    "#### Provide any pretrained sentence-transformers model\n",
    "#### The model was fine-tuned using cosine-similarity.\n",
    "#### Complete list - https://www.sbert.net/docs/pretrained_models.html\n",
    "\n",
    "MODEL = \"facebook/contriever-msmarco\"  # \"msmarco-distilbert-base-v3\"\n",
    "model = DRES(models.SentenceBERT(MODEL), batch_size=128)\n",
    "retriever = EvaluateRetrieval(model, score_function=\"cos_sim\")\n",
    "\n",
    "#### Retrieve dense results (format of results is identical to qrels)\n",
    "results = retriever.retrieve(corpus, queries)"
   ]
  },
  {
   "cell_type": "code",
   "execution_count": 18,
   "id": "9696b531-910b-4048-b899-041e9d4e38e2",
   "metadata": {},
   "outputs": [
    {
     "name": "stdout",
     "output_type": "stream",
     "text": [
      "2024-08-18 20:50:02 - Retriever evaluation for k in: [1, 3, 5, 10, 100, 1000]\n",
      "2024-08-18 20:50:02 - For evaluation, we ignore identical query and document ids (default), please explicitly set ``ignore_identical_ids=False`` to ignore this.\n",
      "2024-08-18 20:50:04 - \n",
      "\n",
      "2024-08-18 20:50:04 - NDCG@1: 0.9076\n",
      "2024-08-18 20:50:04 - NDCG@3: 0.9378\n",
      "2024-08-18 20:50:04 - NDCG@5: 0.9453\n",
      "2024-08-18 20:50:04 - NDCG@10: 0.9501\n",
      "2024-08-18 20:50:04 - NDCG@100: 0.9518\n",
      "2024-08-18 20:50:04 - NDCG@1000: 0.9522\n",
      "2024-08-18 20:50:04 - \n",
      "\n",
      "2024-08-18 20:50:04 - MAP@1: 0.8138\n",
      "2024-08-18 20:50:04 - MAP@3: 0.9266\n",
      "2024-08-18 20:50:04 - MAP@5: 0.9322\n",
      "2024-08-18 20:50:04 - MAP@10: 0.9346\n",
      "2024-08-18 20:50:04 - MAP@100: 0.9351\n",
      "2024-08-18 20:50:04 - MAP@1000: 0.9351\n",
      "2024-08-18 20:50:04 - \n",
      "\n",
      "2024-08-18 20:50:04 - Recall@1: 0.8138\n",
      "2024-08-18 20:50:04 - Recall@3: 0.9596\n",
      "2024-08-18 20:50:04 - Recall@5: 0.9762\n",
      "2024-08-18 20:50:04 - Recall@10: 0.9897\n",
      "2024-08-18 20:50:04 - Recall@100: 0.9974\n",
      "2024-08-18 20:50:04 - Recall@1000: 0.9999\n",
      "2024-08-18 20:50:04 - \n",
      "\n",
      "2024-08-18 20:50:04 - P@1: 0.9076\n",
      "2024-08-18 20:50:04 - P@3: 0.3867\n",
      "2024-08-18 20:50:04 - P@5: 0.2370\n",
      "2024-08-18 20:50:04 - P@10: 0.1203\n",
      "2024-08-18 20:50:04 - P@100: 0.0121\n",
      "2024-08-18 20:50:04 - P@1000: 0.0012\n"
     ]
    },
    {
     "data": {
      "text/plain": [
       "{'Recall@1': 0.81383,\n",
       " 'Recall@3': 0.95959,\n",
       " 'Recall@5': 0.97625,\n",
       " 'Recall@10': 0.98972,\n",
       " 'Recall@100': 0.99744,\n",
       " 'Recall@1000': 0.9999}"
      ]
     },
     "execution_count": 18,
     "metadata": {},
     "output_type": "execute_result"
    }
   ],
   "source": [
    "#### Evaluate your retrieval using NDCG@k, MAP@K ...\n",
    "\n",
    "logging.info(\"Retriever evaluation for k in: {}\".format(retriever.k_values))\n",
    "ndcg, _map, recall, precision = retriever.evaluate(qrels, results, retriever.k_values)\n",
    "recall"
   ]
  },
  {
   "cell_type": "markdown",
   "id": "55e1fda6-3c94-42c9-a1b0-d9eb78bdc790",
   "metadata": {},
   "source": [
    "# Save Results"
   ]
  },
  {
   "cell_type": "code",
   "execution_count": 23,
   "id": "b8ccc690-b9e9-4fba-b665-68cdf486670a",
   "metadata": {},
   "outputs": [
    {
     "name": "stdout",
     "output_type": "stream",
     "text": [
      "The token has not been saved to the git credentials helper. Pass `add_to_git_credential=True` in this function directly or `--add-to-git-credential` if using via `huggingface-cli` if you want to set the git credential as well.\n",
      "Token is valid (permission: write).\n",
      "Your token has been saved to /local1/mohsenfayyaz/.hfcache/token\n",
      "Login successful\n"
     ]
    },
    {
     "data": {
      "application/vnd.jupyter.widget-view+json": {
       "model_id": "6ed5812ace144b9cbb35e211da01b08f",
       "version_major": 2,
       "version_minor": 0
      },
      "text/plain": [
       "  0%|          | 0/3452 [00:00<?, ?it/s]"
      ]
     },
     "metadata": {},
     "output_type": "display_data"
    },
    {
     "name": "stdout",
     "output_type": "stream",
     "text": [
      "hf://datasets/Retriever-Contextualization/datasets/nq/facebook--contriever-msmarco_corpus4201.parquet\n"
     ]
    },
    {
     "data": {
      "text/html": [
       "<div>\n",
       "<style scoped>\n",
       "    .dataframe tbody tr th:only-of-type {\n",
       "        vertical-align: middle;\n",
       "    }\n",
       "\n",
       "    .dataframe tbody tr th {\n",
       "        vertical-align: top;\n",
       "    }\n",
       "\n",
       "    .dataframe thead th {\n",
       "        text-align: right;\n",
       "    }\n",
       "</style>\n",
       "<table border=\"1\" class=\"dataframe\">\n",
       "  <thead>\n",
       "    <tr style=\"text-align: right;\">\n",
       "      <th></th>\n",
       "      <th>key</th>\n",
       "      <th>query</th>\n",
       "      <th>gold_docs</th>\n",
       "      <th>gold_docs_text</th>\n",
       "      <th>results</th>\n",
       "      <th>predicted_docs_text_5</th>\n",
       "    </tr>\n",
       "  </thead>\n",
       "  <tbody>\n",
       "    <tr>\n",
       "      <th>0</th>\n",
       "      <td>test0</td>\n",
       "      <td>what is non controlling interest on balance sheet</td>\n",
       "      <td>[doc0, doc1]</td>\n",
       "      <td>[{'text': 'In accounting, minority interest (or non-controlling interest) is the portion of a subsidiary corporation's stock that is not owned by the parent corporation. The magnitude of the minor...</td>\n",
       "      <td>{'doc0': 0.6976444125175476, 'doc1': 0.6396650075912476, 'doc52131': 0.5661276578903198, 'doc37281': 0.4707511365413666, 'doc103592': 0.4688764214515686, 'doc69384': 0.4668482542037964, 'doc21144'...</td>\n",
       "      <td>[{'text': 'In accounting, minority interest (or non-controlling interest) is the portion of a subsidiary corporation's stock that is not owned by the parent corporation. The magnitude of the minor...</td>\n",
       "    </tr>\n",
       "    <tr>\n",
       "      <th>1</th>\n",
       "      <td>test1</td>\n",
       "      <td>how many episodes are in chicago fire season 4</td>\n",
       "      <td>[doc6]</td>\n",
       "      <td>[{'text': 'The fourth season of Chicago Fire, an American drama television series with executive producer Dick Wolf, and producers Derek Haas, Michael Brandt, and Matt Olmstead, was ordered on Feb...</td>\n",
       "      <td>{'doc6': 0.8000181913375854, 'doc23040': 0.6540364623069763, 'doc109460': 0.6424875259399414, 'doc25878': 0.6077133417129517, 'doc103787': 0.5803894400596619, 'doc68415': 0.5647706389427185, 'doc7...</td>\n",
       "      <td>[{'text': 'The fourth season of Chicago Fire, an American drama television series with executive producer Dick Wolf, and producers Derek Haas, Michael Brandt, and Matt Olmstead, was ordered on Feb...</td>\n",
       "    </tr>\n",
       "    <tr>\n",
       "      <th>2</th>\n",
       "      <td>test2</td>\n",
       "      <td>who sings love will keep us alive by the eagles</td>\n",
       "      <td>[doc10]</td>\n",
       "      <td>[{'text': '\"Love Will Keep Us Alive\" is a song written by Jim Capaldi, Paul Carrack, and Peter Vale, and produced by the Eagles, Elliot Scheiner, and Rob Jacobs. It was first performed by the Eagl...</td>\n",
       "      <td>{'doc10': 0.793368935585022, 'doc43761': 0.4912663698196411, 'doc33209': 0.4636683762073517, 'doc102649': 0.4517684876918793, 'doc12083': 0.45116615295410156, 'doc93272': 0.44938331842422485, 'doc...</td>\n",
       "      <td>[{'text': '\"Love Will Keep Us Alive\" is a song written by Jim Capaldi, Paul Carrack, and Peter Vale, and produced by the Eagles, Elliot Scheiner, and Rob Jacobs. It was first performed by the Eagl...</td>\n",
       "    </tr>\n",
       "    <tr>\n",
       "      <th>3</th>\n",
       "      <td>test3</td>\n",
       "      <td>who is the leader of the ontario pc party</td>\n",
       "      <td>[doc17, doc18]</td>\n",
       "      <td>[{'text': 'Patrick Walter Brown MPP (born May 26, 1978) is a Canadian politician who is the leader of the Progressive Conservative Party of Ontario and Ontario's Leader of the Official Opposition....</td>\n",
       "      <td>{'doc18': 0.7136879563331604, 'doc17': 0.6641680598258972, 'doc1215': 0.47546347975730896, 'doc25699': 0.4669022560119629, 'doc51063': 0.4437679052352905, 'doc109336': 0.440820574760437, 'doc88621...</td>\n",
       "      <td>[{'text': 'In May 2015, Brown was elected leader of the Ontario PC Party, and stepped down as MP. He was elected Member of Provincial Parliament (MPP) for Simcoe North in a provincial by-election ...</td>\n",
       "    </tr>\n",
       "    <tr>\n",
       "      <th>4</th>\n",
       "      <td>test4</td>\n",
       "      <td>nitty gritty dirt band fishin in the dark album</td>\n",
       "      <td>[doc42]</td>\n",
       "      <td>[{'text': '\"Fishin' in the Dark\" is a song written by Wendy Waldman and Jim Photoglo and recorded by American country music group The Nitty Gritty Dirt Band. It was released in June 1987 as the se...</td>\n",
       "      <td>{'doc42': 0.7535380125045776, 'doc60487': 0.46759092807769775, 'doc3859': 0.4553712010383606, 'doc35855': 0.44975847005844116, 'doc86295': 0.44747328758239746, 'doc90474': 0.44683635234832764, 'do...</td>\n",
       "      <td>[{'text': '\"Fishin' in the Dark\" is a song written by Wendy Waldman and Jim Photoglo and recorded by American country music group The Nitty Gritty Dirt Band. It was released in June 1987 as the se...</td>\n",
       "    </tr>\n",
       "    <tr>\n",
       "      <th>...</th>\n",
       "      <td>...</td>\n",
       "      <td>...</td>\n",
       "      <td>...</td>\n",
       "      <td>...</td>\n",
       "      <td>...</td>\n",
       "      <td>...</td>\n",
       "    </tr>\n",
       "    <tr>\n",
       "      <th>3447</th>\n",
       "      <td>test3447</td>\n",
       "      <td>when is the met office leaving the bbc</td>\n",
       "      <td>[doc117531]</td>\n",
       "      <td>[{'text': 'On 23 August 2015, the BBC announced that the Met Office will lose its contract as the BBC is legally obliged to ensure that licence fee payers get the best value for money. MeteoGroup ...</td>\n",
       "      <td>{'doc117531': 0.7772749662399292, 'doc11580': 0.5452356338500977, 'doc93814': 0.49839359521865845, 'doc28754': 0.46202582120895386, 'doc58479': 0.4590458571910858, 'doc92028': 0.41726332902908325,...</td>\n",
       "      <td>[{'text': 'On 23 August 2015, the BBC announced that the Met Office will lose its contract as the BBC is legally obliged to ensure that licence fee payers get the best value for money. MeteoGroup ...</td>\n",
       "    </tr>\n",
       "    <tr>\n",
       "      <th>3448</th>\n",
       "      <td>test3448</td>\n",
       "      <td>where does junior want to go to find hope</td>\n",
       "      <td>[doc117567]</td>\n",
       "      <td>[{'text': 'Throughout the novel, Junior shares his dreams with the readers. In the first chapter, he dreams of becoming a cartoon artist in order to get rich and escape the cycles of poverty and a...</td>\n",
       "      <td>{'doc117567': 0.5255041122436523, 'doc45843': 0.43827423453330994, 'doc45845': 0.4089242219924927, 'doc56023': 0.37942594289779663, 'doc86818': 0.37746402621269226, 'doc105381': 0.3739920258522033...</td>\n",
       "      <td>[{'text': 'Throughout the novel, Junior shares his dreams with the readers. In the first chapter, he dreams of becoming a cartoon artist in order to get rich and escape the cycles of poverty and a...</td>\n",
       "    </tr>\n",
       "    <tr>\n",
       "      <th>3449</th>\n",
       "      <td>test3449</td>\n",
       "      <td>who does eric end up with in that 70s show</td>\n",
       "      <td>[doc117643, doc117646]</td>\n",
       "      <td>[{'text': 'Regretting it instantly, Eric goes to find her to once again reconcile, and learns that she and Michael have taken off for California where they spend the remainder of the summer. Despi...</td>\n",
       "      <td>{'doc117646': 0.5370627641677856, 'doc106005': 0.5214886665344238, 'doc117643': 0.5081065893173218, 'doc81007': 0.47155511379241943, 'doc14083': 0.4462912678718567, 'doc106455': 0.4373847842216491...</td>\n",
       "      <td>[{'text': 'Due to Eric's departure from the show at the beginning of its eighth season, Eric was no longer the central focus of the show, though his character was still heavily used to influence e...</td>\n",
       "    </tr>\n",
       "    <tr>\n",
       "      <th>3450</th>\n",
       "      <td>test3450</td>\n",
       "      <td>where does the great outdoors movie take place</td>\n",
       "      <td>[doc117662, doc117663]</td>\n",
       "      <td>[{'text': 'The film follows two families spending time on vacation in Wisconsin.', 'title': 'The Great Outdoors (film)'}, {'text': 'Chicagoan Chester \"Chet\" Ripley, his wife, Connie, and their two...</td>\n",
       "      <td>{'doc117662': 0.7158812880516052, 'doc117663': 0.5027114152908325, 'doc114945': 0.49752727150917053, 'doc74463': 0.4890879988670349, 'doc83379': 0.47689753770828247, 'doc53915': 0.4764283895492553...</td>\n",
       "      <td>[{'text': 'The film follows two families spending time on vacation in Wisconsin.', 'title': 'The Great Outdoors (film)'}, {'text': 'Chicagoan Chester \"Chet\" Ripley, his wife, Connie, and their two...</td>\n",
       "    </tr>\n",
       "    <tr>\n",
       "      <th>3451</th>\n",
       "      <td>test3451</td>\n",
       "      <td>when will notre dame played michigan state again</td>\n",
       "      <td>[doc117680]</td>\n",
       "      <td>[{'text': 'The rivalry includes several notable games, such as the 1966 game, arguably one of the greatest college football games ever played. Notre Dame currently leads the series. Games played p...</td>\n",
       "      <td>{'doc117680': 0.709452748298645, 'doc71303': 0.49406200647354126, 'doc63585': 0.44301706552505493, 'doc35479': 0.43796661496162415, 'doc55320': 0.43766701221466064, 'doc35474': 0.43199896812438965...</td>\n",
       "      <td>[{'text': 'The rivalry includes several notable games, such as the 1966 game, arguably one of the greatest college football games ever played. Notre Dame currently leads the series. Games played p...</td>\n",
       "    </tr>\n",
       "  </tbody>\n",
       "</table>\n",
       "<p>3452 rows × 6 columns</p>\n",
       "</div>"
      ],
      "text/plain": [
       "           key                                              query  \\\n",
       "0        test0  what is non controlling interest on balance sheet   \n",
       "1        test1     how many episodes are in chicago fire season 4   \n",
       "2        test2    who sings love will keep us alive by the eagles   \n",
       "3        test3          who is the leader of the ontario pc party   \n",
       "4        test4    nitty gritty dirt band fishin in the dark album   \n",
       "...        ...                                                ...   \n",
       "3447  test3447             when is the met office leaving the bbc   \n",
       "3448  test3448          where does junior want to go to find hope   \n",
       "3449  test3449         who does eric end up with in that 70s show   \n",
       "3450  test3450     where does the great outdoors movie take place   \n",
       "3451  test3451   when will notre dame played michigan state again   \n",
       "\n",
       "                   gold_docs  \\\n",
       "0               [doc0, doc1]   \n",
       "1                     [doc6]   \n",
       "2                    [doc10]   \n",
       "3             [doc17, doc18]   \n",
       "4                    [doc42]   \n",
       "...                      ...   \n",
       "3447             [doc117531]   \n",
       "3448             [doc117567]   \n",
       "3449  [doc117643, doc117646]   \n",
       "3450  [doc117662, doc117663]   \n",
       "3451             [doc117680]   \n",
       "\n",
       "                                                                                                                                                                                               gold_docs_text  \\\n",
       "0     [{'text': 'In accounting, minority interest (or non-controlling interest) is the portion of a subsidiary corporation's stock that is not owned by the parent corporation. The magnitude of the minor...   \n",
       "1     [{'text': 'The fourth season of Chicago Fire, an American drama television series with executive producer Dick Wolf, and producers Derek Haas, Michael Brandt, and Matt Olmstead, was ordered on Feb...   \n",
       "2     [{'text': '\"Love Will Keep Us Alive\" is a song written by Jim Capaldi, Paul Carrack, and Peter Vale, and produced by the Eagles, Elliot Scheiner, and Rob Jacobs. It was first performed by the Eagl...   \n",
       "3     [{'text': 'Patrick Walter Brown MPP (born May 26, 1978) is a Canadian politician who is the leader of the Progressive Conservative Party of Ontario and Ontario's Leader of the Official Opposition....   \n",
       "4     [{'text': '\"Fishin' in the Dark\" is a song written by Wendy Waldman and Jim Photoglo and recorded by American country music group The Nitty Gritty Dirt Band. It was released in June 1987 as the se...   \n",
       "...                                                                                                                                                                                                       ...   \n",
       "3447  [{'text': 'On 23 August 2015, the BBC announced that the Met Office will lose its contract as the BBC is legally obliged to ensure that licence fee payers get the best value for money. MeteoGroup ...   \n",
       "3448  [{'text': 'Throughout the novel, Junior shares his dreams with the readers. In the first chapter, he dreams of becoming a cartoon artist in order to get rich and escape the cycles of poverty and a...   \n",
       "3449  [{'text': 'Regretting it instantly, Eric goes to find her to once again reconcile, and learns that she and Michael have taken off for California where they spend the remainder of the summer. Despi...   \n",
       "3450  [{'text': 'The film follows two families spending time on vacation in Wisconsin.', 'title': 'The Great Outdoors (film)'}, {'text': 'Chicagoan Chester \"Chet\" Ripley, his wife, Connie, and their two...   \n",
       "3451  [{'text': 'The rivalry includes several notable games, such as the 1966 game, arguably one of the greatest college football games ever played. Notre Dame currently leads the series. Games played p...   \n",
       "\n",
       "                                                                                                                                                                                                      results  \\\n",
       "0     {'doc0': 0.6976444125175476, 'doc1': 0.6396650075912476, 'doc52131': 0.5661276578903198, 'doc37281': 0.4707511365413666, 'doc103592': 0.4688764214515686, 'doc69384': 0.4668482542037964, 'doc21144'...   \n",
       "1     {'doc6': 0.8000181913375854, 'doc23040': 0.6540364623069763, 'doc109460': 0.6424875259399414, 'doc25878': 0.6077133417129517, 'doc103787': 0.5803894400596619, 'doc68415': 0.5647706389427185, 'doc7...   \n",
       "2     {'doc10': 0.793368935585022, 'doc43761': 0.4912663698196411, 'doc33209': 0.4636683762073517, 'doc102649': 0.4517684876918793, 'doc12083': 0.45116615295410156, 'doc93272': 0.44938331842422485, 'doc...   \n",
       "3     {'doc18': 0.7136879563331604, 'doc17': 0.6641680598258972, 'doc1215': 0.47546347975730896, 'doc25699': 0.4669022560119629, 'doc51063': 0.4437679052352905, 'doc109336': 0.440820574760437, 'doc88621...   \n",
       "4     {'doc42': 0.7535380125045776, 'doc60487': 0.46759092807769775, 'doc3859': 0.4553712010383606, 'doc35855': 0.44975847005844116, 'doc86295': 0.44747328758239746, 'doc90474': 0.44683635234832764, 'do...   \n",
       "...                                                                                                                                                                                                       ...   \n",
       "3447  {'doc117531': 0.7772749662399292, 'doc11580': 0.5452356338500977, 'doc93814': 0.49839359521865845, 'doc28754': 0.46202582120895386, 'doc58479': 0.4590458571910858, 'doc92028': 0.41726332902908325,...   \n",
       "3448  {'doc117567': 0.5255041122436523, 'doc45843': 0.43827423453330994, 'doc45845': 0.4089242219924927, 'doc56023': 0.37942594289779663, 'doc86818': 0.37746402621269226, 'doc105381': 0.3739920258522033...   \n",
       "3449  {'doc117646': 0.5370627641677856, 'doc106005': 0.5214886665344238, 'doc117643': 0.5081065893173218, 'doc81007': 0.47155511379241943, 'doc14083': 0.4462912678718567, 'doc106455': 0.4373847842216491...   \n",
       "3450  {'doc117662': 0.7158812880516052, 'doc117663': 0.5027114152908325, 'doc114945': 0.49752727150917053, 'doc74463': 0.4890879988670349, 'doc83379': 0.47689753770828247, 'doc53915': 0.4764283895492553...   \n",
       "3451  {'doc117680': 0.709452748298645, 'doc71303': 0.49406200647354126, 'doc63585': 0.44301706552505493, 'doc35479': 0.43796661496162415, 'doc55320': 0.43766701221466064, 'doc35474': 0.43199896812438965...   \n",
       "\n",
       "                                                                                                                                                                                        predicted_docs_text_5  \n",
       "0     [{'text': 'In accounting, minority interest (or non-controlling interest) is the portion of a subsidiary corporation's stock that is not owned by the parent corporation. The magnitude of the minor...  \n",
       "1     [{'text': 'The fourth season of Chicago Fire, an American drama television series with executive producer Dick Wolf, and producers Derek Haas, Michael Brandt, and Matt Olmstead, was ordered on Feb...  \n",
       "2     [{'text': '\"Love Will Keep Us Alive\" is a song written by Jim Capaldi, Paul Carrack, and Peter Vale, and produced by the Eagles, Elliot Scheiner, and Rob Jacobs. It was first performed by the Eagl...  \n",
       "3     [{'text': 'In May 2015, Brown was elected leader of the Ontario PC Party, and stepped down as MP. He was elected Member of Provincial Parliament (MPP) for Simcoe North in a provincial by-election ...  \n",
       "4     [{'text': '\"Fishin' in the Dark\" is a song written by Wendy Waldman and Jim Photoglo and recorded by American country music group The Nitty Gritty Dirt Band. It was released in June 1987 as the se...  \n",
       "...                                                                                                                                                                                                       ...  \n",
       "3447  [{'text': 'On 23 August 2015, the BBC announced that the Met Office will lose its contract as the BBC is legally obliged to ensure that licence fee payers get the best value for money. MeteoGroup ...  \n",
       "3448  [{'text': 'Throughout the novel, Junior shares his dreams with the readers. In the first chapter, he dreams of becoming a cartoon artist in order to get rich and escape the cycles of poverty and a...  \n",
       "3449  [{'text': 'Due to Eric's departure from the show at the beginning of its eighth season, Eric was no longer the central focus of the show, though his character was still heavily used to influence e...  \n",
       "3450  [{'text': 'The film follows two families spending time on vacation in Wisconsin.', 'title': 'The Great Outdoors (film)'}, {'text': 'Chicagoan Chester \"Chet\" Ripley, his wife, Connie, and their two...  \n",
       "3451  [{'text': 'The rivalry includes several notable games, such as the 1966 game, arguably one of the greatest college football games ever played. Notre Dame currently leads the series. Games played p...  \n",
       "\n",
       "[3452 rows x 6 columns]"
      ]
     },
     "execution_count": 23,
     "metadata": {},
     "output_type": "execute_result"
    }
   ],
   "source": [
    "import torch\n",
    "import pickle\n",
    "import numpy as np\n",
    "import pandas as pd\n",
    "import os\n",
    "from dotenv import load_dotenv\n",
    "from huggingface_hub import login\n",
    "load_dotenv()\n",
    "login(os.environ[\"HF_API_TOKEN\"])\n",
    "pd.set_option('display.max_colwidth', 200)\n",
    "\n",
    "# df = pd.read_json(\"hf://datasets/mohsenfayyaz/misc/res_triviaqa_test_w_gs.jsonl\", lines=True)\n",
    "# df.to_json(\"./res_triviaqa_test_w_gs.jsonl\", lines=True, orient=\"records\")\n",
    "\n",
    "df_dict = []\n",
    "sorted_results = {k: dict(sorted(v.items(), key=lambda item: item[1], reverse=True)) for k, v in results.items()}\n",
    "for key in tqdm(sorted_results.keys()):\n",
    "    df_dict.append({\n",
    "        \"key\": key,\n",
    "        \"query\": queries[key],\n",
    "        \"gold_docs\": [k for k, v in qrels[key].items()],\n",
    "        \"gold_docs_text\": [corpus[k] for k, v in qrels[key].items()],\n",
    "        \"results\": sorted_results[key],\n",
    "        \"predicted_docs_text_5\": [corpus[k] for k, v in dict(list(sorted_results[key].items())[:5]).items()],\n",
    "    })\n",
    "df = pd.DataFrame(df_dict)\n",
    "df.attrs['eval'] = {\"ndcg\": ndcg, \"map\": _map, \"recall\": recall, \"precision\": precision}\n",
    "hf_path = f\"hf://datasets/Retriever-Contextualization/datasets/{DATASET}/{MODEL.replace('/', '--')}_corpus{len(corpus)}.parquet\"\n",
    "df.to_parquet(hf_path)\n",
    "print(\"UPLOADED:\", hf_path)\n",
    "df"
   ]
  },
  {
   "cell_type": "code",
   "execution_count": 24,
   "id": "98e9ea9b-d92b-4c7a-97d8-2cc45d281188",
   "metadata": {
    "scrolled": true
   },
   "outputs": [
    {
     "data": {
      "text/plain": [
       "{'doc0': 1, 'doc1': 1}"
      ]
     },
     "execution_count": 24,
     "metadata": {},
     "output_type": "execute_result"
    }
   ],
   "source": [
    "qrels[\"test0\"]"
   ]
  },
  {
   "cell_type": "code",
   "execution_count": null,
   "id": "42c5c274-3c82-4699-a99e-4566f8fa8d64",
   "metadata": {},
   "outputs": [],
   "source": []
  }
 ],
 "metadata": {
  "kernelspec": {
   "display_name": "Python 3 (ipykernel)",
   "language": "python",
   "name": "python3"
  },
  "language_info": {
   "codemirror_mode": {
    "name": "ipython",
    "version": 3
   },
   "file_extension": ".py",
   "mimetype": "text/x-python",
   "name": "python",
   "nbconvert_exporter": "python",
   "pygments_lexer": "ipython3",
   "version": "3.11.9"
  }
 },
 "nbformat": 4,
 "nbformat_minor": 5
}
