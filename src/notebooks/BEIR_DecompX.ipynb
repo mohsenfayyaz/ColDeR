{
 "cells": [
  {
   "cell_type": "code",
   "execution_count": null,
   "id": "5de5453a-3e3a-4c97-897f-f52f8f92d97e",
   "metadata": {
    "scrolled": true
   },
   "outputs": [],
   "source": [
    "! git clone https://github.com/mohsenfayyaz/DecompX.git\n",
    "! pip install datasets"
   ]
  },
  {
   "cell_type": "code",
   "execution_count": null,
   "id": "1e84012c",
   "metadata": {},
   "outputs": [],
   "source": []
  },
  {
   "cell_type": "code",
   "execution_count": 1,
   "id": "d65d6e7f-a7ba-4823-9005-e1b9d58fb21b",
   "metadata": {},
   "outputs": [
    {
     "name": "stderr",
     "output_type": "stream",
     "text": [
      "/mounts/Users/cisintern/amodaresi/.local/lib/python3.10/site-packages/tqdm/auto.py:21: TqdmWarning: IProgress not found. Please update jupyter and ipywidgets. See https://ipywidgets.readthedocs.io/en/stable/user_install.html\n",
      "  from .autonotebook import tqdm as notebook_tqdm\n"
     ]
    },
    {
     "name": "stdout",
     "output_type": "stream",
     "text": [
      "Token will not been saved to git credential helper. Pass `add_to_git_credential=True` if you want to set the git credential as well.\n",
      "Token is valid.\n",
      "Your token has been saved to /mounts/Users/cisintern/amodaresi/.cache/huggingface/token\n",
      "Login successful\n"
     ]
    }
   ],
   "source": [
    "import os\n",
    "os.chdir('/mounts/Users/cisintern/amodaresi/Projects/Retriever-Contextualization/')\n",
    "# from dotenv import load_dotenv\n",
    "from huggingface_hub import login\n",
    "\n",
    "# load_dotenv()\n",
    "login(os.environ[\"HF_TOKEN\"])\n",
    "# print(\"CUDA_VISIBLE_DEVICES:\", os.environ[\"CUDA_VISIBLE_DEVICES\"], \"HF_HOME:\", os.environ[\"HF_HOME\"])\n",
    "os.environ[\"CUDA_VISIBLE_DEVICES\"] = \"5\""
   ]
  },
  {
   "cell_type": "code",
   "execution_count": 2,
   "id": "c18e5c89-c44e-4ba7-ab68-bf8dcde17246",
   "metadata": {},
   "outputs": [
    {
     "data": {
      "text/html": [
       "<div>\n",
       "<style scoped>\n",
       "    .dataframe tbody tr th:only-of-type {\n",
       "        vertical-align: middle;\n",
       "    }\n",
       "\n",
       "    .dataframe tbody tr th {\n",
       "        vertical-align: top;\n",
       "    }\n",
       "\n",
       "    .dataframe thead th {\n",
       "        text-align: right;\n",
       "    }\n",
       "</style>\n",
       "<table border=\"1\" class=\"dataframe\">\n",
       "  <thead>\n",
       "    <tr style=\"text-align: right;\">\n",
       "      <th></th>\n",
       "      <th>key</th>\n",
       "      <th>query</th>\n",
       "      <th>gold_docs</th>\n",
       "      <th>gold_docs_text</th>\n",
       "      <th>results</th>\n",
       "      <th>predicted_docs_text_5</th>\n",
       "    </tr>\n",
       "  </thead>\n",
       "  <tbody>\n",
       "    <tr>\n",
       "      <th>0</th>\n",
       "      <td>test0</td>\n",
       "      <td>what is non controlling interest on balance sheet</td>\n",
       "      <td>[doc0, doc1]</td>\n",
       "      <td>[{'text': 'In accounting, minority interest (o...</td>\n",
       "      <td>{'doc0': 0.6976444125175476, 'doc1': 0.6396650...</td>\n",
       "      <td>[{'text': 'In accounting, minority interest (o...</td>\n",
       "    </tr>\n",
       "    <tr>\n",
       "      <th>1</th>\n",
       "      <td>test1</td>\n",
       "      <td>how many episodes are in chicago fire season 4</td>\n",
       "      <td>[doc6]</td>\n",
       "      <td>[{'text': 'The fourth season of Chicago Fire, ...</td>\n",
       "      <td>{'doc0': None, 'doc1': None, 'doc10': 0.277735...</td>\n",
       "      <td>[{'text': 'The fourth season of Chicago Fire, ...</td>\n",
       "    </tr>\n",
       "    <tr>\n",
       "      <th>2</th>\n",
       "      <td>test2</td>\n",
       "      <td>who sings love will keep us alive by the eagles</td>\n",
       "      <td>[doc10]</td>\n",
       "      <td>[{'text': '\"Love Will Keep Us Alive\" is a song...</td>\n",
       "      <td>{'doc0': None, 'doc1': None, 'doc10': 0.793368...</td>\n",
       "      <td>[{'text': '\"Love Will Keep Us Alive\" is a song...</td>\n",
       "    </tr>\n",
       "    <tr>\n",
       "      <th>3</th>\n",
       "      <td>test3</td>\n",
       "      <td>who is the leader of the ontario pc party</td>\n",
       "      <td>[doc17, doc18]</td>\n",
       "      <td>[{'text': 'Patrick Walter Brown MPP (born May ...</td>\n",
       "      <td>{'doc0': None, 'doc1': None, 'doc10': None, 'd...</td>\n",
       "      <td>[{'text': 'In May 2015, Brown was elected lead...</td>\n",
       "    </tr>\n",
       "    <tr>\n",
       "      <th>4</th>\n",
       "      <td>test4</td>\n",
       "      <td>nitty gritty dirt band fishin in the dark album</td>\n",
       "      <td>[doc42]</td>\n",
       "      <td>[{'text': '\"Fishin' in the Dark\" is a song wri...</td>\n",
       "      <td>{'doc0': None, 'doc1': None, 'doc10': 0.337679...</td>\n",
       "      <td>[{'text': '\"Fishin' in the Dark\" is a song wri...</td>\n",
       "    </tr>\n",
       "    <tr>\n",
       "      <th>...</th>\n",
       "      <td>...</td>\n",
       "      <td>...</td>\n",
       "      <td>...</td>\n",
       "      <td>...</td>\n",
       "      <td>...</td>\n",
       "      <td>...</td>\n",
       "    </tr>\n",
       "    <tr>\n",
       "      <th>3447</th>\n",
       "      <td>test3447</td>\n",
       "      <td>when is the met office leaving the bbc</td>\n",
       "      <td>[doc117531]</td>\n",
       "      <td>[{'text': 'On 23 August 2015, the BBC announce...</td>\n",
       "      <td>{'doc0': None, 'doc1': None, 'doc10': 0.277022...</td>\n",
       "      <td>[{'text': 'On 23 August 2015, the BBC announce...</td>\n",
       "    </tr>\n",
       "    <tr>\n",
       "      <th>3448</th>\n",
       "      <td>test3448</td>\n",
       "      <td>where does junior want to go to find hope</td>\n",
       "      <td>[doc117567]</td>\n",
       "      <td>[{'text': 'Throughout the novel, Junior shares...</td>\n",
       "      <td>{'doc0': None, 'doc1': None, 'doc10': None, 'd...</td>\n",
       "      <td>[{'text': 'Throughout the novel, Junior shares...</td>\n",
       "    </tr>\n",
       "    <tr>\n",
       "      <th>3449</th>\n",
       "      <td>test3449</td>\n",
       "      <td>who does eric end up with in that 70s show</td>\n",
       "      <td>[doc117643, doc117646]</td>\n",
       "      <td>[{'text': 'Regretting it instantly, Eric goes ...</td>\n",
       "      <td>{'doc0': None, 'doc1': None, 'doc10': 0.312646...</td>\n",
       "      <td>[{'text': 'Due to Eric's departure from the sh...</td>\n",
       "    </tr>\n",
       "    <tr>\n",
       "      <th>3450</th>\n",
       "      <td>test3450</td>\n",
       "      <td>where does the great outdoors movie take place</td>\n",
       "      <td>[doc117662, doc117663]</td>\n",
       "      <td>[{'text': 'The film follows two families spend...</td>\n",
       "      <td>{'doc0': None, 'doc1': None, 'doc10': None, 'd...</td>\n",
       "      <td>[{'text': 'The film follows two families spend...</td>\n",
       "    </tr>\n",
       "    <tr>\n",
       "      <th>3451</th>\n",
       "      <td>test3451</td>\n",
       "      <td>when will notre dame played michigan state again</td>\n",
       "      <td>[doc117680]</td>\n",
       "      <td>[{'text': 'The rivalry includes several notabl...</td>\n",
       "      <td>{'doc0': None, 'doc1': None, 'doc10': 0.258256...</td>\n",
       "      <td>[{'text': 'The rivalry includes several notabl...</td>\n",
       "    </tr>\n",
       "  </tbody>\n",
       "</table>\n",
       "<p>3452 rows × 6 columns</p>\n",
       "</div>"
      ],
      "text/plain": [
       "           key                                              query  \\\n",
       "0        test0  what is non controlling interest on balance sheet   \n",
       "1        test1     how many episodes are in chicago fire season 4   \n",
       "2        test2    who sings love will keep us alive by the eagles   \n",
       "3        test3          who is the leader of the ontario pc party   \n",
       "4        test4    nitty gritty dirt band fishin in the dark album   \n",
       "...        ...                                                ...   \n",
       "3447  test3447             when is the met office leaving the bbc   \n",
       "3448  test3448          where does junior want to go to find hope   \n",
       "3449  test3449         who does eric end up with in that 70s show   \n",
       "3450  test3450     where does the great outdoors movie take place   \n",
       "3451  test3451   when will notre dame played michigan state again   \n",
       "\n",
       "                   gold_docs  \\\n",
       "0               [doc0, doc1]   \n",
       "1                     [doc6]   \n",
       "2                    [doc10]   \n",
       "3             [doc17, doc18]   \n",
       "4                    [doc42]   \n",
       "...                      ...   \n",
       "3447             [doc117531]   \n",
       "3448             [doc117567]   \n",
       "3449  [doc117643, doc117646]   \n",
       "3450  [doc117662, doc117663]   \n",
       "3451             [doc117680]   \n",
       "\n",
       "                                         gold_docs_text  \\\n",
       "0     [{'text': 'In accounting, minority interest (o...   \n",
       "1     [{'text': 'The fourth season of Chicago Fire, ...   \n",
       "2     [{'text': '\"Love Will Keep Us Alive\" is a song...   \n",
       "3     [{'text': 'Patrick Walter Brown MPP (born May ...   \n",
       "4     [{'text': '\"Fishin' in the Dark\" is a song wri...   \n",
       "...                                                 ...   \n",
       "3447  [{'text': 'On 23 August 2015, the BBC announce...   \n",
       "3448  [{'text': 'Throughout the novel, Junior shares...   \n",
       "3449  [{'text': 'Regretting it instantly, Eric goes ...   \n",
       "3450  [{'text': 'The film follows two families spend...   \n",
       "3451  [{'text': 'The rivalry includes several notabl...   \n",
       "\n",
       "                                                results  \\\n",
       "0     {'doc0': 0.6976444125175476, 'doc1': 0.6396650...   \n",
       "1     {'doc0': None, 'doc1': None, 'doc10': 0.277735...   \n",
       "2     {'doc0': None, 'doc1': None, 'doc10': 0.793368...   \n",
       "3     {'doc0': None, 'doc1': None, 'doc10': None, 'd...   \n",
       "4     {'doc0': None, 'doc1': None, 'doc10': 0.337679...   \n",
       "...                                                 ...   \n",
       "3447  {'doc0': None, 'doc1': None, 'doc10': 0.277022...   \n",
       "3448  {'doc0': None, 'doc1': None, 'doc10': None, 'd...   \n",
       "3449  {'doc0': None, 'doc1': None, 'doc10': 0.312646...   \n",
       "3450  {'doc0': None, 'doc1': None, 'doc10': None, 'd...   \n",
       "3451  {'doc0': None, 'doc1': None, 'doc10': 0.258256...   \n",
       "\n",
       "                                  predicted_docs_text_5  \n",
       "0     [{'text': 'In accounting, minority interest (o...  \n",
       "1     [{'text': 'The fourth season of Chicago Fire, ...  \n",
       "2     [{'text': '\"Love Will Keep Us Alive\" is a song...  \n",
       "3     [{'text': 'In May 2015, Brown was elected lead...  \n",
       "4     [{'text': '\"Fishin' in the Dark\" is a song wri...  \n",
       "...                                                 ...  \n",
       "3447  [{'text': 'On 23 August 2015, the BBC announce...  \n",
       "3448  [{'text': 'Throughout the novel, Junior shares...  \n",
       "3449  [{'text': 'Due to Eric's departure from the sh...  \n",
       "3450  [{'text': 'The film follows two families spend...  \n",
       "3451  [{'text': 'The rivalry includes several notabl...  \n",
       "\n",
       "[3452 rows x 6 columns]"
      ]
     },
     "execution_count": 2,
     "metadata": {},
     "output_type": "execute_result"
    }
   ],
   "source": [
    "import torch\n",
    "import numpy as np\n",
    "import pandas as pd\n",
    "from tqdm.auto import tqdm\n",
    "import matplotlib.pyplot as plt\n",
    "import matplotlib\n",
    "from IPython.display import display, HTML\n",
    "import transformers\n",
    "from transformers import AutoTokenizer, AutoConfig\n",
    "\n",
    "from DecompX.src.decompx_utils import DecompXConfig\n",
    "from DecompX.src.modeling_bert import BertForSequenceClassification, BertModel\n",
    "from DecompX.src.modeling_roberta import RobertaForSequenceClassification, RobertaModel\n",
    "\n",
    "df = pd.read_parquet(\"hf://datasets/Retriever-Contextualization/datasets/nq/facebook--contriever-msmarco_corpus4201.parquet\")\n",
    "df"
   ]
  },
  {
   "cell_type": "code",
   "execution_count": 3,
   "id": "a01a495f-0123-4339-81a4-38728398fa0e",
   "metadata": {},
   "outputs": [
    {
     "name": "stderr",
     "output_type": "stream",
     "text": [
      "Downloading: 100%|██████████| 321/321 [00:00<00:00, 1.40MB/s]\n",
      "Downloading: 100%|██████████| 226k/226k [00:00<00:00, 1.24MB/s]\n",
      "Downloading: 100%|██████████| 455k/455k [00:00<00:00, 9.78MB/s]\n",
      "Downloading: 100%|██████████| 112/112 [00:00<00:00, 453kB/s]\n",
      "Downloading: 100%|██████████| 619/619 [00:00<00:00, 1.79MB/s]\n",
      "Downloading: 100%|██████████| 418M/418M [00:02<00:00, 148MB/s]  \n"
     ]
    }
   ],
   "source": [
    "DATASET = df.attrs[\"dataset\"]\n",
    "MODEL = df.attrs[\"model\"]  # 'facebook/contriever-msmarco'  # Only BERT or RoBERTa\n",
    "DEVICE = \"cuda\" if torch.cuda.is_available() else \"cpu\"\n",
    "CONFIGS = {\n",
    "    \"DecompX\":\n",
    "        DecompXConfig(\n",
    "            include_biases=True,\n",
    "            bias_decomp_type=\"absdot\",\n",
    "            include_LN1=True,\n",
    "            include_FFN=True,\n",
    "            FFN_approx_type=\"GeLU_ZO\",\n",
    "            include_LN2=True,\n",
    "            aggregation=\"vector\",\n",
    "            include_classifier_w_pooler=True,\n",
    "            tanh_approx_type=\"ZO\",\n",
    "            output_all_layers=True,\n",
    "            output_attention=None,\n",
    "            output_res1=None,\n",
    "            output_LN1=None,\n",
    "            output_FFN=None,\n",
    "            output_res2=None,\n",
    "            output_encoder=None,\n",
    "            output_aggregated=\"vector\",  # Changed\n",
    "            output_pooler=\"norm\",\n",
    "            output_classifier=True,\n",
    "        ),\n",
    "}\n",
    "\n",
    "def load_model_tokenizer(model_name):\n",
    "    tokenizer = AutoTokenizer.from_pretrained(model_name)\n",
    "    model_config = AutoConfig.from_pretrained(model_name)\n",
    "    if type(model_config) is transformers.models.roberta.configuration_roberta.RobertaConfig:\n",
    "        model = RobertaModel.from_pretrained(model_name)\n",
    "    elif type(model_config) is transformers.models.bert.configuration_bert.BertConfig:\n",
    "        model = BertModel.from_pretrained(model_name)\n",
    "    else:\n",
    "        raise Exception(f\"Not implemented model: {model_name}\")\n",
    "    return model, tokenizer\n",
    "\n",
    "model, tokenizer = load_model_tokenizer(MODEL)"
   ]
  },
  {
   "cell_type": "code",
   "execution_count": 4,
   "id": "b12b4a31-9836-41f5-a684-f6ba2ae415b4",
   "metadata": {},
   "outputs": [],
   "source": [
    "from IPython.display import display, HTML\n",
    "import matplotlib.pyplot as plt\n",
    "import matplotlib\n",
    "\n",
    "def print_importance(importance, tokenized_text, discrete=False, prefix=\"\"):\n",
    "    \"\"\"\n",
    "    importance: (sent_len)\n",
    "    \"\"\"\n",
    "    assert len(importance) == len(tokenized_text)\n",
    "    importance = importance / np.abs(importance).max() / 1.0  # Normalize\n",
    "    if discrete:\n",
    "        importance = np.argsort(np.argsort(importance)) / len(importance) / 1.6\n",
    "\n",
    "    html = \"<pre style='line-height: 28px; display: flex; flex-flow: row wrap; width: 700px;'>\"+prefix\n",
    "    for i in range(len(tokenized_text)):\n",
    "        if importance[i] > 0:\n",
    "            rgba = matplotlib.cm.get_cmap('Reds')(importance[i] * .7)   # Wistia\n",
    "        else:\n",
    "            rgba = matplotlib.cm.get_cmap('Greens')(np.abs(importance[i]) + .5)   # Wistia\n",
    "        text_color = \"color: rgba(255, 255, 255, 1.0); \" if np.abs(importance[i]) > 1 else \"color: rgba(10, 10, 10, 1.0); \"\n",
    "        color = f\"background-color: rgba({rgba[0]*255}, {rgba[1]*255}, {rgba[2]*255}, {rgba[3]}); \" + text_color\n",
    "        html += (f\"<div style='\"\n",
    "                 f\"{color}\"\n",
    "                 f\"border-radius: 5px; padding: 2px; margin: 1px;\"\n",
    "                 f\"font-weight: {int(800)};\"\n",
    "                 \"width: fit-content; display: flex;\"\n",
    "                 \"'>\")\n",
    "        html += tokenized_text[i].replace('<', \"[\").replace(\">\", \"]\")\n",
    "        html += \"</div> \"\n",
    "        if tokenized_text[i] in [\"hypothesis,\", \"hold.\", '\"contradiction\"']:\n",
    "            html += '<br>'\n",
    "    return html\n",
    "\n",
    "def html_wrapper(htmls, desc=\"text\", legend=\"?\"):\n",
    "    html = \"\"\n",
    "    head = \"\"\"\n",
    "    <head>\n",
    "    <style>\n",
    "        @media print {\n",
    "            -webkit-print-color-adjust: exact;\n",
    "        }\n",
    "        fieldset {\n",
    "            max-width: 1000px; padding: 8px; border-radius: 20px; border: 3px solid rgb(15, 200, 200); background: white;\n",
    "        }\n",
    "        legend {\n",
    "            margin-left: 10px; padding: 7px; padding-left: 20px; padding-right: 20px; border: 2px solid rgb(15, 200, 200);\n",
    "            border-radius: 20px; background: white;\n",
    "            /*font-family: Arial !important;*/\n",
    "            font-weight: 600;\n",
    "        }\n",
    "        table tr td {\n",
    "            white-space: nowrap; padding: 5px;\n",
    "        }\n",
    "    </style>\n",
    "    </head>\n",
    "    \"\"\"\n",
    "    html += head\n",
    "    html += f\"\"\"\n",
    "        <fieldset>\n",
    "            <legend>{legend}</legend>\n",
    "            <table style='width: 800px; font-weight: 600;'>\n",
    "            \"\"\"\n",
    "    for i in range(len(htmls)):\n",
    "        html += \"\"\"\n",
    "        <tr>\n",
    "        \"\"\"\n",
    "        html += f\"<td style='text-align: center; width: 100px;'>{desc}:</td><td>\"\n",
    "        html += htmls[i]\n",
    "        html += \"</td></tr>\"\n",
    "    html += \"</table>\"\n",
    "    return html"
   ]
  },
  {
   "cell_type": "code",
   "execution_count": 35,
   "id": "38f18d88-6148-4372-9e88-7bf155f737f5",
   "metadata": {},
   "outputs": [
    {
     "name": "stdout",
     "output_type": "stream",
     "text": [
      "how many seasons of from dusk till dawn are there\n",
      "torch.Size([1, 12, 768])\n",
      "torch.Size([1, 65, 768])\n"
     ]
    },
    {
     "name": "stderr",
     "output_type": "stream",
     "text": [
      "/tmp/ipykernel_2981060/477081203.py:19: MatplotlibDeprecationWarning: The get_cmap function was deprecated in Matplotlib 3.7 and will be removed two minor releases later. Use ``matplotlib.colormaps[name]`` or ``matplotlib.colormaps.get_cmap(obj)`` instead.\n",
      "  rgba = matplotlib.cm.get_cmap('Greens')(np.abs(importance[i]) + .5)   # Wistia\n",
      "/tmp/ipykernel_2981060/477081203.py:17: MatplotlibDeprecationWarning: The get_cmap function was deprecated in Matplotlib 3.7 and will be removed two minor releases later. Use ``matplotlib.colormaps[name]`` or ``matplotlib.colormaps.get_cmap(obj)`` instead.\n",
      "  rgba = matplotlib.cm.get_cmap('Reds')(importance[i] * .7)   # Wistia\n"
     ]
    },
    {
     "data": {
      "text/html": [
       "\n",
       "    <head>\n",
       "    <style>\n",
       "        @media print {\n",
       "            -webkit-print-color-adjust: exact;\n",
       "        }\n",
       "        fieldset {\n",
       "            max-width: 1000px; padding: 8px; border-radius: 20px; border: 3px solid rgb(15, 200, 200); background: white;\n",
       "        }\n",
       "        legend {\n",
       "            margin-left: 10px; padding: 7px; padding-left: 20px; padding-right: 20px; border: 2px solid rgb(15, 200, 200);\n",
       "            border-radius: 20px; background: white;\n",
       "            /*font-family: Arial !important;*/\n",
       "            font-weight: 600;\n",
       "        }\n",
       "        table tr td {\n",
       "            white-space: nowrap; padding: 5px;\n",
       "        }\n",
       "    </style>\n",
       "    </head>\n",
       "    \n",
       "        <fieldset>\n",
       "            <legend>nq, facebook/contriever-msmarco, idx=110</legend>\n",
       "            <table style='width: 800px; font-weight: 600;'>\n",
       "            \n",
       "        <tr>\n",
       "        <td style='text-align: center; width: 100px;'>Query:</td><td><pre style='line-height: 28px; display: flex; flex-flow: row wrap; width: 700px;'><div style='background-color: rgba(0.0, 68.0, 27.0, 1.0); color: rgba(10, 10, 10, 1.0); border-radius: 5px; padding: 2px; margin: 1px;font-weight: 800;width: fit-content; display: flex;'>[CLS]</div> <div style='background-color: rgba(254.84313725490196, 241.7058823529412, 235.2941176470588, 1.0); color: rgba(10, 10, 10, 1.0); border-radius: 5px; padding: 2px; margin: 1px;font-weight: 800;width: fit-content; display: flex;'>how</div> <div style='background-color: rgba(108.80000000000005, 192.47058823529417, 114.47058823529414, 1.0); color: rgba(10, 10, 10, 1.0); border-radius: 5px; padding: 2px; margin: 1px;font-weight: 800;width: fit-content; display: flex;'>many</div> <div style='background-color: rgba(216.83529411764704, 37.450980392156865, 34.764705882352935, 1.0); color: rgba(10, 10, 10, 1.0); border-radius: 5px; padding: 2px; margin: 1px;font-weight: 800;width: fit-content; display: flex;'>seasons</div> <div style='background-color: rgba(91.2, 183.84313725490196, 105.84313725490196, 1.0); color: rgba(10, 10, 10, 1.0); border-radius: 5px; padding: 2px; margin: 1px;font-weight: 800;width: fit-content; display: flex;'>of</div> <div style='background-color: rgba(254.46666666666667, 233.8, 224.0, 1.0); color: rgba(10, 10, 10, 1.0); border-radius: 5px; padding: 2px; margin: 1px;font-weight: 800;width: fit-content; display: flex;'>from</div> <div style='background-color: rgba(252.92549019607844, 204.12156862745098, 183.67450980392158, 1.0); color: rgba(10, 10, 10, 1.0); border-radius: 5px; padding: 2px; margin: 1px;font-weight: 800;width: fit-content; display: flex;'>dusk</div> <div style='background-color: rgba(252.8, 201.8, 180.6, 1.0); color: rgba(10, 10, 10, 1.0); border-radius: 5px; padding: 2px; margin: 1px;font-weight: 800;width: fit-content; display: flex;'>till</div> <div style='background-color: rgba(252.0, 150.6627450980392, 119.3450980392157, 1.0); color: rgba(10, 10, 10, 1.0); border-radius: 5px; padding: 2px; margin: 1px;font-weight: 800;width: fit-content; display: flex;'>dawn</div> <div style='background-color: rgba(113.6, 194.82352941176472, 116.82352941176471, 1.0); color: rgba(10, 10, 10, 1.0); border-radius: 5px; padding: 2px; margin: 1px;font-weight: 800;width: fit-content; display: flex;'>are</div> <div style='background-color: rgba(254.34117647058824, 231.16470588235296, 220.23529411764704, 1.0); color: rgba(10, 10, 10, 1.0); border-radius: 5px; padding: 2px; margin: 1px;font-weight: 800;width: fit-content; display: flex;'>there</div> <div style='background-color: rgba(254.87450980392157, 242.36470588235295, 236.23529411764707, 1.0); color: rgba(10, 10, 10, 1.0); border-radius: 5px; padding: 2px; margin: 1px;font-weight: 800;width: fit-content; display: flex;'>[SEP]</div> </td></tr></table>"
      ],
      "text/plain": [
       "<IPython.core.display.HTML object>"
      ]
     },
     "metadata": {},
     "output_type": "display_data"
    },
    {
     "data": {
      "text/html": [
       "\n",
       "    <head>\n",
       "    <style>\n",
       "        @media print {\n",
       "            -webkit-print-color-adjust: exact;\n",
       "        }\n",
       "        fieldset {\n",
       "            max-width: 1000px; padding: 8px; border-radius: 20px; border: 3px solid rgb(15, 200, 200); background: white;\n",
       "        }\n",
       "        legend {\n",
       "            margin-left: 10px; padding: 7px; padding-left: 20px; padding-right: 20px; border: 2px solid rgb(15, 200, 200);\n",
       "            border-radius: 20px; background: white;\n",
       "            /*font-family: Arial !important;*/\n",
       "            font-weight: 600;\n",
       "        }\n",
       "        table tr td {\n",
       "            white-space: nowrap; padding: 5px;\n",
       "        }\n",
       "    </style>\n",
       "    </head>\n",
       "    \n",
       "        <fieldset>\n",
       "            <legend>nq, facebook/contriever-msmarco, idx=110</legend>\n",
       "            <table style='width: 800px; font-weight: 600;'>\n",
       "            \n",
       "        <tr>\n",
       "        <td style='text-align: center; width: 100px;'>Gold Doc:</td><td><pre style='line-height: 28px; display: flex; flex-flow: row wrap; width: 700px;'><div style='background-color: rgba(0.0, 68.0, 27.0, 1.0); color: rgba(10, 10, 10, 1.0); border-radius: 5px; padding: 2px; margin: 1px;font-weight: 800;width: fit-content; display: flex;'>[CLS]</div> <div style='background-color: rgba(254.74901960784314, 239.72941176470587, 232.47058823529412, 1.0); color: rgba(10, 10, 10, 1.0); border-radius: 5px; padding: 2px; margin: 1px;font-weight: 800;width: fit-content; display: flex;'>on</div> <div style='background-color: rgba(254.37254901960785, 231.8235294117647, 221.17647058823528, 1.0); color: rgba(10, 10, 10, 1.0); border-radius: 5px; padding: 2px; margin: 1px;font-weight: 800;width: fit-content; display: flex;'>october</div> <div style='background-color: rgba(112.0, 194.0392156862745, 116.03921568627452, 1.0); color: rgba(10, 10, 10, 1.0); border-radius: 5px; padding: 2px; margin: 1px;font-weight: 800;width: fit-content; display: flex;'>26</div> <div style='background-color: rgba(94.39999999999999, 185.41176470588235, 107.41176470588235, 1.0); color: rgba(10, 10, 10, 1.0); border-radius: 5px; padding: 2px; margin: 1px;font-weight: 800;width: fit-content; display: flex;'>,</div> <div style='background-color: rgba(254.12156862745098, 226.55294117647057, 213.64705882352942, 1.0); color: rgba(10, 10, 10, 1.0); border-radius: 5px; padding: 2px; margin: 1px;font-weight: 800;width: fit-content; display: flex;'>2015</div> <div style='background-color: rgba(89.6, 183.05882352941177, 105.05882352941177, 1.0); color: rgba(10, 10, 10, 1.0); border-radius: 5px; padding: 2px; margin: 1px;font-weight: 800;width: fit-content; display: flex;'>,</div> <div style='background-color: rgba(108.80000000000005, 192.47058823529417, 114.47058823529414, 1.0); color: rgba(10, 10, 10, 1.0); border-radius: 5px; padding: 2px; margin: 1px;font-weight: 800;width: fit-content; display: flex;'>it</div> <div style='background-color: rgba(112.0, 194.0392156862745, 116.03921568627452, 1.0); color: rgba(10, 10, 10, 1.0); border-radius: 5px; padding: 2px; margin: 1px;font-weight: 800;width: fit-content; display: flex;'>was</div> <div style='background-color: rgba(252.0, 148.09019607843138, 116.39607843137256, 1.0); color: rgba(10, 10, 10, 1.0); border-radius: 5px; padding: 2px; margin: 1px;font-weight: 800;width: fit-content; display: flex;'>renewed</div> <div style='background-color: rgba(254.9686274509804, 244.34117647058824, 239.05882352941177, 1.0); color: rgba(10, 10, 10, 1.0); border-radius: 5px; padding: 2px; margin: 1px;font-weight: 800;width: fit-content; display: flex;'>for</div> <div style='background-color: rgba(84.8, 180.70588235294116, 102.70588235294117, 1.0); color: rgba(10, 10, 10, 1.0); border-radius: 5px; padding: 2px; margin: 1px;font-weight: 800;width: fit-content; display: flex;'>a</div> <div style='background-color: rgba(251.0470588235294, 107.88235294117648, 75.88235294117648, 1.0); color: rgba(10, 10, 10, 1.0); border-radius: 5px; padding: 2px; margin: 1px;font-weight: 800;width: fit-content; display: flex;'>third</div> <div style='background-color: rgba(216.83529411764704, 37.450980392156865, 34.764705882352935, 1.0); color: rgba(10, 10, 10, 1.0); border-radius: 5px; padding: 2px; margin: 1px;font-weight: 800;width: fit-content; display: flex;'>season</div> <div style='background-color: rgba(76.8, 176.78431372549016, 98.7843137254902, 1.0); color: rgba(10, 10, 10, 1.0); border-radius: 5px; padding: 2px; margin: 1px;font-weight: 800;width: fit-content; display: flex;'>,</div> <div style='background-color: rgba(84.8, 180.70588235294116, 102.70588235294117, 1.0); color: rgba(10, 10, 10, 1.0); border-radius: 5px; padding: 2px; margin: 1px;font-weight: 800;width: fit-content; display: flex;'>[</div> <div style='background-color: rgba(107.2, 191.68627450980392, 113.68627450980392, 1.0); color: rgba(10, 10, 10, 1.0); border-radius: 5px; padding: 2px; margin: 1px;font-weight: 800;width: fit-content; display: flex;'>8</div> <div style='background-color: rgba(99.2, 187.76470588235293, 109.76470588235294, 1.0); color: rgba(10, 10, 10, 1.0); border-radius: 5px; padding: 2px; margin: 1px;font-weight: 800;width: fit-content; display: flex;'>]</div> <div style='background-color: rgba(102.39999999999999, 189.33333333333334, 111.33333333333333, 1.0); color: rgba(10, 10, 10, 1.0); border-radius: 5px; padding: 2px; margin: 1px;font-weight: 800;width: fit-content; display: flex;'>which</div> <div style='background-color: rgba(252.42352941176472, 194.83529411764707, 171.3764705882353, 1.0); color: rgba(10, 10, 10, 1.0); border-radius: 5px; padding: 2px; margin: 1px;font-weight: 800;width: fit-content; display: flex;'>aired</div> <div style='background-color: rgba(254.87450980392157, 242.36470588235295, 236.23529411764707, 1.0); color: rgba(10, 10, 10, 1.0); border-radius: 5px; padding: 2px; margin: 1px;font-weight: 800;width: fit-content; display: flex;'>from</div> <div style='background-color: rgba(253.86666666666665, 221.53333333333333, 206.73333333333332, 1.0); color: rgba(10, 10, 10, 1.0); border-radius: 5px; padding: 2px; margin: 1px;font-weight: 800;width: fit-content; display: flex;'>september</div> <div style='background-color: rgba(254.90588235294118, 243.0235294117647, 237.1764705882353, 1.0); color: rgba(10, 10, 10, 1.0); border-radius: 5px; padding: 2px; margin: 1px;font-weight: 800;width: fit-content; display: flex;'>6</div> <div style='background-color: rgba(115.2, 195.60784313725492, 117.6078431372549, 1.0); color: rgba(10, 10, 10, 1.0); border-radius: 5px; padding: 2px; margin: 1px;font-weight: 800;width: fit-content; display: flex;'>to</div> <div style='background-color: rgba(254.27843137254902, 229.84705882352944, 218.35294117647058, 1.0); color: rgba(10, 10, 10, 1.0); border-radius: 5px; padding: 2px; margin: 1px;font-weight: 800;width: fit-content; display: flex;'>november</div> <div style='background-color: rgba(96.0, 186.19607843137254, 108.19607843137254, 1.0); color: rgba(10, 10, 10, 1.0); border-radius: 5px; padding: 2px; margin: 1px;font-weight: 800;width: fit-content; display: flex;'>1</div> <div style='background-color: rgba(91.2, 183.84313725490196, 105.84313725490196, 1.0); color: rgba(10, 10, 10, 1.0); border-radius: 5px; padding: 2px; margin: 1px;font-weight: 800;width: fit-content; display: flex;'>,</div> <div style='background-color: rgba(254.34117647058824, 231.16470588235296, 220.23529411764704, 1.0); color: rgba(10, 10, 10, 1.0); border-radius: 5px; padding: 2px; margin: 1px;font-weight: 800;width: fit-content; display: flex;'>2016</div> <div style='background-color: rgba(89.6, 183.05882352941177, 105.05882352941177, 1.0); color: rgba(10, 10, 10, 1.0); border-radius: 5px; padding: 2px; margin: 1px;font-weight: 800;width: fit-content; display: flex;'>.</div> <div style='background-color: rgba(113.6, 194.82352941176472, 116.82352941176471, 1.0); color: rgba(10, 10, 10, 1.0); border-radius: 5px; padding: 2px; margin: 1px;font-weight: 800;width: fit-content; display: flex;'>while</div> <div style='background-color: rgba(105.6, 190.90196078431373, 112.90196078431373, 1.0); color: rgba(10, 10, 10, 1.0); border-radius: 5px; padding: 2px; margin: 1px;font-weight: 800;width: fit-content; display: flex;'>the</div> <div style='background-color: rgba(252.86274509803923, 202.9607843137255, 182.13725490196077, 1.0); color: rgba(10, 10, 10, 1.0); border-radius: 5px; padding: 2px; margin: 1px;font-weight: 800;width: fit-content; display: flex;'>series</div> <div style='background-color: rgba(80.0, 178.35294117647058, 100.35294117647058, 1.0); color: rgba(10, 10, 10, 1.0); border-radius: 5px; padding: 2px; margin: 1px;font-weight: 800;width: fit-content; display: flex;'>is</div> <div style='background-color: rgba(254.9686274509804, 244.34117647058824, 239.05882352941177, 1.0); color: rgba(10, 10, 10, 1.0); border-radius: 5px; padding: 2px; margin: 1px;font-weight: 800;width: fit-content; display: flex;'>currently</div> <div style='background-color: rgba(107.2, 191.68627450980392, 113.68627450980392, 1.0); color: rgba(10, 10, 10, 1.0); border-radius: 5px; padding: 2px; margin: 1px;font-weight: 800;width: fit-content; display: flex;'>un</div> <div style='background-color: rgba(104.0, 190.11764705882354, 112.11764705882354, 1.0); color: rgba(10, 10, 10, 1.0); border-radius: 5px; padding: 2px; margin: 1px;font-weight: 800;width: fit-content; display: flex;'>##con</div> <div style='background-color: rgba(254.68627450980392, 238.41176470588235, 230.58823529411765, 1.0); color: rgba(10, 10, 10, 1.0); border-radius: 5px; padding: 2px; margin: 1px;font-weight: 800;width: fit-content; display: flex;'>##firmed</div> <div style='background-color: rgba(92.8, 184.62745098039215, 106.62745098039215, 1.0); color: rgba(10, 10, 10, 1.0); border-radius: 5px; padding: 2px; margin: 1px;font-weight: 800;width: fit-content; display: flex;'>as</div> <div style='background-color: rgba(252.17254901960786, 190.1921568627451, 165.22745098039215, 1.0); color: rgba(10, 10, 10, 1.0); border-radius: 5px; padding: 2px; margin: 1px;font-weight: 800;width: fit-content; display: flex;'>cancelled</div> <div style='background-color: rgba(72.0, 174.43137254901958, 96.43137254901961, 1.0); color: rgba(10, 10, 10, 1.0); border-radius: 5px; padding: 2px; margin: 1px;font-weight: 800;width: fit-content; display: flex;'>,</div> <div style='background-color: rgba(252.0, 166.09803921568624, 137.03921568627453, 1.0); color: rgba(10, 10, 10, 1.0); border-radius: 5px; padding: 2px; margin: 1px;font-weight: 800;width: fit-content; display: flex;'>deadline</div> <div style='background-color: rgba(73.6, 175.2156862745098, 97.2156862745098, 1.0); color: rgba(10, 10, 10, 1.0); border-radius: 5px; padding: 2px; margin: 1px;font-weight: 800;width: fit-content; display: flex;'>.</div> <div style='background-color: rgba(254.84313725490196, 241.7058823529412, 235.2941176470588, 1.0); color: rgba(10, 10, 10, 1.0); border-radius: 5px; padding: 2px; margin: 1px;font-weight: 800;width: fit-content; display: flex;'>com</div> <div style='background-color: rgba(102.39999999999999, 189.33333333333334, 111.33333333333333, 1.0); color: rgba(10, 10, 10, 1.0); border-radius: 5px; padding: 2px; margin: 1px;font-weight: 800;width: fit-content; display: flex;'>has</div> <div style='background-color: rgba(254.81176470588235, 241.0470588235294, 234.35294117647058, 1.0); color: rgba(10, 10, 10, 1.0); border-radius: 5px; padding: 2px; margin: 1px;font-weight: 800;width: fit-content; display: flex;'>reported</div> <div style='background-color: rgba(100.8, 188.54901960784312, 110.54901960784315, 1.0); color: rgba(10, 10, 10, 1.0); border-radius: 5px; padding: 2px; margin: 1px;font-weight: 800;width: fit-content; display: flex;'>that</div> <div style='background-color: rgba(92.8, 184.62745098039215, 106.62745098039215, 1.0); color: rgba(10, 10, 10, 1.0); border-radius: 5px; padding: 2px; margin: 1px;font-weight: 800;width: fit-content; display: flex;'>the</div> <div style='background-color: rgba(252.0, 164.81176470588233, 135.56470588235297, 1.0); color: rgba(10, 10, 10, 1.0); border-radius: 5px; padding: 2px; margin: 1px;font-weight: 800;width: fit-content; display: flex;'>actors</div> <div style='background-color: rgba(110.39999999999999, 193.25490196078434, 115.25490196078432, 1.0); color: rgba(10, 10, 10, 1.0); border-radius: 5px; padding: 2px; margin: 1px;font-weight: 800;width: fit-content; display: flex;'>have</div> <div style='background-color: rgba(255.0, 245.0, 240.0, 1.0); color: rgba(10, 10, 10, 1.0); border-radius: 5px; padding: 2px; margin: 1px;font-weight: 800;width: fit-content; display: flex;'>been</div> <div style='background-color: rgba(254.1529411764706, 227.21176470588236, 214.58823529411765, 1.0); color: rgba(10, 10, 10, 1.0); border-radius: 5px; padding: 2px; margin: 1px;font-weight: 800;width: fit-content; display: flex;'>released</div> <div style='background-color: rgba(108.80000000000005, 192.47058823529417, 114.47058823529414, 1.0); color: rgba(10, 10, 10, 1.0); border-radius: 5px; padding: 2px; margin: 1px;font-weight: 800;width: fit-content; display: flex;'>from</div> <div style='background-color: rgba(113.6, 194.82352941176472, 116.82352941176471, 1.0); color: rgba(10, 10, 10, 1.0); border-radius: 5px; padding: 2px; margin: 1px;font-weight: 800;width: fit-content; display: flex;'>their</div> <div style='background-color: rgba(254.37254901960785, 231.8235294117647, 221.17647058823528, 1.0); color: rgba(10, 10, 10, 1.0); border-radius: 5px; padding: 2px; margin: 1px;font-weight: 800;width: fit-content; display: flex;'>contracts</div> <div style='background-color: rgba(115.2, 195.60784313725492, 117.6078431372549, 1.0); color: rgba(10, 10, 10, 1.0); border-radius: 5px; padding: 2px; margin: 1px;font-weight: 800;width: fit-content; display: flex;'>as</div> <div style='background-color: rgba(94.39999999999999, 185.41176470588235, 107.41176470588235, 1.0); color: rgba(10, 10, 10, 1.0); border-radius: 5px; padding: 2px; margin: 1px;font-weight: 800;width: fit-content; display: flex;'>of</div> <div style='background-color: rgba(254.68627450980392, 238.41176470588235, 230.58823529411765, 1.0); color: rgba(10, 10, 10, 1.0); border-radius: 5px; padding: 2px; margin: 1px;font-weight: 800;width: fit-content; display: flex;'>october</div> <div style='background-color: rgba(105.6, 190.90196078431373, 112.90196078431373, 1.0); color: rgba(10, 10, 10, 1.0); border-radius: 5px; padding: 2px; margin: 1px;font-weight: 800;width: fit-content; display: flex;'>31</div> <div style='background-color: rgba(97.60000000000001, 186.98039215686276, 108.98039215686275, 1.0); color: rgba(10, 10, 10, 1.0); border-radius: 5px; padding: 2px; margin: 1px;font-weight: 800;width: fit-content; display: flex;'>,</div> <div style='background-color: rgba(254.65490196078431, 237.7529411764706, 229.64705882352942, 1.0); color: rgba(10, 10, 10, 1.0); border-radius: 5px; padding: 2px; margin: 1px;font-weight: 800;width: fit-content; display: flex;'>2016</div> <div style='background-color: rgba(83.20000000000003, 179.921568627451, 101.92156862745101, 1.0); color: rgba(10, 10, 10, 1.0); border-radius: 5px; padding: 2px; margin: 1px;font-weight: 800;width: fit-content; display: flex;'>.</div> <div style='background-color: rgba(102.39999999999999, 189.33333333333334, 111.33333333333333, 1.0); color: rgba(10, 10, 10, 1.0); border-radius: 5px; padding: 2px; margin: 1px;font-weight: 800;width: fit-content; display: flex;'>[</div> <div style='background-color: rgba(102.39999999999999, 189.33333333333334, 111.33333333333333, 1.0); color: rgba(10, 10, 10, 1.0); border-radius: 5px; padding: 2px; margin: 1px;font-weight: 800;width: fit-content; display: flex;'>9</div> <div style='background-color: rgba(112.0, 194.0392156862745, 116.03921568627452, 1.0); color: rgba(10, 10, 10, 1.0); border-radius: 5px; padding: 2px; margin: 1px;font-weight: 800;width: fit-content; display: flex;'>]</div> <div style='background-color: rgba(254.65490196078431, 237.7529411764706, 229.64705882352942, 1.0); color: rgba(10, 10, 10, 1.0); border-radius: 5px; padding: 2px; margin: 1px;font-weight: 800;width: fit-content; display: flex;'>[SEP]</div> </td></tr></table>"
      ],
      "text/plain": [
       "<IPython.core.display.HTML object>"
      ]
     },
     "metadata": {},
     "output_type": "display_data"
    },
    {
     "data": {
      "text/html": [
       "<div>\n",
       "<style scoped>\n",
       "    .dataframe tbody tr th:only-of-type {\n",
       "        vertical-align: middle;\n",
       "    }\n",
       "\n",
       "    .dataframe tbody tr th {\n",
       "        vertical-align: top;\n",
       "    }\n",
       "\n",
       "    .dataframe thead th {\n",
       "        text-align: right;\n",
       "    }\n",
       "</style>\n",
       "<table border=\"1\" class=\"dataframe\">\n",
       "  <thead>\n",
       "    <tr style=\"text-align: right;\">\n",
       "      <th></th>\n",
       "      <th>key</th>\n",
       "      <th>query</th>\n",
       "      <th>gold_docs</th>\n",
       "      <th>gold_docs_text</th>\n",
       "      <th>results</th>\n",
       "      <th>predicted_docs_text_5</th>\n",
       "    </tr>\n",
       "  </thead>\n",
       "  <tbody>\n",
       "    <tr>\n",
       "      <th>110</th>\n",
       "      <td>test110</td>\n",
       "      <td>how many seasons of from dusk till dawn are there</td>\n",
       "      <td>[doc3974]</td>\n",
       "      <td>[{'text': 'On October 26, 2015, it was renewed...</td>\n",
       "      <td>{'doc0': None, 'doc1': None, 'doc10': None, 'd...</td>\n",
       "      <td>[{'text': 'On October 26, 2015, it was renewed...</td>\n",
       "    </tr>\n",
       "  </tbody>\n",
       "</table>\n",
       "</div>"
      ],
      "text/plain": [
       "         key                                              query  gold_docs  \\\n",
       "110  test110  how many seasons of from dusk till dawn are there  [doc3974]   \n",
       "\n",
       "                                        gold_docs_text  \\\n",
       "110  [{'text': 'On October 26, 2015, it was renewed...   \n",
       "\n",
       "                                               results  \\\n",
       "110  {'doc0': None, 'doc1': None, 'doc10': None, 'd...   \n",
       "\n",
       "                                 predicted_docs_text_5  \n",
       "110  [{'text': 'On October 26, 2015, it was renewed...  "
      ]
     },
     "execution_count": 35,
     "metadata": {},
     "output_type": "execute_result"
    }
   ],
   "source": [
    "idx = 110\n",
    "\n",
    "text = df.iloc[idx][\"query\"]\n",
    "# text = df.iloc[idx][\"gold_docs_text\"][0][\"text\"]\n",
    "print(text)\n",
    "\n",
    "def run_decompx(text):\n",
    "    inputs = tokenizer([text], padding=True, truncation=True, return_tensors='pt')\n",
    "    input_ids = inputs[\"input_ids\"]\n",
    "    inputs.to(model.device)\n",
    "    with torch.no_grad():\n",
    "        last_hidden_states, pooler_output, hidden_states, decompx_last_layer_outputs, decompx_all_layers_outputs = model(\n",
    "            **inputs,\n",
    "            output_attentions=False,\n",
    "            return_dict=False,\n",
    "            output_hidden_states=True,\n",
    "            decompx_config=CONFIGS[\"DecompX\"]\n",
    "        )\n",
    "        ### decompx_last_layer_outputs.aggregated ~ 1 * [1, 70, 70, 768] ~ layer * [batch, seq, seq, emb_dim] ###\n",
    "        ### last_hidden_states ~ [1, 70, 768] ~ [batch, seq_len, emb_dim]\n",
    "        print(last_hidden_states.shape)  # \n",
    "        mean_pooled = last_hidden_states[0].mean(dim=0)\n",
    "        decomposed_embedding = decompx_last_layer_outputs.aggregated[0][0].mean(dim=(0))\n",
    "        dot_scores = torch.einsum(\"ij,j->i\", decomposed_embedding, mean_pooled)\n",
    "        ranking = torch.argsort(dot_scores, descending=True).cpu().numpy()\n",
    "    return dot_scores, decompx_last_layer_outputs, tokenizer.convert_ids_to_tokens(input_ids[0]), decomposed_embedding\n",
    "\n",
    "\n",
    "query_dot_scores, _, query_tokens, query_decomposed = run_decompx(df.iloc[idx][\"query\"])\n",
    "doc_dot_scores, _, doc_tokens, doc_decomposed = run_decompx(df.iloc[idx][\"gold_docs_text\"][0][\"text\"])\n",
    "\n",
    "# ALTI dot_scores\n",
    "htmls = [print_importance(query_dot_scores, query_tokens)]\n",
    "final_html = html_wrapper(htmls, \"Query\", f\"{DATASET}, {MODEL}, idx={idx}\")\n",
    "display(HTML(final_html))\n",
    "htmls = [print_importance(doc_dot_scores, doc_tokens)]\n",
    "final_html = html_wrapper(htmls, \"Gold Doc\", f\"{DATASET}, {MODEL}, idx={idx}\")\n",
    "display(HTML(final_html))\n",
    "df.iloc[[idx]]"
   ]
  },
  {
   "cell_type": "code",
   "execution_count": 36,
   "id": "5ddf4609",
   "metadata": {},
   "outputs": [
    {
     "data": {
      "image/png": "[encoded data removed]",
      "text/plain": [
       "<Figure size 1500x250 with 2 Axes>"
      ]
     },
     "metadata": {},
     "output_type": "display_data"
    }
   ],
   "source": [
    "from seaborn import heatmap\n",
    "import matplotlib.pyplot as plt\n",
    "\n",
    "with torch.no_grad():\n",
    "    qd_scores = torch.einsum(\"id,jd->ij\",query_decomposed,doc_decomposed).cpu().numpy()\n",
    "\n",
    "plt.figure(figsize=(15, 2.5))\n",
    "heatmap(qd_scores)\n",
    "plt.xticks(np.arange(len(doc_tokens))+0.5, doc_tokens, rotation='vertical')\n",
    "plt.yticks(np.arange(len(query_tokens))+0.5, query_tokens, rotation='horizontal')\n",
    "plt.grid(\"on\", linewidth=0.2)\n",
    "plt.show()"
   ]
  },
  {
   "cell_type": "code",
   "execution_count": 7,
   "id": "92ae98a4-b95a-49f3-9c09-b9bed0ba9027",
   "metadata": {},
   "outputs": [
    {
     "ename": "NameError",
     "evalue": "name 'norm_heatmap' is not defined",
     "output_type": "error",
     "traceback": [
      "\u001b[0;31m---------------------------------------------------------------------------\u001b[0m",
      "\u001b[0;31mNameError\u001b[0m                                 Traceback (most recent call last)",
      "Cell \u001b[0;32mIn[7], line 2\u001b[0m\n\u001b[1;32m      1\u001b[0m \u001b[38;5;66;03m# CLS ATTN\u001b[39;00m\n\u001b[0;32m----> 2\u001b[0m htmls \u001b[38;5;241m=\u001b[39m [print_importance(\u001b[43mnorm_heatmap\u001b[49m[\u001b[38;5;241m0\u001b[39m], tokenizer\u001b[38;5;241m.\u001b[39mconvert_ids_to_tokens(input_ids[\u001b[38;5;241m0\u001b[39m]))]\n\u001b[1;32m      3\u001b[0m final_html \u001b[38;5;241m=\u001b[39m html_wrapper(htmls)\n\u001b[1;32m      4\u001b[0m display(HTML(final_html))\n",
      "\u001b[0;31mNameError\u001b[0m: name 'norm_heatmap' is not defined"
     ]
    }
   ],
   "source": [
    "# CLS ATTN\n",
    "htmls = [print_importance(norm_heatmap[0], tokenizer.convert_ids_to_tokens(input_ids[0]))]\n",
    "final_html = html_wrapper(htmls)\n",
    "display(HTML(final_html))"
   ]
  },
  {
   "cell_type": "code",
   "execution_count": 18,
   "id": "d85243fc-0b82-4c6d-bc7f-8b06429994c3",
   "metadata": {},
   "outputs": [
    {
     "name": "stderr",
     "output_type": "stream",
     "text": [
      "/tmp/ipykernel_3885204/1364023748.py:17: MatplotlibDeprecationWarning: The get_cmap function was deprecated in Matplotlib 3.7 and will be removed in 3.11. Use ``matplotlib.colormaps[name]`` or ``matplotlib.colormaps.get_cmap()`` or ``pyplot.get_cmap()`` instead.\n",
      "  rgba = matplotlib.cm.get_cmap('Reds')(importance[i] * .7)   # Wistia\n"
     ]
    },
    {
     "data": {
      "text/html": [
       "\n",
       "    <head>\n",
       "    <style>\n",
       "        @media print {\n",
       "            -webkit-print-color-adjust: exact;\n",
       "        }\n",
       "        fieldset {\n",
       "            max-width: 500px; padding: 8px; border-radius: 20px; border: 3px solid rgb(15, 200, 200); background: white;\n",
       "        }\n",
       "        legend {\n",
       "            margin-left: 10px; padding: 7px; padding-left: 20px; padding-right: 20px; border: 2px solid rgb(15, 200, 200);\n",
       "            border-radius: 20px; background: white;\n",
       "            /*font-family: Arial !important;*/\n",
       "            font-weight: 600;\n",
       "        }\n",
       "        table {\n",
       "            width: 800px; font-weight: 600;\n",
       "        }\n",
       "        table tr td {\n",
       "            white-space: nowrap; padding: 5px; width: 600px;\n",
       "        }\n",
       "    </style>\n",
       "    </head>\n",
       "    \n",
       "        <fieldset>\n",
       "            <legend>DATASET - Label: LLLL</legend>\n",
       "            <table>\n",
       "            \n",
       "        <tr>\n",
       "        <td style='text-align: center; width: 100px;'>Text:</td><td><pre style='line-height: 28px; display: flex; flex-flow: row wrap; width: 600px;'><div style='background-color: rgba(252.8, 201.8, 180.6, 1.0); color: rgba(10, 10, 10, 1.0); border-radius: 5px; padding: 2px; margin: 1px;font-weight: 800;width: fit-content; display: flex;'>[CLS]</div> <div style='background-color: rgba(252.0, 175.10196078431372, 147.3607843137255, 1.0); color: rgba(10, 10, 10, 1.0); border-radius: 5px; padding: 2px; margin: 1px;font-weight: 800;width: fit-content; display: flex;'>in</div> <div style='background-color: rgba(251.67450980392155, 132.98039215686273, 100.98039215686278, 1.0); color: rgba(10, 10, 10, 1.0); border-radius: 5px; padding: 2px; margin: 1px;font-weight: 800;width: fit-content; display: flex;'>accounting</div> <div style='background-color: rgba(252.0, 173.81568627450983, 145.88627450980394, 1.0); color: rgba(10, 10, 10, 1.0); border-radius: 5px; padding: 2px; margin: 1px;font-weight: 800;width: fit-content; display: flex;'>,</div> <div style='background-color: rgba(216.83529411764704, 37.450980392156865, 34.764705882352935, 1.0); color: rgba(10, 10, 10, 1.0); border-radius: 5px; padding: 2px; margin: 1px;font-weight: 800;width: fit-content; display: flex;'>minority</div> <div style='background-color: rgba(224.74117647058821, 45.13725490196079, 38.05882352941176, 1.0); color: rgba(10, 10, 10, 1.0); border-radius: 5px; padding: 2px; margin: 1px;font-weight: 800;width: fit-content; display: flex;'>interest</div> <div style='background-color: rgba(252.17254901960786, 190.1921568627451, 165.22745098039215, 1.0); color: rgba(10, 10, 10, 1.0); border-radius: 5px; padding: 2px; margin: 1px;font-weight: 800;width: fit-content; display: flex;'>(</div> <div style='background-color: rgba(252.0, 172.52941176470588, 144.41176470588235, 1.0); color: rgba(10, 10, 10, 1.0); border-radius: 5px; padding: 2px; margin: 1px;font-weight: 800;width: fit-content; display: flex;'>or</div> <div style='background-color: rgba(252.0, 146.80392156862743, 114.92156862745098, 1.0); color: rgba(10, 10, 10, 1.0); border-radius: 5px; padding: 2px; margin: 1px;font-weight: 800;width: fit-content; display: flex;'>non</div> <div style='background-color: rgba(252.10980392156864, 189.03137254901958, 163.69019607843137, 1.0); color: rgba(10, 10, 10, 1.0); border-radius: 5px; padding: 2px; margin: 1px;font-weight: 800;width: fit-content; display: flex;'>-</div> <div style='background-color: rgba(251.23529411764704, 115.41176470588236, 83.41176470588236, 1.0); color: rgba(10, 10, 10, 1.0); border-radius: 5px; padding: 2px; margin: 1px;font-weight: 800;width: fit-content; display: flex;'>controlling</div> <div style='background-color: rgba(248.92941176470586, 97.89019607843139, 68.82352941176471, 1.0); color: rgba(10, 10, 10, 1.0); border-radius: 5px; padding: 2px; margin: 1px;font-weight: 800;width: fit-content; display: flex;'>interest</div> <div style='background-color: rgba(254.05882352941177, 225.23529411764704, 211.76470588235293, 1.0); color: rgba(10, 10, 10, 1.0); border-radius: 5px; padding: 2px; margin: 1px;font-weight: 800;width: fit-content; display: flex;'>)</div> <div style='background-color: rgba(251.95686274509805, 144.27450980392157, 112.27450980392157, 1.0); color: rgba(10, 10, 10, 1.0); border-radius: 5px; padding: 2px; margin: 1px;font-weight: 800;width: fit-content; display: flex;'>is</div> <div style='background-color: rgba(252.0, 154.52156862745096, 123.76862745098039, 1.0); color: rgba(10, 10, 10, 1.0); border-radius: 5px; padding: 2px; margin: 1px;font-weight: 800;width: fit-content; display: flex;'>the</div> <div style='background-color: rgba(252.0, 155.80784313725488, 125.24313725490197, 1.0); color: rgba(10, 10, 10, 1.0); border-radius: 5px; padding: 2px; margin: 1px;font-weight: 800;width: fit-content; display: flex;'>portion</div> <div style='background-color: rgba(252.0, 166.09803921568624, 137.03921568627453, 1.0); color: rgba(10, 10, 10, 1.0); border-radius: 5px; padding: 2px; margin: 1px;font-weight: 800;width: fit-content; display: flex;'>of</div> <div style='background-color: rgba(252.0, 182.81960784313725, 156.20784313725488, 1.0); color: rgba(10, 10, 10, 1.0); border-radius: 5px; padding: 2px; margin: 1px;font-weight: 800;width: fit-content; display: flex;'>a</div> <div style='background-color: rgba(252.0, 167.3843137254902, 138.51372549019607, 1.0); color: rgba(10, 10, 10, 1.0); border-radius: 5px; padding: 2px; margin: 1px;font-weight: 800;width: fit-content; display: flex;'>subsidiary</div> <div style='background-color: rgba(252.0, 168.67058823529413, 139.98823529411763, 1.0); color: rgba(10, 10, 10, 1.0); border-radius: 5px; padding: 2px; margin: 1px;font-weight: 800;width: fit-content; display: flex;'>corporation</div> <div style='background-color: rgba(253.30196078431374, 211.08627450980393, 192.89803921568625, 1.0); color: rgba(10, 10, 10, 1.0); border-radius: 5px; padding: 2px; margin: 1px;font-weight: 800;width: fit-content; display: flex;'>'</div> <div style='background-color: rgba(252.0, 182.81960784313725, 156.20784313725488, 1.0); color: rgba(10, 10, 10, 1.0); border-radius: 5px; padding: 2px; margin: 1px;font-weight: 800;width: fit-content; display: flex;'>s</div> <div style='background-color: rgba(251.64313725490197, 131.72549019607843, 99.72549019607844, 1.0); color: rgba(10, 10, 10, 1.0); border-radius: 5px; padding: 2px; margin: 1px;font-weight: 800;width: fit-content; display: flex;'>stock</div> <div style='background-color: rgba(252.48627450980393, 195.99607843137255, 172.91372549019607, 1.0); color: rgba(10, 10, 10, 1.0); border-radius: 5px; padding: 2px; margin: 1px;font-weight: 800;width: fit-content; display: flex;'>that</div> <div style='background-color: rgba(252.0, 185.39215686274508, 159.15686274509804, 1.0); color: rgba(10, 10, 10, 1.0); border-radius: 5px; padding: 2px; margin: 1px;font-weight: 800;width: fit-content; display: flex;'>is</div> <div style='background-color: rgba(252.0, 168.67058823529413, 139.98823529411763, 1.0); color: rgba(10, 10, 10, 1.0); border-radius: 5px; padding: 2px; margin: 1px;font-weight: 800;width: fit-content; display: flex;'>not</div> <div style='background-color: rgba(251.70588235294116, 134.23529411764707, 102.23529411764706, 1.0); color: rgba(10, 10, 10, 1.0); border-radius: 5px; padding: 2px; margin: 1px;font-weight: 800;width: fit-content; display: flex;'>owned</div> <div style='background-color: rgba(252.0, 184.1058823529412, 157.68235294117648, 1.0); color: rgba(10, 10, 10, 1.0); border-radius: 5px; padding: 2px; margin: 1px;font-weight: 800;width: fit-content; display: flex;'>by</div> <div style='background-color: rgba(253.30196078431374, 211.08627450980393, 192.89803921568625, 1.0); color: rgba(10, 10, 10, 1.0); border-radius: 5px; padding: 2px; margin: 1px;font-weight: 800;width: fit-content; display: flex;'>the</div> <div style='background-color: rgba(252.0, 166.09803921568624, 137.03921568627453, 1.0); color: rgba(10, 10, 10, 1.0); border-radius: 5px; padding: 2px; margin: 1px;font-weight: 800;width: fit-content; display: flex;'>parent</div> <div style='background-color: rgba(252.10980392156864, 189.03137254901958, 163.69019607843137, 1.0); color: rgba(10, 10, 10, 1.0); border-radius: 5px; padding: 2px; margin: 1px;font-weight: 800;width: fit-content; display: flex;'>corporation</div> <div style='background-color: rgba(254.05882352941177, 225.23529411764704, 211.76470588235293, 1.0); color: rgba(10, 10, 10, 1.0); border-radius: 5px; padding: 2px; margin: 1px;font-weight: 800;width: fit-content; display: flex;'>.</div> <div style='background-color: rgba(252.98823529411766, 205.28235294117647, 185.21176470588236, 1.0); color: rgba(10, 10, 10, 1.0); border-radius: 5px; padding: 2px; margin: 1px;font-weight: 800;width: fit-content; display: flex;'>the</div> <div style='background-color: rgba(252.17254901960786, 190.1921568627451, 165.22745098039215, 1.0); color: rgba(10, 10, 10, 1.0); border-radius: 5px; padding: 2px; margin: 1px;font-weight: 800;width: fit-content; display: flex;'>magnitude</div> <div style='background-color: rgba(252.0, 186.678431372549, 160.6313725490196, 1.0); color: rgba(10, 10, 10, 1.0); border-radius: 5px; padding: 2px; margin: 1px;font-weight: 800;width: fit-content; display: flex;'>of</div> <div style='background-color: rgba(254.05882352941177, 225.23529411764704, 211.76470588235293, 1.0); color: rgba(10, 10, 10, 1.0); border-radius: 5px; padding: 2px; margin: 1px;font-weight: 800;width: fit-content; display: flex;'>the</div> <div style='background-color: rgba(252.0, 168.67058823529413, 139.98823529411763, 1.0); color: rgba(10, 10, 10, 1.0); border-radius: 5px; padding: 2px; margin: 1px;font-weight: 800;width: fit-content; display: flex;'>minority</div> <div style='background-color: rgba(252.0, 166.09803921568624, 137.03921568627453, 1.0); color: rgba(10, 10, 10, 1.0); border-radius: 5px; padding: 2px; margin: 1px;font-weight: 800;width: fit-content; display: flex;'>interest</div> <div style='background-color: rgba(252.0, 185.39215686274508, 159.15686274509804, 1.0); color: rgba(10, 10, 10, 1.0); border-radius: 5px; padding: 2px; margin: 1px;font-weight: 800;width: fit-content; display: flex;'>in</div> <div style='background-color: rgba(254.05882352941177, 225.23529411764704, 211.76470588235293, 1.0); color: rgba(10, 10, 10, 1.0); border-radius: 5px; padding: 2px; margin: 1px;font-weight: 800;width: fit-content; display: flex;'>the</div> <div style='background-color: rgba(252.0, 182.81960784313725, 156.20784313725488, 1.0); color: rgba(10, 10, 10, 1.0); border-radius: 5px; padding: 2px; margin: 1px;font-weight: 800;width: fit-content; display: flex;'>subsidiary</div> <div style='background-color: rgba(252.3607843137255, 193.67450980392158, 169.83921568627449, 1.0); color: rgba(10, 10, 10, 1.0); border-radius: 5px; padding: 2px; margin: 1px;font-weight: 800;width: fit-content; display: flex;'>company</div> <div style='background-color: rgba(252.0, 184.1058823529412, 157.68235294117648, 1.0); color: rgba(10, 10, 10, 1.0); border-radius: 5px; padding: 2px; margin: 1px;font-weight: 800;width: fit-content; display: flex;'>is</div> <div style='background-color: rgba(252.2980392156863, 192.51372549019607, 168.30196078431374, 1.0); color: rgba(10, 10, 10, 1.0); border-radius: 5px; padding: 2px; margin: 1px;font-weight: 800;width: fit-content; display: flex;'>generally</div> <div style='background-color: rgba(252.0, 181.53333333333333, 154.73333333333332, 1.0); color: rgba(10, 10, 10, 1.0); border-radius: 5px; padding: 2px; margin: 1px;font-weight: 800;width: fit-content; display: flex;'>less</div> <div style='background-color: rgba(252.0, 182.81960784313725, 156.20784313725488, 1.0); color: rgba(10, 10, 10, 1.0); border-radius: 5px; padding: 2px; margin: 1px;font-weight: 800;width: fit-content; display: flex;'>than</div> <div style='background-color: rgba(252.8, 201.8, 180.6, 1.0); color: rgba(10, 10, 10, 1.0); border-radius: 5px; padding: 2px; margin: 1px;font-weight: 800;width: fit-content; display: flex;'>50</div> <div style='background-color: rgba(252.0, 185.39215686274508, 159.15686274509804, 1.0); color: rgba(10, 10, 10, 1.0); border-radius: 5px; padding: 2px; margin: 1px;font-weight: 800;width: fit-content; display: flex;'>%</div> <div style='background-color: rgba(252.2980392156863, 192.51372549019607, 168.30196078431374, 1.0); color: rgba(10, 10, 10, 1.0); border-radius: 5px; padding: 2px; margin: 1px;font-weight: 800;width: fit-content; display: flex;'>of</div> <div style='background-color: rgba(252.23529411764707, 191.3529411764706, 166.76470588235296, 1.0); color: rgba(10, 10, 10, 1.0); border-radius: 5px; padding: 2px; margin: 1px;font-weight: 800;width: fit-content; display: flex;'>outstanding</div> <div style='background-color: rgba(252.0, 169.95686274509805, 141.4627450980392, 1.0); color: rgba(10, 10, 10, 1.0); border-radius: 5px; padding: 2px; margin: 1px;font-weight: 800;width: fit-content; display: flex;'>shares</div> <div style='background-color: rgba(254.05882352941177, 225.23529411764704, 211.76470588235293, 1.0); color: rgba(10, 10, 10, 1.0); border-radius: 5px; padding: 2px; margin: 1px;font-weight: 800;width: fit-content; display: flex;'>,</div> <div style='background-color: rgba(253.99215686274508, 223.8549019607843, 209.80784313725488, 1.0); color: rgba(10, 10, 10, 1.0); border-radius: 5px; padding: 2px; margin: 1px;font-weight: 800;width: fit-content; display: flex;'>or</div> <div style='background-color: rgba(253.36470588235295, 212.24705882352941, 194.43529411764706, 1.0); color: rgba(10, 10, 10, 1.0); border-radius: 5px; padding: 2px; margin: 1px;font-weight: 800;width: fit-content; display: flex;'>the</div> <div style='background-color: rgba(252.10980392156864, 189.03137254901958, 163.69019607843137, 1.0); color: rgba(10, 10, 10, 1.0); border-radius: 5px; padding: 2px; margin: 1px;font-weight: 800;width: fit-content; display: flex;'>corporation</div> <div style='background-color: rgba(252.67450980392158, 199.478431372549, 177.52549019607844, 1.0); color: rgba(10, 10, 10, 1.0); border-radius: 5px; padding: 2px; margin: 1px;font-weight: 800;width: fit-content; display: flex;'>would</div> <div style='background-color: rgba(252.67450980392158, 199.478431372549, 177.52549019607844, 1.0); color: rgba(10, 10, 10, 1.0); border-radius: 5px; padding: 2px; margin: 1px;font-weight: 800;width: fit-content; display: flex;'>generally</div> <div style='background-color: rgba(252.17254901960786, 190.1921568627451, 165.22745098039215, 1.0); color: rgba(10, 10, 10, 1.0); border-radius: 5px; padding: 2px; margin: 1px;font-weight: 800;width: fit-content; display: flex;'>cease</div> <div style='background-color: rgba(253.99215686274508, 223.8549019607843, 209.80784313725488, 1.0); color: rgba(10, 10, 10, 1.0); border-radius: 5px; padding: 2px; margin: 1px;font-weight: 800;width: fit-content; display: flex;'>to</div> <div style='background-color: rgba(252.04705882352943, 187.8705882352941, 162.1529411764706, 1.0); color: rgba(10, 10, 10, 1.0); border-radius: 5px; padding: 2px; margin: 1px;font-weight: 800;width: fit-content; display: flex;'>be</div> <div style='background-color: rgba(254.05882352941177, 225.23529411764704, 211.76470588235293, 1.0); color: rgba(10, 10, 10, 1.0); border-radius: 5px; padding: 2px; margin: 1px;font-weight: 800;width: fit-content; display: flex;'>a</div> <div style='background-color: rgba(252.0, 180.24705882352941, 153.25882352941176, 1.0); color: rgba(10, 10, 10, 1.0); border-radius: 5px; padding: 2px; margin: 1px;font-weight: 800;width: fit-content; display: flex;'>subsidiary</div> <div style='background-color: rgba(254.05882352941177, 225.23529411764704, 211.76470588235293, 1.0); color: rgba(10, 10, 10, 1.0); border-radius: 5px; padding: 2px; margin: 1px;font-weight: 800;width: fit-content; display: flex;'>of</div> <div style='background-color: rgba(254.05882352941177, 225.23529411764704, 211.76470588235293, 1.0); color: rgba(10, 10, 10, 1.0); border-radius: 5px; padding: 2px; margin: 1px;font-weight: 800;width: fit-content; display: flex;'>the</div> <div style='background-color: rgba(252.54901960784312, 197.156862745098, 174.45098039215685, 1.0); color: rgba(10, 10, 10, 1.0); border-radius: 5px; padding: 2px; margin: 1px;font-weight: 800;width: fit-content; display: flex;'>parent</div> <div style='background-color: rgba(253.05098039215687, 206.44313725490196, 186.74901960784314, 1.0); color: rgba(10, 10, 10, 1.0); border-radius: 5px; padding: 2px; margin: 1px;font-weight: 800;width: fit-content; display: flex;'>.</div> <div style='background-color: rgba(252.98823529411766, 205.28235294117647, 185.21176470588236, 1.0); color: rgba(10, 10, 10, 1.0); border-radius: 5px; padding: 2px; margin: 1px;font-weight: 800;width: fit-content; display: flex;'>[</div> <div style='background-color: rgba(253.1137254901961, 207.60392156862744, 188.28627450980392, 1.0); color: rgba(10, 10, 10, 1.0); border-radius: 5px; padding: 2px; margin: 1px;font-weight: 800;width: fit-content; display: flex;'>1</div> <div style='background-color: rgba(252.86274509803923, 202.9607843137255, 182.13725490196077, 1.0); color: rgba(10, 10, 10, 1.0); border-radius: 5px; padding: 2px; margin: 1px;font-weight: 800;width: fit-content; display: flex;'>]</div> <div style='background-color: rgba(254.05882352941177, 225.23529411764704, 211.76470588235293, 1.0); color: rgba(10, 10, 10, 1.0); border-radius: 5px; padding: 2px; margin: 1px;font-weight: 800;width: fit-content; display: flex;'>[SEP]</div> </td></tr></table>"
      ],
      "text/plain": [
       "<IPython.core.display.HTML object>"
      ]
     },
     "metadata": {},
     "output_type": "display_data"
    }
   ],
   "source": [
    "# ALTI dot_scores\n",
    "htmls = [print_importance(dot_scores, tokenizer.convert_ids_to_tokens(input_ids[0]))]\n",
    "final_html = html_wrapper(htmls)\n",
    "display(HTML(final_html))"
   ]
  },
  {
   "cell_type": "code",
   "execution_count": 40,
   "id": "989e5835-0834-4dda-9abe-7f680d1f9188",
   "metadata": {},
   "outputs": [
    {
     "name": "stderr",
     "output_type": "stream",
     "text": [
      "/tmp/ipykernel_3885204/1364023748.py:19: MatplotlibDeprecationWarning: The get_cmap function was deprecated in Matplotlib 3.7 and will be removed in 3.11. Use ``matplotlib.colormaps[name]`` or ``matplotlib.colormaps.get_cmap()`` or ``pyplot.get_cmap()`` instead.\n",
      "  rgba = matplotlib.cm.get_cmap('Greens')(np.abs(importance[i]) + .5)   # Wistia\n",
      "/tmp/ipykernel_3885204/1364023748.py:17: MatplotlibDeprecationWarning: The get_cmap function was deprecated in Matplotlib 3.7 and will be removed in 3.11. Use ``matplotlib.colormaps[name]`` or ``matplotlib.colormaps.get_cmap()`` or ``pyplot.get_cmap()`` instead.\n",
      "  rgba = matplotlib.cm.get_cmap('Reds')(importance[i] * .7)   # Wistia\n"
     ]
    },
    {
     "data": {
      "text/html": [
       "\n",
       "    <head>\n",
       "    <style>\n",
       "        @media print {\n",
       "            -webkit-print-color-adjust: exact;\n",
       "        }\n",
       "        fieldset {\n",
       "            max-width: 500px; padding: 8px; border-radius: 20px; border: 3px solid rgb(15, 200, 200); background: white;\n",
       "        }\n",
       "        legend {\n",
       "            margin-left: 10px; padding: 7px; padding-left: 20px; padding-right: 20px; border: 2px solid rgb(15, 200, 200);\n",
       "            border-radius: 20px; background: white;\n",
       "            /*font-family: Arial !important;*/\n",
       "            font-weight: 600;\n",
       "        }\n",
       "        table {\n",
       "            width: 800px; font-weight: 600;\n",
       "        }\n",
       "        table tr td {\n",
       "            white-space: nowrap; padding: 5px; width: 600px;\n",
       "        }\n",
       "    </style>\n",
       "    </head>\n",
       "    \n",
       "        <fieldset>\n",
       "            <legend>DATASET - Label: LLLL</legend>\n",
       "            <table>\n",
       "            \n",
       "        <tr>\n",
       "        <td style='text-align: center; width: 100px;'>Text:</td><td><pre style='line-height: 28px; display: flex; flex-flow: row wrap; width: 600px;'><div style='background-color: rgba(0.0, 68.0, 27.0, 1.0); color: rgba(10, 10, 10, 1.0); border-radius: 5px; padding: 2px; margin: 1px;font-weight: 800;width: fit-content; display: flex;'>[CLS]</div> <div style='background-color: rgba(115.2, 195.60784313725492, 117.6078431372549, 1.0); color: rgba(10, 10, 10, 1.0); border-radius: 5px; padding: 2px; margin: 1px;font-weight: 800;width: fit-content; display: flex;'>what</div> <div style='background-color: rgba(89.6, 183.05882352941177, 105.05882352941177, 1.0); color: rgba(10, 10, 10, 1.0); border-radius: 5px; padding: 2px; margin: 1px;font-weight: 800;width: fit-content; display: flex;'>is</div> <div style='background-color: rgba(216.83529411764704, 37.450980392156865, 34.764705882352935, 1.0); color: rgba(10, 10, 10, 1.0); border-radius: 5px; padding: 2px; margin: 1px;font-weight: 800;width: fit-content; display: flex;'>non</div> <div style='background-color: rgba(252.8, 201.8, 180.6, 1.0); color: rgba(10, 10, 10, 1.0); border-radius: 5px; padding: 2px; margin: 1px;font-weight: 800;width: fit-content; display: flex;'>controlling</div> <div style='background-color: rgba(252.0, 160.95294117647057, 131.14117647058825, 1.0); color: rgba(10, 10, 10, 1.0); border-radius: 5px; padding: 2px; margin: 1px;font-weight: 800;width: fit-content; display: flex;'>interest</div> <div style='background-color: rgba(80.0, 178.35294117647058, 100.35294117647058, 1.0); color: rgba(10, 10, 10, 1.0); border-radius: 5px; padding: 2px; margin: 1px;font-weight: 800;width: fit-content; display: flex;'>on</div> <div style='background-color: rgba(254.6235294117647, 237.09411764705882, 228.70588235294116, 1.0); color: rgba(10, 10, 10, 1.0); border-radius: 5px; padding: 2px; margin: 1px;font-weight: 800;width: fit-content; display: flex;'>balance</div> <div style='background-color: rgba(252.10980392156864, 189.03137254901958, 163.69019607843137, 1.0); color: rgba(10, 10, 10, 1.0); border-radius: 5px; padding: 2px; margin: 1px;font-weight: 800;width: fit-content; display: flex;'>sheet</div> <div style='background-color: rgba(254.90588235294118, 243.0235294117647, 237.1764705882353, 1.0); color: rgba(10, 10, 10, 1.0); border-radius: 5px; padding: 2px; margin: 1px;font-weight: 800;width: fit-content; display: flex;'>[SEP]</div> </td></tr></table>"
      ],
      "text/plain": [
       "<IPython.core.display.HTML object>"
      ]
     },
     "metadata": {},
     "output_type": "display_data"
    }
   ],
   "source": [
    "# ALTI dot_scores\n",
    "htmls = [print_importance(dot_scores, tokenizer.convert_ids_to_tokens(input_ids[0]))]\n",
    "final_html = html_wrapper(htmls)\n",
    "display(HTML(final_html))"
   ]
  },
  {
   "cell_type": "code",
   "execution_count": 38,
   "id": "f4a965c9-5a16-409f-af08-f38192f941a6",
   "metadata": {},
   "outputs": [
    {
     "data": {
      "text/plain": [
       "<Axes: >"
      ]
     },
     "execution_count": 38,
     "metadata": {},
     "output_type": "execute_result"
    },
    {
     "data": {
      "image/png": "[encoded data removed]",
      "text/plain": [
       "<Figure size 640x480 with 2 Axes>"
      ]
     },
     "metadata": {},
     "output_type": "display_data"
    }
   ],
   "source": [
    "from seaborn import heatmap\n",
    "\n",
    "norm_heatmap = decompx_last_layer_outputs.aggregated[0][0].norm(dim=-1).cpu().numpy()\n",
    "heatmap(norm_heatmap / np.diag(norm_heatmap).reshape((-1, 1)))"
   ]
  },
  {
   "cell_type": "code",
   "execution_count": 27,
   "id": "81ae6bcc-b84a-4df1-81b9-a6fe27f3f01f",
   "metadata": {},
   "outputs": [
    {
     "data": {
      "text/plain": [
       "tensor([[1., 1., 1.],\n",
       "        [2., 2., 2.],\n",
       "        [3., 3., 3.]])"
      ]
     },
     "execution_count": 27,
     "metadata": {},
     "output_type": "execute_result"
    }
   ],
   "source": [
    "a = torch.tensor([[1, 1, 1], [2, 2, 2], [3, 3, 3.0]])\n",
    "a"
   ]
  },
  {
   "cell_type": "code",
   "execution_count": 30,
   "id": "0c756fb0-83f0-4b6f-b866-378b5d53f54c",
   "metadata": {},
   "outputs": [
    {
     "data": {
      "text/plain": [
       "tensor([2., 2., 2.])"
      ]
     },
     "execution_count": 30,
     "metadata": {},
     "output_type": "execute_result"
    }
   ],
   "source": [
    "a.mean(dim=0)"
   ]
  },
  {
   "cell_type": "code",
   "execution_count": 36,
   "id": "b19b4e3c-ba92-4a88-819a-b650bd3e82a4",
   "metadata": {},
   "outputs": [
    {
     "data": {
      "text/plain": [
       "tensor([-2.9172e-01, -9.6329e-05,  2.1981e-01, -4.0624e-02,  5.8353e-01,\n",
       "         6.3930e-01, -2.4858e-02, -1.9858e-02,  2.1423e-01, -1.6674e-02,\n",
       "         1.7603e-01,  2.8427e-01,  5.0068e-03,  2.3846e-02,  5.1403e-03,\n",
       "         9.2428e-02,  6.2007e-03,  1.6161e-03,  8.8507e-02,  7.6687e-02,\n",
       "        -1.2168e-02,  1.2525e-03,  1.6509e-01,  1.1297e-02, -3.3251e-02,\n",
       "        -5.0471e-03,  1.5360e-01, -1.8222e-02, -2.4907e-02,  5.7846e-02,\n",
       "         1.9507e-02, -1.2699e-02, -1.7708e-02, -6.5968e-02, -2.1487e-02,\n",
       "        -2.9040e-02,  9.7781e-02,  6.9697e-02, -7.9934e-03, -2.1066e-02,\n",
       "         4.4278e-02,  1.8740e-02, -2.2339e-02,  1.3859e-02,  2.0237e-04,\n",
       "        -1.6022e-02, -7.5899e-03,  2.6060e-03, -1.4999e-02,  1.3263e-02,\n",
       "         4.5005e-02, -2.1850e-02, -2.2879e-02, -2.2805e-02,  7.9057e-03,\n",
       "        -6.9884e-03,  5.5634e-03, -5.2729e-02,  2.8929e-03,  3.1742e-03,\n",
       "        -1.2195e-02,  4.1092e-02, -1.5303e-02, -1.9350e-02,  1.3512e-02,\n",
       "        -3.0296e-02, -1.2062e-02, -1.0398e-02, -3.3888e-03,  8.8790e-02])"
      ]
     },
     "execution_count": 36,
     "metadata": {},
     "output_type": "execute_result"
    }
   ],
   "source": [
    "dot_scores"
   ]
  },
  {
   "cell_type": "code",
   "execution_count": null,
   "id": "584b0992-e0be-4771-a888-dcddc6427674",
   "metadata": {},
   "outputs": [],
   "source": []
  }
 ],
 "metadata": {
  "kernelspec": {
   "display_name": "Python 3 (ipykernel)",
   "language": "python",
   "name": "python3"
  },
  "language_info": {
   "codemirror_mode": {
    "name": "ipython",
    "version": 3
   },
   "file_extension": ".py",
   "mimetype": "text/x-python",
   "name": "python",
   "nbconvert_exporter": "python",
   "pygments_lexer": "ipython3",
   "version": "3.10.14"
  }
 },
 "nbformat": 4,
 "nbformat_minor": 5
}
