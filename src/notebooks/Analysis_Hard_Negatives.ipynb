{
 "cells": [
  {
   "cell_type": "code",
   "execution_count": 3,
   "metadata": {},
   "outputs": [
    {
     "name": "stdout",
     "output_type": "stream",
     "text": [
      "The token has not been saved to the git credentials helper. Pass `add_to_git_credential=True` in this function directly or `--add-to-git-credential` if using via `huggingface-cli` if you want to set the git credential as well.\n",
      "Token is valid (permission: write).\n",
      "Your token has been saved to /home/mohsenfayyaz/.cache/huggingface/token\n",
      "Login successful\n",
      "CUDA_VISIBLE_DEVICES: 6 HF_HOME: /local1/mohsenfayyaz/.hfcache/\n"
     ]
    }
   ],
   "source": [
    "import os\n",
    "import torch\n",
    "import numpy as np\n",
    "import pandas as pd\n",
    "import seaborn as sns\n",
    "from scipy import stats\n",
    "from tqdm.auto import tqdm\n",
    "import huggingface_hub as hf\n",
    "from dotenv import load_dotenv\n",
    "import matplotlib.pyplot as plt\n",
    "from typing import List, Dict, Union, Tuple\n",
    "from transformers import AutoTokenizer, AutoModel\n",
    "\n",
    "pd.set_option('display.max_columns', None)\n",
    "pd.set_option('display.max_colwidth', 256)\n",
    "\n",
    "plt.style.use('seaborn-v0_8')\n",
    "load_dotenv()\n",
    "hf.login(os.environ[\"HF_TOKEN\"])\n",
    "os.environ[\"CUDA_VISIBLE_DEVICES\"] = \"6\"\n",
    "print(\"CUDA_VISIBLE_DEVICES:\", os.environ[\"CUDA_VISIBLE_DEVICES\"], \"HF_HOME:\", os.environ[\"HF_HOME\"])"
   ]
  },
  {
   "cell_type": "code",
   "execution_count": 4,
   "metadata": {},
   "outputs": [
    {
     "name": "stdout",
     "output_type": "stream",
     "text": [
      "{'model': 'facebook/dragon-plus-query-encoder', 'query_model': 'facebook/dragon-plus-query-encoder', 'context_model': 'facebook/dragon-plus-context-encoder', 'pooling': 'cls', 'dataset': 're-docred', 'corpus_size': 105925, 'eval': {'ndcg': {'NDCG@1': 0.47685, 'NDCG@3': 0.52523, 'NDCG@5': 0.53646, 'NDCG@10': 0.54955, 'NDCG@100': 0.58002, 'NDCG@1000': 0.59556}, 'map': {'MAP@1': 0.47685, 'MAP@3': 0.51341, 'MAP@5': 0.51959, 'MAP@10': 0.52496, 'MAP@100': 0.53058, 'MAP@1000': 0.53109}, 'recall': {'Recall@1': 0.47685, 'Recall@3': 0.55941, 'Recall@5': 0.58689, 'Recall@10': 0.62748, 'Recall@100': 0.77741, 'Recall@1000': 0.90349}, 'precision': {'P@1': 0.47685, 'P@3': 0.18647, 'P@5': 0.11738, 'P@10': 0.06275, 'P@100': 0.00777, 'P@1000': 0.0009}}}\n"
     ]
    },
    {
     "data": {
      "text/html": [
       "<div>\n",
       "<style scoped>\n",
       "    .dataframe tbody tr th:only-of-type {\n",
       "        vertical-align: middle;\n",
       "    }\n",
       "\n",
       "    .dataframe tbody tr th {\n",
       "        vertical-align: top;\n",
       "    }\n",
       "\n",
       "    .dataframe thead th {\n",
       "        text-align: right;\n",
       "    }\n",
       "</style>\n",
       "<table border=\"1\" class=\"dataframe\">\n",
       "  <thead>\n",
       "    <tr style=\"text-align: right;\">\n",
       "      <th></th>\n",
       "      <th>query_id</th>\n",
       "      <th>query</th>\n",
       "      <th>gold_docs</th>\n",
       "      <th>gold_docs_text</th>\n",
       "      <th>scores_stats</th>\n",
       "      <th>scores_gold</th>\n",
       "      <th>scores_1000</th>\n",
       "      <th>predicted_docs_text_10</th>\n",
       "      <th>id</th>\n",
       "      <th>title</th>\n",
       "      <th>vertexSet</th>\n",
       "      <th>labels</th>\n",
       "      <th>sents</th>\n",
       "      <th>split</th>\n",
       "      <th>label</th>\n",
       "      <th>label_idx</th>\n",
       "      <th>head_entity</th>\n",
       "      <th>tail_entity</th>\n",
       "      <th>head_entity_names</th>\n",
       "      <th>tail_entity_names</th>\n",
       "      <th>head_entity_longest_name</th>\n",
       "      <th>tail_entity_longest_name</th>\n",
       "      <th>head_entity_types</th>\n",
       "      <th>tail_entity_types</th>\n",
       "      <th>evidence_sent_ids</th>\n",
       "      <th>evidence_sents</th>\n",
       "      <th>head_entity_in_evidence</th>\n",
       "      <th>tail_entity_in_evidence</th>\n",
       "      <th>relation</th>\n",
       "      <th>relation_name</th>\n",
       "      <th>query_question</th>\n",
       "      <th>duplicate_titles_len</th>\n",
       "      <th>duplicate_titles</th>\n",
       "      <th>hit_rank</th>\n",
       "      <th>gold_doc</th>\n",
       "      <th>gold_doc_title</th>\n",
       "      <th>gold_doc_text</th>\n",
       "      <th>gold_doc_score</th>\n",
       "      <th>pred_doc</th>\n",
       "      <th>pred_doc_title</th>\n",
       "      <th>pred_doc_text</th>\n",
       "      <th>pred_doc_score</th>\n",
       "      <th>gold_doc_len</th>\n",
       "      <th>pred_doc_len</th>\n",
       "      <th>query_decompx_tokens</th>\n",
       "      <th>query_decompx_tokenizer_word_ids</th>\n",
       "      <th>query_decompx_cls_or_mean_pooled</th>\n",
       "      <th>query_decompx_tokens_dot_scores</th>\n",
       "      <th>query_decompx_decompx_last_layer_pooled</th>\n",
       "      <th>gold_doc_decompx_tokens</th>\n",
       "      <th>gold_doc_decompx_tokenizer_word_ids</th>\n",
       "      <th>gold_doc_decompx_cls_or_mean_pooled</th>\n",
       "      <th>gold_doc_decompx_tokens_dot_scores</th>\n",
       "      <th>gold_doc_decompx_decompx_last_layer_pooled</th>\n",
       "      <th>pred_doc_decompx_tokens</th>\n",
       "      <th>pred_doc_decompx_tokenizer_word_ids</th>\n",
       "      <th>pred_doc_decompx_cls_or_mean_pooled</th>\n",
       "      <th>pred_doc_decompx_tokens_dot_scores</th>\n",
       "      <th>pred_doc_decompx_decompx_last_layer_pooled</th>\n",
       "    </tr>\n",
       "  </thead>\n",
       "  <tbody>\n",
       "    <tr>\n",
       "      <th>0</th>\n",
       "      <td>test0</td>\n",
       "      <td>When was Loud Tour published?</td>\n",
       "      <td>[Loud Tour]</td>\n",
       "      <td>{'Loud Tour': {'text': 'The Loud Tour was the fourth overall and third world concert tour by Barbadian recording artist Rihanna . Performing in over twenty countries in the Americas and Europe , the tour was launched in support of Rihanna 's fifth stud...</td>\n",
       "      <td>{'len': 1000, 'max': 390.3378601074219, 'min': 377.525390625, 'std': 1.243663421340353, 'mean': 378.77503692626954, 'median': 378.4281463623047}</td>\n",
       "      <td>{'Loud Tour': 390.3378601074219}</td>\n",
       "      <td>{'Loud Tour': 390.3378601074219, 'Loud'n'proud': 385.71905517578125, 'Poetry Bus Tour': 385.4292907714844, 'Live &amp;amp; Loud': 384.18218994140625, 'The Loudest Engine': 384.0265808105469, 'Young Wild Things Tour': 383.8572998046875, 'Guitar Rock Tour': ...</td>\n",
       "      <td>{'Loud Tour': {'text': 'The Loud Tour was the fourth overall and third world concert tour by Barbadian recording artist Rihanna . Performing in over twenty countries in the Americas and Europe , the tour was launched in support of Rihanna 's fifth stud...</td>\n",
       "      <td>test0</td>\n",
       "      <td>Loud Tour</td>\n",
       "      <td>[[{'name': 'Loud', 'pos': [23, 24], 'sent_id': 1, 'type': 'MISC', 'global_pos': [41, 41], 'index': '0_0'}, {'name': 'Loud Tour', 'pos': [1, 3], 'sent_id': 6, 'type': 'MISC', 'global_pos': [128, 128], 'index': '0_1'}, {'name': 'Loud Tour', 'pos': [1, 3]...</td>\n",
       "      <td>[{'r': 'P577', 'h': 0, 't': 6, 'evidence': [1]}, {'r': 'P175', 'h': 0, 't': 2, 'evidence': [0, 1]}, {'r': 'P131', 'h': 10, 't': 8, 'evidence': [4]}, {'r': 'P17', 'h': 8, 't': 7, 'evidence': [3, 4]}, {'r': 'P17', 'h': 10, 't': 7, 'evidence': [3, 4]}, {'...</td>\n",
       "      <td>[[The, Loud, Tour, was, the, fourth, overall, and, third, world, concert, tour, by, Barbadian, recording, artist, Rihanna, .], [Performing, in, over, twenty, countries, in, the, Americas, and, Europe, ,, the, tour, was, launched, in, support, of, Rihan...</td>\n",
       "      <td>test</td>\n",
       "      <td>{'r': 'P577', 'h': 0, 't': 6, 'evidence': [1]}</td>\n",
       "      <td>0</td>\n",
       "      <td>[{'name': 'Loud', 'pos': [23, 24], 'sent_id': 1, 'type': 'MISC', 'global_pos': [41, 41], 'index': '0_0'}, {'name': 'Loud Tour', 'pos': [1, 3], 'sent_id': 6, 'type': 'MISC', 'global_pos': [128, 128], 'index': '0_1'}, {'name': 'Loud Tour', 'pos': [1, 3],...</td>\n",
       "      <td>[{'pos': [25, 26], 'type': 'TIME', 'sent_id': 1, 'name': '2010', 'global_pos': [43, 43], 'index': '6_0'}]</td>\n",
       "      <td>{Loud, Loud Tour}</td>\n",
       "      <td>{2010}</td>\n",
       "      <td>Loud Tour</td>\n",
       "      <td>2010</td>\n",
       "      <td>{MISC}</td>\n",
       "      <td>{TIME}</td>\n",
       "      <td>[1]</td>\n",
       "      <td>[[Performing, in, over, twenty, countries, in, the, Americas, and, Europe, ,, the, tour, was, launched, in, support, of, Rihanna, 's, fifth, studio, album, Loud, (, 2010, ), .]]</td>\n",
       "      <td>[{'name': 'Loud', 'pos': [23, 24], 'sent_id': 1, 'type': 'MISC', 'global_pos': [41, 41], 'index': '0_0'}]</td>\n",
       "      <td>[{'pos': [25, 26], 'type': 'TIME', 'sent_id': 1, 'name': '2010', 'global_pos': [43, 43], 'index': '6_0'}]</td>\n",
       "      <td>P577</td>\n",
       "      <td>publication date</td>\n",
       "      <td>When was Loud Tour published?</td>\n",
       "      <td>0</td>\n",
       "      <td>{}</td>\n",
       "      <td>1.0</td>\n",
       "      <td>Loud Tour The Loud Tour was the fourth overall and third world concert tour by Barbadian recording artist Rihanna . Performing in over twenty countries in the Americas and Europe , the tour was launched in support of Rihanna 's fifth studio album Loud ...</td>\n",
       "      <td>Loud Tour</td>\n",
       "      <td>The Loud Tour was the fourth overall and third world concert tour by Barbadian recording artist Rihanna . Performing in over twenty countries in the Americas and Europe , the tour was launched in support of Rihanna 's fifth studio album Loud ( 2010 ) ....</td>\n",
       "      <td>390.33786</td>\n",
       "      <td>Loud Tour The Loud Tour was the fourth overall and third world concert tour by Barbadian recording artist Rihanna . Performing in over twenty countries in the Americas and Europe , the tour was launched in support of Rihanna 's fifth studio album Loud ...</td>\n",
       "      <td>Loud Tour</td>\n",
       "      <td>The Loud Tour was the fourth overall and third world concert tour by Barbadian recording artist Rihanna . Performing in over twenty countries in the Americas and Europe , the tour was launched in support of Rihanna 's fifth studio album Loud ( 2010 ) ....</td>\n",
       "      <td>390.33786</td>\n",
       "      <td>142</td>\n",
       "      <td>142</td>\n",
       "      <td>[[CLS], when, was, loud, tour, published, ?, [SEP]]</td>\n",
       "      <td>[None, 0, 1, 2, 3, 4, 4, None]</td>\n",
       "      <td>[-0.17805682, -0.3927267, 0.34883702, -0.38739026, -0.23735791, -0.19460969, 0.21865264, 0.068975255, -0.1592264, 0.18711175, -0.20565934, 0.003034133, -0.18440822, 0.40548998, -0.4549966, 0.51666415, 0.09620502, -0.1836627, -0.4205021, -0.010630409, 0...</td>\n",
       "      <td>[2.2196622, 6.71451, 0.9866385, 58.316944, 37.08578, 4.3126516, 1.2738111, -1.2307678]</td>\n",
       "      <td>[[0.0026502553, 0.044497166, 0.009840142, -0.029498188, 0.047593728, 0.0005243204, 0.089234896, -0.058340102, -0.0002567456, -0.06561515, 0.012288873, -0.018892672, 0.0068592615, 0.031180702, 0.027442973, -0.06405719, 0.007814868, -0.030438174, 0.02620...</td>\n",
       "      <td>[[CLS], loud, tour, the, loud, tour, was, the, fourth, overall, and, third, world, concert, tour, by, bar, ##bad, ##ian, recording, artist, rihanna, ., performing, in, over, twenty, countries, in, the, americas, and, europe, ,, the, tour, was, launched...</td>\n",
       "      <td>[None, 0, 1, 2, 3, 4, 5, 6, 7, 8, 9, 10, 11, 12, 13, 14, 15, 15, 15, 16, 17, 18, 19, 20, 21, 22, 23, 24, 25, 26, 27, 28, 29, 30, 31, 32, 33, 34, 35, 36, 37, 38, 39, 39, 40, 41, 42, 43, 44, 45, 46, 47, 48, 49, 50, 51, 52, 53, 54, 54, 55, 56, 57, 58, 59,...</td>\n",
       "      <td>[-0.7096514, -0.43747085, 2.078466, -0.8606712, 2.3640666, 0.67811525, 3.0262432, 0.6547275, -1.481939, -2.838817, -1.2552446, 1.0732918, -3.318883, 3.0607197, -0.41772836, 3.4470546, 3.6913419, 0.77499884, 1.0027949, -1.8230458, 0.37280822, -1.2724396...</td>\n",
       "      <td>[650.5565, 112.46794, 110.70713, 35.217003, 88.90661, 93.24184, 93.337906, 43.745255, 70.52942, 71.49595, 12.454085, 71.52813, 16.037241, 15.657524, 53.929047, 21.389343, 5.0486135, 39.502014, 38.76303, 1.5653663, 10.186192, 42.767452, 3.310997, 14.803...</td>\n",
       "      <td>[[-0.06098142, 0.030208647, 0.35368052, -0.15786159, 0.43346453, 0.0317666, 0.49806064, 0.11205646, -0.21001092, -0.54779494, -0.16660528, 0.20015034, -0.5065915, 0.43021473, -0.07829579, 0.51261973, 0.5002409, 0.08070024, 0.15372154, -0.20520967, -0.0...</td>\n",
       "      <td>[[CLS], loud, tour, the, loud, tour, was, the, fourth, overall, and, third, world, concert, tour, by, bar, ##bad, ##ian, recording, artist, rihanna, ., performing, in, over, twenty, countries, in, the, americas, and, europe, ,, the, tour, was, launched...</td>\n",
       "      <td>[None, 0, 1, 2, 3, 4, 5, 6, 7, 8, 9, 10, 11, 12, 13, 14, 15, 15, 15, 16, 17, 18, 19, 20, 21, 22, 23, 24, 25, 26, 27, 28, 29, 30, 31, 32, 33, 34, 35, 36, 37, 38, 39, 39, 40, 41, 42, 43, 44, 45, 46, 47, 48, 49, 50, 51, 52, 53, 54, 54, 55, 56, 57, 58, 59,...</td>\n",
       "      <td>[-0.7096514, -0.43747085, 2.078466, -0.8606712, 2.3640666, 0.67811525, 3.0262432, 0.6547275, -1.481939, -2.838817, -1.2552446, 1.0732918, -3.318883, 3.0607197, -0.41772836, 3.4470546, 3.6913419, 0.77499884, 1.0027949, -1.8230458, 0.37280822, -1.2724396...</td>\n",
       "      <td>[650.5565, 112.46794, 110.70713, 35.217003, 88.90661, 93.24184, 93.337906, 43.745255, 70.52942, 71.49595, 12.454085, 71.52813, 16.037241, 15.657524, 53.929047, 21.389343, 5.0486135, 39.502014, 38.76303, 1.5653663, 10.186192, 42.767452, 3.310997, 14.803...</td>\n",
       "      <td>[[-0.06098142, 0.030208647, 0.35368052, -0.15786159, 0.43346453, 0.0317666, 0.49806064, 0.11205646, -0.21001092, -0.54779494, -0.16660528, 0.20015034, -0.5065915, 0.43021473, -0.07829579, 0.51261973, 0.5002409, 0.08070024, 0.15372154, -0.20520967, -0.0...</td>\n",
       "    </tr>\n",
       "  </tbody>\n",
       "</table>\n",
       "</div>"
      ],
      "text/plain": [
       "  query_id                          query    gold_docs  \\\n",
       "0    test0  When was Loud Tour published?  [Loud Tour]   \n",
       "\n",
       "                                                                                                                                                                                                                                                    gold_docs_text  \\\n",
       "0  {'Loud Tour': {'text': 'The Loud Tour was the fourth overall and third world concert tour by Barbadian recording artist Rihanna . Performing in over twenty countries in the Americas and Europe , the tour was launched in support of Rihanna 's fifth stud...   \n",
       "\n",
       "                                                                                                                                       scores_stats  \\\n",
       "0  {'len': 1000, 'max': 390.3378601074219, 'min': 377.525390625, 'std': 1.243663421340353, 'mean': 378.77503692626954, 'median': 378.4281463623047}   \n",
       "\n",
       "                        scores_gold  \\\n",
       "0  {'Loud Tour': 390.3378601074219}   \n",
       "\n",
       "                                                                                                                                                                                                                                                       scores_1000  \\\n",
       "0  {'Loud Tour': 390.3378601074219, 'Loud'n'proud': 385.71905517578125, 'Poetry Bus Tour': 385.4292907714844, 'Live &amp; Loud': 384.18218994140625, 'The Loudest Engine': 384.0265808105469, 'Young Wild Things Tour': 383.8572998046875, 'Guitar Rock Tour': ...   \n",
       "\n",
       "                                                                                                                                                                                                                                            predicted_docs_text_10  \\\n",
       "0  {'Loud Tour': {'text': 'The Loud Tour was the fourth overall and third world concert tour by Barbadian recording artist Rihanna . Performing in over twenty countries in the Americas and Europe , the tour was launched in support of Rihanna 's fifth stud...   \n",
       "\n",
       "      id      title  \\\n",
       "0  test0  Loud Tour   \n",
       "\n",
       "                                                                                                                                                                                                                                                         vertexSet  \\\n",
       "0  [[{'name': 'Loud', 'pos': [23, 24], 'sent_id': 1, 'type': 'MISC', 'global_pos': [41, 41], 'index': '0_0'}, {'name': 'Loud Tour', 'pos': [1, 3], 'sent_id': 6, 'type': 'MISC', 'global_pos': [128, 128], 'index': '0_1'}, {'name': 'Loud Tour', 'pos': [1, 3]...   \n",
       "\n",
       "                                                                                                                                                                                                                                                            labels  \\\n",
       "0  [{'r': 'P577', 'h': 0, 't': 6, 'evidence': [1]}, {'r': 'P175', 'h': 0, 't': 2, 'evidence': [0, 1]}, {'r': 'P131', 'h': 10, 't': 8, 'evidence': [4]}, {'r': 'P17', 'h': 8, 't': 7, 'evidence': [3, 4]}, {'r': 'P17', 'h': 10, 't': 7, 'evidence': [3, 4]}, {'...   \n",
       "\n",
       "                                                                                                                                                                                                                                                             sents  \\\n",
       "0  [[The, Loud, Tour, was, the, fourth, overall, and, third, world, concert, tour, by, Barbadian, recording, artist, Rihanna, .], [Performing, in, over, twenty, countries, in, the, Americas, and, Europe, ,, the, tour, was, launched, in, support, of, Rihan...   \n",
       "\n",
       "  split                                           label  label_idx  \\\n",
       "0  test  {'r': 'P577', 'h': 0, 't': 6, 'evidence': [1]}          0   \n",
       "\n",
       "                                                                                                                                                                                                                                                       head_entity  \\\n",
       "0  [{'name': 'Loud', 'pos': [23, 24], 'sent_id': 1, 'type': 'MISC', 'global_pos': [41, 41], 'index': '0_0'}, {'name': 'Loud Tour', 'pos': [1, 3], 'sent_id': 6, 'type': 'MISC', 'global_pos': [128, 128], 'index': '0_1'}, {'name': 'Loud Tour', 'pos': [1, 3],...   \n",
       "\n",
       "                                                                                                 tail_entity  \\\n",
       "0  [{'pos': [25, 26], 'type': 'TIME', 'sent_id': 1, 'name': '2010', 'global_pos': [43, 43], 'index': '6_0'}]   \n",
       "\n",
       "   head_entity_names tail_entity_names head_entity_longest_name  \\\n",
       "0  {Loud, Loud Tour}            {2010}                Loud Tour   \n",
       "\n",
       "  tail_entity_longest_name head_entity_types tail_entity_types  \\\n",
       "0                     2010            {MISC}            {TIME}   \n",
       "\n",
       "  evidence_sent_ids  \\\n",
       "0               [1]   \n",
       "\n",
       "                                                                                                                                                                      evidence_sents  \\\n",
       "0  [[Performing, in, over, twenty, countries, in, the, Americas, and, Europe, ,, the, tour, was, launched, in, support, of, Rihanna, 's, fifth, studio, album, Loud, (, 2010, ), .]]   \n",
       "\n",
       "                                                                                     head_entity_in_evidence  \\\n",
       "0  [{'name': 'Loud', 'pos': [23, 24], 'sent_id': 1, 'type': 'MISC', 'global_pos': [41, 41], 'index': '0_0'}]   \n",
       "\n",
       "                                                                                     tail_entity_in_evidence  \\\n",
       "0  [{'pos': [25, 26], 'type': 'TIME', 'sent_id': 1, 'name': '2010', 'global_pos': [43, 43], 'index': '6_0'}]   \n",
       "\n",
       "  relation     relation_name                 query_question  \\\n",
       "0     P577  publication date  When was Loud Tour published?   \n",
       "\n",
       "   duplicate_titles_len duplicate_titles  hit_rank  \\\n",
       "0                     0               {}       1.0   \n",
       "\n",
       "                                                                                                                                                                                                                                                          gold_doc  \\\n",
       "0  Loud Tour The Loud Tour was the fourth overall and third world concert tour by Barbadian recording artist Rihanna . Performing in over twenty countries in the Americas and Europe , the tour was launched in support of Rihanna 's fifth studio album Loud ...   \n",
       "\n",
       "  gold_doc_title  \\\n",
       "0      Loud Tour   \n",
       "\n",
       "                                                                                                                                                                                                                                                     gold_doc_text  \\\n",
       "0  The Loud Tour was the fourth overall and third world concert tour by Barbadian recording artist Rihanna . Performing in over twenty countries in the Americas and Europe , the tour was launched in support of Rihanna 's fifth studio album Loud ( 2010 ) ....   \n",
       "\n",
       "   gold_doc_score  \\\n",
       "0       390.33786   \n",
       "\n",
       "                                                                                                                                                                                                                                                          pred_doc  \\\n",
       "0  Loud Tour The Loud Tour was the fourth overall and third world concert tour by Barbadian recording artist Rihanna . Performing in over twenty countries in the Americas and Europe , the tour was launched in support of Rihanna 's fifth studio album Loud ...   \n",
       "\n",
       "  pred_doc_title  \\\n",
       "0      Loud Tour   \n",
       "\n",
       "                                                                                                                                                                                                                                                     pred_doc_text  \\\n",
       "0  The Loud Tour was the fourth overall and third world concert tour by Barbadian recording artist Rihanna . Performing in over twenty countries in the Americas and Europe , the tour was launched in support of Rihanna 's fifth studio album Loud ( 2010 ) ....   \n",
       "\n",
       "   pred_doc_score  gold_doc_len  pred_doc_len  \\\n",
       "0       390.33786           142           142   \n",
       "\n",
       "                                  query_decompx_tokens  \\\n",
       "0  [[CLS], when, was, loud, tour, published, ?, [SEP]]   \n",
       "\n",
       "  query_decompx_tokenizer_word_ids  \\\n",
       "0   [None, 0, 1, 2, 3, 4, 4, None]   \n",
       "\n",
       "                                                                                                                                                                                                                                  query_decompx_cls_or_mean_pooled  \\\n",
       "0  [-0.17805682, -0.3927267, 0.34883702, -0.38739026, -0.23735791, -0.19460969, 0.21865264, 0.068975255, -0.1592264, 0.18711175, -0.20565934, 0.003034133, -0.18440822, 0.40548998, -0.4549966, 0.51666415, 0.09620502, -0.1836627, -0.4205021, -0.010630409, 0...   \n",
       "\n",
       "                                                          query_decompx_tokens_dot_scores  \\\n",
       "0  [2.2196622, 6.71451, 0.9866385, 58.316944, 37.08578, 4.3126516, 1.2738111, -1.2307678]   \n",
       "\n",
       "                                                                                                                                                                                                                           query_decompx_decompx_last_layer_pooled  \\\n",
       "0  [[0.0026502553, 0.044497166, 0.009840142, -0.029498188, 0.047593728, 0.0005243204, 0.089234896, -0.058340102, -0.0002567456, -0.06561515, 0.012288873, -0.018892672, 0.0068592615, 0.031180702, 0.027442973, -0.06405719, 0.007814868, -0.030438174, 0.02620...   \n",
       "\n",
       "                                                                                                                                                                                                                                           gold_doc_decompx_tokens  \\\n",
       "0  [[CLS], loud, tour, the, loud, tour, was, the, fourth, overall, and, third, world, concert, tour, by, bar, ##bad, ##ian, recording, artist, rihanna, ., performing, in, over, twenty, countries, in, the, americas, and, europe, ,, the, tour, was, launched...   \n",
       "\n",
       "                                                                                                                                                                                                                               gold_doc_decompx_tokenizer_word_ids  \\\n",
       "0  [None, 0, 1, 2, 3, 4, 5, 6, 7, 8, 9, 10, 11, 12, 13, 14, 15, 15, 15, 16, 17, 18, 19, 20, 21, 22, 23, 24, 25, 26, 27, 28, 29, 30, 31, 32, 33, 34, 35, 36, 37, 38, 39, 39, 40, 41, 42, 43, 44, 45, 46, 47, 48, 49, 50, 51, 52, 53, 54, 54, 55, 56, 57, 58, 59,...   \n",
       "\n",
       "                                                                                                                                                                                                                               gold_doc_decompx_cls_or_mean_pooled  \\\n",
       "0  [-0.7096514, -0.43747085, 2.078466, -0.8606712, 2.3640666, 0.67811525, 3.0262432, 0.6547275, -1.481939, -2.838817, -1.2552446, 1.0732918, -3.318883, 3.0607197, -0.41772836, 3.4470546, 3.6913419, 0.77499884, 1.0027949, -1.8230458, 0.37280822, -1.2724396...   \n",
       "\n",
       "                                                                                                                                                                                                                                gold_doc_decompx_tokens_dot_scores  \\\n",
       "0  [650.5565, 112.46794, 110.70713, 35.217003, 88.90661, 93.24184, 93.337906, 43.745255, 70.52942, 71.49595, 12.454085, 71.52813, 16.037241, 15.657524, 53.929047, 21.389343, 5.0486135, 39.502014, 38.76303, 1.5653663, 10.186192, 42.767452, 3.310997, 14.803...   \n",
       "\n",
       "                                                                                                                                                                                                                        gold_doc_decompx_decompx_last_layer_pooled  \\\n",
       "0  [[-0.06098142, 0.030208647, 0.35368052, -0.15786159, 0.43346453, 0.0317666, 0.49806064, 0.11205646, -0.21001092, -0.54779494, -0.16660528, 0.20015034, -0.5065915, 0.43021473, -0.07829579, 0.51261973, 0.5002409, 0.08070024, 0.15372154, -0.20520967, -0.0...   \n",
       "\n",
       "                                                                                                                                                                                                                                           pred_doc_decompx_tokens  \\\n",
       "0  [[CLS], loud, tour, the, loud, tour, was, the, fourth, overall, and, third, world, concert, tour, by, bar, ##bad, ##ian, recording, artist, rihanna, ., performing, in, over, twenty, countries, in, the, americas, and, europe, ,, the, tour, was, launched...   \n",
       "\n",
       "                                                                                                                                                                                                                               pred_doc_decompx_tokenizer_word_ids  \\\n",
       "0  [None, 0, 1, 2, 3, 4, 5, 6, 7, 8, 9, 10, 11, 12, 13, 14, 15, 15, 15, 16, 17, 18, 19, 20, 21, 22, 23, 24, 25, 26, 27, 28, 29, 30, 31, 32, 33, 34, 35, 36, 37, 38, 39, 39, 40, 41, 42, 43, 44, 45, 46, 47, 48, 49, 50, 51, 52, 53, 54, 54, 55, 56, 57, 58, 59,...   \n",
       "\n",
       "                                                                                                                                                                                                                               pred_doc_decompx_cls_or_mean_pooled  \\\n",
       "0  [-0.7096514, -0.43747085, 2.078466, -0.8606712, 2.3640666, 0.67811525, 3.0262432, 0.6547275, -1.481939, -2.838817, -1.2552446, 1.0732918, -3.318883, 3.0607197, -0.41772836, 3.4470546, 3.6913419, 0.77499884, 1.0027949, -1.8230458, 0.37280822, -1.2724396...   \n",
       "\n",
       "                                                                                                                                                                                                                                pred_doc_decompx_tokens_dot_scores  \\\n",
       "0  [650.5565, 112.46794, 110.70713, 35.217003, 88.90661, 93.24184, 93.337906, 43.745255, 70.52942, 71.49595, 12.454085, 71.52813, 16.037241, 15.657524, 53.929047, 21.389343, 5.0486135, 39.502014, 38.76303, 1.5653663, 10.186192, 42.767452, 3.310997, 14.803...   \n",
       "\n",
       "                                                                                                                                                                                                                        pred_doc_decompx_decompx_last_layer_pooled  \n",
       "0  [[-0.06098142, 0.030208647, 0.35368052, -0.15786159, 0.43346453, 0.0317666, 0.49806064, 0.11205646, -0.21001092, -0.54779494, -0.16660528, 0.20015034, -0.5065915, 0.43021473, -0.07829579, 0.51261973, 0.5002409, 0.08070024, 0.15372154, -0.20520967, -0.0...  "
      ]
     },
     "execution_count": 4,
     "metadata": {},
     "output_type": "execute_result"
    }
   ],
   "source": [
    "# DATASET = \"re-docred_facebook--contriever-msmarco_7170.pkl\"\n",
    "DATASET = \"re-docred_facebook--dragon-plus-query-encoder_7170.pkl\"\n",
    "# DATASET = \"re-docred_OpenMatch--cocodr-base-msmarco_7170.pkl.gz\"\n",
    "hf.hf_hub_download(repo_id=\"Retriever-Contextualization/datasets\", filename=f\"results/{DATASET}\", repo_type=\"dataset\", local_dir=\"hf/\")\n",
    "df_raw = pd.read_pickle(f\"./hf/results/{DATASET}\")\n",
    "print(df_raw.attrs)\n",
    "df_raw.head(1)"
   ]
  },
  {
   "cell_type": "code",
   "execution_count": 5,
   "metadata": {},
   "outputs": [
    {
     "name": "stdout",
     "output_type": "stream",
     "text": [
      "1508\n",
      "257\n",
      "85\n",
      "Which administrative territorial entity is Latourell Falls located in?\n",
      "[{'name': 'Oregon', 'pos': [15, 16], 'sent_id': 0, 'type': 'LOC', 'global_pos': [15, 15], 'index': '3_0'}]\n",
      "[{'name': 'Latourell Falls', 'pos': [0, 2], 'sent_id': 0, 'type': 'LOC', 'global_pos': [0, 0], 'index': '0_0'}]\n",
      "0 ['Latourell', 'Falls', 'is', 'a', 'waterfall', 'along', 'the', 'Columbia', 'River', 'Gorge', 'in', 'the', 'U.S.', 'state', 'of', 'Oregon', ',', 'within', 'Guy', 'W.', 'Talbot', 'State', 'Park', '.']\n",
      "1 ['The', 'Historic', 'Columbia', 'River', 'Highway', 'passes', 'nearby', ',', 'and', 'at', 'certain', 'locations', 'the', 'Lower', 'falls', 'are', 'visible', 'from', 'the', 'road', '.']\n",
      "2 ['Near', 'the', 'base', 'of', 'the', 'falls', ',', 'a', 'parking', 'lot', 'and', 'path', 'were', 'erected', 'to', 'assist', 'visitors', 'to', 'the', 'site', '.']\n",
      "3 ['Visitors', 'must', 'hike', 'along', 'the', 'loop', 'trail', 'to', 'see', 'the', 'upper', 'falls', '.']\n",
      "4 ['Latourell', 'is', 'unique', 'among', 'the', 'best', '-', 'known', 'Columbia', 'Gorge', 'waterfalls', ',', 'in', 'the', 'way', 'that', 'it', 'drops', 'straight', 'down', 'from', 'an', 'overhanging', 'basalt', 'cliff', '.']\n",
      "5 ['Most', 'of', 'those', 'falls', '(', 'even', 'the', 'famous', 'Multnomah', 'Falls', ')', 'tumble', 'to', 'some', 'degree', '.']\n",
      "6 ['Latourell', 'Falls', 'is', 'an', 'excellent', 'example', 'of', 'columnar', 'basalt', 'formations', '.']\n"
     ]
    },
    {
     "data": {
      "text/html": [
       "<div>\n",
       "<style scoped>\n",
       "    .dataframe tbody tr th:only-of-type {\n",
       "        vertical-align: middle;\n",
       "    }\n",
       "\n",
       "    .dataframe tbody tr th {\n",
       "        vertical-align: top;\n",
       "    }\n",
       "\n",
       "    .dataframe thead th {\n",
       "        text-align: right;\n",
       "    }\n",
       "</style>\n",
       "<table border=\"1\" class=\"dataframe\">\n",
       "  <thead>\n",
       "    <tr style=\"text-align: right;\">\n",
       "      <th></th>\n",
       "      <th>query</th>\n",
       "      <th>head_w_tail_sentence</th>\n",
       "      <th>head_wo_tail_sentence</th>\n",
       "      <th>head_entity_in_evidence</th>\n",
       "      <th>head_wo_tail_entity</th>\n",
       "      <th>sents_complete</th>\n",
       "      <th>sents_complete_rm_head_wo_tail</th>\n",
       "      <th>sents_complete_rm_head_w_tail</th>\n",
       "    </tr>\n",
       "  </thead>\n",
       "  <tbody>\n",
       "    <tr>\n",
       "      <th>1115</th>\n",
       "      <td>When was William César de Oliveira born?</td>\n",
       "      <td>William César de Oliveira ( born 17 October 1968 ) is a former Brazilian international footballer .</td>\n",
       "      <td>William César de Oliveira was part of the Brazilian U17 football team at the inaugural edition of the FIFA U-16 World Championship ( now known as FIFA U17 World Cup ) in 1985 .</td>\n",
       "      <td>[{'name': 'William César de Oliveira', 'pos': [0, 4], 'sent_id': 0, 'type': 'PER', 'global_pos': [0, 0], 'index': '0_0'}]</td>\n",
       "      <td>{'name': 'William César de Oliveira', 'pos': [0, 4], 'sent_id': 2, 'type': 'PER', 'global_pos': [43, 43], 'index': '0_1'}</td>\n",
       "      <td>William César de Oliveira ( born 17 October 1968 ) is a former Brazilian international footballer . He has played for several domestic club teams in Brazil such as Vasco Esporte Clube , Flamengo , Fluminense FC , Clube Atlético Mineiro etc . William Cé...</td>\n",
       "      <td>William César de Oliveira ( born 17 October 1968 ) is a former Brazilian international footballer . He has played for several domestic club teams in Brazil such as Vasco Esporte Clube , Flamengo , Fluminense FC , Clube Atlético Mineiro etc .  He played...</td>\n",
       "      <td>He has played for several domestic club teams in Brazil such as Vasco Esporte Clube , Flamengo , Fluminense FC , Clube Atlético Mineiro etc . William César de Oliveira was part of the Brazilian U17 football team at the inaugural edition of the FIFA U-...</td>\n",
       "    </tr>\n",
       "    <tr>\n",
       "      <th>3318</th>\n",
       "      <td>Who performed Entreat?</td>\n",
       "      <td>Entreat is a live album by British alternative rock band The Cure , recorded at London 's Wembley Arena in July 1989 .</td>\n",
       "      <td>Entreat was also given away free by HMV stores in the UK and Ireland to customers who purchased two CDs from the band 's back catalogue .</td>\n",
       "      <td>[{'name': 'Entreat', 'pos': [0, 1], 'sent_id': 0, 'type': 'MISC', 'global_pos': [0, 0], 'index': '0_1'}]</td>\n",
       "      <td>{'name': 'Entreat', 'pos': [0, 1], 'sent_id': 4, 'type': 'MISC', 'global_pos': [74, 74], 'index': '0_0'}</td>\n",
       "      <td>Entreat is a live album by British alternative rock band The Cure , recorded at London 's Wembley Arena in July 1989 . It consists entirely of songs performed from the band 's 1989 record Disintegration ; while they were on their international Prayer t...</td>\n",
       "      <td>Entreat is a live album by British alternative rock band The Cure , recorded at London 's Wembley Arena in July 1989 . It consists entirely of songs performed from the band 's 1989 record Disintegration ; while they were on their international Prayer t...</td>\n",
       "      <td>It consists entirely of songs performed from the band 's 1989 record Disintegration ; while they were on their international Prayer tour . Entreat was distributed exclusively in France as a promotional tool . When bootlegs began to surface , however ,...</td>\n",
       "    </tr>\n",
       "    <tr>\n",
       "      <th>6022</th>\n",
       "      <td>When was Chesapeake dissolved or demolished?</td>\n",
       "      <td>Additionally , Amtrak operated a commuter service named the Chesapeake between 1978 – 1983 .</td>\n",
       "      <td>The Penn Line became the replacement for Amtrak 's Chesapeake as well as the minimal former PRR commuter service between Washington and Baltimore .</td>\n",
       "      <td>[{'name': 'Chesapeake', 'pos': [9, 10], 'sent_id': 6, 'type': 'MISC', 'global_pos': [154, 154], 'index': '15_0'}]</td>\n",
       "      <td>{'name': 'Chesapeake', 'pos': [9, 10], 'sent_id': 8, 'type': 'MISC', 'global_pos': [205, 205], 'index': '15_1'}</td>\n",
       "      <td>The Penn Line is a MARC commuter rail service running from Union Station in Washington , D.C. to Perryville , Maryland via Baltimore 's Penn Station on Amtrak 's Northeast Corridor . It is MARC 's busiest and only electric line . Currently the line is ...</td>\n",
       "      <td>The Penn Line is a MARC commuter rail service running from Union Station in Washington , D.C. to Perryville , Maryland via Baltimore 's Penn Station on Amtrak 's Northeast Corridor . It is MARC 's busiest and only electric line . Currently the line is ...</td>\n",
       "      <td>The Penn Line is a MARC commuter rail service running from Union Station in Washington , D.C. to Perryville , Maryland via Baltimore 's Penn Station on Amtrak 's Northeast Corridor . It is MARC 's busiest and only electric line . Currently the line is ...</td>\n",
       "    </tr>\n",
       "  </tbody>\n",
       "</table>\n",
       "</div>"
      ],
      "text/plain": [
       "                                             query  \\\n",
       "1115      When was William César de Oliveira born?   \n",
       "3318                        Who performed Entreat?   \n",
       "6022  When was Chesapeake dissolved or demolished?   \n",
       "\n",
       "                                                                                                        head_w_tail_sentence  \\\n",
       "1115                     William César de Oliveira ( born 17 October 1968 ) is a former Brazilian international footballer .   \n",
       "3318  Entreat is a live album by British alternative rock band The Cure , recorded at London 's Wembley Arena in July 1989 .   \n",
       "6022                            Additionally , Amtrak operated a commuter service named the Chesapeake between 1978 – 1983 .   \n",
       "\n",
       "                                                                                                                                                                 head_wo_tail_sentence  \\\n",
       "1115  William César de Oliveira was part of the Brazilian U17 football team at the inaugural edition of the FIFA U-16 World Championship ( now known as FIFA U17 World Cup ) in 1985 .   \n",
       "3318                                         Entreat was also given away free by HMV stores in the UK and Ireland to customers who purchased two CDs from the band 's back catalogue .   \n",
       "6022                               The Penn Line became the replacement for Amtrak 's Chesapeake as well as the minimal former PRR commuter service between Washington and Baltimore .   \n",
       "\n",
       "                                                                                                        head_entity_in_evidence  \\\n",
       "1115  [{'name': 'William César de Oliveira', 'pos': [0, 4], 'sent_id': 0, 'type': 'PER', 'global_pos': [0, 0], 'index': '0_0'}]   \n",
       "3318                   [{'name': 'Entreat', 'pos': [0, 1], 'sent_id': 0, 'type': 'MISC', 'global_pos': [0, 0], 'index': '0_1'}]   \n",
       "6022          [{'name': 'Chesapeake', 'pos': [9, 10], 'sent_id': 6, 'type': 'MISC', 'global_pos': [154, 154], 'index': '15_0'}]   \n",
       "\n",
       "                                                                                                            head_wo_tail_entity  \\\n",
       "1115  {'name': 'William César de Oliveira', 'pos': [0, 4], 'sent_id': 2, 'type': 'PER', 'global_pos': [43, 43], 'index': '0_1'}   \n",
       "3318                   {'name': 'Entreat', 'pos': [0, 1], 'sent_id': 4, 'type': 'MISC', 'global_pos': [74, 74], 'index': '0_0'}   \n",
       "6022            {'name': 'Chesapeake', 'pos': [9, 10], 'sent_id': 8, 'type': 'MISC', 'global_pos': [205, 205], 'index': '15_1'}   \n",
       "\n",
       "                                                                                                                                                                                                                                                       sents_complete  \\\n",
       "1115  William César de Oliveira ( born 17 October 1968 ) is a former Brazilian international footballer . He has played for several domestic club teams in Brazil such as Vasco Esporte Clube , Flamengo , Fluminense FC , Clube Atlético Mineiro etc . William Cé...   \n",
       "3318  Entreat is a live album by British alternative rock band The Cure , recorded at London 's Wembley Arena in July 1989 . It consists entirely of songs performed from the band 's 1989 record Disintegration ; while they were on their international Prayer t...   \n",
       "6022  The Penn Line is a MARC commuter rail service running from Union Station in Washington , D.C. to Perryville , Maryland via Baltimore 's Penn Station on Amtrak 's Northeast Corridor . It is MARC 's busiest and only electric line . Currently the line is ...   \n",
       "\n",
       "                                                                                                                                                                                                                                       sents_complete_rm_head_wo_tail  \\\n",
       "1115  William César de Oliveira ( born 17 October 1968 ) is a former Brazilian international footballer . He has played for several domestic club teams in Brazil such as Vasco Esporte Clube , Flamengo , Fluminense FC , Clube Atlético Mineiro etc .  He played...   \n",
       "3318  Entreat is a live album by British alternative rock band The Cure , recorded at London 's Wembley Arena in July 1989 . It consists entirely of songs performed from the band 's 1989 record Disintegration ; while they were on their international Prayer t...   \n",
       "6022  The Penn Line is a MARC commuter rail service running from Union Station in Washington , D.C. to Perryville , Maryland via Baltimore 's Penn Station on Amtrak 's Northeast Corridor . It is MARC 's busiest and only electric line . Currently the line is ...   \n",
       "\n",
       "                                                                                                                                                                                                                                        sents_complete_rm_head_w_tail  \n",
       "1115   He has played for several domestic club teams in Brazil such as Vasco Esporte Clube , Flamengo , Fluminense FC , Clube Atlético Mineiro etc . William César de Oliveira was part of the Brazilian U17 football team at the inaugural edition of the FIFA U-...  \n",
       "3318   It consists entirely of songs performed from the band 's 1989 record Disintegration ; while they were on their international Prayer tour . Entreat was distributed exclusively in France as a promotional tool . When bootlegs began to surface , however ,...  \n",
       "6022  The Penn Line is a MARC commuter rail service running from Union Station in Washington , D.C. to Perryville , Maryland via Baltimore 's Penn Station on Amtrak 's Northeast Corridor . It is MARC 's busiest and only electric line . Currently the line is ...  "
      ]
     },
     "execution_count": 5,
     "metadata": {},
     "output_type": "execute_result"
    }
   ],
   "source": [
    "df = df_raw.copy()\n",
    "df = df[df[\"evidence_sent_ids\"].str.len() == 1]  # 1 Evidence\n",
    "df = df[df[\"evidence_sents\"].str.len() == 1]  # 1 Evidence Sentence\n",
    "df = df[df[\"head_entity_in_evidence\"].str.len() == 1]  # 1 Head in Evidence\n",
    "df = df[df[\"head_entity_names\"].str.len() == 1]  # All heads have the same name\n",
    "# Filter Repeated Labels (Only 1 h->t)\n",
    "def not_repeated_label(label, labels):\n",
    "    repeat_count = 0\n",
    "    for l in labels:\n",
    "        if l['h'] == label['h'] and l['t'] == label['t']:\n",
    "            repeat_count += 1\n",
    "    return True if repeat_count == 1 else False\n",
    "df[\"repeated_label\"] = df.apply(lambda r: not_repeated_label(r[\"label\"], r[\"labels\"]), axis=1)\n",
    "df = df[df[\"repeated_label\"]]\n",
    "# df = df[df[\"head_entity\"].str.len() == 2]  # 2 Head Entity (1 in evidence, 1 not in evidence)\n",
    "print(len(df))  # 2239\n",
    "\n",
    "def flatten(xss):\n",
    "    return [x for xs in xss for x in xs]\n",
    "\n",
    "def sentences_w_multiple_heads(head_enitites):\n",
    "    sents = []\n",
    "    repeated = []\n",
    "    for e in head_enitites:\n",
    "        sents.append(e[\"sent_id\"])\n",
    "        if sents.count(e[\"sent_id\"]) > 1:\n",
    "            repeated.append(e[\"sent_id\"])\n",
    "    return list(set(repeated))\n",
    "\n",
    "### Find Head in other sentences\n",
    "head_w_tail_sents = []\n",
    "head_wo_tail_sents = []\n",
    "head_wo_tail_entity = []\n",
    "for row in df.to_dict(orient=\"records\"):\n",
    "    head_w_tail = \" \".join(flatten(row[\"evidence_sents\"]))\n",
    "    head_wo_tail = None\n",
    "    sents_w_multiple_heads = sentences_w_multiple_heads(row[\"head_entity\"])\n",
    "    for head_entity in row[\"head_entity\"]:\n",
    "        evidence_sent_id = row[\"evidence_sent_ids\"][0]\n",
    "        if head_entity[\"sent_id\"] != evidence_sent_id and head_entity[\"sent_id\"] not in sents_w_multiple_heads:\n",
    "            head_wo_tail_ent = head_entity\n",
    "            head_wo_tail = \" \".join(row[\"sents\"][head_entity[\"sent_id\"]])\n",
    "            break\n",
    "    if head_wo_tail is None:\n",
    "        head_w_tail_sents.append(None)\n",
    "        head_wo_tail_sents.append(None)\n",
    "        head_wo_tail_entity.append(None)\n",
    "    else:\n",
    "        head_w_tail_sents.append(head_w_tail)\n",
    "        head_wo_tail_sents.append(head_wo_tail)\n",
    "        head_wo_tail_entity.append(head_wo_tail_ent)\n",
    "    \n",
    "df[\"head_w_tail_sentence\"] = head_w_tail_sents\n",
    "df[\"head_wo_tail_sentence\"] = head_wo_tail_sents\n",
    "df[\"head_wo_tail_entity\"] = head_wo_tail_entity\n",
    "df = df.dropna(subset=[\"head_w_tail_sentence\", \"head_wo_tail_sentence\"])\n",
    "print(len(df))\n",
    "\n",
    "### FILTER NOT SAME POS ENTITY {\n",
    "df[\"head_wo_tail_entity_pos\"] = df[\"head_wo_tail_entity\"].apply(lambda x: x[\"pos\"][0])\n",
    "df[\"head_w_tail_entity_pos\"] = df[\"head_entity_in_evidence\"].apply(lambda x: x[0][\"pos\"][0])\n",
    "df = df[df[\"head_wo_tail_entity_pos\"] == df[\"head_w_tail_entity_pos\"]]\n",
    "print(len(df))\n",
    "### }\n",
    "\n",
    "df[\"head_wo_tail_sentence_double\"] = df[\"head_wo_tail_sentence\"] + \" \" + df[\"head_wo_tail_sentence\"]\n",
    "df[\"head_w_tail_sentence_double\"] = df[\"head_w_tail_sentence\"] + \" \" + df[\"head_w_tail_sentence\"]\n",
    "df[\"head_wo_tail_sentence_title\"] = df.apply(lambda r: r[\"head_entity_in_evidence\"][0][\"name\"] + \" \" + r[\"head_entity_in_evidence\"][0][\"name\"] + \" \" + r[\"head_entity_in_evidence\"][0][\"name\"] + \" \" + r[\"head_wo_tail_sentence\"], axis=1)\n",
    "df[\"sents_complete\"] = df[\"sents\"].apply(lambda x: \" \".join(flatten(x)))\n",
    "df[\"sents_complete_rm_head_wo_tail\"] = df.apply(lambda r: r[\"sents_complete\"].replace(r[\"head_wo_tail_sentence\"], \"\"), axis=1)\n",
    "df[\"sents_complete_rm_head_w_tail\"] = df.apply(lambda r: r[\"sents_complete\"].replace(r[\"head_w_tail_sentence\"], \"\"), axis=1)\n",
    "# Put the w and wo sentence in the beginning\n",
    "df[\"sents_complete_w_beginning\"] = df.apply(lambda r: r[\"head_w_tail_sentence\"] + \" \" + r[\"sents_complete\"].replace(r[\"head_wo_tail_sentence\"], \"\").replace(r[\"head_w_tail_sentence\"], \"\"), axis=1)\n",
    "df[\"sents_complete_wo_beginning\"] = df.apply(lambda r: r[\"head_wo_tail_sentence\"] + \" \" + r[\"sents_complete\"].replace(r[\"head_wo_tail_sentence\"], \"\").replace(r[\"head_w_tail_sentence\"], \"\"), axis=1)\n",
    "# Put the w and wo sentence in the end\n",
    "df[\"sents_complete_w_end\"] = df.apply(lambda r: r[\"sents_complete\"].replace(r[\"head_wo_tail_sentence\"], \"\").replace(r[\"head_w_tail_sentence\"], \"\") + \" \" + r[\"head_w_tail_sentence\"] , axis=1)\n",
    "df[\"sents_complete_wo_end\"] = df.apply(lambda r: r[\"sents_complete\"].replace(r[\"head_wo_tail_sentence\"], \"\").replace(r[\"head_w_tail_sentence\"], \"\") + \" \" + r[\"head_wo_tail_sentence\"], axis=1)\n",
    "\n",
    "d = df.iloc[0].to_dict()\n",
    "print(d[\"query\"])\n",
    "print(d[\"tail_entity_in_evidence\"])\n",
    "print(d[\"head_entity_in_evidence\"])\n",
    "for i, d in enumerate(d[\"sents\"]): print(i, d)\n",
    "\n",
    "df[[\"query\", \"head_w_tail_sentence\", \"head_wo_tail_sentence\", \"head_entity_in_evidence\", \"head_wo_tail_entity\", \"sents_complete\", \"sents_complete_rm_head_wo_tail\", \"sents_complete_rm_head_w_tail\"]].sample(3)"
   ]
  },
  {
   "cell_type": "code",
   "execution_count": 6,
   "metadata": {},
   "outputs": [],
   "source": [
    "class YourCustomDEModel:\n",
    "    def __init__(self, q_model, doc_model, pooling, sep: str = \" \", **kwargs):\n",
    "        self.tokenizer = AutoTokenizer.from_pretrained(q_model)\n",
    "        self.query_encoder = AutoModel.from_pretrained(q_model)\n",
    "        self.context_encoder = AutoModel.from_pretrained(doc_model)\n",
    "        self.pooling = pooling\n",
    "        self.sep = sep\n",
    "        self.device = \"cuda\" if torch.cuda.is_available() else \"cpu\"\n",
    "    \n",
    "    # Write your own encoding query function (Returns: Query embeddings as numpy array)\n",
    "    def encode_queries(self, queries: List[str], batch_size=32, **kwargs) -> np.ndarray:\n",
    "        print(len(queries))\n",
    "        return self.encode_in_batch(self.query_encoder, queries, batch_size)\n",
    "    \n",
    "    # Write your own encoding corpus function (Returns: Document embeddings as numpy array)  \n",
    "    def encode_corpus(self, corpus: List[Dict[str, str]], batch_size=32, **kwargs) -> np.ndarray:\n",
    "        if type(corpus) is dict:\n",
    "            sentences = [(corpus[\"title\"][i] + self.sep + corpus[\"text\"][i]).strip() if \"title\" in corpus else corpus[\"text\"][i].strip() for i in range(len(corpus['text']))]\n",
    "        else:\n",
    "            sentences = [(doc[\"title\"] + self.sep + doc[\"text\"]).strip() if \"title\" in doc else doc[\"text\"].strip() for doc in corpus]\n",
    "        return self.encode_in_batch(self.context_encoder, sentences, batch_size)\n",
    "\n",
    "    def encode_in_batch(self, model, sentences: List[str], batch_size=32, **kwargs) -> np.ndarray:\n",
    "        model.to(self.device)\n",
    "        all_embeddings = []\n",
    "        for batch in tqdm(torch.utils.data.DataLoader(sentences, batch_size=batch_size, shuffle=False)):\n",
    "            inputs = self.tokenizer(batch, padding=True, truncation=True, return_tensors='pt', max_length=512)\n",
    "            inputs = {key: val.to(self.device) for key, val in inputs.items()}\n",
    "            outputs = model(**inputs)\n",
    "            ### POOLING\n",
    "            if self.pooling == \"avg\":\n",
    "                embeddings = self.mean_pooling(outputs[0], inputs['attention_mask'])\n",
    "            elif self.pooling == \"cls\":\n",
    "                embeddings = outputs.last_hidden_state[:, 0, :]  # [128, 768] = [batch, emb_dim]\n",
    "            else:\n",
    "                raise ValueError(\"Pooling method not supported\")\n",
    "            all_embeddings.extend(embeddings.detach().cpu().numpy())\n",
    "        all_embeddings = np.array(all_embeddings)\n",
    "        print(all_embeddings.shape)\n",
    "        return all_embeddings\n",
    "\n",
    "    def mean_pooling(self, token_embeddings, mask):\n",
    "        token_embeddings = token_embeddings.masked_fill(~mask[..., None].bool(), 0.)\n",
    "        sentence_embeddings = token_embeddings.sum(dim=1) / mask.sum(dim=1)[..., None]\n",
    "        return sentence_embeddings"
   ]
  },
  {
   "cell_type": "code",
   "execution_count": 7,
   "metadata": {},
   "outputs": [
    {
     "name": "stdout",
     "output_type": "stream",
     "text": [
      "Q\n",
      "85\n"
     ]
    },
    {
     "data": {
      "application/vnd.jupyter.widget-view+json": {
       "model_id": "7bcf50acc12040b18b175f7135aa8132",
       "version_major": 2,
       "version_minor": 0
      },
      "text/plain": [
       "  0%|          | 0/3 [00:00<?, ?it/s]"
      ]
     },
     "metadata": {},
     "output_type": "display_data"
    },
    {
     "name": "stdout",
     "output_type": "stream",
     "text": [
      "(85, 768)\n"
     ]
    },
    {
     "data": {
      "application/vnd.jupyter.widget-view+json": {
       "model_id": "63294eba22874e968401be4bf7090f45",
       "version_major": 2,
       "version_minor": 0
      },
      "text/plain": [
       "  0%|          | 0/3 [00:00<?, ?it/s]"
      ]
     },
     "metadata": {},
     "output_type": "display_data"
    },
    {
     "name": "stdout",
     "output_type": "stream",
     "text": [
      "(85, 768)\n",
      "head_w_tail_dot\n"
     ]
    },
    {
     "data": {
      "application/vnd.jupyter.widget-view+json": {
       "model_id": "49a474ae1f7c4549b436d5da93831538",
       "version_major": 2,
       "version_minor": 0
      },
      "text/plain": [
       "  0%|          | 0/3 [00:00<?, ?it/s]"
      ]
     },
     "metadata": {},
     "output_type": "display_data"
    },
    {
     "name": "stdout",
     "output_type": "stream",
     "text": [
      "(85, 768)\n",
      "head_wo_tail_dot\n"
     ]
    },
    {
     "data": {
      "application/vnd.jupyter.widget-view+json": {
       "model_id": "3bbb4d7d12a341f8a772df4cd71f2c02",
       "version_major": 2,
       "version_minor": 0
      },
      "text/plain": [
       "  0%|          | 0/3 [00:00<?, ?it/s]"
      ]
     },
     "metadata": {},
     "output_type": "display_data"
    },
    {
     "name": "stdout",
     "output_type": "stream",
     "text": [
      "(85, 768)\n",
      "sents_complete_dot\n"
     ]
    },
    {
     "data": {
      "application/vnd.jupyter.widget-view+json": {
       "model_id": "31c35e9b891a4e2a912ffa9fb003ac65",
       "version_major": 2,
       "version_minor": 0
      },
      "text/plain": [
       "  0%|          | 0/3 [00:00<?, ?it/s]"
      ]
     },
     "metadata": {},
     "output_type": "display_data"
    },
    {
     "name": "stdout",
     "output_type": "stream",
     "text": [
      "(85, 768)\n",
      "sents_complete_rm_head_wo_tail_dot\n"
     ]
    },
    {
     "data": {
      "application/vnd.jupyter.widget-view+json": {
       "model_id": "1f63d94fbdb54dfb8a8fb35c2d87d1fe",
       "version_major": 2,
       "version_minor": 0
      },
      "text/plain": [
       "  0%|          | 0/3 [00:00<?, ?it/s]"
      ]
     },
     "metadata": {},
     "output_type": "display_data"
    },
    {
     "name": "stdout",
     "output_type": "stream",
     "text": [
      "(85, 768)\n",
      "sents_complete_rm_head_w_tail_dot\n"
     ]
    },
    {
     "data": {
      "application/vnd.jupyter.widget-view+json": {
       "model_id": "5c2f1102d05046a6aac50b97462a60a8",
       "version_major": 2,
       "version_minor": 0
      },
      "text/plain": [
       "  0%|          | 0/3 [00:00<?, ?it/s]"
      ]
     },
     "metadata": {},
     "output_type": "display_data"
    },
    {
     "name": "stdout",
     "output_type": "stream",
     "text": [
      "(85, 768)\n",
      "sents_complete_w_beginning_dot\n"
     ]
    },
    {
     "data": {
      "application/vnd.jupyter.widget-view+json": {
       "model_id": "995b669a5ac0457bb7c3202df3471c2f",
       "version_major": 2,
       "version_minor": 0
      },
      "text/plain": [
       "  0%|          | 0/3 [00:00<?, ?it/s]"
      ]
     },
     "metadata": {},
     "output_type": "display_data"
    },
    {
     "name": "stdout",
     "output_type": "stream",
     "text": [
      "(85, 768)\n",
      "sents_complete_wo_beginning_dot\n"
     ]
    },
    {
     "data": {
      "application/vnd.jupyter.widget-view+json": {
       "model_id": "0915bbc2407740f382494fb821f16441",
       "version_major": 2,
       "version_minor": 0
      },
      "text/plain": [
       "  0%|          | 0/3 [00:00<?, ?it/s]"
      ]
     },
     "metadata": {},
     "output_type": "display_data"
    },
    {
     "name": "stdout",
     "output_type": "stream",
     "text": [
      "(85, 768)\n",
      "sents_complete_w_end_dot\n"
     ]
    },
    {
     "data": {
      "application/vnd.jupyter.widget-view+json": {
       "model_id": "785c7512d5fe4ba3a3d73ed4c2d87a5b",
       "version_major": 2,
       "version_minor": 0
      },
      "text/plain": [
       "  0%|          | 0/3 [00:00<?, ?it/s]"
      ]
     },
     "metadata": {},
     "output_type": "display_data"
    },
    {
     "name": "stdout",
     "output_type": "stream",
     "text": [
      "(85, 768)\n",
      "sents_complete_wo_end_dot\n",
      "w_tail_greater\n",
      "True     72\n",
      "False    13\n",
      "Name: count, dtype: int64\n",
      "w_tail_greater_beginning\n",
      "True     67\n",
      "False    18\n",
      "Name: count, dtype: int64\n",
      "w_tail_greater_end\n",
      "True     66\n",
      "False    19\n",
      "Name: count, dtype: int64\n",
      "facebook/dragon-plus-query-encoder head_w_tail_dot TtestResult(statistic=np.float64(8.617537724183357), pvalue=np.float64(3.492922151799054e-13), df=np.int64(84))\n",
      "facebook/dragon-plus-query-encoder sents_complete_w_beginning_dot TtestResult(statistic=np.float64(5.147140844410103), pvalue=np.float64(1.711954486368747e-06), df=np.int64(84))\n",
      "facebook/dragon-plus-query-encoder sents_complete_w_end_dot TtestResult(statistic=np.float64(4.793591144517985), pvalue=np.float64(6.997080537940606e-06), df=np.int64(84))\n"
     ]
    },
    {
     "data": {
      "image/png": "[encoded data removed]",
      "text/plain": [
       "<Figure size 900x500 with 1 Axes>"
      ]
     },
     "metadata": {},
     "output_type": "display_data"
    },
    {
     "name": "stderr",
     "output_type": "stream",
     "text": [
      "/data2/mohsenfayyaz/anaconda3/envs/mohsen-env/lib/python3.12/site-packages/transformers/tokenization_utils_base.py:1617: FutureWarning: `clean_up_tokenization_spaces` was not set. It will be set to `True` by default. This behavior will be deprecated in transformers v4.45, and will be then set to `False` by default. For more details check this issue: https://github.com/huggingface/transformers/issues/31884\n",
      "  warnings.warn(\n"
     ]
    },
    {
     "name": "stdout",
     "output_type": "stream",
     "text": [
      "Q\n",
      "85\n"
     ]
    },
    {
     "data": {
      "application/vnd.jupyter.widget-view+json": {
       "model_id": "5db2135ba76e49e79239158000566748",
       "version_major": 2,
       "version_minor": 0
      },
      "text/plain": [
       "  0%|          | 0/3 [00:00<?, ?it/s]"
      ]
     },
     "metadata": {},
     "output_type": "display_data"
    },
    {
     "name": "stdout",
     "output_type": "stream",
     "text": [
      "(85, 768)\n"
     ]
    },
    {
     "data": {
      "application/vnd.jupyter.widget-view+json": {
       "model_id": "940e25f2107146f2b17a040e0cb0b792",
       "version_major": 2,
       "version_minor": 0
      },
      "text/plain": [
       "  0%|          | 0/3 [00:00<?, ?it/s]"
      ]
     },
     "metadata": {},
     "output_type": "display_data"
    },
    {
     "name": "stdout",
     "output_type": "stream",
     "text": [
      "(85, 768)\n",
      "head_w_tail_dot\n"
     ]
    },
    {
     "data": {
      "application/vnd.jupyter.widget-view+json": {
       "model_id": "24cb9150bcaa41cf8ab339a5229d4942",
       "version_major": 2,
       "version_minor": 0
      },
      "text/plain": [
       "  0%|          | 0/3 [00:00<?, ?it/s]"
      ]
     },
     "metadata": {},
     "output_type": "display_data"
    },
    {
     "name": "stdout",
     "output_type": "stream",
     "text": [
      "(85, 768)\n",
      "head_wo_tail_dot\n"
     ]
    },
    {
     "data": {
      "application/vnd.jupyter.widget-view+json": {
       "model_id": "004e8e90009b4d4c947db6f1100d75a8",
       "version_major": 2,
       "version_minor": 0
      },
      "text/plain": [
       "  0%|          | 0/3 [00:00<?, ?it/s]"
      ]
     },
     "metadata": {},
     "output_type": "display_data"
    },
    {
     "name": "stdout",
     "output_type": "stream",
     "text": [
      "(85, 768)\n",
      "sents_complete_dot\n"
     ]
    },
    {
     "data": {
      "application/vnd.jupyter.widget-view+json": {
       "model_id": "e4e13fb70aca48b29da20703da5a9704",
       "version_major": 2,
       "version_minor": 0
      },
      "text/plain": [
       "  0%|          | 0/3 [00:00<?, ?it/s]"
      ]
     },
     "metadata": {},
     "output_type": "display_data"
    },
    {
     "name": "stdout",
     "output_type": "stream",
     "text": [
      "(85, 768)\n",
      "sents_complete_rm_head_wo_tail_dot\n"
     ]
    },
    {
     "data": {
      "application/vnd.jupyter.widget-view+json": {
       "model_id": "8059a2740fbc4fb09ca6cf0593096e94",
       "version_major": 2,
       "version_minor": 0
      },
      "text/plain": [
       "  0%|          | 0/3 [00:00<?, ?it/s]"
      ]
     },
     "metadata": {},
     "output_type": "display_data"
    },
    {
     "name": "stdout",
     "output_type": "stream",
     "text": [
      "(85, 768)\n",
      "sents_complete_rm_head_w_tail_dot\n"
     ]
    },
    {
     "data": {
      "application/vnd.jupyter.widget-view+json": {
       "model_id": "7d1cc614e0054a129da3cb4952b00993",
       "version_major": 2,
       "version_minor": 0
      },
      "text/plain": [
       "  0%|          | 0/3 [00:00<?, ?it/s]"
      ]
     },
     "metadata": {},
     "output_type": "display_data"
    },
    {
     "name": "stdout",
     "output_type": "stream",
     "text": [
      "(85, 768)\n",
      "sents_complete_w_beginning_dot\n"
     ]
    },
    {
     "data": {
      "application/vnd.jupyter.widget-view+json": {
       "model_id": "69905a81acc64d0eb13d3562696e07c7",
       "version_major": 2,
       "version_minor": 0
      },
      "text/plain": [
       "  0%|          | 0/3 [00:00<?, ?it/s]"
      ]
     },
     "metadata": {},
     "output_type": "display_data"
    },
    {
     "name": "stdout",
     "output_type": "stream",
     "text": [
      "(85, 768)\n",
      "sents_complete_wo_beginning_dot\n"
     ]
    },
    {
     "data": {
      "application/vnd.jupyter.widget-view+json": {
       "model_id": "9410111ba72540149e9f750a2b3eb81d",
       "version_major": 2,
       "version_minor": 0
      },
      "text/plain": [
       "  0%|          | 0/3 [00:00<?, ?it/s]"
      ]
     },
     "metadata": {},
     "output_type": "display_data"
    },
    {
     "name": "stdout",
     "output_type": "stream",
     "text": [
      "(85, 768)\n",
      "sents_complete_w_end_dot\n"
     ]
    },
    {
     "data": {
      "application/vnd.jupyter.widget-view+json": {
       "model_id": "3d487b6555a042e1ab064dfdef2569d8",
       "version_major": 2,
       "version_minor": 0
      },
      "text/plain": [
       "  0%|          | 0/3 [00:00<?, ?it/s]"
      ]
     },
     "metadata": {},
     "output_type": "display_data"
    },
    {
     "name": "stdout",
     "output_type": "stream",
     "text": [
      "(85, 768)\n",
      "sents_complete_wo_end_dot\n",
      "w_tail_greater\n",
      "True     55\n",
      "False    30\n",
      "Name: count, dtype: int64\n",
      "w_tail_greater_beginning\n",
      "True     68\n",
      "False    17\n",
      "Name: count, dtype: int64\n",
      "w_tail_greater_end\n",
      "True     59\n",
      "False    26\n",
      "Name: count, dtype: int64\n",
      "facebook/contriever-msmarco head_w_tail_dot TtestResult(statistic=np.float64(3.617585323159467), pvalue=np.float64(0.0005066453226293648), df=np.int64(84))\n",
      "facebook/contriever-msmarco sents_complete_w_beginning_dot TtestResult(statistic=np.float64(5.347929830312182), pvalue=np.float64(7.540328288363926e-07), df=np.int64(84))\n",
      "facebook/contriever-msmarco sents_complete_w_end_dot TtestResult(statistic=np.float64(2.452640056649596), pvalue=np.float64(0.016250779349064805), df=np.int64(84))\n"
     ]
    },
    {
     "data": {
      "image/png": "[encoded data removed]",
      "text/plain": [
       "<Figure size 900x500 with 1 Axes>"
      ]
     },
     "metadata": {},
     "output_type": "display_data"
    },
    {
     "name": "stdout",
     "output_type": "stream",
     "text": [
      "Q\n",
      "85\n"
     ]
    },
    {
     "data": {
      "application/vnd.jupyter.widget-view+json": {
       "model_id": "9ad52c37984e43129fd3390a1c09e25f",
       "version_major": 2,
       "version_minor": 0
      },
      "text/plain": [
       "  0%|          | 0/3 [00:00<?, ?it/s]"
      ]
     },
     "metadata": {},
     "output_type": "display_data"
    },
    {
     "name": "stdout",
     "output_type": "stream",
     "text": [
      "(85, 768)\n"
     ]
    },
    {
     "data": {
      "application/vnd.jupyter.widget-view+json": {
       "model_id": "90f544e019874d4bb1756dce744ea854",
       "version_major": 2,
       "version_minor": 0
      },
      "text/plain": [
       "  0%|          | 0/3 [00:00<?, ?it/s]"
      ]
     },
     "metadata": {},
     "output_type": "display_data"
    },
    {
     "name": "stdout",
     "output_type": "stream",
     "text": [
      "(85, 768)\n",
      "head_w_tail_dot\n"
     ]
    },
    {
     "data": {
      "application/vnd.jupyter.widget-view+json": {
       "model_id": "dc41a087591b4045b6d75f441ff14d09",
       "version_major": 2,
       "version_minor": 0
      },
      "text/plain": [
       "  0%|          | 0/3 [00:00<?, ?it/s]"
      ]
     },
     "metadata": {},
     "output_type": "display_data"
    },
    {
     "name": "stdout",
     "output_type": "stream",
     "text": [
      "(85, 768)\n",
      "head_wo_tail_dot\n"
     ]
    },
    {
     "data": {
      "application/vnd.jupyter.widget-view+json": {
       "model_id": "d35553c6e7aa46349b1efdbaa5447cd2",
       "version_major": 2,
       "version_minor": 0
      },
      "text/plain": [
       "  0%|          | 0/3 [00:00<?, ?it/s]"
      ]
     },
     "metadata": {},
     "output_type": "display_data"
    },
    {
     "name": "stdout",
     "output_type": "stream",
     "text": [
      "(85, 768)\n",
      "sents_complete_dot\n"
     ]
    },
    {
     "data": {
      "application/vnd.jupyter.widget-view+json": {
       "model_id": "a9ad30984fab4a829b0e566e951e4d0f",
       "version_major": 2,
       "version_minor": 0
      },
      "text/plain": [
       "  0%|          | 0/3 [00:00<?, ?it/s]"
      ]
     },
     "metadata": {},
     "output_type": "display_data"
    },
    {
     "name": "stdout",
     "output_type": "stream",
     "text": [
      "(85, 768)\n",
      "sents_complete_rm_head_wo_tail_dot\n"
     ]
    },
    {
     "data": {
      "application/vnd.jupyter.widget-view+json": {
       "model_id": "c54967489d07483bbcead5bdc24be246",
       "version_major": 2,
       "version_minor": 0
      },
      "text/plain": [
       "  0%|          | 0/3 [00:00<?, ?it/s]"
      ]
     },
     "metadata": {},
     "output_type": "display_data"
    },
    {
     "name": "stdout",
     "output_type": "stream",
     "text": [
      "(85, 768)\n",
      "sents_complete_rm_head_w_tail_dot\n"
     ]
    },
    {
     "data": {
      "application/vnd.jupyter.widget-view+json": {
       "model_id": "4352116dc04f45b29e503d2129220eb4",
       "version_major": 2,
       "version_minor": 0
      },
      "text/plain": [
       "  0%|          | 0/3 [00:00<?, ?it/s]"
      ]
     },
     "metadata": {},
     "output_type": "display_data"
    },
    {
     "name": "stdout",
     "output_type": "stream",
     "text": [
      "(85, 768)\n",
      "sents_complete_w_beginning_dot\n"
     ]
    },
    {
     "data": {
      "application/vnd.jupyter.widget-view+json": {
       "model_id": "b511da22b6f2491298b444fbb18c41e1",
       "version_major": 2,
       "version_minor": 0
      },
      "text/plain": [
       "  0%|          | 0/3 [00:00<?, ?it/s]"
      ]
     },
     "metadata": {},
     "output_type": "display_data"
    },
    {
     "name": "stdout",
     "output_type": "stream",
     "text": [
      "(85, 768)\n",
      "sents_complete_wo_beginning_dot\n"
     ]
    },
    {
     "data": {
      "application/vnd.jupyter.widget-view+json": {
       "model_id": "a18a0be1b05842f2b4888ddf57221caf",
       "version_major": 2,
       "version_minor": 0
      },
      "text/plain": [
       "  0%|          | 0/3 [00:00<?, ?it/s]"
      ]
     },
     "metadata": {},
     "output_type": "display_data"
    },
    {
     "name": "stdout",
     "output_type": "stream",
     "text": [
      "(85, 768)\n",
      "sents_complete_w_end_dot\n"
     ]
    },
    {
     "data": {
      "application/vnd.jupyter.widget-view+json": {
       "model_id": "cd170e79b6764a5cb81354ea646d5dd7",
       "version_major": 2,
       "version_minor": 0
      },
      "text/plain": [
       "  0%|          | 0/3 [00:00<?, ?it/s]"
      ]
     },
     "metadata": {},
     "output_type": "display_data"
    },
    {
     "name": "stdout",
     "output_type": "stream",
     "text": [
      "(85, 768)\n",
      "sents_complete_wo_end_dot\n",
      "w_tail_greater\n",
      "True     71\n",
      "False    14\n",
      "Name: count, dtype: int64\n",
      "w_tail_greater_beginning\n",
      "True     68\n",
      "False    17\n",
      "Name: count, dtype: int64\n",
      "w_tail_greater_end\n",
      "True     54\n",
      "False    31\n",
      "Name: count, dtype: int64\n",
      "OpenMatch/cocodr-base-msmarco head_w_tail_dot TtestResult(statistic=np.float64(7.8314488184643665), pvalue=np.float64(1.3176134132915274e-11), df=np.int64(84))\n",
      "OpenMatch/cocodr-base-msmarco sents_complete_w_beginning_dot TtestResult(statistic=np.float64(5.84329650723324), pvalue=np.float64(9.436714503882054e-08), df=np.int64(84))\n",
      "OpenMatch/cocodr-base-msmarco sents_complete_w_end_dot TtestResult(statistic=np.float64(4.3398206761061475), pvalue=np.float64(3.952572564083246e-05), df=np.int64(84))\n"
     ]
    },
    {
     "data": {
      "image/png": "[encoded data removed]",
      "text/plain": [
       "<Figure size 900x500 with 1 Axes>"
      ]
     },
     "metadata": {},
     "output_type": "display_data"
    },
    {
     "data": {
      "image/png": "[encoded data removed]",
      "text/plain": [
       "<Figure size 400x300 with 1 Axes>"
      ]
     },
     "metadata": {},
     "output_type": "display_data"
    },
    {
     "data": {
      "image/png": "[encoded data removed]",
      "text/plain": [
       "<Figure size 400x300 with 1 Axes>"
      ]
     },
     "metadata": {},
     "output_type": "display_data"
    },
    {
     "data": {
      "text/html": [
       "<div>\n",
       "<style scoped>\n",
       "    .dataframe tbody tr th:only-of-type {\n",
       "        vertical-align: middle;\n",
       "    }\n",
       "\n",
       "    .dataframe tbody tr th {\n",
       "        vertical-align: top;\n",
       "    }\n",
       "\n",
       "    .dataframe thead th {\n",
       "        text-align: right;\n",
       "    }\n",
       "</style>\n",
       "<table border=\"1\" class=\"dataframe\">\n",
       "  <thead>\n",
       "    <tr style=\"text-align: right;\">\n",
       "      <th></th>\n",
       "      <th>query_model</th>\n",
       "      <th>context_model</th>\n",
       "      <th>POOLING</th>\n",
       "      <th>support</th>\n",
       "      <th>sents_complete_w_beginning_dot_vs_wo</th>\n",
       "      <th>sents_complete_w_end_dot_vs_wo</th>\n",
       "      <th>head_w_tail_dot_vs_wo</th>\n",
       "      <th>sents_complete_rm_wo_dot_vs_w</th>\n",
       "    </tr>\n",
       "  </thead>\n",
       "  <tbody>\n",
       "    <tr>\n",
       "      <th>0</th>\n",
       "      <td>facebook/dragon-plus-query-encoder</td>\n",
       "      <td>facebook/dragon-plus-context-encoder</td>\n",
       "      <td>cls</td>\n",
       "      <td>85</td>\n",
       "      <td>(5.147140844410103, 1.711954486368747e-06)</td>\n",
       "      <td>(4.793591144517985, 6.997080537940606e-06)</td>\n",
       "      <td>(8.617537724183357, 3.492922151799054e-13)</td>\n",
       "      <td>(4.916360655117166, 4.314937817014082e-06)</td>\n",
       "    </tr>\n",
       "    <tr>\n",
       "      <th>1</th>\n",
       "      <td>facebook/contriever-msmarco</td>\n",
       "      <td>facebook/contriever-msmarco</td>\n",
       "      <td>avg</td>\n",
       "      <td>85</td>\n",
       "      <td>(5.347929830312182, 7.540328288363926e-07)</td>\n",
       "      <td>(2.452640056649596, 0.016250779349064805)</td>\n",
       "      <td>(3.617585323159467, 0.0005066453226293648)</td>\n",
       "      <td>(6.833198386432631, 1.2317846976322653e-09)</td>\n",
       "    </tr>\n",
       "    <tr>\n",
       "      <th>2</th>\n",
       "      <td>OpenMatch/cocodr-base-msmarco</td>\n",
       "      <td>OpenMatch/cocodr-base-msmarco</td>\n",
       "      <td>cls</td>\n",
       "      <td>85</td>\n",
       "      <td>(5.84329650723324, 9.436714503882054e-08)</td>\n",
       "      <td>(4.3398206761061475, 3.952572564083246e-05)</td>\n",
       "      <td>(7.8314488184643665, 1.3176134132915274e-11)</td>\n",
       "      <td>(7.979289066076732, 6.673129757653097e-12)</td>\n",
       "    </tr>\n",
       "  </tbody>\n",
       "</table>\n",
       "</div>"
      ],
      "text/plain": [
       "                          query_model                         context_model  \\\n",
       "0  facebook/dragon-plus-query-encoder  facebook/dragon-plus-context-encoder   \n",
       "1         facebook/contriever-msmarco           facebook/contriever-msmarco   \n",
       "2       OpenMatch/cocodr-base-msmarco         OpenMatch/cocodr-base-msmarco   \n",
       "\n",
       "  POOLING  support        sents_complete_w_beginning_dot_vs_wo  \\\n",
       "0     cls       85  (5.147140844410103, 1.711954486368747e-06)   \n",
       "1     avg       85  (5.347929830312182, 7.540328288363926e-07)   \n",
       "2     cls       85   (5.84329650723324, 9.436714503882054e-08)   \n",
       "\n",
       "                sents_complete_w_end_dot_vs_wo  \\\n",
       "0   (4.793591144517985, 6.997080537940606e-06)   \n",
       "1    (2.452640056649596, 0.016250779349064805)   \n",
       "2  (4.3398206761061475, 3.952572564083246e-05)   \n",
       "\n",
       "                          head_w_tail_dot_vs_wo  \\\n",
       "0    (8.617537724183357, 3.492922151799054e-13)   \n",
       "1    (3.617585323159467, 0.0005066453226293648)   \n",
       "2  (7.8314488184643665, 1.3176134132915274e-11)   \n",
       "\n",
       "                 sents_complete_rm_wo_dot_vs_w  \n",
       "0   (4.916360655117166, 4.314937817014082e-06)  \n",
       "1  (6.833198386432631, 1.2317846976322653e-09)  \n",
       "2   (7.979289066076732, 6.673129757653097e-12)  "
      ]
     },
     "execution_count": 7,
     "metadata": {},
     "output_type": "execute_result"
    }
   ],
   "source": [
    "cfgs = [\n",
    "    (\"facebook/dragon-plus-query-encoder\", \"facebook/dragon-plus-context-encoder\", \"cls\"),\n",
    "    (\"facebook/contriever-msmarco\", \"facebook/contriever-msmarco\", \"avg\"),\n",
    "    (\"OpenMatch/cocodr-base-msmarco\", \"OpenMatch/cocodr-base-msmarco\", \"cls\"),\n",
    "]\n",
    "plot_cols = [\n",
    "    \"head_w_tail_sentence\", \"head_wo_tail_sentence\", \"sents_complete\", \"sents_complete_rm_head_wo_tail\", \"sents_complete_rm_head_w_tail\",\n",
    "    \"sents_complete_w_beginning\", \"sents_complete_wo_beginning\", \"sents_complete_w_end\", \"sents_complete_wo_end\",\n",
    "]\n",
    "\n",
    "results = []\n",
    "for query_model, context_model, POOLING in cfgs:\n",
    "    dpr = YourCustomDEModel(query_model, context_model, POOLING)\n",
    "    def to_doc_format(sentences: list):\n",
    "        return [{\"text\": s} for s in sentences]\n",
    "    query_embds = dpr.encode_queries(df[\"query\"].to_list())\n",
    "    plot_col_dots = []\n",
    "    for col in plot_cols:\n",
    "        embds = dpr.encode_corpus(to_doc_format(df[col].to_list()))\n",
    "        embds_dot = torch.einsum(\"bd,bd->b\", torch.tensor(query_embds), torch.tensor(embds))\n",
    "        new_col = f\"{col.replace('_sentence', '')}_dot\"\n",
    "        print(new_col)\n",
    "        df[new_col] = embds_dot.cpu().numpy()\n",
    "        plot_col_dots.append(new_col)\n",
    "    df[\"w_tail_greater\"] = df[\"head_w_tail_dot\"] > df[\"head_wo_tail_dot\"]\n",
    "    df[\"w_tail_greater_beginning\"] = df[\"sents_complete_w_beginning_dot\"] > df[\"sents_complete_wo_beginning_dot\"]\n",
    "    df[\"w_tail_greater_end\"] = df[\"sents_complete_w_end_dot\"] > df[\"sents_complete_wo_end_dot\"]\n",
    "    # df[\"w_tail_greater\"] = df[\"sents_complete_rm_head_wo_tail\"] > df[\"sents_complete_rm_head_w_tail\"]\n",
    "    print(df[\"w_tail_greater\"].value_counts())\n",
    "    print(df[\"w_tail_greater_beginning\"].value_counts())\n",
    "    print(df[\"w_tail_greater_end\"].value_counts())\n",
    "    \n",
    "    print(query_model, \"head_w_tail_dot\", stats.ttest_rel(df[\"head_w_tail_dot\"], df[\"head_wo_tail_dot\"]))\n",
    "    print(query_model, \"sents_complete_w_beginning_dot\", stats.ttest_rel(df[\"sents_complete_w_beginning_dot\"], df[\"sents_complete_wo_beginning_dot\"]))\n",
    "    print(query_model, \"sents_complete_w_end_dot\", stats.ttest_rel(df[\"sents_complete_w_end_dot\"], df[\"sents_complete_wo_end_dot\"]))\n",
    "    results.append({\n",
    "        \"query_model\": query_model,\n",
    "        \"context_model\": context_model,\n",
    "        \"POOLING\": POOLING,\n",
    "        \"support\": len(df),\n",
    "        \"sents_complete_w_beginning_dot_vs_wo\": stats.ttest_rel(df[\"sents_complete_w_beginning_dot\"], df[\"sents_complete_wo_beginning_dot\"]),\n",
    "        \"sents_complete_w_end_dot_vs_wo\": stats.ttest_rel(df[\"sents_complete_w_end_dot\"], df[\"sents_complete_wo_end_dot\"]),\n",
    "        \"head_w_tail_dot_vs_wo\": stats.ttest_rel(df[\"head_w_tail_dot\"], df[\"head_wo_tail_dot\"]),\n",
    "        \"sents_complete_rm_wo_dot_vs_w\": stats.ttest_rel(df[\"sents_complete_rm_head_wo_tail_dot\"], df[\"sents_complete_rm_head_w_tail_dot\"]),\n",
    "    })\n",
    "    \n",
    "    df[plot_col_dots[::-1]].boxplot(figsize=(9, 5), rot=0, vert=False)\n",
    "    plt.title(f\"{query_model}, support: {len(df)}, acc: {df['w_tail_greater'].mean():.2f}, acc_beginning: {df['w_tail_greater_beginning'].mean():.2f}, acc_end: {df['w_tail_greater_end'].mean():.2f}\")\n",
    "    plt.show()\n",
    "\n",
    "### POS IN SENTENCE BOXPLOT\n",
    "df[\"head_wo_tail_entity_pos\"] = df[\"head_wo_tail_entity\"].apply(lambda x: x[\"pos\"][0])\n",
    "df[\"head_w_tail_entity_pos\"] = df[\"head_entity_in_evidence\"].apply(lambda x: x[0][\"pos\"][0])\n",
    "df[[\"head_wo_tail_entity_pos\", \"head_w_tail_entity_pos\"]].boxplot(figsize=(4, 3))\n",
    "plt.show()\n",
    "\n",
    "\n",
    "### SENTENCE POS BOXPLOT\n",
    "df[\"head_wo_tail_entity_sent_id\"] = df[\"head_wo_tail_entity\"].apply(lambda x: x[\"sent_id\"])\n",
    "df[\"head_w_tail_entity_sent_id\"] = df[\"head_entity_in_evidence\"].apply(lambda x: x[0][\"sent_id\"])\n",
    "df[[\"head_wo_tail_entity_sent_id\", \"head_w_tail_entity_sent_id\"]].boxplot(figsize=(4, 3))\n",
    "plt.show()\n",
    "\n",
    "rdf = pd.DataFrame(results)\n",
    "rdf"
   ]
  },
  {
   "cell_type": "code",
   "execution_count": null,
   "metadata": {},
   "outputs": [],
   "source": []
  }
 ],
 "metadata": {
  "kernelspec": {
   "display_name": "mohsen-env",
   "language": "python",
   "name": "python3"
  },
  "language_info": {
   "codemirror_mode": {
    "name": "ipython",
    "version": 3
   },
   "file_extension": ".py",
   "mimetype": "text/x-python",
   "name": "python",
   "nbconvert_exporter": "python",
   "pygments_lexer": "ipython3",
   "version": "3.12.7"
  }
 },
 "nbformat": 4,
 "nbformat_minor": 2
}
