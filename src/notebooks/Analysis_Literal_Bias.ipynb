{
 "cells": [
  {
   "cell_type": "code",
   "execution_count": 2,
   "metadata": {},
   "outputs": [
    {
     "name": "stdout",
     "output_type": "stream",
     "text": [
      "The token has not been saved to the git credentials helper. Pass `add_to_git_credential=True` in this function directly or `--add-to-git-credential` if using via `huggingface-cli` if you want to set the git credential as well.\n",
      "Token is valid (permission: write).\n",
      "Your token has been saved to /home/mohsenfayyaz/.cache/huggingface/token\n",
      "Login successful\n",
      "CUDA_VISIBLE_DEVICES: 6 HF_HOME: /local1/mohsenfayyaz/.hfcache/\n"
     ]
    }
   ],
   "source": [
    "import os\n",
    "import torch\n",
    "import numpy as np\n",
    "import pandas as pd\n",
    "import seaborn as sns\n",
    "from scipy import stats\n",
    "from tqdm.auto import tqdm\n",
    "import huggingface_hub as hf\n",
    "from dotenv import load_dotenv\n",
    "import matplotlib.pyplot as plt\n",
    "from typing import List, Dict, Union, Tuple\n",
    "from transformers import AutoTokenizer, AutoModel\n",
    "\n",
    "pd.set_option('display.max_columns', None)\n",
    "pd.set_option('display.max_colwidth', 256)\n",
    "\n",
    "plt.style.use('seaborn-v0_8')\n",
    "load_dotenv()\n",
    "hf.login(os.environ[\"HF_TOKEN\"])\n",
    "os.environ[\"CUDA_VISIBLE_DEVICES\"] = \"6\"\n",
    "print(\"CUDA_VISIBLE_DEVICES:\", os.environ[\"CUDA_VISIBLE_DEVICES\"], \"HF_HOME:\", os.environ[\"HF_HOME\"])"
   ]
  },
  {
   "cell_type": "code",
   "execution_count": 3,
   "metadata": {},
   "outputs": [
    {
     "data": {
      "text/plain": [
       "'hf/results/re-docred_facebook--dragon-plus-query-encoder_7170.pkl'"
      ]
     },
     "execution_count": 3,
     "metadata": {},
     "output_type": "execute_result"
    }
   ],
   "source": [
    "# DATASET = \"re-docred_facebook--contriever-msmarco_7170.pkl\"\n",
    "DATASET = \"re-docred_facebook--dragon-plus-query-encoder_7170.pkl\"\n",
    "# DATASET = \"re-docred_OpenMatch--cocodr-base-msmarco_7170.pkl.gz\"\n",
    "\n",
    "hf.hf_hub_download(repo_id=\"Retriever-Contextualization/datasets\", filename=f\"results/{DATASET}\", repo_type=\"dataset\", local_dir=\"hf/\")"
   ]
  },
  {
   "cell_type": "code",
   "execution_count": 4,
   "metadata": {},
   "outputs": [
    {
     "name": "stdout",
     "output_type": "stream",
     "text": [
      "{'model': 'facebook/dragon-plus-query-encoder', 'query_model': 'facebook/dragon-plus-query-encoder', 'context_model': 'facebook/dragon-plus-context-encoder', 'pooling': 'cls', 'dataset': 're-docred', 'corpus_size': 105925, 'eval': {'ndcg': {'NDCG@1': 0.47685, 'NDCG@3': 0.52523, 'NDCG@5': 0.53646, 'NDCG@10': 0.54955, 'NDCG@100': 0.58002, 'NDCG@1000': 0.59556}, 'map': {'MAP@1': 0.47685, 'MAP@3': 0.51341, 'MAP@5': 0.51959, 'MAP@10': 0.52496, 'MAP@100': 0.53058, 'MAP@1000': 0.53109}, 'recall': {'Recall@1': 0.47685, 'Recall@3': 0.55941, 'Recall@5': 0.58689, 'Recall@10': 0.62748, 'Recall@100': 0.77741, 'Recall@1000': 0.90349}, 'precision': {'P@1': 0.47685, 'P@3': 0.18647, 'P@5': 0.11738, 'P@10': 0.06275, 'P@100': 0.00777, 'P@1000': 0.0009}}}\n"
     ]
    },
    {
     "data": {
      "text/html": [
       "<div>\n",
       "<style scoped>\n",
       "    .dataframe tbody tr th:only-of-type {\n",
       "        vertical-align: middle;\n",
       "    }\n",
       "\n",
       "    .dataframe tbody tr th {\n",
       "        vertical-align: top;\n",
       "    }\n",
       "\n",
       "    .dataframe thead th {\n",
       "        text-align: right;\n",
       "    }\n",
       "</style>\n",
       "<table border=\"1\" class=\"dataframe\">\n",
       "  <thead>\n",
       "    <tr style=\"text-align: right;\">\n",
       "      <th></th>\n",
       "      <th>query_id</th>\n",
       "      <th>query</th>\n",
       "      <th>gold_docs</th>\n",
       "      <th>gold_docs_text</th>\n",
       "      <th>scores_stats</th>\n",
       "      <th>scores_gold</th>\n",
       "      <th>scores_1000</th>\n",
       "      <th>predicted_docs_text_10</th>\n",
       "      <th>id</th>\n",
       "      <th>title</th>\n",
       "      <th>vertexSet</th>\n",
       "      <th>labels</th>\n",
       "      <th>sents</th>\n",
       "      <th>split</th>\n",
       "      <th>label</th>\n",
       "      <th>label_idx</th>\n",
       "      <th>head_entity</th>\n",
       "      <th>tail_entity</th>\n",
       "      <th>head_entity_names</th>\n",
       "      <th>tail_entity_names</th>\n",
       "      <th>head_entity_longest_name</th>\n",
       "      <th>tail_entity_longest_name</th>\n",
       "      <th>head_entity_types</th>\n",
       "      <th>tail_entity_types</th>\n",
       "      <th>evidence_sent_ids</th>\n",
       "      <th>evidence_sents</th>\n",
       "      <th>head_entity_in_evidence</th>\n",
       "      <th>tail_entity_in_evidence</th>\n",
       "      <th>relation</th>\n",
       "      <th>relation_name</th>\n",
       "      <th>query_question</th>\n",
       "      <th>duplicate_titles_len</th>\n",
       "      <th>duplicate_titles</th>\n",
       "      <th>hit_rank</th>\n",
       "      <th>gold_doc</th>\n",
       "      <th>gold_doc_title</th>\n",
       "      <th>gold_doc_text</th>\n",
       "      <th>gold_doc_score</th>\n",
       "      <th>pred_doc</th>\n",
       "      <th>pred_doc_title</th>\n",
       "      <th>pred_doc_text</th>\n",
       "      <th>pred_doc_score</th>\n",
       "      <th>gold_doc_len</th>\n",
       "      <th>pred_doc_len</th>\n",
       "      <th>query_decompx_tokens</th>\n",
       "      <th>query_decompx_tokenizer_word_ids</th>\n",
       "      <th>query_decompx_cls_or_mean_pooled</th>\n",
       "      <th>query_decompx_tokens_dot_scores</th>\n",
       "      <th>query_decompx_decompx_last_layer_pooled</th>\n",
       "      <th>gold_doc_decompx_tokens</th>\n",
       "      <th>gold_doc_decompx_tokenizer_word_ids</th>\n",
       "      <th>gold_doc_decompx_cls_or_mean_pooled</th>\n",
       "      <th>gold_doc_decompx_tokens_dot_scores</th>\n",
       "      <th>gold_doc_decompx_decompx_last_layer_pooled</th>\n",
       "      <th>pred_doc_decompx_tokens</th>\n",
       "      <th>pred_doc_decompx_tokenizer_word_ids</th>\n",
       "      <th>pred_doc_decompx_cls_or_mean_pooled</th>\n",
       "      <th>pred_doc_decompx_tokens_dot_scores</th>\n",
       "      <th>pred_doc_decompx_decompx_last_layer_pooled</th>\n",
       "    </tr>\n",
       "  </thead>\n",
       "  <tbody>\n",
       "    <tr>\n",
       "      <th>0</th>\n",
       "      <td>test0</td>\n",
       "      <td>When was Loud Tour published?</td>\n",
       "      <td>[Loud Tour]</td>\n",
       "      <td>{'Loud Tour': {'text': 'The Loud Tour was the fourth overall and third world concert tour by Barbadian recording artist Rihanna . Performing in over twenty countries in the Americas and Europe , the tour was launched in support of Rihanna 's fifth stud...</td>\n",
       "      <td>{'len': 1000, 'max': 390.3378601074219, 'min': 377.525390625, 'std': 1.243663421340353, 'mean': 378.77503692626954, 'median': 378.4281463623047}</td>\n",
       "      <td>{'Loud Tour': 390.3378601074219}</td>\n",
       "      <td>{'Loud Tour': 390.3378601074219, 'Loud'n'proud': 385.71905517578125, 'Poetry Bus Tour': 385.4292907714844, 'Live &amp;amp; Loud': 384.18218994140625, 'The Loudest Engine': 384.0265808105469, 'Young Wild Things Tour': 383.8572998046875, 'Guitar Rock Tour': ...</td>\n",
       "      <td>{'Loud Tour': {'text': 'The Loud Tour was the fourth overall and third world concert tour by Barbadian recording artist Rihanna . Performing in over twenty countries in the Americas and Europe , the tour was launched in support of Rihanna 's fifth stud...</td>\n",
       "      <td>test0</td>\n",
       "      <td>Loud Tour</td>\n",
       "      <td>[[{'name': 'Loud', 'pos': [23, 24], 'sent_id': 1, 'type': 'MISC', 'global_pos': [41, 41], 'index': '0_0'}, {'name': 'Loud Tour', 'pos': [1, 3], 'sent_id': 6, 'type': 'MISC', 'global_pos': [128, 128], 'index': '0_1'}, {'name': 'Loud Tour', 'pos': [1, 3]...</td>\n",
       "      <td>[{'r': 'P577', 'h': 0, 't': 6, 'evidence': [1]}, {'r': 'P175', 'h': 0, 't': 2, 'evidence': [0, 1]}, {'r': 'P131', 'h': 10, 't': 8, 'evidence': [4]}, {'r': 'P17', 'h': 8, 't': 7, 'evidence': [3, 4]}, {'r': 'P17', 'h': 10, 't': 7, 'evidence': [3, 4]}, {'...</td>\n",
       "      <td>[[The, Loud, Tour, was, the, fourth, overall, and, third, world, concert, tour, by, Barbadian, recording, artist, Rihanna, .], [Performing, in, over, twenty, countries, in, the, Americas, and, Europe, ,, the, tour, was, launched, in, support, of, Rihan...</td>\n",
       "      <td>test</td>\n",
       "      <td>{'r': 'P577', 'h': 0, 't': 6, 'evidence': [1]}</td>\n",
       "      <td>0</td>\n",
       "      <td>[{'name': 'Loud', 'pos': [23, 24], 'sent_id': 1, 'type': 'MISC', 'global_pos': [41, 41], 'index': '0_0'}, {'name': 'Loud Tour', 'pos': [1, 3], 'sent_id': 6, 'type': 'MISC', 'global_pos': [128, 128], 'index': '0_1'}, {'name': 'Loud Tour', 'pos': [1, 3],...</td>\n",
       "      <td>[{'pos': [25, 26], 'type': 'TIME', 'sent_id': 1, 'name': '2010', 'global_pos': [43, 43], 'index': '6_0'}]</td>\n",
       "      <td>{Loud, Loud Tour}</td>\n",
       "      <td>{2010}</td>\n",
       "      <td>Loud Tour</td>\n",
       "      <td>2010</td>\n",
       "      <td>{MISC}</td>\n",
       "      <td>{TIME}</td>\n",
       "      <td>[1]</td>\n",
       "      <td>[[Performing, in, over, twenty, countries, in, the, Americas, and, Europe, ,, the, tour, was, launched, in, support, of, Rihanna, 's, fifth, studio, album, Loud, (, 2010, ), .]]</td>\n",
       "      <td>[{'name': 'Loud', 'pos': [23, 24], 'sent_id': 1, 'type': 'MISC', 'global_pos': [41, 41], 'index': '0_0'}]</td>\n",
       "      <td>[{'pos': [25, 26], 'type': 'TIME', 'sent_id': 1, 'name': '2010', 'global_pos': [43, 43], 'index': '6_0'}]</td>\n",
       "      <td>P577</td>\n",
       "      <td>publication date</td>\n",
       "      <td>When was Loud Tour published?</td>\n",
       "      <td>0</td>\n",
       "      <td>{}</td>\n",
       "      <td>1.0</td>\n",
       "      <td>Loud Tour The Loud Tour was the fourth overall and third world concert tour by Barbadian recording artist Rihanna . Performing in over twenty countries in the Americas and Europe , the tour was launched in support of Rihanna 's fifth studio album Loud ...</td>\n",
       "      <td>Loud Tour</td>\n",
       "      <td>The Loud Tour was the fourth overall and third world concert tour by Barbadian recording artist Rihanna . Performing in over twenty countries in the Americas and Europe , the tour was launched in support of Rihanna 's fifth studio album Loud ( 2010 ) ....</td>\n",
       "      <td>390.33786</td>\n",
       "      <td>Loud Tour The Loud Tour was the fourth overall and third world concert tour by Barbadian recording artist Rihanna . Performing in over twenty countries in the Americas and Europe , the tour was launched in support of Rihanna 's fifth studio album Loud ...</td>\n",
       "      <td>Loud Tour</td>\n",
       "      <td>The Loud Tour was the fourth overall and third world concert tour by Barbadian recording artist Rihanna . Performing in over twenty countries in the Americas and Europe , the tour was launched in support of Rihanna 's fifth studio album Loud ( 2010 ) ....</td>\n",
       "      <td>390.33786</td>\n",
       "      <td>142</td>\n",
       "      <td>142</td>\n",
       "      <td>[[CLS], when, was, loud, tour, published, ?, [SEP]]</td>\n",
       "      <td>[None, 0, 1, 2, 3, 4, 4, None]</td>\n",
       "      <td>[-0.17805682, -0.3927267, 0.34883702, -0.38739026, -0.23735791, -0.19460969, 0.21865264, 0.068975255, -0.1592264, 0.18711175, -0.20565934, 0.003034133, -0.18440822, 0.40548998, -0.4549966, 0.51666415, 0.09620502, -0.1836627, -0.4205021, -0.010630409, 0...</td>\n",
       "      <td>[2.2196622, 6.71451, 0.9866385, 58.316944, 37.08578, 4.3126516, 1.2738111, -1.2307678]</td>\n",
       "      <td>[[0.0026502553, 0.044497166, 0.009840142, -0.029498188, 0.047593728, 0.0005243204, 0.089234896, -0.058340102, -0.0002567456, -0.06561515, 0.012288873, -0.018892672, 0.0068592615, 0.031180702, 0.027442973, -0.06405719, 0.007814868, -0.030438174, 0.02620...</td>\n",
       "      <td>[[CLS], loud, tour, the, loud, tour, was, the, fourth, overall, and, third, world, concert, tour, by, bar, ##bad, ##ian, recording, artist, rihanna, ., performing, in, over, twenty, countries, in, the, americas, and, europe, ,, the, tour, was, launched...</td>\n",
       "      <td>[None, 0, 1, 2, 3, 4, 5, 6, 7, 8, 9, 10, 11, 12, 13, 14, 15, 15, 15, 16, 17, 18, 19, 20, 21, 22, 23, 24, 25, 26, 27, 28, 29, 30, 31, 32, 33, 34, 35, 36, 37, 38, 39, 39, 40, 41, 42, 43, 44, 45, 46, 47, 48, 49, 50, 51, 52, 53, 54, 54, 55, 56, 57, 58, 59,...</td>\n",
       "      <td>[-0.7096514, -0.43747085, 2.078466, -0.8606712, 2.3640666, 0.67811525, 3.0262432, 0.6547275, -1.481939, -2.838817, -1.2552446, 1.0732918, -3.318883, 3.0607197, -0.41772836, 3.4470546, 3.6913419, 0.77499884, 1.0027949, -1.8230458, 0.37280822, -1.2724396...</td>\n",
       "      <td>[650.5565, 112.46794, 110.70713, 35.217003, 88.90661, 93.24184, 93.337906, 43.745255, 70.52942, 71.49595, 12.454085, 71.52813, 16.037241, 15.657524, 53.929047, 21.389343, 5.0486135, 39.502014, 38.76303, 1.5653663, 10.186192, 42.767452, 3.310997, 14.803...</td>\n",
       "      <td>[[-0.06098142, 0.030208647, 0.35368052, -0.15786159, 0.43346453, 0.0317666, 0.49806064, 0.11205646, -0.21001092, -0.54779494, -0.16660528, 0.20015034, -0.5065915, 0.43021473, -0.07829579, 0.51261973, 0.5002409, 0.08070024, 0.15372154, -0.20520967, -0.0...</td>\n",
       "      <td>[[CLS], loud, tour, the, loud, tour, was, the, fourth, overall, and, third, world, concert, tour, by, bar, ##bad, ##ian, recording, artist, rihanna, ., performing, in, over, twenty, countries, in, the, americas, and, europe, ,, the, tour, was, launched...</td>\n",
       "      <td>[None, 0, 1, 2, 3, 4, 5, 6, 7, 8, 9, 10, 11, 12, 13, 14, 15, 15, 15, 16, 17, 18, 19, 20, 21, 22, 23, 24, 25, 26, 27, 28, 29, 30, 31, 32, 33, 34, 35, 36, 37, 38, 39, 39, 40, 41, 42, 43, 44, 45, 46, 47, 48, 49, 50, 51, 52, 53, 54, 54, 55, 56, 57, 58, 59,...</td>\n",
       "      <td>[-0.7096514, -0.43747085, 2.078466, -0.8606712, 2.3640666, 0.67811525, 3.0262432, 0.6547275, -1.481939, -2.838817, -1.2552446, 1.0732918, -3.318883, 3.0607197, -0.41772836, 3.4470546, 3.6913419, 0.77499884, 1.0027949, -1.8230458, 0.37280822, -1.2724396...</td>\n",
       "      <td>[650.5565, 112.46794, 110.70713, 35.217003, 88.90661, 93.24184, 93.337906, 43.745255, 70.52942, 71.49595, 12.454085, 71.52813, 16.037241, 15.657524, 53.929047, 21.389343, 5.0486135, 39.502014, 38.76303, 1.5653663, 10.186192, 42.767452, 3.310997, 14.803...</td>\n",
       "      <td>[[-0.06098142, 0.030208647, 0.35368052, -0.15786159, 0.43346453, 0.0317666, 0.49806064, 0.11205646, -0.21001092, -0.54779494, -0.16660528, 0.20015034, -0.5065915, 0.43021473, -0.07829579, 0.51261973, 0.5002409, 0.08070024, 0.15372154, -0.20520967, -0.0...</td>\n",
       "    </tr>\n",
       "  </tbody>\n",
       "</table>\n",
       "</div>"
      ],
      "text/plain": [
       "  query_id                          query    gold_docs  \\\n",
       "0    test0  When was Loud Tour published?  [Loud Tour]   \n",
       "\n",
       "                                                                                                                                                                                                                                                    gold_docs_text  \\\n",
       "0  {'Loud Tour': {'text': 'The Loud Tour was the fourth overall and third world concert tour by Barbadian recording artist Rihanna . Performing in over twenty countries in the Americas and Europe , the tour was launched in support of Rihanna 's fifth stud...   \n",
       "\n",
       "                                                                                                                                       scores_stats  \\\n",
       "0  {'len': 1000, 'max': 390.3378601074219, 'min': 377.525390625, 'std': 1.243663421340353, 'mean': 378.77503692626954, 'median': 378.4281463623047}   \n",
       "\n",
       "                        scores_gold  \\\n",
       "0  {'Loud Tour': 390.3378601074219}   \n",
       "\n",
       "                                                                                                                                                                                                                                                       scores_1000  \\\n",
       "0  {'Loud Tour': 390.3378601074219, 'Loud'n'proud': 385.71905517578125, 'Poetry Bus Tour': 385.4292907714844, 'Live &amp; Loud': 384.18218994140625, 'The Loudest Engine': 384.0265808105469, 'Young Wild Things Tour': 383.8572998046875, 'Guitar Rock Tour': ...   \n",
       "\n",
       "                                                                                                                                                                                                                                            predicted_docs_text_10  \\\n",
       "0  {'Loud Tour': {'text': 'The Loud Tour was the fourth overall and third world concert tour by Barbadian recording artist Rihanna . Performing in over twenty countries in the Americas and Europe , the tour was launched in support of Rihanna 's fifth stud...   \n",
       "\n",
       "      id      title  \\\n",
       "0  test0  Loud Tour   \n",
       "\n",
       "                                                                                                                                                                                                                                                         vertexSet  \\\n",
       "0  [[{'name': 'Loud', 'pos': [23, 24], 'sent_id': 1, 'type': 'MISC', 'global_pos': [41, 41], 'index': '0_0'}, {'name': 'Loud Tour', 'pos': [1, 3], 'sent_id': 6, 'type': 'MISC', 'global_pos': [128, 128], 'index': '0_1'}, {'name': 'Loud Tour', 'pos': [1, 3]...   \n",
       "\n",
       "                                                                                                                                                                                                                                                            labels  \\\n",
       "0  [{'r': 'P577', 'h': 0, 't': 6, 'evidence': [1]}, {'r': 'P175', 'h': 0, 't': 2, 'evidence': [0, 1]}, {'r': 'P131', 'h': 10, 't': 8, 'evidence': [4]}, {'r': 'P17', 'h': 8, 't': 7, 'evidence': [3, 4]}, {'r': 'P17', 'h': 10, 't': 7, 'evidence': [3, 4]}, {'...   \n",
       "\n",
       "                                                                                                                                                                                                                                                             sents  \\\n",
       "0  [[The, Loud, Tour, was, the, fourth, overall, and, third, world, concert, tour, by, Barbadian, recording, artist, Rihanna, .], [Performing, in, over, twenty, countries, in, the, Americas, and, Europe, ,, the, tour, was, launched, in, support, of, Rihan...   \n",
       "\n",
       "  split                                           label  label_idx  \\\n",
       "0  test  {'r': 'P577', 'h': 0, 't': 6, 'evidence': [1]}          0   \n",
       "\n",
       "                                                                                                                                                                                                                                                       head_entity  \\\n",
       "0  [{'name': 'Loud', 'pos': [23, 24], 'sent_id': 1, 'type': 'MISC', 'global_pos': [41, 41], 'index': '0_0'}, {'name': 'Loud Tour', 'pos': [1, 3], 'sent_id': 6, 'type': 'MISC', 'global_pos': [128, 128], 'index': '0_1'}, {'name': 'Loud Tour', 'pos': [1, 3],...   \n",
       "\n",
       "                                                                                                 tail_entity  \\\n",
       "0  [{'pos': [25, 26], 'type': 'TIME', 'sent_id': 1, 'name': '2010', 'global_pos': [43, 43], 'index': '6_0'}]   \n",
       "\n",
       "   head_entity_names tail_entity_names head_entity_longest_name  \\\n",
       "0  {Loud, Loud Tour}            {2010}                Loud Tour   \n",
       "\n",
       "  tail_entity_longest_name head_entity_types tail_entity_types  \\\n",
       "0                     2010            {MISC}            {TIME}   \n",
       "\n",
       "  evidence_sent_ids  \\\n",
       "0               [1]   \n",
       "\n",
       "                                                                                                                                                                      evidence_sents  \\\n",
       "0  [[Performing, in, over, twenty, countries, in, the, Americas, and, Europe, ,, the, tour, was, launched, in, support, of, Rihanna, 's, fifth, studio, album, Loud, (, 2010, ), .]]   \n",
       "\n",
       "                                                                                     head_entity_in_evidence  \\\n",
       "0  [{'name': 'Loud', 'pos': [23, 24], 'sent_id': 1, 'type': 'MISC', 'global_pos': [41, 41], 'index': '0_0'}]   \n",
       "\n",
       "                                                                                     tail_entity_in_evidence  \\\n",
       "0  [{'pos': [25, 26], 'type': 'TIME', 'sent_id': 1, 'name': '2010', 'global_pos': [43, 43], 'index': '6_0'}]   \n",
       "\n",
       "  relation     relation_name                 query_question  \\\n",
       "0     P577  publication date  When was Loud Tour published?   \n",
       "\n",
       "   duplicate_titles_len duplicate_titles  hit_rank  \\\n",
       "0                     0               {}       1.0   \n",
       "\n",
       "                                                                                                                                                                                                                                                          gold_doc  \\\n",
       "0  Loud Tour The Loud Tour was the fourth overall and third world concert tour by Barbadian recording artist Rihanna . Performing in over twenty countries in the Americas and Europe , the tour was launched in support of Rihanna 's fifth studio album Loud ...   \n",
       "\n",
       "  gold_doc_title  \\\n",
       "0      Loud Tour   \n",
       "\n",
       "                                                                                                                                                                                                                                                     gold_doc_text  \\\n",
       "0  The Loud Tour was the fourth overall and third world concert tour by Barbadian recording artist Rihanna . Performing in over twenty countries in the Americas and Europe , the tour was launched in support of Rihanna 's fifth studio album Loud ( 2010 ) ....   \n",
       "\n",
       "   gold_doc_score  \\\n",
       "0       390.33786   \n",
       "\n",
       "                                                                                                                                                                                                                                                          pred_doc  \\\n",
       "0  Loud Tour The Loud Tour was the fourth overall and third world concert tour by Barbadian recording artist Rihanna . Performing in over twenty countries in the Americas and Europe , the tour was launched in support of Rihanna 's fifth studio album Loud ...   \n",
       "\n",
       "  pred_doc_title  \\\n",
       "0      Loud Tour   \n",
       "\n",
       "                                                                                                                                                                                                                                                     pred_doc_text  \\\n",
       "0  The Loud Tour was the fourth overall and third world concert tour by Barbadian recording artist Rihanna . Performing in over twenty countries in the Americas and Europe , the tour was launched in support of Rihanna 's fifth studio album Loud ( 2010 ) ....   \n",
       "\n",
       "   pred_doc_score  gold_doc_len  pred_doc_len  \\\n",
       "0       390.33786           142           142   \n",
       "\n",
       "                                  query_decompx_tokens  \\\n",
       "0  [[CLS], when, was, loud, tour, published, ?, [SEP]]   \n",
       "\n",
       "  query_decompx_tokenizer_word_ids  \\\n",
       "0   [None, 0, 1, 2, 3, 4, 4, None]   \n",
       "\n",
       "                                                                                                                                                                                                                                  query_decompx_cls_or_mean_pooled  \\\n",
       "0  [-0.17805682, -0.3927267, 0.34883702, -0.38739026, -0.23735791, -0.19460969, 0.21865264, 0.068975255, -0.1592264, 0.18711175, -0.20565934, 0.003034133, -0.18440822, 0.40548998, -0.4549966, 0.51666415, 0.09620502, -0.1836627, -0.4205021, -0.010630409, 0...   \n",
       "\n",
       "                                                          query_decompx_tokens_dot_scores  \\\n",
       "0  [2.2196622, 6.71451, 0.9866385, 58.316944, 37.08578, 4.3126516, 1.2738111, -1.2307678]   \n",
       "\n",
       "                                                                                                                                                                                                                           query_decompx_decompx_last_layer_pooled  \\\n",
       "0  [[0.0026502553, 0.044497166, 0.009840142, -0.029498188, 0.047593728, 0.0005243204, 0.089234896, -0.058340102, -0.0002567456, -0.06561515, 0.012288873, -0.018892672, 0.0068592615, 0.031180702, 0.027442973, -0.06405719, 0.007814868, -0.030438174, 0.02620...   \n",
       "\n",
       "                                                                                                                                                                                                                                           gold_doc_decompx_tokens  \\\n",
       "0  [[CLS], loud, tour, the, loud, tour, was, the, fourth, overall, and, third, world, concert, tour, by, bar, ##bad, ##ian, recording, artist, rihanna, ., performing, in, over, twenty, countries, in, the, americas, and, europe, ,, the, tour, was, launched...   \n",
       "\n",
       "                                                                                                                                                                                                                               gold_doc_decompx_tokenizer_word_ids  \\\n",
       "0  [None, 0, 1, 2, 3, 4, 5, 6, 7, 8, 9, 10, 11, 12, 13, 14, 15, 15, 15, 16, 17, 18, 19, 20, 21, 22, 23, 24, 25, 26, 27, 28, 29, 30, 31, 32, 33, 34, 35, 36, 37, 38, 39, 39, 40, 41, 42, 43, 44, 45, 46, 47, 48, 49, 50, 51, 52, 53, 54, 54, 55, 56, 57, 58, 59,...   \n",
       "\n",
       "                                                                                                                                                                                                                               gold_doc_decompx_cls_or_mean_pooled  \\\n",
       "0  [-0.7096514, -0.43747085, 2.078466, -0.8606712, 2.3640666, 0.67811525, 3.0262432, 0.6547275, -1.481939, -2.838817, -1.2552446, 1.0732918, -3.318883, 3.0607197, -0.41772836, 3.4470546, 3.6913419, 0.77499884, 1.0027949, -1.8230458, 0.37280822, -1.2724396...   \n",
       "\n",
       "                                                                                                                                                                                                                                gold_doc_decompx_tokens_dot_scores  \\\n",
       "0  [650.5565, 112.46794, 110.70713, 35.217003, 88.90661, 93.24184, 93.337906, 43.745255, 70.52942, 71.49595, 12.454085, 71.52813, 16.037241, 15.657524, 53.929047, 21.389343, 5.0486135, 39.502014, 38.76303, 1.5653663, 10.186192, 42.767452, 3.310997, 14.803...   \n",
       "\n",
       "                                                                                                                                                                                                                        gold_doc_decompx_decompx_last_layer_pooled  \\\n",
       "0  [[-0.06098142, 0.030208647, 0.35368052, -0.15786159, 0.43346453, 0.0317666, 0.49806064, 0.11205646, -0.21001092, -0.54779494, -0.16660528, 0.20015034, -0.5065915, 0.43021473, -0.07829579, 0.51261973, 0.5002409, 0.08070024, 0.15372154, -0.20520967, -0.0...   \n",
       "\n",
       "                                                                                                                                                                                                                                           pred_doc_decompx_tokens  \\\n",
       "0  [[CLS], loud, tour, the, loud, tour, was, the, fourth, overall, and, third, world, concert, tour, by, bar, ##bad, ##ian, recording, artist, rihanna, ., performing, in, over, twenty, countries, in, the, americas, and, europe, ,, the, tour, was, launched...   \n",
       "\n",
       "                                                                                                                                                                                                                               pred_doc_decompx_tokenizer_word_ids  \\\n",
       "0  [None, 0, 1, 2, 3, 4, 5, 6, 7, 8, 9, 10, 11, 12, 13, 14, 15, 15, 15, 16, 17, 18, 19, 20, 21, 22, 23, 24, 25, 26, 27, 28, 29, 30, 31, 32, 33, 34, 35, 36, 37, 38, 39, 39, 40, 41, 42, 43, 44, 45, 46, 47, 48, 49, 50, 51, 52, 53, 54, 54, 55, 56, 57, 58, 59,...   \n",
       "\n",
       "                                                                                                                                                                                                                               pred_doc_decompx_cls_or_mean_pooled  \\\n",
       "0  [-0.7096514, -0.43747085, 2.078466, -0.8606712, 2.3640666, 0.67811525, 3.0262432, 0.6547275, -1.481939, -2.838817, -1.2552446, 1.0732918, -3.318883, 3.0607197, -0.41772836, 3.4470546, 3.6913419, 0.77499884, 1.0027949, -1.8230458, 0.37280822, -1.2724396...   \n",
       "\n",
       "                                                                                                                                                                                                                                pred_doc_decompx_tokens_dot_scores  \\\n",
       "0  [650.5565, 112.46794, 110.70713, 35.217003, 88.90661, 93.24184, 93.337906, 43.745255, 70.52942, 71.49595, 12.454085, 71.52813, 16.037241, 15.657524, 53.929047, 21.389343, 5.0486135, 39.502014, 38.76303, 1.5653663, 10.186192, 42.767452, 3.310997, 14.803...   \n",
       "\n",
       "                                                                                                                                                                                                                        pred_doc_decompx_decompx_last_layer_pooled  \n",
       "0  [[-0.06098142, 0.030208647, 0.35368052, -0.15786159, 0.43346453, 0.0317666, 0.49806064, 0.11205646, -0.21001092, -0.54779494, -0.16660528, 0.20015034, -0.5065915, 0.43021473, -0.07829579, 0.51261973, 0.5002409, 0.08070024, 0.15372154, -0.20520967, -0.0...  "
      ]
     },
     "execution_count": 4,
     "metadata": {},
     "output_type": "execute_result"
    }
   ],
   "source": [
    "df_raw = pd.read_pickle(f\"./hf/results/{DATASET}\")\n",
    "print(df_raw.attrs)\n",
    "df_raw.head(1)"
   ]
  },
  {
   "cell_type": "code",
   "execution_count": 23,
   "metadata": {},
   "outputs": [
    {
     "name": "stdout",
     "output_type": "stream",
     "text": [
      "1878\n",
      "ERROR 8.\n",
      "Hlawka  !=  Hlawka\n",
      "ERROR 8.\n",
      "Hlawka  !=  Hlawka\n",
      "ERROR 8.\n",
      "Hlawka  !=  Hlawka\n",
      "ERROR 8.\n",
      "Hlawka  !=  Hlawka\n",
      "ERROR NexusQ  !=  Nexus Q\n",
      "ERROR NexusQ  !=  Nexus Q\n",
      "ERROR NexusQ  !=  Nexus Q\n",
      "ERROR NexusQ  !=  Nexus Q\n",
      "ERROR NexusQ  !=  Nexus Q\n",
      "ERROR 0.\n",
      "TheSwingles  !=  TheSwingles\n",
      "ERROR 0.\n",
      "TheSwingles  !=  TheSwingles\n",
      "ERROR 0.\n",
      "TheSwingles  !=  TheSwingles\n",
      "ERROR 0.\n",
      "TheSwingles  !=  TheSwingles\n",
      "ERROR G.bipinnatifida  !=  G. bipinnatifida\n",
      "ERROR 8.\n",
      "Hlawka  !=  Hlawka\n",
      "ERROR 8.\n",
      "Hlawka  !=  Hlawka\n",
      "ERROR 8.\n",
      "Hlawka  !=  Hlawka\n",
      "ERROR 8.\n",
      "Hlawka  !=  Hlawka\n",
      "ERROR NexusQ  !=  Nexus Q\n",
      "ERROR NexusQ  !=  Nexus Q\n",
      "ERROR NexusQ  !=  Nexus Q\n",
      "ERROR NexusQ  !=  Nexus Q\n",
      "ERROR NexusQ  !=  Nexus Q\n",
      "ERROR 0.\n",
      "TheSwingles  !=  TheSwingles\n",
      "ERROR 0.\n",
      "TheSwingles  !=  TheSwingles\n",
      "ERROR 0.\n",
      "TheSwingles  !=  TheSwingles\n",
      "ERROR 0.\n",
      "TheSwingles  !=  TheSwingles\n",
      "ERROR G.bipinnatifida  !=  G. bipinnatifida\n"
     ]
    },
    {
     "data": {
      "text/html": [
       "<div>\n",
       "<style scoped>\n",
       "    .dataframe tbody tr th:only-of-type {\n",
       "        vertical-align: middle;\n",
       "    }\n",
       "\n",
       "    .dataframe tbody tr th {\n",
       "        vertical-align: top;\n",
       "    }\n",
       "\n",
       "    .dataframe thead th {\n",
       "        text-align: right;\n",
       "    }\n",
       "</style>\n",
       "<table border=\"1\" class=\"dataframe\">\n",
       "  <thead>\n",
       "    <tr style=\"text-align: right;\">\n",
       "      <th></th>\n",
       "      <th>query</th>\n",
       "      <th>query_long_name</th>\n",
       "      <th>query_short_name</th>\n",
       "      <th>gold_doc_long_name</th>\n",
       "      <th>gold_doc_short_name</th>\n",
       "    </tr>\n",
       "  </thead>\n",
       "  <tbody>\n",
       "    <tr>\n",
       "      <th>2172</th>\n",
       "      <td>Which country is Hanoverian a citizen of?</td>\n",
       "      <td>Which country is Hanoverian a citizen of?</td>\n",
       "      <td>Which country is Hanover a citizen of?</td>\n",
       "      <td>The House of Hanover ( ) , whose members are known as Hanoverians ( ) , is a German royal house that ruled Hanoverian , Great Britain , and Ireland at various times during the 17th through 20th centuries . The house originated in 1635 as a cadet branch...</td>\n",
       "      <td>The House of Hanover ( ) , whose members are known as Hanoverians ( ) , is a German royal house that ruled Hanover , Great Britain , and Ireland at various times during the 17th through 20th centuries . The house originated in 1635 as a cadet branch of...</td>\n",
       "    </tr>\n",
       "    <tr>\n",
       "      <th>3873</th>\n",
       "      <td>Which political party is Carl Gösta Björn Joachim von der Esch a member of?</td>\n",
       "      <td>Which political party is Carl Gösta Björn Joachim von der Esch a member of?</td>\n",
       "      <td>Which political party is Esch a member of?</td>\n",
       "      <td>Carl Gösta Björn Joachim von der Esch ( 11 January 1930 – 10 March 2010 ) was a Swedish Christian democratic politician , member of the Riksdag 1998 – 2006 . Carl Gösta Björn Joachim von der Esch had a farming business and did a Ph.D. in business admin...</td>\n",
       "      <td>Esch ( 11 January 1930 – 10 March 2010 ) was a Swedish Christian democratic politician , member of the Riksdag 1998 – 2006 . Esch had a farming business and did a Ph.D. in business administration at Uppsala University in 1972 . Before joining the Chris...</td>\n",
       "    </tr>\n",
       "    <tr>\n",
       "      <th>6194</th>\n",
       "      <td>What award did Aleksandr Alekseevich Borovkov receive?</td>\n",
       "      <td>What award did Aleksandr Alekseevich Borovkov receive?</td>\n",
       "      <td>What award did Borovkov receive?</td>\n",
       "      <td>Aleksandr Alekseevich Borovkov ( Aleksandr Alekseevich Borovkov , 6 March 1931 , Moscow ) is a Russian mathematician . Aleksandr Alekseevich Borovkov received his Russian candidate degree ( Ph.D. ) in 1959 under Andrey Kolmogorov at Moscow State Univer...</td>\n",
       "      <td>Borovkov ( Borovkov , 6 March 1931 , Moscow ) is a Russian mathematician . Borovkov received his Russian candidate degree ( Ph.D. ) in 1959 under Andrey Kolmogorov at Moscow State University and his Russian doctorate ( higher doctoral degree ) in 1963 ...</td>\n",
       "    </tr>\n",
       "    <tr>\n",
       "      <th>4625</th>\n",
       "      <td>Where was Theobald Tiger born?</td>\n",
       "      <td>Where was Theobald Tiger born?</td>\n",
       "      <td>Where was Tucholsky born?</td>\n",
       "      <td>Theobald Tiger (; 9 January 1890 – 21 December 1935 ) was a German - Jewish journalist , satirist , and writer . He also wrote under the pseudonyms Theobald Tiger ( after the historical figure ) , Theobald Tiger , Theobald Tiger and Theobald Tiger . Bo...</td>\n",
       "      <td>Tucholsky (; 9 January 1890 – 21 December 1935 ) was a German - Jewish journalist , satirist , and writer . He also wrote under the pseudonyms Tucholsky ( after the historical figure ) , Tucholsky , Tucholsky and Tucholsky . Born in Berlin - Moabit , h...</td>\n",
       "    </tr>\n",
       "    <tr>\n",
       "      <th>5255</th>\n",
       "      <td>Where was William Hepburn Armstrong educated?</td>\n",
       "      <td>Where was William Hepburn Armstrong educated?</td>\n",
       "      <td>Where was Armstrong educated?</td>\n",
       "      <td>William Hepburn Armstrong ( September 7 , 1824 – May 14 , 1919 ) was a Republican member of the U.S. House of Representatives from Pennsylvania . William Hepburn Armstrong was born in Williamsport , Pennsylvania . He graduated from Princeton College in...</td>\n",
       "      <td>Armstrong ( September 7 , 1824 – May 14 , 1919 ) was a Republican member of the U.S. House of Representatives from Pennsylvania . Armstrong was born in Williamsport , Pennsylvania . He graduated from Princeton College in 1847 . He studied law , was adm...</td>\n",
       "    </tr>\n",
       "  </tbody>\n",
       "</table>\n",
       "</div>"
      ],
      "text/plain": [
       "                                                                            query  \\\n",
       "2172                                    Which country is Hanoverian a citizen of?   \n",
       "3873  Which political party is Carl Gösta Björn Joachim von der Esch a member of?   \n",
       "6194                       What award did Aleksandr Alekseevich Borovkov receive?   \n",
       "4625                                               Where was Theobald Tiger born?   \n",
       "5255                                Where was William Hepburn Armstrong educated?   \n",
       "\n",
       "                                                                  query_long_name  \\\n",
       "2172                                    Which country is Hanoverian a citizen of?   \n",
       "3873  Which political party is Carl Gösta Björn Joachim von der Esch a member of?   \n",
       "6194                       What award did Aleksandr Alekseevich Borovkov receive?   \n",
       "4625                                               Where was Theobald Tiger born?   \n",
       "5255                                Where was William Hepburn Armstrong educated?   \n",
       "\n",
       "                                query_short_name  \\\n",
       "2172      Which country is Hanover a citizen of?   \n",
       "3873  Which political party is Esch a member of?   \n",
       "6194            What award did Borovkov receive?   \n",
       "4625                   Where was Tucholsky born?   \n",
       "5255               Where was Armstrong educated?   \n",
       "\n",
       "                                                                                                                                                                                                                                                   gold_doc_long_name  \\\n",
       "2172  The House of Hanover ( ) , whose members are known as Hanoverians ( ) , is a German royal house that ruled Hanoverian , Great Britain , and Ireland at various times during the 17th through 20th centuries . The house originated in 1635 as a cadet branch...   \n",
       "3873  Carl Gösta Björn Joachim von der Esch ( 11 January 1930 – 10 March 2010 ) was a Swedish Christian democratic politician , member of the Riksdag 1998 – 2006 . Carl Gösta Björn Joachim von der Esch had a farming business and did a Ph.D. in business admin...   \n",
       "6194  Aleksandr Alekseevich Borovkov ( Aleksandr Alekseevich Borovkov , 6 March 1931 , Moscow ) is a Russian mathematician . Aleksandr Alekseevich Borovkov received his Russian candidate degree ( Ph.D. ) in 1959 under Andrey Kolmogorov at Moscow State Univer...   \n",
       "4625  Theobald Tiger (; 9 January 1890 – 21 December 1935 ) was a German - Jewish journalist , satirist , and writer . He also wrote under the pseudonyms Theobald Tiger ( after the historical figure ) , Theobald Tiger , Theobald Tiger and Theobald Tiger . Bo...   \n",
       "5255  William Hepburn Armstrong ( September 7 , 1824 – May 14 , 1919 ) was a Republican member of the U.S. House of Representatives from Pennsylvania . William Hepburn Armstrong was born in Williamsport , Pennsylvania . He graduated from Princeton College in...   \n",
       "\n",
       "                                                                                                                                                                                                                                                  gold_doc_short_name  \n",
       "2172  The House of Hanover ( ) , whose members are known as Hanoverians ( ) , is a German royal house that ruled Hanover , Great Britain , and Ireland at various times during the 17th through 20th centuries . The house originated in 1635 as a cadet branch of...  \n",
       "3873  Esch ( 11 January 1930 – 10 March 2010 ) was a Swedish Christian democratic politician , member of the Riksdag 1998 – 2006 . Esch had a farming business and did a Ph.D. in business administration at Uppsala University in 1972 . Before joining the Chris...  \n",
       "6194  Borovkov ( Borovkov , 6 March 1931 , Moscow ) is a Russian mathematician . Borovkov received his Russian candidate degree ( Ph.D. ) in 1959 under Andrey Kolmogorov at Moscow State University and his Russian doctorate ( higher doctoral degree ) in 1963 ...  \n",
       "4625  Tucholsky (; 9 January 1890 – 21 December 1935 ) was a German - Jewish journalist , satirist , and writer . He also wrote under the pseudonyms Tucholsky ( after the historical figure ) , Tucholsky , Tucholsky and Tucholsky . Born in Berlin - Moabit , h...  \n",
       "5255  Armstrong ( September 7 , 1824 – May 14 , 1919 ) was a Republican member of the U.S. House of Representatives from Pennsylvania . Armstrong was born in Williamsport , Pennsylvania . He graduated from Princeton College in 1847 . He studied law , was adm...  "
      ]
     },
     "execution_count": 23,
     "metadata": {},
     "output_type": "execute_result"
    }
   ],
   "source": [
    "df = df_raw.copy()\n",
    "df = df[df[\"head_entity_names\"].str.len() > 1]\n",
    "print(len(df))\n",
    "\n",
    "df[\"head_entity_shortest_name\"] = df[\"head_entity_names\"].apply(lambda x: min(x, key=len))\n",
    "df[\"query_long_name\"] = df[\"query\"]\n",
    "df[\"query_short_name\"] = df.apply(lambda r: r[\"query\"].replace(r[\"head_entity_longest_name\"], r[\"head_entity_shortest_name\"]), axis=1)\n",
    "\n",
    "def replace_heads(r, replacement):\n",
    "    sents = r[\"sents\"]\n",
    "    head_all_pos = []\n",
    "    head_start_pos = []\n",
    "    for e in r[\"head_entity\"]:\n",
    "        if \"\".join(sents[e[\"sent_id\"]][e[\"pos\"][0]: e[\"pos\"][1]]).replace(\" \", \"\") != e[\"name\"].replace(\" \", \"\"):\n",
    "            print(\"ERROR\", e[\"name\"].replace(\" \", \"\"), \" != \", \"\".join(sents[e[\"sent_id\"]][e[\"pos\"][0]: e[\"pos\"][1]]).replace(\" \", \"\"))\n",
    "        head_start_pos.append((e[\"sent_id\"], e[\"pos\"][0]))\n",
    "        for i in range(e[\"pos\"][0], e[\"pos\"][1]):\n",
    "            head_all_pos.append((e[\"sent_id\"], i))\n",
    "        \n",
    "    new_words = []\n",
    "    for sent_id, sent in enumerate(sents):\n",
    "        for wi, word in enumerate(sent):\n",
    "            if (sent_id, wi) in head_start_pos:\n",
    "                new_words.append(replacement)\n",
    "            if (sent_id, wi) not in head_all_pos:\n",
    "                new_words.append(word)\n",
    "    return \" \".join(new_words)\n",
    "            \n",
    "\n",
    "df[\"gold_doc_long_name\"] = df.apply(lambda r: replace_heads(r, r[\"head_entity_longest_name\"]), axis=1)\n",
    "df[\"gold_doc_short_name\"] = df.apply(lambda r: replace_heads(r, r[\"head_entity_shortest_name\"]), axis=1)\n",
    "\n",
    "df[[\"query\", \"query_long_name\", \"query_short_name\", \"gold_doc_long_name\", \"gold_doc_short_name\"]].sample(5)"
   ]
  },
  {
   "cell_type": "code",
   "execution_count": 14,
   "metadata": {},
   "outputs": [],
   "source": [
    "class YourCustomDEModel:\n",
    "    def __init__(self, q_model, doc_model, pooling, sep: str = \" \", **kwargs):\n",
    "        self.tokenizer = AutoTokenizer.from_pretrained(q_model)\n",
    "        self.query_encoder = AutoModel.from_pretrained(q_model)\n",
    "        self.context_encoder = AutoModel.from_pretrained(doc_model)\n",
    "        self.pooling = pooling\n",
    "        self.sep = sep\n",
    "        self.device = \"cuda\" if torch.cuda.is_available() else \"cpu\"\n",
    "    \n",
    "    # Write your own encoding query function (Returns: Query embeddings as numpy array)\n",
    "    def encode_queries(self, queries: List[str], batch_size=32, **kwargs) -> np.ndarray:\n",
    "        print(\"Q\")\n",
    "        print(len(queries))\n",
    "        return self.encode_in_batch(self.query_encoder, queries, batch_size)\n",
    "    \n",
    "    # Write your own encoding corpus function (Returns: Document embeddings as numpy array)  \n",
    "    def encode_corpus(self, corpus: List[Dict[str, str]], batch_size=32, **kwargs) -> np.ndarray:\n",
    "        if type(corpus) is dict:\n",
    "            sentences = [(corpus[\"title\"][i] + self.sep + corpus[\"text\"][i]).strip() if \"title\" in corpus else corpus[\"text\"][i].strip() for i in range(len(corpus['text']))]\n",
    "        else:\n",
    "            sentences = [(doc[\"title\"] + self.sep + doc[\"text\"]).strip() if \"title\" in doc else doc[\"text\"].strip() for doc in corpus]\n",
    "        return self.encode_in_batch(self.context_encoder, sentences, batch_size)\n",
    "\n",
    "    def encode_in_batch(self, model, sentences: List[str], batch_size=32, **kwargs) -> np.ndarray:\n",
    "        model.to(self.device)\n",
    "        all_embeddings = []\n",
    "        for batch in tqdm(torch.utils.data.DataLoader(sentences, batch_size=batch_size, shuffle=False)):\n",
    "            inputs = self.tokenizer(batch, padding=True, truncation=True, return_tensors='pt', max_length=512)\n",
    "            inputs = {key: val.to(self.device) for key, val in inputs.items()}\n",
    "            outputs = model(**inputs)\n",
    "            ### POOLING\n",
    "            if self.pooling == \"avg\":\n",
    "                embeddings = self.mean_pooling(outputs[0], inputs['attention_mask'])\n",
    "            elif self.pooling == \"cls\":\n",
    "                embeddings = outputs.last_hidden_state[:, 0, :]  # [128, 768] = [batch, emb_dim]\n",
    "            else:\n",
    "                raise ValueError(\"Pooling method not supported\")\n",
    "            all_embeddings.extend(embeddings.detach().cpu().numpy())\n",
    "        all_embeddings = np.array(all_embeddings)\n",
    "        print(all_embeddings.shape)\n",
    "        return all_embeddings\n",
    "\n",
    "    def mean_pooling(self, token_embeddings, mask):\n",
    "        token_embeddings = token_embeddings.masked_fill(~mask[..., None].bool(), 0.)\n",
    "        sentence_embeddings = token_embeddings.sum(dim=1) / mask.sum(dim=1)[..., None]\n",
    "        return sentence_embeddings"
   ]
  },
  {
   "cell_type": "code",
   "execution_count": 21,
   "metadata": {},
   "outputs": [
    {
     "data": {
      "application/vnd.jupyter.widget-view+json": {
       "model_id": "38b1257033954af18688a15c1b2f1ad9",
       "version_major": 2,
       "version_minor": 0
      },
      "text/plain": [
       "  0%|          | 0/59 [00:00<?, ?it/s]"
      ]
     },
     "metadata": {},
     "output_type": "display_data"
    },
    {
     "name": "stdout",
     "output_type": "stream",
     "text": [
      "(1878, 768)\n",
      "Q\n",
      "1878\n"
     ]
    },
    {
     "data": {
      "application/vnd.jupyter.widget-view+json": {
       "model_id": "ad6591dfea244f328e6a121b7cb14699",
       "version_major": 2,
       "version_minor": 0
      },
      "text/plain": [
       "  0%|          | 0/59 [00:00<?, ?it/s]"
      ]
     },
     "metadata": {},
     "output_type": "display_data"
    },
    {
     "name": "stdout",
     "output_type": "stream",
     "text": [
      "(1878, 768)\n",
      "query_long_name\n",
      "gold_doc_long_name\n",
      "Q\n",
      "1878\n"
     ]
    },
    {
     "data": {
      "application/vnd.jupyter.widget-view+json": {
       "model_id": "1bbef2f7e7af4c5381e9a323e34dbd6f",
       "version_major": 2,
       "version_minor": 0
      },
      "text/plain": [
       "  0%|          | 0/59 [00:00<?, ?it/s]"
      ]
     },
     "metadata": {},
     "output_type": "display_data"
    },
    {
     "name": "stdout",
     "output_type": "stream",
     "text": [
      "(1878, 768)\n",
      "query_short_name\n",
      "gold_doc_long_name\n"
     ]
    },
    {
     "data": {
      "application/vnd.jupyter.widget-view+json": {
       "model_id": "3700a751a54c42098f559e170910f3f2",
       "version_major": 2,
       "version_minor": 0
      },
      "text/plain": [
       "  0%|          | 0/59 [00:00<?, ?it/s]"
      ]
     },
     "metadata": {},
     "output_type": "display_data"
    },
    {
     "name": "stdout",
     "output_type": "stream",
     "text": [
      "(1878, 768)\n",
      "Q\n",
      "1878\n"
     ]
    },
    {
     "data": {
      "application/vnd.jupyter.widget-view+json": {
       "model_id": "7368a9db5845495a8023b8b018be3643",
       "version_major": 2,
       "version_minor": 0
      },
      "text/plain": [
       "  0%|          | 0/59 [00:00<?, ?it/s]"
      ]
     },
     "metadata": {},
     "output_type": "display_data"
    },
    {
     "name": "stdout",
     "output_type": "stream",
     "text": [
      "(1878, 768)\n",
      "query_long_name\n",
      "gold_doc_short_name\n",
      "Q\n",
      "1878\n"
     ]
    },
    {
     "data": {
      "application/vnd.jupyter.widget-view+json": {
       "model_id": "3ecf3764f83549209265f90729550eaa",
       "version_major": 2,
       "version_minor": 0
      },
      "text/plain": [
       "  0%|          | 0/59 [00:00<?, ?it/s]"
      ]
     },
     "metadata": {},
     "output_type": "display_data"
    },
    {
     "name": "stdout",
     "output_type": "stream",
     "text": [
      "(1878, 768)\n",
      "query_short_name\n",
      "gold_doc_short_name\n"
     ]
    },
    {
     "data": {
      "image/png": "[encoded data removed]",
      "text/plain": [
       "<Figure size 900x500 with 1 Axes>"
      ]
     },
     "metadata": {},
     "output_type": "display_data"
    },
    {
     "name": "stderr",
     "output_type": "stream",
     "text": [
      "/data2/mohsenfayyaz/anaconda3/envs/mohsen-env/lib/python3.12/site-packages/transformers/tokenization_utils_base.py:1617: FutureWarning: `clean_up_tokenization_spaces` was not set. It will be set to `True` by default. This behavior will be deprecated in transformers v4.45, and will be then set to `False` by default. For more details check this issue: https://github.com/huggingface/transformers/issues/31884\n",
      "  warnings.warn(\n"
     ]
    },
    {
     "data": {
      "application/vnd.jupyter.widget-view+json": {
       "model_id": "9a31e28337834259af8bfb2b70b68763",
       "version_major": 2,
       "version_minor": 0
      },
      "text/plain": [
       "  0%|          | 0/59 [00:00<?, ?it/s]"
      ]
     },
     "metadata": {},
     "output_type": "display_data"
    },
    {
     "name": "stdout",
     "output_type": "stream",
     "text": [
      "(1878, 768)\n",
      "Q\n",
      "1878\n"
     ]
    },
    {
     "data": {
      "application/vnd.jupyter.widget-view+json": {
       "model_id": "898d9ab4fb104f50b76f60388f61644e",
       "version_major": 2,
       "version_minor": 0
      },
      "text/plain": [
       "  0%|          | 0/59 [00:00<?, ?it/s]"
      ]
     },
     "metadata": {},
     "output_type": "display_data"
    },
    {
     "name": "stdout",
     "output_type": "stream",
     "text": [
      "(1878, 768)\n",
      "query_long_name\n",
      "gold_doc_long_name\n",
      "Q\n",
      "1878\n"
     ]
    },
    {
     "data": {
      "application/vnd.jupyter.widget-view+json": {
       "model_id": "2f63395a5a57460ba0d1326056dd8688",
       "version_major": 2,
       "version_minor": 0
      },
      "text/plain": [
       "  0%|          | 0/59 [00:00<?, ?it/s]"
      ]
     },
     "metadata": {},
     "output_type": "display_data"
    },
    {
     "name": "stdout",
     "output_type": "stream",
     "text": [
      "(1878, 768)\n",
      "query_short_name\n",
      "gold_doc_long_name\n"
     ]
    },
    {
     "data": {
      "application/vnd.jupyter.widget-view+json": {
       "model_id": "e7da5f37c9054652bce8193129904b9f",
       "version_major": 2,
       "version_minor": 0
      },
      "text/plain": [
       "  0%|          | 0/59 [00:00<?, ?it/s]"
      ]
     },
     "metadata": {},
     "output_type": "display_data"
    },
    {
     "name": "stdout",
     "output_type": "stream",
     "text": [
      "(1878, 768)\n",
      "Q\n",
      "1878\n"
     ]
    },
    {
     "data": {
      "application/vnd.jupyter.widget-view+json": {
       "model_id": "b9b54fc52a9b4e3cad2cd05feb6f7fff",
       "version_major": 2,
       "version_minor": 0
      },
      "text/plain": [
       "  0%|          | 0/59 [00:00<?, ?it/s]"
      ]
     },
     "metadata": {},
     "output_type": "display_data"
    },
    {
     "name": "stdout",
     "output_type": "stream",
     "text": [
      "(1878, 768)\n",
      "query_long_name\n",
      "gold_doc_short_name\n",
      "Q\n",
      "1878\n"
     ]
    },
    {
     "data": {
      "application/vnd.jupyter.widget-view+json": {
       "model_id": "541b2d7523f8497092344592fd7bd883",
       "version_major": 2,
       "version_minor": 0
      },
      "text/plain": [
       "  0%|          | 0/59 [00:00<?, ?it/s]"
      ]
     },
     "metadata": {},
     "output_type": "display_data"
    },
    {
     "name": "stdout",
     "output_type": "stream",
     "text": [
      "(1878, 768)\n",
      "query_short_name\n",
      "gold_doc_short_name\n"
     ]
    },
    {
     "data": {
      "image/png": "[encoded data removed]",
      "text/plain": [
       "<Figure size 900x500 with 1 Axes>"
      ]
     },
     "metadata": {},
     "output_type": "display_data"
    },
    {
     "data": {
      "application/vnd.jupyter.widget-view+json": {
       "model_id": "80ca5a0db84d473e984beaa32d7e9b4b",
       "version_major": 2,
       "version_minor": 0
      },
      "text/plain": [
       "  0%|          | 0/59 [00:00<?, ?it/s]"
      ]
     },
     "metadata": {},
     "output_type": "display_data"
    },
    {
     "name": "stdout",
     "output_type": "stream",
     "text": [
      "(1878, 768)\n",
      "Q\n",
      "1878\n"
     ]
    },
    {
     "data": {
      "application/vnd.jupyter.widget-view+json": {
       "model_id": "24b1e0aea17c4e1e9d83b6afc249c877",
       "version_major": 2,
       "version_minor": 0
      },
      "text/plain": [
       "  0%|          | 0/59 [00:00<?, ?it/s]"
      ]
     },
     "metadata": {},
     "output_type": "display_data"
    },
    {
     "name": "stdout",
     "output_type": "stream",
     "text": [
      "(1878, 768)\n",
      "query_long_name\n",
      "gold_doc_long_name\n",
      "Q\n",
      "1878\n"
     ]
    },
    {
     "data": {
      "application/vnd.jupyter.widget-view+json": {
       "model_id": "667bc3dfb5b84719b9265c30dbecf234",
       "version_major": 2,
       "version_minor": 0
      },
      "text/plain": [
       "  0%|          | 0/59 [00:00<?, ?it/s]"
      ]
     },
     "metadata": {},
     "output_type": "display_data"
    },
    {
     "name": "stdout",
     "output_type": "stream",
     "text": [
      "(1878, 768)\n",
      "query_short_name\n",
      "gold_doc_long_name\n"
     ]
    },
    {
     "data": {
      "application/vnd.jupyter.widget-view+json": {
       "model_id": "843008f887f74e6ea0170c6d7caa3777",
       "version_major": 2,
       "version_minor": 0
      },
      "text/plain": [
       "  0%|          | 0/59 [00:00<?, ?it/s]"
      ]
     },
     "metadata": {},
     "output_type": "display_data"
    },
    {
     "name": "stdout",
     "output_type": "stream",
     "text": [
      "(1878, 768)\n",
      "Q\n",
      "1878\n"
     ]
    },
    {
     "data": {
      "application/vnd.jupyter.widget-view+json": {
       "model_id": "0969aaef6be240ffa3ed5153019da17c",
       "version_major": 2,
       "version_minor": 0
      },
      "text/plain": [
       "  0%|          | 0/59 [00:00<?, ?it/s]"
      ]
     },
     "metadata": {},
     "output_type": "display_data"
    },
    {
     "name": "stdout",
     "output_type": "stream",
     "text": [
      "(1878, 768)\n",
      "query_long_name\n",
      "gold_doc_short_name\n",
      "Q\n",
      "1878\n"
     ]
    },
    {
     "data": {
      "application/vnd.jupyter.widget-view+json": {
       "model_id": "09171e304cee443daf71372f3a01afc7",
       "version_major": 2,
       "version_minor": 0
      },
      "text/plain": [
       "  0%|          | 0/59 [00:00<?, ?it/s]"
      ]
     },
     "metadata": {},
     "output_type": "display_data"
    },
    {
     "name": "stdout",
     "output_type": "stream",
     "text": [
      "(1878, 768)\n",
      "query_short_name\n",
      "gold_doc_short_name\n"
     ]
    },
    {
     "data": {
      "image/png": "[encoded data removed]",
      "text/plain": [
       "<Figure size 900x500 with 1 Axes>"
      ]
     },
     "metadata": {},
     "output_type": "display_data"
    }
   ],
   "source": [
    "cfgs = [\n",
    "    (\"facebook/dragon-plus-query-encoder\", \"facebook/dragon-plus-context-encoder\", \"cls\"),\n",
    "    (\"facebook/contriever-msmarco\", \"facebook/contriever-msmarco\", \"avg\"),\n",
    "    (\"OpenMatch/cocodr-base-msmarco\", \"OpenMatch/cocodr-base-msmarco\", \"cls\"),\n",
    "]\n",
    "query_cols = [\n",
    "    # \"query\", \n",
    "    \"query_long_name\", \"query_short_name\"\n",
    "]\n",
    "doc_cols = [\n",
    "    # \"gold_doc_text\", \n",
    "    \"gold_doc_long_name\", \"gold_doc_short_name\"\n",
    "]\n",
    "\n",
    "for query_model, context_model, POOLING in cfgs:\n",
    "    dpr = YourCustomDEModel(query_model, context_model, POOLING)\n",
    "    def to_doc_format(sentences: list):\n",
    "        return [{\"text\": s} for s in sentences]\n",
    "    \n",
    "    plot_col_dots = []\n",
    "    \n",
    "    for d_col in doc_cols:\n",
    "        embds = dpr.encode_corpus(to_doc_format(df[d_col].to_list()))\n",
    "        for q_col in query_cols:\n",
    "            query_embds = dpr.encode_queries(df[q_col].to_list())\n",
    "            embds_dot = torch.einsum(\"bd,bd->b\", torch.tensor(query_embds), torch.tensor(embds))\n",
    "            new_col = f\"{q_col}\\n{d_col}\"\n",
    "            print(new_col)\n",
    "            df[new_col] = embds_dot.cpu().numpy()\n",
    "            plot_col_dots.append(new_col)\n",
    "    df[plot_col_dots[::-1]].boxplot(figsize=(9, 5), rot=0, vert=False)\n",
    "    plt.title(f\"{query_model}, support: {len(df)}\")\n",
    "    plt.show()"
   ]
  },
  {
   "cell_type": "code",
   "execution_count": null,
   "metadata": {},
   "outputs": [],
   "source": []
  }
 ],
 "metadata": {
  "kernelspec": {
   "display_name": "mohsen-env",
   "language": "python",
   "name": "python3"
  },
  "language_info": {
   "codemirror_mode": {
    "name": "ipython",
    "version": 3
   },
   "file_extension": ".py",
   "mimetype": "text/x-python",
   "name": "python",
   "nbconvert_exporter": "python",
   "pygments_lexer": "ipython3",
   "version": "3.12.7"
  }
 },
 "nbformat": 4,
 "nbformat_minor": 2
}
